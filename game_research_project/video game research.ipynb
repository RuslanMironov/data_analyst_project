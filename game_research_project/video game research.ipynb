{
 "cells": [
  {
   "cell_type": "markdown",
   "metadata": {
    "toc": true
   },
   "source": [
    "<h1>Содержание<span class=\"tocSkip\"></span></h1>\n",
    "<div class=\"toc\"><ul class=\"toc-item\"><li><span><a href=\"#Предобработка-данных\" data-toc-modified-id=\"Предобработка-данных-1\"><span class=\"toc-item-num\">1&nbsp;&nbsp;</span>Предобработка данных</a></span><ul class=\"toc-item\"><li><span><a href=\"#Смотрим-общую-информацию-и-чистим--данные\" data-toc-modified-id=\"Смотрим-общую-информацию-и-чистим--данные-1.1\"><span class=\"toc-item-num\">1.1&nbsp;&nbsp;</span>Смотрим общую информацию и чистим  данные</a></span><ul class=\"toc-item\"><li><span><a href=\"#Напишем-функцию-для-просмотра-общей-информации\" data-toc-modified-id=\"Напишем-функцию-для-просмотра-общей-информации-1.1.1\"><span class=\"toc-item-num\">1.1.1&nbsp;&nbsp;</span>Напишем функцию для просмотра общей информации</a></span></li></ul></li></ul></li><li><span><a href=\"#Исследовательский-анализ-данных\" data-toc-modified-id=\"Исследовательский-анализ-данных-2\"><span class=\"toc-item-num\">2&nbsp;&nbsp;</span>Исследовательский анализ данных</a></span><ul class=\"toc-item\"><li><span><a href=\"#Посмотрим,-сколько-игр-выпускалось-в-разные-годы-и-узнаем-нужны-ли-данные-за-все-периоды\" data-toc-modified-id=\"Посмотрим,-сколько-игр-выпускалось-в-разные-годы-и-узнаем-нужны-ли-данные-за-все-периоды-2.1\"><span class=\"toc-item-num\">2.1&nbsp;&nbsp;</span>Посмотрим, сколько игр выпускалось в разные годы и узнаем нужны ли данные за все периоды</a></span></li><li><span><a href=\"#Смотрим,-как-менялись-продажи-по-платформам\" data-toc-modified-id=\"Смотрим,-как-менялись-продажи-по-платформам-2.2\"><span class=\"toc-item-num\">2.2&nbsp;&nbsp;</span>Смотрим, как менялись продажи по платформам</a></span></li><li><span><a href=\"#Определяем-актуальный-период\" data-toc-modified-id=\"Определяем-актуальный-период-2.3\"><span class=\"toc-item-num\">2.3&nbsp;&nbsp;</span>Определяем актуальный период</a></span></li><li><span><a href=\"#Узнаем-лидера-продаж-по-платформам\" data-toc-modified-id=\"Узнаем-лидера-продаж-по-платформам-2.4\"><span class=\"toc-item-num\">2.4&nbsp;&nbsp;</span>Узнаем лидера продаж по платформам</a></span></li><li><span><a href=\"#Тот-самый-ящик-с-усиками.\" data-toc-modified-id=\"Тот-самый-ящик-с-усиками.-2.5\"><span class=\"toc-item-num\">2.5&nbsp;&nbsp;</span>Тот самый ящик с усиками.</a></span></li><li><span><a href=\"#Влияние-отзывов-пользователей-и-критиков-на-продажи-внутри-платформы\" data-toc-modified-id=\"Влияние-отзывов-пользователей-и-критиков-на-продажи-внутри-платформы-2.6\"><span class=\"toc-item-num\">2.6&nbsp;&nbsp;</span>Влияние отзывов пользователей и критиков на продажи внутри платформы</a></span><ul class=\"toc-item\"><li><span><a href=\"#Функция-для-построения-диаграммы-рассеивания-по-user_score\" data-toc-modified-id=\"Функция-для-построения-диаграммы-рассеивания-по-user_score-2.6.1\"><span class=\"toc-item-num\">2.6.1&nbsp;&nbsp;</span>Функция для построения диаграммы рассеивания по user_score</a></span></li><li><span><a href=\"#Функция-для-построения-диаграммы-рассеивания-по-critic_score\" data-toc-modified-id=\"Функция-для-построения-диаграммы-рассеивания-по-critic_score-2.6.2\"><span class=\"toc-item-num\">2.6.2&nbsp;&nbsp;</span>Функция для построения диаграммы рассеивания по critic_score</a></span></li><li><span><a href=\"#Подсчитаем-и-выведем-все-так-же-для-PC\" data-toc-modified-id=\"Подсчитаем-и-выведем-все-так-же-для-PC-2.6.3\"><span class=\"toc-item-num\">2.6.3&nbsp;&nbsp;</span>Подсчитаем и выведем все так же для PC</a></span></li><li><span><a href=\"#Подсчитаем-и-выведем-все-так-же-для-Xone\" data-toc-modified-id=\"Подсчитаем-и-выведем-все-так-же-для-Xone-2.6.4\"><span class=\"toc-item-num\">2.6.4&nbsp;&nbsp;</span>Подсчитаем и выведем все так же для Xone</a></span></li><li><span><a href=\"#Подсчитаем-и-выведем-все-так-же-для-3DS\" data-toc-modified-id=\"Подсчитаем-и-выведем-все-так-же-для-3DS-2.6.5\"><span class=\"toc-item-num\">2.6.5&nbsp;&nbsp;</span>Подсчитаем и выведем все так же для 3DS</a></span></li></ul></li><li><span><a href=\"#Общее-распределение-игр-по-жанрам\" data-toc-modified-id=\"Общее-распределение-игр-по-жанрам-2.7\"><span class=\"toc-item-num\">2.7&nbsp;&nbsp;</span>Общее распределение игр по жанрам</a></span></li></ul></li><li><span><a href=\"#Составьте-портрет-пользователя-каждого-региона\" data-toc-modified-id=\"Составьте-портрет-пользователя-каждого-региона-3\"><span class=\"toc-item-num\">3&nbsp;&nbsp;</span>Составьте портрет пользователя каждого региона</a></span><ul class=\"toc-item\"><li><span><a href=\"#Составляем-портрет-пользователя-для-региона-NA\" data-toc-modified-id=\"Составляем-портрет-пользователя-для-региона-NA-3.1\"><span class=\"toc-item-num\">3.1&nbsp;&nbsp;</span>Составляем портрет пользователя для региона NA</a></span></li><li><span><a href=\"#Составляем-портрет-пользователя-для-региона-EU\" data-toc-modified-id=\"Составляем-портрет-пользователя-для-региона-EU-3.2\"><span class=\"toc-item-num\">3.2&nbsp;&nbsp;</span>Составляем портрет пользователя для региона EU</a></span></li><li><span><a href=\"#Составляем-портрет-пользователя-для-региона-JP\" data-toc-modified-id=\"Составляем-портрет-пользователя-для-региона-JP-3.3\"><span class=\"toc-item-num\">3.3&nbsp;&nbsp;</span>Составляем портрет пользователя для региона JP</a></span></li></ul></li><li><span><a href=\"#Проверяем-гипотезы\" data-toc-modified-id=\"Проверяем-гипотезы-4\"><span class=\"toc-item-num\">4&nbsp;&nbsp;</span>Проверяем гипотезы</a></span><ul class=\"toc-item\"><li><span><a href=\"#Средние-пользовательские-рейтинги-платформ-Xbox-One-и-PC-одинаковые\" data-toc-modified-id=\"Средние-пользовательские-рейтинги-платформ-Xbox-One-и-PC-одинаковые-4.1\"><span class=\"toc-item-num\">4.1&nbsp;&nbsp;</span>Средние пользовательские рейтинги платформ Xbox One и PC одинаковые</a></span><ul class=\"toc-item\"><li><span><a href=\"#Функция-для-вычисления-дисперсии\" data-toc-modified-id=\"Функция-для-вычисления-дисперсии-4.1.1\"><span class=\"toc-item-num\">4.1.1&nbsp;&nbsp;</span>Функция для вычисления дисперсии</a></span></li></ul></li><li><span><a href=\"#Средние-пользовательские-рейтинги-жанров-Action-и-Sports-разные.\" data-toc-modified-id=\"Средние-пользовательские-рейтинги-жанров-Action-и-Sports-разные.-4.2\"><span class=\"toc-item-num\">4.2&nbsp;&nbsp;</span>Средние пользовательские рейтинги жанров Action и Sports разные.</a></span></li></ul></li><li><span><a href=\"#Вывод\" data-toc-modified-id=\"Вывод-5\"><span class=\"toc-item-num\">5&nbsp;&nbsp;</span>Вывод</a></span></li></ul></div>"
   ]
  },
  {
   "cell_type": "markdown",
   "metadata": {},
   "source": [
    "# Описание проекта\n",
    "Вы работаете в интернет-магазине «Стримчик», который продаёт по всему миру компьютерные игры. Из открытых источников доступны исторические данные о продажах игр, оценки пользователей и экспертов, жанры и платформы (например, Xbox или PlayStation). Вам нужно выявить определяющие успешность игры закономерности. Это позволит сделать ставку на потенциально популярный продукт и спланировать рекламные кампании.\n",
    "\n",
    "Перед вами данные до 2016 года. Представим, что сейчас декабрь 2016 г., и вы планируете кампанию на 2017-й. Нужно отработать принцип работы с данными. Неважно, прогнозируете ли вы продажи на 2017 год по данным 2016-го или же 2027-й — по данным 2026 года.\n",
    "\n",
    "В наборе данных попадается аббревиатура ESRB (Entertainment Software Rating Board) — это ассоциация, определяющая возрастной рейтинг компьютерных игр. ESRB оценивает игровой контент и присваивает ему подходящую возрастную категорию, например, «Для взрослых», «Для детей младшего возраста» или «Для подростков».\n",
    "\n",
    "В ходе исследования мы:\n",
    "- подготовим данные для дальнейших вычислений\n",
    "- проведем исследовательский анализ проекта\n",
    "- составим портрет пользователя каждого региона\n",
    "- сформируем гипотезы о различии в среднем пользовательском рейтинге платформ и жанра игр. "
   ]
  },
  {
   "cell_type": "code",
   "execution_count": 1,
   "metadata": {},
   "outputs": [],
   "source": [
    "import pandas as pd\n",
    "import numpy as np\n",
    "import seaborn as sns\n",
    "import matplotlib.pyplot as plt\n",
    "from scipy import stats as st\n",
    "import plotly.express as px"
   ]
  },
  {
   "cell_type": "markdown",
   "metadata": {},
   "source": [
    "## Предобработка данных"
   ]
  },
  {
   "cell_type": "code",
   "execution_count": 2,
   "metadata": {},
   "outputs": [],
   "source": [
    "try:\n",
    "    game_df = pd.read_csv('/Users/nastinpupochek/Downloads/games.csv', sep=',')\n",
    "except: \n",
    "    spreadsheet_id = '1G89nJqavFNYB4SeASdJDIhuUYHBQcpckLM0xPoFk2-s'\n",
    "    file_name = 'https://docs.google.com/spreadsheets/d/{}/export?format=csv'.format(spreadsheet_id)\n",
    "    r = requests.get(file_name)\n",
    "    game_df = pd.read_csv(BytesIO(r.content), sep=',')"
   ]
  },
  {
   "cell_type": "markdown",
   "metadata": {},
   "source": [
    "### Смотрим общую информацию и чистим  данные"
   ]
  },
  {
   "cell_type": "markdown",
   "metadata": {},
   "source": [
    "#### Напишем функцию для просмотра общей информации"
   ]
  },
  {
   "cell_type": "code",
   "execution_count": 3,
   "metadata": {},
   "outputs": [
    {
     "data": {
      "text/html": [
       "<div>\n",
       "<style scoped>\n",
       "    .dataframe tbody tr th:only-of-type {\n",
       "        vertical-align: middle;\n",
       "    }\n",
       "\n",
       "    .dataframe tbody tr th {\n",
       "        vertical-align: top;\n",
       "    }\n",
       "\n",
       "    .dataframe thead th {\n",
       "        text-align: right;\n",
       "    }\n",
       "</style>\n",
       "<table border=\"1\" class=\"dataframe\">\n",
       "  <thead>\n",
       "    <tr style=\"text-align: right;\">\n",
       "      <th></th>\n",
       "      <th>Name</th>\n",
       "      <th>Platform</th>\n",
       "      <th>Year_of_Release</th>\n",
       "      <th>Genre</th>\n",
       "      <th>NA_sales</th>\n",
       "      <th>EU_sales</th>\n",
       "      <th>JP_sales</th>\n",
       "      <th>Other_sales</th>\n",
       "      <th>Critic_Score</th>\n",
       "      <th>User_Score</th>\n",
       "      <th>Rating</th>\n",
       "    </tr>\n",
       "  </thead>\n",
       "  <tbody>\n",
       "    <tr>\n",
       "      <th>0</th>\n",
       "      <td>Wii Sports</td>\n",
       "      <td>Wii</td>\n",
       "      <td>2006.0</td>\n",
       "      <td>Sports</td>\n",
       "      <td>41.36</td>\n",
       "      <td>28.96</td>\n",
       "      <td>3.77</td>\n",
       "      <td>8.45</td>\n",
       "      <td>76.0</td>\n",
       "      <td>8</td>\n",
       "      <td>E</td>\n",
       "    </tr>\n",
       "    <tr>\n",
       "      <th>1</th>\n",
       "      <td>Super Mario Bros.</td>\n",
       "      <td>NES</td>\n",
       "      <td>1985.0</td>\n",
       "      <td>Platform</td>\n",
       "      <td>29.08</td>\n",
       "      <td>3.58</td>\n",
       "      <td>6.81</td>\n",
       "      <td>0.77</td>\n",
       "      <td>NaN</td>\n",
       "      <td>NaN</td>\n",
       "      <td>NaN</td>\n",
       "    </tr>\n",
       "    <tr>\n",
       "      <th>2</th>\n",
       "      <td>Mario Kart Wii</td>\n",
       "      <td>Wii</td>\n",
       "      <td>2008.0</td>\n",
       "      <td>Racing</td>\n",
       "      <td>15.68</td>\n",
       "      <td>12.76</td>\n",
       "      <td>3.79</td>\n",
       "      <td>3.29</td>\n",
       "      <td>82.0</td>\n",
       "      <td>8.3</td>\n",
       "      <td>E</td>\n",
       "    </tr>\n",
       "    <tr>\n",
       "      <th>3</th>\n",
       "      <td>Wii Sports Resort</td>\n",
       "      <td>Wii</td>\n",
       "      <td>2009.0</td>\n",
       "      <td>Sports</td>\n",
       "      <td>15.61</td>\n",
       "      <td>10.93</td>\n",
       "      <td>3.28</td>\n",
       "      <td>2.95</td>\n",
       "      <td>80.0</td>\n",
       "      <td>8</td>\n",
       "      <td>E</td>\n",
       "    </tr>\n",
       "    <tr>\n",
       "      <th>4</th>\n",
       "      <td>Pokemon Red/Pokemon Blue</td>\n",
       "      <td>GB</td>\n",
       "      <td>1996.0</td>\n",
       "      <td>Role-Playing</td>\n",
       "      <td>11.27</td>\n",
       "      <td>8.89</td>\n",
       "      <td>10.22</td>\n",
       "      <td>1.00</td>\n",
       "      <td>NaN</td>\n",
       "      <td>NaN</td>\n",
       "      <td>NaN</td>\n",
       "    </tr>\n",
       "  </tbody>\n",
       "</table>\n",
       "</div>"
      ],
      "text/plain": [
       "                       Name Platform  Year_of_Release         Genre  NA_sales  \\\n",
       "0                Wii Sports      Wii           2006.0        Sports     41.36   \n",
       "1         Super Mario Bros.      NES           1985.0      Platform     29.08   \n",
       "2            Mario Kart Wii      Wii           2008.0        Racing     15.68   \n",
       "3         Wii Sports Resort      Wii           2009.0        Sports     15.61   \n",
       "4  Pokemon Red/Pokemon Blue       GB           1996.0  Role-Playing     11.27   \n",
       "\n",
       "   EU_sales  JP_sales  Other_sales  Critic_Score User_Score Rating  \n",
       "0     28.96      3.77         8.45          76.0          8      E  \n",
       "1      3.58      6.81         0.77           NaN        NaN    NaN  \n",
       "2     12.76      3.79         3.29          82.0        8.3      E  \n",
       "3     10.93      3.28         2.95          80.0          8      E  \n",
       "4      8.89     10.22         1.00           NaN        NaN    NaN  "
      ]
     },
     "metadata": {},
     "output_type": "display_data"
    },
    {
     "name": "stdout",
     "output_type": "stream",
     "text": [
      "Количество строк: 16715\n",
      "\n",
      "Количество пропущенных значений: \n",
      "Name                  2\n",
      "Platform              0\n",
      "Year_of_Release     269\n",
      "Genre                 2\n",
      "NA_sales              0\n",
      "EU_sales              0\n",
      "JP_sales              0\n",
      "Other_sales           0\n",
      "Critic_Score       8578\n",
      "User_Score         6701\n",
      "Rating             6766\n",
      "dtype: int64\n",
      "\n",
      "Типы данных в столбцах: \n",
      "Name                object\n",
      "Platform            object\n",
      "Year_of_Release    float64\n",
      "Genre               object\n",
      "NA_sales           float64\n",
      "EU_sales           float64\n",
      "JP_sales           float64\n",
      "Other_sales        float64\n",
      "Critic_Score       float64\n",
      "User_Score          object\n",
      "Rating              object\n",
      "dtype: object\n",
      "\n",
      "Количество дубликатов: \n",
      "0\n"
     ]
    },
    {
     "data": {
      "text/plain": [
       "<function __main__.df_info(df)>"
      ]
     },
     "execution_count": 3,
     "metadata": {},
     "output_type": "execute_result"
    }
   ],
   "source": [
    "def df_info(df):\n",
    "    display(df.head())\n",
    "    print(f'Количество строк: {df.shape[0]}')\n",
    "    print(f'\\nКоличество пропущенных значений: \\n{df.isna().sum()}')\n",
    "    print(f'\\nТипы данных в столбцах: \\n{df.dtypes}')\n",
    "    print(f'\\nКоличество дубликатов: \\n{df.duplicated().sum()}')\n",
    "    return df_info\n",
    "df_info(game_df)"
   ]
  },
  {
   "cell_type": "markdown",
   "metadata": {},
   "source": [
    "Приведем в нижний регистр название столбцов."
   ]
  },
  {
   "cell_type": "code",
   "execution_count": 4,
   "metadata": {},
   "outputs": [],
   "source": [
    "game_df.columns = game_df.columns.str.lower()"
   ]
  },
  {
   "cell_type": "code",
   "execution_count": 5,
   "metadata": {},
   "outputs": [
    {
     "data": {
      "text/html": [
       "<div>\n",
       "<style scoped>\n",
       "    .dataframe tbody tr th:only-of-type {\n",
       "        vertical-align: middle;\n",
       "    }\n",
       "\n",
       "    .dataframe tbody tr th {\n",
       "        vertical-align: top;\n",
       "    }\n",
       "\n",
       "    .dataframe thead th {\n",
       "        text-align: right;\n",
       "    }\n",
       "</style>\n",
       "<table border=\"1\" class=\"dataframe\">\n",
       "  <thead>\n",
       "    <tr style=\"text-align: right;\">\n",
       "      <th></th>\n",
       "      <th>name</th>\n",
       "      <th>platform</th>\n",
       "      <th>year_of_release</th>\n",
       "      <th>genre</th>\n",
       "      <th>na_sales</th>\n",
       "      <th>eu_sales</th>\n",
       "      <th>jp_sales</th>\n",
       "      <th>other_sales</th>\n",
       "      <th>critic_score</th>\n",
       "      <th>user_score</th>\n",
       "      <th>rating</th>\n",
       "    </tr>\n",
       "  </thead>\n",
       "  <tbody>\n",
       "    <tr>\n",
       "      <th>0</th>\n",
       "      <td>Wii Sports</td>\n",
       "      <td>Wii</td>\n",
       "      <td>2006.0</td>\n",
       "      <td>Sports</td>\n",
       "      <td>41.36</td>\n",
       "      <td>28.96</td>\n",
       "      <td>3.77</td>\n",
       "      <td>8.45</td>\n",
       "      <td>76.0</td>\n",
       "      <td>8</td>\n",
       "      <td>E</td>\n",
       "    </tr>\n",
       "    <tr>\n",
       "      <th>1</th>\n",
       "      <td>Super Mario Bros.</td>\n",
       "      <td>NES</td>\n",
       "      <td>1985.0</td>\n",
       "      <td>Platform</td>\n",
       "      <td>29.08</td>\n",
       "      <td>3.58</td>\n",
       "      <td>6.81</td>\n",
       "      <td>0.77</td>\n",
       "      <td>NaN</td>\n",
       "      <td>NaN</td>\n",
       "      <td>NaN</td>\n",
       "    </tr>\n",
       "    <tr>\n",
       "      <th>2</th>\n",
       "      <td>Mario Kart Wii</td>\n",
       "      <td>Wii</td>\n",
       "      <td>2008.0</td>\n",
       "      <td>Racing</td>\n",
       "      <td>15.68</td>\n",
       "      <td>12.76</td>\n",
       "      <td>3.79</td>\n",
       "      <td>3.29</td>\n",
       "      <td>82.0</td>\n",
       "      <td>8.3</td>\n",
       "      <td>E</td>\n",
       "    </tr>\n",
       "    <tr>\n",
       "      <th>3</th>\n",
       "      <td>Wii Sports Resort</td>\n",
       "      <td>Wii</td>\n",
       "      <td>2009.0</td>\n",
       "      <td>Sports</td>\n",
       "      <td>15.61</td>\n",
       "      <td>10.93</td>\n",
       "      <td>3.28</td>\n",
       "      <td>2.95</td>\n",
       "      <td>80.0</td>\n",
       "      <td>8</td>\n",
       "      <td>E</td>\n",
       "    </tr>\n",
       "    <tr>\n",
       "      <th>4</th>\n",
       "      <td>Pokemon Red/Pokemon Blue</td>\n",
       "      <td>GB</td>\n",
       "      <td>1996.0</td>\n",
       "      <td>Role-Playing</td>\n",
       "      <td>11.27</td>\n",
       "      <td>8.89</td>\n",
       "      <td>10.22</td>\n",
       "      <td>1.00</td>\n",
       "      <td>NaN</td>\n",
       "      <td>NaN</td>\n",
       "      <td>NaN</td>\n",
       "    </tr>\n",
       "  </tbody>\n",
       "</table>\n",
       "</div>"
      ],
      "text/plain": [
       "                       name platform  year_of_release         genre  na_sales  \\\n",
       "0                Wii Sports      Wii           2006.0        Sports     41.36   \n",
       "1         Super Mario Bros.      NES           1985.0      Platform     29.08   \n",
       "2            Mario Kart Wii      Wii           2008.0        Racing     15.68   \n",
       "3         Wii Sports Resort      Wii           2009.0        Sports     15.61   \n",
       "4  Pokemon Red/Pokemon Blue       GB           1996.0  Role-Playing     11.27   \n",
       "\n",
       "   eu_sales  jp_sales  other_sales  critic_score user_score rating  \n",
       "0     28.96      3.77         8.45          76.0          8      E  \n",
       "1      3.58      6.81         0.77           NaN        NaN    NaN  \n",
       "2     12.76      3.79         3.29          82.0        8.3      E  \n",
       "3     10.93      3.28         2.95          80.0          8      E  \n",
       "4      8.89     10.22         1.00           NaN        NaN    NaN  "
      ]
     },
     "execution_count": 5,
     "metadata": {},
     "output_type": "execute_result"
    }
   ],
   "source": [
    "game_df.head()"
   ]
  },
  {
   "cell_type": "markdown",
   "metadata": {},
   "source": [
    "Удаляем строки с незначительными пропусками, и которые мы не сможем восстановить."
   ]
  },
  {
   "cell_type": "code",
   "execution_count": 6,
   "metadata": {},
   "outputs": [],
   "source": [
    "game_df.dropna(subset=['year_of_release', 'name'], inplace=True)"
   ]
  },
  {
   "cell_type": "markdown",
   "metadata": {},
   "source": [
    "*Так как пропуски составляю более 50% датафрейма их удаление может привести к искаженным результатам исследования. И заполнять медианой или средней будет некорректно, поэтому работаем с тем что есть.\n",
    "Так же в ручную меняем значение to be determined на \"заглушку\". А пропуски в rating могут повлияет на исследование, поэтому их меняем на tbd*"
   ]
  },
  {
   "cell_type": "code",
   "execution_count": 7,
   "metadata": {},
   "outputs": [],
   "source": [
    "game_df.loc[game_df['user_score'] == 'tbd', 'user_score'] = -5\n",
    "game_df['rating'] = game_df['rating'].fillna('tbd')"
   ]
  },
  {
   "cell_type": "markdown",
   "metadata": {},
   "source": [
    "Проверяем остались пропуски"
   ]
  },
  {
   "cell_type": "code",
   "execution_count": 8,
   "metadata": {},
   "outputs": [
    {
     "data": {
      "text/plain": [
       "name                  0\n",
       "platform              0\n",
       "year_of_release       0\n",
       "genre                 0\n",
       "na_sales              0\n",
       "eu_sales              0\n",
       "jp_sales              0\n",
       "other_sales           0\n",
       "critic_score       8461\n",
       "user_score         6605\n",
       "rating                0\n",
       "dtype: int64"
      ]
     },
     "execution_count": 8,
     "metadata": {},
     "output_type": "execute_result"
    }
   ],
   "source": [
    "game_df.isna().sum()"
   ]
  },
  {
   "cell_type": "markdown",
   "metadata": {},
   "source": [
    "Преобразуем тип данных year_of_release в int для более удобной обработки, и после удлаения пропусков в user_score, меняем тип данных на float."
   ]
  },
  {
   "cell_type": "code",
   "execution_count": 9,
   "metadata": {},
   "outputs": [],
   "source": [
    "game_df = game_df.astype({'year_of_release': 'int', 'user_score': 'float'})"
   ]
  },
  {
   "cell_type": "markdown",
   "metadata": {},
   "source": [
    "Проверим данные после преобразования."
   ]
  },
  {
   "cell_type": "code",
   "execution_count": 10,
   "metadata": {},
   "outputs": [
    {
     "data": {
      "text/html": [
       "<div>\n",
       "<style scoped>\n",
       "    .dataframe tbody tr th:only-of-type {\n",
       "        vertical-align: middle;\n",
       "    }\n",
       "\n",
       "    .dataframe tbody tr th {\n",
       "        vertical-align: top;\n",
       "    }\n",
       "\n",
       "    .dataframe thead th {\n",
       "        text-align: right;\n",
       "    }\n",
       "</style>\n",
       "<table border=\"1\" class=\"dataframe\">\n",
       "  <thead>\n",
       "    <tr style=\"text-align: right;\">\n",
       "      <th></th>\n",
       "      <th>name</th>\n",
       "      <th>platform</th>\n",
       "      <th>year_of_release</th>\n",
       "      <th>genre</th>\n",
       "      <th>na_sales</th>\n",
       "      <th>eu_sales</th>\n",
       "      <th>jp_sales</th>\n",
       "      <th>other_sales</th>\n",
       "      <th>critic_score</th>\n",
       "      <th>user_score</th>\n",
       "      <th>rating</th>\n",
       "    </tr>\n",
       "  </thead>\n",
       "  <tbody>\n",
       "    <tr>\n",
       "      <th>0</th>\n",
       "      <td>Wii Sports</td>\n",
       "      <td>Wii</td>\n",
       "      <td>2006</td>\n",
       "      <td>Sports</td>\n",
       "      <td>41.36</td>\n",
       "      <td>28.96</td>\n",
       "      <td>3.77</td>\n",
       "      <td>8.45</td>\n",
       "      <td>76.0</td>\n",
       "      <td>8.0</td>\n",
       "      <td>E</td>\n",
       "    </tr>\n",
       "    <tr>\n",
       "      <th>1</th>\n",
       "      <td>Super Mario Bros.</td>\n",
       "      <td>NES</td>\n",
       "      <td>1985</td>\n",
       "      <td>Platform</td>\n",
       "      <td>29.08</td>\n",
       "      <td>3.58</td>\n",
       "      <td>6.81</td>\n",
       "      <td>0.77</td>\n",
       "      <td>NaN</td>\n",
       "      <td>NaN</td>\n",
       "      <td>tbd</td>\n",
       "    </tr>\n",
       "    <tr>\n",
       "      <th>2</th>\n",
       "      <td>Mario Kart Wii</td>\n",
       "      <td>Wii</td>\n",
       "      <td>2008</td>\n",
       "      <td>Racing</td>\n",
       "      <td>15.68</td>\n",
       "      <td>12.76</td>\n",
       "      <td>3.79</td>\n",
       "      <td>3.29</td>\n",
       "      <td>82.0</td>\n",
       "      <td>8.3</td>\n",
       "      <td>E</td>\n",
       "    </tr>\n",
       "    <tr>\n",
       "      <th>3</th>\n",
       "      <td>Wii Sports Resort</td>\n",
       "      <td>Wii</td>\n",
       "      <td>2009</td>\n",
       "      <td>Sports</td>\n",
       "      <td>15.61</td>\n",
       "      <td>10.93</td>\n",
       "      <td>3.28</td>\n",
       "      <td>2.95</td>\n",
       "      <td>80.0</td>\n",
       "      <td>8.0</td>\n",
       "      <td>E</td>\n",
       "    </tr>\n",
       "    <tr>\n",
       "      <th>4</th>\n",
       "      <td>Pokemon Red/Pokemon Blue</td>\n",
       "      <td>GB</td>\n",
       "      <td>1996</td>\n",
       "      <td>Role-Playing</td>\n",
       "      <td>11.27</td>\n",
       "      <td>8.89</td>\n",
       "      <td>10.22</td>\n",
       "      <td>1.00</td>\n",
       "      <td>NaN</td>\n",
       "      <td>NaN</td>\n",
       "      <td>tbd</td>\n",
       "    </tr>\n",
       "  </tbody>\n",
       "</table>\n",
       "</div>"
      ],
      "text/plain": [
       "                       name platform  year_of_release         genre  na_sales  \\\n",
       "0                Wii Sports      Wii             2006        Sports     41.36   \n",
       "1         Super Mario Bros.      NES             1985      Platform     29.08   \n",
       "2            Mario Kart Wii      Wii             2008        Racing     15.68   \n",
       "3         Wii Sports Resort      Wii             2009        Sports     15.61   \n",
       "4  Pokemon Red/Pokemon Blue       GB             1996  Role-Playing     11.27   \n",
       "\n",
       "   eu_sales  jp_sales  other_sales  critic_score  user_score rating  \n",
       "0     28.96      3.77         8.45          76.0         8.0      E  \n",
       "1      3.58      6.81         0.77           NaN         NaN    tbd  \n",
       "2     12.76      3.79         3.29          82.0         8.3      E  \n",
       "3     10.93      3.28         2.95          80.0         8.0      E  \n",
       "4      8.89     10.22         1.00           NaN         NaN    tbd  "
      ]
     },
     "metadata": {},
     "output_type": "display_data"
    },
    {
     "name": "stdout",
     "output_type": "stream",
     "text": [
      "Количество строк: 16444\n",
      "\n",
      "Количество пропущенных значений: \n",
      "name                  0\n",
      "platform              0\n",
      "year_of_release       0\n",
      "genre                 0\n",
      "na_sales              0\n",
      "eu_sales              0\n",
      "jp_sales              0\n",
      "other_sales           0\n",
      "critic_score       8461\n",
      "user_score         6605\n",
      "rating                0\n",
      "dtype: int64\n",
      "\n",
      "Типы данных в столбцах: \n",
      "name                object\n",
      "platform            object\n",
      "year_of_release      int64\n",
      "genre               object\n",
      "na_sales           float64\n",
      "eu_sales           float64\n",
      "jp_sales           float64\n",
      "other_sales        float64\n",
      "critic_score       float64\n",
      "user_score         float64\n",
      "rating              object\n",
      "dtype: object\n",
      "\n",
      "Количество дубликатов: \n",
      "0\n"
     ]
    },
    {
     "data": {
      "text/plain": [
       "<function __main__.df_info(df)>"
      ]
     },
     "execution_count": 10,
     "metadata": {},
     "output_type": "execute_result"
    }
   ],
   "source": [
    "df_info(game_df)"
   ]
  },
  {
   "cell_type": "markdown",
   "metadata": {},
   "source": [
    "Добавим столбец с сумарными продажами по всем регионам."
   ]
  },
  {
   "cell_type": "code",
   "execution_count": 11,
   "metadata": {},
   "outputs": [],
   "source": [
    "game_df['total_sales'] = game_df[['na_sales', 'eu_sales', 'jp_sales', 'other_sales']].sum(axis=1)"
   ]
  },
  {
   "cell_type": "code",
   "execution_count": 12,
   "metadata": {},
   "outputs": [
    {
     "data": {
      "text/html": [
       "<div>\n",
       "<style scoped>\n",
       "    .dataframe tbody tr th:only-of-type {\n",
       "        vertical-align: middle;\n",
       "    }\n",
       "\n",
       "    .dataframe tbody tr th {\n",
       "        vertical-align: top;\n",
       "    }\n",
       "\n",
       "    .dataframe thead th {\n",
       "        text-align: right;\n",
       "    }\n",
       "</style>\n",
       "<table border=\"1\" class=\"dataframe\">\n",
       "  <thead>\n",
       "    <tr style=\"text-align: right;\">\n",
       "      <th></th>\n",
       "      <th>name</th>\n",
       "      <th>platform</th>\n",
       "      <th>year_of_release</th>\n",
       "      <th>genre</th>\n",
       "      <th>na_sales</th>\n",
       "      <th>eu_sales</th>\n",
       "      <th>jp_sales</th>\n",
       "      <th>other_sales</th>\n",
       "      <th>critic_score</th>\n",
       "      <th>user_score</th>\n",
       "      <th>rating</th>\n",
       "      <th>total_sales</th>\n",
       "    </tr>\n",
       "  </thead>\n",
       "  <tbody>\n",
       "    <tr>\n",
       "      <th>16676</th>\n",
       "      <td>G1 Jockey 4 2008</td>\n",
       "      <td>PS3</td>\n",
       "      <td>2008</td>\n",
       "      <td>Sports</td>\n",
       "      <td>0.0</td>\n",
       "      <td>0.0</td>\n",
       "      <td>0.0</td>\n",
       "      <td>0.0</td>\n",
       "      <td>NaN</td>\n",
       "      <td>NaN</td>\n",
       "      <td>tbd</td>\n",
       "      <td>0.0</td>\n",
       "    </tr>\n",
       "    <tr>\n",
       "      <th>16709</th>\n",
       "      <td>SCORE International Baja 1000: The Official Game</td>\n",
       "      <td>PS2</td>\n",
       "      <td>2008</td>\n",
       "      <td>Racing</td>\n",
       "      <td>0.0</td>\n",
       "      <td>0.0</td>\n",
       "      <td>0.0</td>\n",
       "      <td>0.0</td>\n",
       "      <td>NaN</td>\n",
       "      <td>NaN</td>\n",
       "      <td>tbd</td>\n",
       "      <td>0.0</td>\n",
       "    </tr>\n",
       "  </tbody>\n",
       "</table>\n",
       "</div>"
      ],
      "text/plain": [
       "                                                   name platform  \\\n",
       "16676                                  G1 Jockey 4 2008      PS3   \n",
       "16709  SCORE International Baja 1000: The Official Game      PS2   \n",
       "\n",
       "       year_of_release   genre  na_sales  eu_sales  jp_sales  other_sales  \\\n",
       "16676             2008  Sports       0.0       0.0       0.0          0.0   \n",
       "16709             2008  Racing       0.0       0.0       0.0          0.0   \n",
       "\n",
       "       critic_score  user_score rating  total_sales  \n",
       "16676           NaN         NaN    tbd          0.0  \n",
       "16709           NaN         NaN    tbd          0.0  "
      ]
     },
     "execution_count": 12,
     "metadata": {},
     "output_type": "execute_result"
    }
   ],
   "source": [
    "game_df[game_df['total_sales'] == 0]"
   ]
  },
  {
   "cell_type": "markdown",
   "metadata": {},
   "source": [
    "\n",
    "## Исследовательский анализ данных"
   ]
  },
  {
   "cell_type": "markdown",
   "metadata": {},
   "source": [
    "### Посмотрим, сколько игр выпускалось в разные годы и узнаем нужны ли данные за все периоды"
   ]
  },
  {
   "cell_type": "code",
   "execution_count": 13,
   "metadata": {},
   "outputs": [
    {
     "data": {
      "image/png": "[encoded data removed]",
      "text/plain": [
       "<Figure size 432x288 with 1 Axes>"
      ]
     },
     "metadata": {
      "needs_background": "light"
     },
     "output_type": "display_data"
    }
   ],
   "source": [
    "years_count = game_df.groupby(['year_of_release'])['platform'].agg(['count'])\n",
    "years_count.plot(color='black', grid=True)\n",
    "plt.xlabel(\"Год выпуска\", fontsize=11, fontweight=\"bold\")\n",
    "plt.ylabel(\"Количество игр\", fontsize=11, fontweight=\"bold\")\n",
    "plt.show()"
   ]
  },
  {
   "cell_type": "markdown",
   "metadata": {},
   "source": [
    "*По распределению видим, что активный рост по выпуску игр начинается с 2003 года.*\n",
    "\n",
    "*Исключим игры выпщущенные до 2003 года.*"
   ]
  },
  {
   "cell_type": "code",
   "execution_count": 14,
   "metadata": {},
   "outputs": [],
   "source": [
    "data_game = game_df[game_df['year_of_release'] > 2003]"
   ]
  },
  {
   "cell_type": "markdown",
   "metadata": {},
   "source": [
    "### Смотрим, как менялись продажи по платформам"
   ]
  },
  {
   "cell_type": "markdown",
   "metadata": {},
   "source": [
    "Узнаем топ суммарных продажа по платформам"
   ]
  },
  {
   "cell_type": "code",
   "execution_count": 15,
   "metadata": {},
   "outputs": [
    {
     "data": {
      "text/html": [
       "<div>\n",
       "<style scoped>\n",
       "    .dataframe tbody tr th:only-of-type {\n",
       "        vertical-align: middle;\n",
       "    }\n",
       "\n",
       "    .dataframe tbody tr th {\n",
       "        vertical-align: top;\n",
       "    }\n",
       "\n",
       "    .dataframe thead th {\n",
       "        text-align: right;\n",
       "    }\n",
       "</style>\n",
       "<table border=\"1\" class=\"dataframe\">\n",
       "  <thead>\n",
       "    <tr style=\"text-align: right;\">\n",
       "      <th></th>\n",
       "      <th>platform</th>\n",
       "      <th>sum</th>\n",
       "    </tr>\n",
       "  </thead>\n",
       "  <tbody>\n",
       "    <tr>\n",
       "      <th>13</th>\n",
       "      <td>X360</td>\n",
       "      <td>961.24</td>\n",
       "    </tr>\n",
       "    <tr>\n",
       "      <th>7</th>\n",
       "      <td>PS3</td>\n",
       "      <td>931.34</td>\n",
       "    </tr>\n",
       "    <tr>\n",
       "      <th>11</th>\n",
       "      <td>Wii</td>\n",
       "      <td>891.18</td>\n",
       "    </tr>\n",
       "    <tr>\n",
       "      <th>2</th>\n",
       "      <td>DS</td>\n",
       "      <td>802.76</td>\n",
       "    </tr>\n",
       "    <tr>\n",
       "      <th>6</th>\n",
       "      <td>PS2</td>\n",
       "      <td>638.27</td>\n",
       "    </tr>\n",
       "    <tr>\n",
       "      <th>8</th>\n",
       "      <td>PS4</td>\n",
       "      <td>314.14</td>\n",
       "    </tr>\n",
       "    <tr>\n",
       "      <th>9</th>\n",
       "      <td>PSP</td>\n",
       "      <td>289.53</td>\n",
       "    </tr>\n",
       "    <tr>\n",
       "      <th>0</th>\n",
       "      <td>3DS</td>\n",
       "      <td>257.81</td>\n",
       "    </tr>\n",
       "    <tr>\n",
       "      <th>5</th>\n",
       "      <td>PC</td>\n",
       "      <td>178.18</td>\n",
       "    </tr>\n",
       "    <tr>\n",
       "      <th>15</th>\n",
       "      <td>XOne</td>\n",
       "      <td>159.32</td>\n",
       "    </tr>\n",
       "    <tr>\n",
       "      <th>14</th>\n",
       "      <td>XB</td>\n",
       "      <td>125.27</td>\n",
       "    </tr>\n",
       "    <tr>\n",
       "      <th>3</th>\n",
       "      <td>GBA</td>\n",
       "      <td>120.45</td>\n",
       "    </tr>\n",
       "    <tr>\n",
       "      <th>12</th>\n",
       "      <td>WiiU</td>\n",
       "      <td>82.19</td>\n",
       "    </tr>\n",
       "    <tr>\n",
       "      <th>4</th>\n",
       "      <td>GC</td>\n",
       "      <td>67.97</td>\n",
       "    </tr>\n",
       "    <tr>\n",
       "      <th>10</th>\n",
       "      <td>PSV</td>\n",
       "      <td>53.81</td>\n",
       "    </tr>\n",
       "    <tr>\n",
       "      <th>1</th>\n",
       "      <td>DC</td>\n",
       "      <td>0.06</td>\n",
       "    </tr>\n",
       "  </tbody>\n",
       "</table>\n",
       "</div>"
      ],
      "text/plain": [
       "   platform     sum\n",
       "13     X360  961.24\n",
       "7       PS3  931.34\n",
       "11      Wii  891.18\n",
       "2        DS  802.76\n",
       "6       PS2  638.27\n",
       "8       PS4  314.14\n",
       "9       PSP  289.53\n",
       "0       3DS  257.81\n",
       "5        PC  178.18\n",
       "15     XOne  159.32\n",
       "14       XB  125.27\n",
       "3       GBA  120.45\n",
       "12     WiiU   82.19\n",
       "4        GC   67.97\n",
       "10      PSV   53.81\n",
       "1        DC    0.06"
      ]
     },
     "execution_count": 15,
     "metadata": {},
     "output_type": "execute_result"
    }
   ],
   "source": [
    "platform_sales = data_game.groupby(['platform'])['total_sales'].agg(['sum'])\n",
    "platform_sales = platform_sales.reset_index()\n",
    "platform_sales.sort_values(by='sum',ascending=False)"
   ]
  },
  {
   "cell_type": "markdown",
   "metadata": {},
   "source": [
    "Делаем срез по нашим данным, оставив только топ платформы"
   ]
  },
  {
   "cell_type": "code",
   "execution_count": 16,
   "metadata": {},
   "outputs": [],
   "source": [
    "platform_list = ['PS2', 'X360', 'PS3', 'Wii', 'DS', 'PS', 'PS4', 'XOne', \n",
    "                 'GBA', 'PSP', '3DS', 'PC', 'XB', 'PC', 'PSP']\n",
    "data_game = data_game.query('platform in @platform_list')\n"
   ]
  },
  {
   "cell_type": "markdown",
   "metadata": {},
   "source": [
    "Строим распределение по годам среди топ платформ"
   ]
  },
  {
   "cell_type": "code",
   "execution_count": 17,
   "metadata": {},
   "outputs": [
    {
     "data": {
      "image/png": "[encoded data removed]",
      "text/plain": [
       "<Figure size 1440x864 with 1 Axes>"
      ]
     },
     "metadata": {
      "needs_background": "light"
     },
     "output_type": "display_data"
    }
   ],
   "source": [
    "ddd = data_game.pivot_table(index='year_of_release', columns='platform', values='total_sales', aggfunc='sum') \\\n",
    "    .plot(figsize = (20,12))\n",
    "plt.title('Распределение по годам', fontsize=20, fontweight='bold')\n",
    "plt.xlabel('Год выпуска', fontsize=15, fontweight='bold')\n",
    "plt.ylabel('Сумма продаж', fontsize=15, fontweight= 'bold')\n",
    "plt.show()"
   ]
  },
  {
   "cell_type": "markdown",
   "metadata": {},
   "source": [
    "*В среднем период продаж по платформам составляет 10 лет, кроме PC так как платформа по сути одна. Разница в сроке между старой и новой платформой составляет 6 лет, и после выхода новой платформы у нее продажи идут резко вверх, а продажи старой плавно идут к минимуму или к нулю.*"
   ]
  },
  {
   "cell_type": "markdown",
   "metadata": {},
   "source": [
    "### Определяем актуальный период"
   ]
  },
  {
   "cell_type": "markdown",
   "metadata": {},
   "source": [
    "*За актуальный период, для построения прогнозов на 2017 года, возьмем данные с 2012 года. Так как слишком большой период в виде продолжительность жизни платформы брать нецелесообразно, возьмем период который равен половине жизни платформы и год с запасом, из-за того что данные за 2016 год обрываются.*"
   ]
  },
  {
   "cell_type": "code",
   "execution_count": 18,
   "metadata": {},
   "outputs": [
    {
     "data": {
      "image/png": "[encoded data removed]",
      "text/plain": [
       "<Figure size 1440x864 with 1 Axes>"
      ]
     },
     "metadata": {
      "needs_background": "light"
     },
     "output_type": "display_data"
    }
   ],
   "source": [
    "data_game = data_game.query('year_of_release >= 2012')\n",
    "data_game.pivot_table(index='year_of_release', columns='platform', values='total_sales', aggfunc='sum') \\\n",
    "    .plot(figsize = (20,12))\n",
    "plt.title('Распределение по годам', fontsize=20, fontweight='bold')\n",
    "plt.xlabel('Год выпуска', fontsize=15, fontweight='bold')\n",
    "plt.ylabel('Сумма продаж', fontsize=15, fontweight='bold')\n",
    "plt.show()"
   ]
  },
  {
   "cell_type": "markdown",
   "metadata": {},
   "source": [
    "### Узнаем лидера продаж по платформам"
   ]
  },
  {
   "cell_type": "markdown",
   "metadata": {},
   "source": [
    "Группируем данные для выявления потенциально прибыльных платформ"
   ]
  },
  {
   "cell_type": "code",
   "execution_count": 19,
   "metadata": {},
   "outputs": [
    {
     "data": {
      "text/html": [
       "<div>\n",
       "<style scoped>\n",
       "    .dataframe tbody tr th:only-of-type {\n",
       "        vertical-align: middle;\n",
       "    }\n",
       "\n",
       "    .dataframe tbody tr th {\n",
       "        vertical-align: top;\n",
       "    }\n",
       "\n",
       "    .dataframe thead th {\n",
       "        text-align: right;\n",
       "    }\n",
       "</style>\n",
       "<table border=\"1\" class=\"dataframe\">\n",
       "  <thead>\n",
       "    <tr style=\"text-align: right;\">\n",
       "      <th></th>\n",
       "      <th>platform</th>\n",
       "      <th>sum</th>\n",
       "    </tr>\n",
       "  </thead>\n",
       "  <tbody>\n",
       "    <tr>\n",
       "      <th>0</th>\n",
       "      <td>PS4</td>\n",
       "      <td>314.14</td>\n",
       "    </tr>\n",
       "    <tr>\n",
       "      <th>1</th>\n",
       "      <td>PS3</td>\n",
       "      <td>288.79</td>\n",
       "    </tr>\n",
       "    <tr>\n",
       "      <th>2</th>\n",
       "      <td>X360</td>\n",
       "      <td>236.54</td>\n",
       "    </tr>\n",
       "    <tr>\n",
       "      <th>3</th>\n",
       "      <td>3DS</td>\n",
       "      <td>194.61</td>\n",
       "    </tr>\n",
       "    <tr>\n",
       "      <th>4</th>\n",
       "      <td>XOne</td>\n",
       "      <td>159.32</td>\n",
       "    </tr>\n",
       "    <tr>\n",
       "      <th>5</th>\n",
       "      <td>PC</td>\n",
       "      <td>62.65</td>\n",
       "    </tr>\n",
       "    <tr>\n",
       "      <th>6</th>\n",
       "      <td>Wii</td>\n",
       "      <td>35.37</td>\n",
       "    </tr>\n",
       "    <tr>\n",
       "      <th>7</th>\n",
       "      <td>DS</td>\n",
       "      <td>12.55</td>\n",
       "    </tr>\n",
       "    <tr>\n",
       "      <th>8</th>\n",
       "      <td>PSP</td>\n",
       "      <td>11.19</td>\n",
       "    </tr>\n",
       "  </tbody>\n",
       "</table>\n",
       "</div>"
      ],
      "text/plain": [
       "  platform     sum\n",
       "0      PS4  314.14\n",
       "1      PS3  288.79\n",
       "2     X360  236.54\n",
       "3      3DS  194.61\n",
       "4     XOne  159.32\n",
       "5       PC   62.65\n",
       "6      Wii   35.37\n",
       "7       DS   12.55\n",
       "8      PSP   11.19"
      ]
     },
     "execution_count": 19,
     "metadata": {},
     "output_type": "execute_result"
    }
   ],
   "source": [
    "data_game.groupby('platform')['total_sales'].agg(['sum']) \\\n",
    "    .sort_values(by='sum',ascending=False) \\\n",
    "    .reset_index()"
   ]
  },
  {
   "cell_type": "markdown",
   "metadata": {},
   "source": [
    "*По продажам лидирует PS платформы. А так же с 2013 года заметен спад продаж у многих платформ, так как в этом году вышла новая PS4 и Хbox One. Где у PS4 заметна доминация в продажах. Учитывая тендецию за прошлые года, потенциально прибыльные платформы это PS4, XOne и 3DS.*"
   ]
  },
  {
   "cell_type": "markdown",
   "metadata": {},
   "source": [
    "### Тот самый ящик с усиками."
   ]
  },
  {
   "cell_type": "code",
   "execution_count": 20,
   "metadata": {},
   "outputs": [
    {
     "data": {
      "text/plain": [
       "(0.0, 2.0)"
      ]
     },
     "execution_count": 20,
     "metadata": {},
     "output_type": "execute_result"
    },
    {
     "data": {
      "image/png": "[encoded data removed]",
      "text/plain": [
       "<Figure size 1080x432 with 1 Axes>"
      ]
     },
     "metadata": {
      "needs_background": "light"
     },
     "output_type": "display_data"
    }
   ],
   "source": [
    "data_game.boxplot(column='total_sales', by='platform', figsize=(15,6)).set_ylim(0, 2)"
   ]
  },
  {
   "cell_type": "markdown",
   "metadata": {},
   "source": [
    "*Основная часть данных практически у всех платформ расположены за 3 квартилем. Максимальные значения наших топ платформ примерно на одном уровне, кроме 3ds.*"
   ]
  },
  {
   "cell_type": "markdown",
   "metadata": {},
   "source": [
    "### Влияние отзывов пользователей и критиков на продажи внутри платформы"
   ]
  },
  {
   "cell_type": "markdown",
   "metadata": {},
   "source": [
    "Группируем данные по платформе PS"
   ]
  },
  {
   "cell_type": "code",
   "execution_count": 21,
   "metadata": {},
   "outputs": [],
   "source": [
    "ps4_data = data_game[(data_game['platform'] == 'PS4') & (data_game['user_score'] > 0)]"
   ]
  },
  {
   "cell_type": "markdown",
   "metadata": {},
   "source": [
    "*Считаем корреляцию между отзывами игроков и продажами*"
   ]
  },
  {
   "cell_type": "code",
   "execution_count": 22,
   "metadata": {},
   "outputs": [
    {
     "name": "stdout",
     "output_type": "stream",
     "text": [
      "Корреляция между отзывами игроков и продажами: -0.03\n"
     ]
    }
   ],
   "source": [
    "ps4_cor_user = ps4_data['total_sales'].corr(ps4_data['user_score']).round(2)\n",
    "print(f'Корреляция между отзывами игроков и продажами: {ps4_cor_user}')"
   ]
  },
  {
   "cell_type": "markdown",
   "metadata": {},
   "source": [
    "#### Функция для построения диаграммы рассеивания по user_score"
   ]
  },
  {
   "cell_type": "markdown",
   "metadata": {},
   "source": [
    "Строим диаграмму рассеяния"
   ]
  },
  {
   "cell_type": "code",
   "execution_count": 23,
   "metadata": {},
   "outputs": [],
   "source": [
    "def user_plot(df):\n",
    "    ax = sns.regplot(x=df[\"user_score\"], y=df[\"total_sales\"],fit_reg=False)\n",
    "    plt.ylim(0,5)\n",
    "    plt.grid()\n",
    "    plt.show()\n",
    "    return user_plot"
   ]
  },
  {
   "cell_type": "markdown",
   "metadata": {},
   "source": [
    "Строим диаграмму рассеивания "
   ]
  },
  {
   "cell_type": "code",
   "execution_count": 24,
   "metadata": {},
   "outputs": [
    {
     "data": {
      "image/png": "[encoded data removed]",
      "text/plain": [
       "<Figure size 432x288 with 1 Axes>"
      ]
     },
     "metadata": {
      "needs_background": "light"
     },
     "output_type": "display_data"
    },
    {
     "data": {
      "text/plain": [
       "<function __main__.user_plot(df)>"
      ]
     },
     "execution_count": 24,
     "metadata": {},
     "output_type": "execute_result"
    }
   ],
   "source": [
    "user_plot(ps4_data)"
   ]
  },
  {
   "cell_type": "markdown",
   "metadata": {},
   "source": [
    "Корреляция между продажами и отзывами игроков отсутсвует"
   ]
  },
  {
   "cell_type": "markdown",
   "metadata": {},
   "source": [
    "*Cчитаем корреляцию между отзывами критиков и продажами*"
   ]
  },
  {
   "cell_type": "code",
   "execution_count": 25,
   "metadata": {},
   "outputs": [
    {
     "name": "stdout",
     "output_type": "stream",
     "text": [
      "Корреляция между отзывами критиков и продажами: 0.41\n"
     ]
    }
   ],
   "source": [
    "ps4_cor_critic = ps4_data['total_sales'].corr(ps4_data['critic_score']).round(2)\n",
    "print(f'Корреляция между отзывами критиков и продажами: {ps4_cor_critic}')"
   ]
  },
  {
   "cell_type": "markdown",
   "metadata": {},
   "source": [
    "#### Функция для построения диаграммы рассеивания по critic_score"
   ]
  },
  {
   "cell_type": "code",
   "execution_count": 26,
   "metadata": {},
   "outputs": [],
   "source": [
    "def critical_plot(df):\n",
    "    ax = sns.regplot(x=df[\"critic_score\"], y=df[\"total_sales\"],fit_reg=False)\n",
    "    plt.ylim(0,5)\n",
    "    plt.grid()\n",
    "    plt.show()\n",
    "    return critical_plot"
   ]
  },
  {
   "cell_type": "markdown",
   "metadata": {},
   "source": [
    "Cтроим диаграмму рассеяния"
   ]
  },
  {
   "cell_type": "code",
   "execution_count": 27,
   "metadata": {},
   "outputs": [
    {
     "data": {
      "image/png": "[encoded data removed]",
      "text/plain": [
       "<Figure size 432x288 with 1 Axes>"
      ]
     },
     "metadata": {
      "needs_background": "light"
     },
     "output_type": "display_data"
    },
    {
     "data": {
      "text/plain": [
       "<function __main__.critical_plot(df)>"
      ]
     },
     "execution_count": 27,
     "metadata": {},
     "output_type": "execute_result"
    }
   ],
   "source": [
    "critical_plot(ps4_data)"
   ]
  },
  {
   "cell_type": "markdown",
   "metadata": {},
   "source": [
    "Корреляция между отзывами критиков и продажами чуть выше, но все еще слабая"
   ]
  },
  {
   "cell_type": "markdown",
   "metadata": {},
   "source": [
    "*Влияние отзывов пользователей на количество продаж отсутвует. Есть незначительное влияние отзывов критиков на продажи. Это дает нам предположить, что на продажи влиют другие факторы, например маркетинг игры, ожидание игроков, создатели или какой-либо бэкграунд.*"
   ]
  },
  {
   "cell_type": "markdown",
   "metadata": {},
   "source": [
    "*Для подтверждения посчитаем корреляцию для других платформ, как популярных, так и чуть менее*"
   ]
  },
  {
   "cell_type": "markdown",
   "metadata": {},
   "source": [
    "#### Подсчитаем и выведем все так же для PC"
   ]
  },
  {
   "cell_type": "code",
   "execution_count": 28,
   "metadata": {},
   "outputs": [],
   "source": [
    "pc_data = data_game[(data_game['platform'] == 'PC') & (data_game['user_score'] > 0)]"
   ]
  },
  {
   "cell_type": "code",
   "execution_count": 29,
   "metadata": {},
   "outputs": [
    {
     "name": "stdout",
     "output_type": "stream",
     "text": [
      "Корреляция между отзывами игроков и продажами: -0.12\n"
     ]
    }
   ],
   "source": [
    "pc_cor_user = pc_data['total_sales'].corr(pc_data['user_score']).round(2)\n",
    "print(f'Корреляция между отзывами игроков и продажами: {pc_cor_user}')"
   ]
  },
  {
   "cell_type": "code",
   "execution_count": 30,
   "metadata": {},
   "outputs": [
    {
     "data": {
      "image/png": "[encoded data removed]",
      "text/plain": [
       "<Figure size 432x288 with 1 Axes>"
      ]
     },
     "metadata": {
      "needs_background": "light"
     },
     "output_type": "display_data"
    },
    {
     "data": {
      "text/plain": [
       "<function __main__.user_plot(df)>"
      ]
     },
     "execution_count": 30,
     "metadata": {},
     "output_type": "execute_result"
    }
   ],
   "source": [
    "user_plot(pc_data)"
   ]
  },
  {
   "cell_type": "code",
   "execution_count": 31,
   "metadata": {},
   "outputs": [
    {
     "name": "stdout",
     "output_type": "stream",
     "text": [
      "Корреляция между отзывами критиков и продажами: 0.24\n"
     ]
    }
   ],
   "source": [
    "pc_cor_critic = pc_data['total_sales'].corr(pc_data['critic_score']).round(2)\n",
    "print(f'Корреляция между отзывами критиков и продажами: {pc_cor_critic}')"
   ]
  },
  {
   "cell_type": "code",
   "execution_count": 32,
   "metadata": {},
   "outputs": [
    {
     "data": {
      "image/png": "[encoded data removed]",
      "text/plain": [
       "<Figure size 432x288 with 1 Axes>"
      ]
     },
     "metadata": {
      "needs_background": "light"
     },
     "output_type": "display_data"
    },
    {
     "data": {
      "text/plain": [
       "<function __main__.critical_plot(df)>"
      ]
     },
     "execution_count": 32,
     "metadata": {},
     "output_type": "execute_result"
    }
   ],
   "source": [
    "critical_plot(pc_data)"
   ]
  },
  {
   "cell_type": "markdown",
   "metadata": {},
   "source": [
    "#### Подсчитаем и выведем все так же для Xone"
   ]
  },
  {
   "cell_type": "code",
   "execution_count": 33,
   "metadata": {},
   "outputs": [],
   "source": [
    "xone_data = data_game[(data_game['platform'] == 'XOne') & (data_game['user_score'] > 0)]"
   ]
  },
  {
   "cell_type": "code",
   "execution_count": 34,
   "metadata": {},
   "outputs": [
    {
     "name": "stdout",
     "output_type": "stream",
     "text": [
      "Корреляция между отзывами игроков и продажами: -0.07\n"
     ]
    }
   ],
   "source": [
    "xone_cor_user = xone_data['total_sales'].corr(xone_data['user_score']).round(2)\n",
    "print(f'Корреляция между отзывами игроков и продажами: {xone_cor_user}')"
   ]
  },
  {
   "cell_type": "code",
   "execution_count": 35,
   "metadata": {},
   "outputs": [
    {
     "data": {
      "image/png": "[encoded data removed]",
      "text/plain": [
       "<Figure size 432x288 with 1 Axes>"
      ]
     },
     "metadata": {
      "needs_background": "light"
     },
     "output_type": "display_data"
    },
    {
     "data": {
      "text/plain": [
       "<function __main__.user_plot(df)>"
      ]
     },
     "execution_count": 35,
     "metadata": {},
     "output_type": "execute_result"
    }
   ],
   "source": [
    "user_plot(xone_data)"
   ]
  },
  {
   "cell_type": "code",
   "execution_count": 36,
   "metadata": {},
   "outputs": [
    {
     "name": "stdout",
     "output_type": "stream",
     "text": [
      "Корреляция между отзывами критиков и продажами: 0.41\n"
     ]
    }
   ],
   "source": [
    "xone_cor_critic = xone_data['total_sales'].corr(xone_data['critic_score']).round(2)\n",
    "print(f'Корреляция между отзывами критиков и продажами: {xone_cor_critic}')"
   ]
  },
  {
   "cell_type": "code",
   "execution_count": 37,
   "metadata": {},
   "outputs": [
    {
     "data": {
      "image/png": "[encoded data removed]",
      "text/plain": [
       "<Figure size 432x288 with 1 Axes>"
      ]
     },
     "metadata": {
      "needs_background": "light"
     },
     "output_type": "display_data"
    },
    {
     "data": {
      "text/plain": [
       "<function __main__.critical_plot(df)>"
      ]
     },
     "execution_count": 37,
     "metadata": {},
     "output_type": "execute_result"
    }
   ],
   "source": [
    "critical_plot(xone_data)"
   ]
  },
  {
   "cell_type": "markdown",
   "metadata": {},
   "source": [
    "#### Подсчитаем и выведем все так же для 3DS"
   ]
  },
  {
   "cell_type": "code",
   "execution_count": 38,
   "metadata": {},
   "outputs": [],
   "source": [
    "ds_data = data_game[(data_game['platform'] == '3DS') & (data_game['user_score'] > 0)]"
   ]
  },
  {
   "cell_type": "code",
   "execution_count": 39,
   "metadata": {},
   "outputs": [
    {
     "name": "stdout",
     "output_type": "stream",
     "text": [
      "Корреляция между отзывами игроков и продажами: 0.2\n"
     ]
    }
   ],
   "source": [
    "ds_cor_user = ds_data['total_sales'].corr(ds_data['user_score']).round(2)\n",
    "print(f'Корреляция между отзывами игроков и продажами: {ds_cor_user}')"
   ]
  },
  {
   "cell_type": "code",
   "execution_count": 40,
   "metadata": {},
   "outputs": [
    {
     "data": {
      "image/png": "[encoded data removed]",
      "text/plain": [
       "<Figure size 432x288 with 1 Axes>"
      ]
     },
     "metadata": {
      "needs_background": "light"
     },
     "output_type": "display_data"
    },
    {
     "data": {
      "text/plain": [
       "<function __main__.user_plot(df)>"
      ]
     },
     "execution_count": 40,
     "metadata": {},
     "output_type": "execute_result"
    }
   ],
   "source": [
    "user_plot(ds_data)"
   ]
  },
  {
   "cell_type": "code",
   "execution_count": 41,
   "metadata": {},
   "outputs": [
    {
     "name": "stdout",
     "output_type": "stream",
     "text": [
      "Корреляция между отзывами критиков и продажами: 0.31\n"
     ]
    }
   ],
   "source": [
    "ds_cor_critic = ds_data['total_sales'].corr(ds_data['critic_score']).round(2)\n",
    "print(f'Корреляция между отзывами критиков и продажами: {ds_cor_critic}')"
   ]
  },
  {
   "cell_type": "code",
   "execution_count": 42,
   "metadata": {},
   "outputs": [
    {
     "data": {
      "image/png": "[encoded data removed]",
      "text/plain": [
       "<Figure size 432x288 with 1 Axes>"
      ]
     },
     "metadata": {
      "needs_background": "light"
     },
     "output_type": "display_data"
    },
    {
     "data": {
      "text/plain": [
       "<function __main__.critical_plot(df)>"
      ]
     },
     "execution_count": 42,
     "metadata": {},
     "output_type": "execute_result"
    }
   ],
   "source": [
    "critical_plot(ds_data)"
   ]
  },
  {
   "cell_type": "markdown",
   "metadata": {},
   "source": [
    "*На всех платформах корреляция отзывов к продажам отсуствует*"
   ]
  },
  {
   "cell_type": "markdown",
   "metadata": {},
   "source": [
    "### Общее распределение игр по жанрам"
   ]
  },
  {
   "cell_type": "code",
   "execution_count": 43,
   "metadata": {},
   "outputs": [
    {
     "data": {
      "text/html": [
       "<div>\n",
       "<style scoped>\n",
       "    .dataframe tbody tr th:only-of-type {\n",
       "        vertical-align: middle;\n",
       "    }\n",
       "\n",
       "    .dataframe tbody tr th {\n",
       "        vertical-align: top;\n",
       "    }\n",
       "\n",
       "    .dataframe thead th {\n",
       "        text-align: right;\n",
       "    }\n",
       "</style>\n",
       "<table border=\"1\" class=\"dataframe\">\n",
       "  <thead>\n",
       "    <tr style=\"text-align: right;\">\n",
       "      <th></th>\n",
       "      <th>mean</th>\n",
       "      <th>median</th>\n",
       "    </tr>\n",
       "    <tr>\n",
       "      <th>genre</th>\n",
       "      <th></th>\n",
       "      <th></th>\n",
       "    </tr>\n",
       "  </thead>\n",
       "  <tbody>\n",
       "    <tr>\n",
       "      <th>Action</th>\n",
       "      <td>0.493577</td>\n",
       "      <td>0.140</td>\n",
       "    </tr>\n",
       "    <tr>\n",
       "      <th>Adventure</th>\n",
       "      <td>0.123043</td>\n",
       "      <td>0.040</td>\n",
       "    </tr>\n",
       "    <tr>\n",
       "      <th>Fighting</th>\n",
       "      <td>0.400111</td>\n",
       "      <td>0.150</td>\n",
       "    </tr>\n",
       "    <tr>\n",
       "      <th>Misc</th>\n",
       "      <td>0.461216</td>\n",
       "      <td>0.130</td>\n",
       "    </tr>\n",
       "    <tr>\n",
       "      <th>Platform</th>\n",
       "      <td>0.620167</td>\n",
       "      <td>0.170</td>\n",
       "    </tr>\n",
       "    <tr>\n",
       "      <th>Puzzle</th>\n",
       "      <td>0.159545</td>\n",
       "      <td>0.045</td>\n",
       "    </tr>\n",
       "    <tr>\n",
       "      <th>Racing</th>\n",
       "      <td>0.421553</td>\n",
       "      <td>0.130</td>\n",
       "    </tr>\n",
       "    <tr>\n",
       "      <th>Role-Playing</th>\n",
       "      <td>0.637491</td>\n",
       "      <td>0.170</td>\n",
       "    </tr>\n",
       "    <tr>\n",
       "      <th>Shooter</th>\n",
       "      <td>1.341086</td>\n",
       "      <td>0.470</td>\n",
       "    </tr>\n",
       "    <tr>\n",
       "      <th>Simulation</th>\n",
       "      <td>0.458816</td>\n",
       "      <td>0.120</td>\n",
       "    </tr>\n",
       "    <tr>\n",
       "      <th>Sports</th>\n",
       "      <td>0.730962</td>\n",
       "      <td>0.280</td>\n",
       "    </tr>\n",
       "    <tr>\n",
       "      <th>Strategy</th>\n",
       "      <td>0.192623</td>\n",
       "      <td>0.080</td>\n",
       "    </tr>\n",
       "  </tbody>\n",
       "</table>\n",
       "</div>"
      ],
      "text/plain": [
       "                  mean  median\n",
       "genre                         \n",
       "Action        0.493577   0.140\n",
       "Adventure     0.123043   0.040\n",
       "Fighting      0.400111   0.150\n",
       "Misc          0.461216   0.130\n",
       "Platform      0.620167   0.170\n",
       "Puzzle        0.159545   0.045\n",
       "Racing        0.421553   0.130\n",
       "Role-Playing  0.637491   0.170\n",
       "Shooter       1.341086   0.470\n",
       "Simulation    0.458816   0.120\n",
       "Sports        0.730962   0.280\n",
       "Strategy      0.192623   0.080"
      ]
     },
     "execution_count": 43,
     "metadata": {},
     "output_type": "execute_result"
    }
   ],
   "source": [
    "data_game.groupby('genre')['total_sales'].agg(['mean', 'median'])"
   ]
  },
  {
   "cell_type": "markdown",
   "metadata": {},
   "source": [
    "*Самый стабильный и приносящий прибыль жанрй - shooter, так же стабильно приносят прибыль - sports жанр. Самые низкие и не стабильные продажи у игр в жанре adventure.*"
   ]
  },
  {
   "cell_type": "markdown",
   "metadata": {},
   "source": [
    "## Составьте портрет пользователя каждого региона"
   ]
  },
  {
   "cell_type": "markdown",
   "metadata": {},
   "source": [
    "### Составляем портрет пользователя для региона NA"
   ]
  },
  {
   "cell_type": "markdown",
   "metadata": {},
   "source": [
    "Cчитаем топ 5 доли продаж в NA регионе"
   ]
  },
  {
   "cell_type": "code",
   "execution_count": 44,
   "metadata": {},
   "outputs": [
    {
     "data": {
      "text/html": [
       "<div>\n",
       "<style scoped>\n",
       "    .dataframe tbody tr th:only-of-type {\n",
       "        vertical-align: middle;\n",
       "    }\n",
       "\n",
       "    .dataframe tbody tr th {\n",
       "        vertical-align: top;\n",
       "    }\n",
       "\n",
       "    .dataframe thead th {\n",
       "        text-align: right;\n",
       "    }\n",
       "</style>\n",
       "<table border=\"1\" class=\"dataframe\">\n",
       "  <thead>\n",
       "    <tr style=\"text-align: right;\">\n",
       "      <th></th>\n",
       "      <th>platform</th>\n",
       "      <th>sum</th>\n",
       "      <th>percent</th>\n",
       "    </tr>\n",
       "  </thead>\n",
       "  <tbody>\n",
       "    <tr>\n",
       "      <th>0</th>\n",
       "      <td>X360</td>\n",
       "      <td>140.05</td>\n",
       "      <td>0.28</td>\n",
       "    </tr>\n",
       "    <tr>\n",
       "      <th>1</th>\n",
       "      <td>PS4</td>\n",
       "      <td>108.74</td>\n",
       "      <td>0.22</td>\n",
       "    </tr>\n",
       "    <tr>\n",
       "      <th>2</th>\n",
       "      <td>PS3</td>\n",
       "      <td>103.38</td>\n",
       "      <td>0.21</td>\n",
       "    </tr>\n",
       "    <tr>\n",
       "      <th>3</th>\n",
       "      <td>XOne</td>\n",
       "      <td>93.12</td>\n",
       "      <td>0.19</td>\n",
       "    </tr>\n",
       "    <tr>\n",
       "      <th>4</th>\n",
       "      <td>3DS</td>\n",
       "      <td>55.31</td>\n",
       "      <td>0.11</td>\n",
       "    </tr>\n",
       "  </tbody>\n",
       "</table>\n",
       "</div>"
      ],
      "text/plain": [
       "  platform     sum  percent\n",
       "0     X360  140.05     0.28\n",
       "1      PS4  108.74     0.22\n",
       "2      PS3  103.38     0.21\n",
       "3     XOne   93.12     0.19\n",
       "4      3DS   55.31     0.11"
      ]
     },
     "execution_count": 44,
     "metadata": {},
     "output_type": "execute_result"
    }
   ],
   "source": [
    "na_region_sales = data_game.groupby('platform')['na_sales'].agg(['sum']) \\\n",
    "    .sort_values(by='sum', ascending=False) \\\n",
    "    .reset_index()[:5]\n",
    "na_region_sales['percent'] = (na_region_sales['sum'] / na_region_sales['sum'].sum()).round(2)\n",
    "na_region_sales"
   ]
  },
  {
   "cell_type": "markdown",
   "metadata": {},
   "source": [
    "*В регионе большая доля продаж у Х360, следом идут PS платформы.*"
   ]
  },
  {
   "cell_type": "markdown",
   "metadata": {},
   "source": [
    "Cчитаем топ 5 популярных жанров в NA регионе"
   ]
  },
  {
   "cell_type": "code",
   "execution_count": 45,
   "metadata": {},
   "outputs": [
    {
     "data": {
      "text/html": [
       "<div>\n",
       "<style scoped>\n",
       "    .dataframe tbody tr th:only-of-type {\n",
       "        vertical-align: middle;\n",
       "    }\n",
       "\n",
       "    .dataframe tbody tr th {\n",
       "        vertical-align: top;\n",
       "    }\n",
       "\n",
       "    .dataframe thead th {\n",
       "        text-align: right;\n",
       "    }\n",
       "</style>\n",
       "<table border=\"1\" class=\"dataframe\">\n",
       "  <thead>\n",
       "    <tr style=\"text-align: right;\">\n",
       "      <th></th>\n",
       "      <th>genre</th>\n",
       "      <th>sum</th>\n",
       "      <th>percent</th>\n",
       "    </tr>\n",
       "  </thead>\n",
       "  <tbody>\n",
       "    <tr>\n",
       "      <th>0</th>\n",
       "      <td>Action</td>\n",
       "      <td>164.68</td>\n",
       "      <td>0.34</td>\n",
       "    </tr>\n",
       "    <tr>\n",
       "      <th>1</th>\n",
       "      <td>Shooter</td>\n",
       "      <td>141.48</td>\n",
       "      <td>0.30</td>\n",
       "    </tr>\n",
       "    <tr>\n",
       "      <th>2</th>\n",
       "      <td>Sports</td>\n",
       "      <td>79.07</td>\n",
       "      <td>0.17</td>\n",
       "    </tr>\n",
       "    <tr>\n",
       "      <th>3</th>\n",
       "      <td>Role-Playing</td>\n",
       "      <td>60.81</td>\n",
       "      <td>0.13</td>\n",
       "    </tr>\n",
       "    <tr>\n",
       "      <th>4</th>\n",
       "      <td>Misc</td>\n",
       "      <td>32.05</td>\n",
       "      <td>0.07</td>\n",
       "    </tr>\n",
       "  </tbody>\n",
       "</table>\n",
       "</div>"
      ],
      "text/plain": [
       "          genre     sum  percent\n",
       "0        Action  164.68     0.34\n",
       "1       Shooter  141.48     0.30\n",
       "2        Sports   79.07     0.17\n",
       "3  Role-Playing   60.81     0.13\n",
       "4          Misc   32.05     0.07"
      ]
     },
     "execution_count": 45,
     "metadata": {},
     "output_type": "execute_result"
    }
   ],
   "source": [
    "na_region_genre = data_game.groupby('genre')['na_sales'].agg(['sum']) \\\n",
    "    .sort_values(by='sum', ascending=False) \\\n",
    "    .reset_index()[:5]\n",
    "na_region_genre['percent'] = (na_region_genre['sum'] / na_region_genre['sum'].sum()).round(2)\n",
    "na_region_genre"
   ]
  },
  {
   "cell_type": "markdown",
   "metadata": {},
   "source": [
    "*Преобладает жанр action и shooter*"
   ]
  },
  {
   "cell_type": "markdown",
   "metadata": {},
   "source": [
    "Узнаем влияет ли рейтинг ersb на продажи в NA регионе"
   ]
  },
  {
   "cell_type": "code",
   "execution_count": 46,
   "metadata": {},
   "outputs": [
    {
     "data": {
      "text/html": [
       "<div>\n",
       "<style scoped>\n",
       "    .dataframe tbody tr th:only-of-type {\n",
       "        vertical-align: middle;\n",
       "    }\n",
       "\n",
       "    .dataframe tbody tr th {\n",
       "        vertical-align: top;\n",
       "    }\n",
       "\n",
       "    .dataframe thead th {\n",
       "        text-align: right;\n",
       "    }\n",
       "</style>\n",
       "<table border=\"1\" class=\"dataframe\">\n",
       "  <thead>\n",
       "    <tr style=\"text-align: right;\">\n",
       "      <th></th>\n",
       "      <th>rating</th>\n",
       "      <th>sum</th>\n",
       "    </tr>\n",
       "  </thead>\n",
       "  <tbody>\n",
       "    <tr>\n",
       "      <th>0</th>\n",
       "      <td>M</td>\n",
       "      <td>225.85</td>\n",
       "    </tr>\n",
       "    <tr>\n",
       "      <th>1</th>\n",
       "      <td>E</td>\n",
       "      <td>97.23</td>\n",
       "    </tr>\n",
       "    <tr>\n",
       "      <th>2</th>\n",
       "      <td>tbd</td>\n",
       "      <td>94.66</td>\n",
       "    </tr>\n",
       "    <tr>\n",
       "      <th>3</th>\n",
       "      <td>E10+</td>\n",
       "      <td>62.93</td>\n",
       "    </tr>\n",
       "    <tr>\n",
       "      <th>4</th>\n",
       "      <td>T</td>\n",
       "      <td>61.22</td>\n",
       "    </tr>\n",
       "  </tbody>\n",
       "</table>\n",
       "</div>"
      ],
      "text/plain": [
       "  rating     sum\n",
       "0      M  225.85\n",
       "1      E   97.23\n",
       "2    tbd   94.66\n",
       "3   E10+   62.93\n",
       "4      T   61.22"
      ]
     },
     "execution_count": 46,
     "metadata": {},
     "output_type": "execute_result"
    }
   ],
   "source": [
    "na_region_ersb = data_game.groupby('rating')['na_sales'].agg(['sum']) \\\n",
    "    .sort_values(by='sum', ascending=False) \\\n",
    "    .reset_index()\n",
    "na_region_ersb"
   ]
  },
  {
   "cell_type": "markdown",
   "metadata": {},
   "source": [
    "*Портрет пользователя региона NA. В регионе отдают предпочтение  Хbox платформе, чем PS. Заметна доминация жанров action и shooter. За счет чего продажи рейтинг М намного больше других. Следом уже идут категории игр которые подходят как детям, так и взрослым. Тем самым доказывает влияние возрастного рейтинга на продажи.*"
   ]
  },
  {
   "cell_type": "markdown",
   "metadata": {},
   "source": [
    "### Составляем портрет пользователя для региона EU"
   ]
  },
  {
   "cell_type": "markdown",
   "metadata": {},
   "source": [
    "Cчитаем топ 5 доли продаж в EU регионе"
   ]
  },
  {
   "cell_type": "code",
   "execution_count": 47,
   "metadata": {},
   "outputs": [
    {
     "data": {
      "text/html": [
       "<div>\n",
       "<style scoped>\n",
       "    .dataframe tbody tr th:only-of-type {\n",
       "        vertical-align: middle;\n",
       "    }\n",
       "\n",
       "    .dataframe tbody tr th {\n",
       "        vertical-align: top;\n",
       "    }\n",
       "\n",
       "    .dataframe thead th {\n",
       "        text-align: right;\n",
       "    }\n",
       "</style>\n",
       "<table border=\"1\" class=\"dataframe\">\n",
       "  <thead>\n",
       "    <tr style=\"text-align: right;\">\n",
       "      <th></th>\n",
       "      <th>platform</th>\n",
       "      <th>sum</th>\n",
       "      <th>percent</th>\n",
       "    </tr>\n",
       "  </thead>\n",
       "  <tbody>\n",
       "    <tr>\n",
       "      <th>0</th>\n",
       "      <td>PS4</td>\n",
       "      <td>141.09</td>\n",
       "      <td>0.34</td>\n",
       "    </tr>\n",
       "    <tr>\n",
       "      <th>1</th>\n",
       "      <td>PS3</td>\n",
       "      <td>106.86</td>\n",
       "      <td>0.26</td>\n",
       "    </tr>\n",
       "    <tr>\n",
       "      <th>2</th>\n",
       "      <td>X360</td>\n",
       "      <td>74.52</td>\n",
       "      <td>0.18</td>\n",
       "    </tr>\n",
       "    <tr>\n",
       "      <th>3</th>\n",
       "      <td>XOne</td>\n",
       "      <td>51.59</td>\n",
       "      <td>0.12</td>\n",
       "    </tr>\n",
       "    <tr>\n",
       "      <th>4</th>\n",
       "      <td>3DS</td>\n",
       "      <td>42.64</td>\n",
       "      <td>0.10</td>\n",
       "    </tr>\n",
       "  </tbody>\n",
       "</table>\n",
       "</div>"
      ],
      "text/plain": [
       "  platform     sum  percent\n",
       "0      PS4  141.09     0.34\n",
       "1      PS3  106.86     0.26\n",
       "2     X360   74.52     0.18\n",
       "3     XOne   51.59     0.12\n",
       "4      3DS   42.64     0.10"
      ]
     },
     "execution_count": 47,
     "metadata": {},
     "output_type": "execute_result"
    }
   ],
   "source": [
    "eu_region_sales = data_game.groupby('platform')['eu_sales'].agg(['sum']) \\\n",
    "    .sort_values(by='sum', ascending=False) \\\n",
    "    .reset_index()[:5]\n",
    "eu_region_sales['percent'] = (eu_region_sales['sum'] / eu_region_sales['sum'].sum()).round(2)\n",
    "eu_region_sales"
   ]
  },
  {
   "cell_type": "markdown",
   "metadata": {},
   "source": [
    "*В EU регионе заметно доминация PS платформ над платформами Х360 и XOne*"
   ]
  },
  {
   "cell_type": "markdown",
   "metadata": {},
   "source": [
    "Cчитаем топ 5 популярных жанров в EU регионе"
   ]
  },
  {
   "cell_type": "code",
   "execution_count": 48,
   "metadata": {},
   "outputs": [
    {
     "data": {
      "text/html": [
       "<div>\n",
       "<style scoped>\n",
       "    .dataframe tbody tr th:only-of-type {\n",
       "        vertical-align: middle;\n",
       "    }\n",
       "\n",
       "    .dataframe tbody tr th {\n",
       "        vertical-align: top;\n",
       "    }\n",
       "\n",
       "    .dataframe thead th {\n",
       "        text-align: right;\n",
       "    }\n",
       "</style>\n",
       "<table border=\"1\" class=\"dataframe\">\n",
       "  <thead>\n",
       "    <tr style=\"text-align: right;\">\n",
       "      <th></th>\n",
       "      <th>genre</th>\n",
       "      <th>sum</th>\n",
       "      <th>percent</th>\n",
       "    </tr>\n",
       "  </thead>\n",
       "  <tbody>\n",
       "    <tr>\n",
       "      <th>0</th>\n",
       "      <td>Action</td>\n",
       "      <td>148.45</td>\n",
       "      <td>0.37</td>\n",
       "    </tr>\n",
       "    <tr>\n",
       "      <th>1</th>\n",
       "      <td>Shooter</td>\n",
       "      <td>110.89</td>\n",
       "      <td>0.28</td>\n",
       "    </tr>\n",
       "    <tr>\n",
       "      <th>2</th>\n",
       "      <td>Sports</td>\n",
       "      <td>67.13</td>\n",
       "      <td>0.17</td>\n",
       "    </tr>\n",
       "    <tr>\n",
       "      <th>3</th>\n",
       "      <td>Role-Playing</td>\n",
       "      <td>46.48</td>\n",
       "      <td>0.12</td>\n",
       "    </tr>\n",
       "    <tr>\n",
       "      <th>4</th>\n",
       "      <td>Racing</td>\n",
       "      <td>23.79</td>\n",
       "      <td>0.06</td>\n",
       "    </tr>\n",
       "  </tbody>\n",
       "</table>\n",
       "</div>"
      ],
      "text/plain": [
       "          genre     sum  percent\n",
       "0        Action  148.45     0.37\n",
       "1       Shooter  110.89     0.28\n",
       "2        Sports   67.13     0.17\n",
       "3  Role-Playing   46.48     0.12\n",
       "4        Racing   23.79     0.06"
      ]
     },
     "execution_count": 48,
     "metadata": {},
     "output_type": "execute_result"
    }
   ],
   "source": [
    "eu_region_genre = data_game.groupby('genre')['eu_sales'].agg(['sum']) \\\n",
    "    .sort_values(by='sum', ascending=False) \\\n",
    "    .reset_index()[:5]\n",
    "eu_region_genre['percent'] = (eu_region_genre['sum'] / eu_region_genre['sum'].sum()).round(2)\n",
    "eu_region_genre"
   ]
  },
  {
   "cell_type": "markdown",
   "metadata": {},
   "source": [
    "*В eu регионе доминация жанра Action еще выше, разница с предыдущим регионом лишь в жанрах, которые расположились ниже 4го места.*"
   ]
  },
  {
   "cell_type": "code",
   "execution_count": 49,
   "metadata": {},
   "outputs": [
    {
     "data": {
      "text/html": [
       "<div>\n",
       "<style scoped>\n",
       "    .dataframe tbody tr th:only-of-type {\n",
       "        vertical-align: middle;\n",
       "    }\n",
       "\n",
       "    .dataframe tbody tr th {\n",
       "        vertical-align: top;\n",
       "    }\n",
       "\n",
       "    .dataframe thead th {\n",
       "        text-align: right;\n",
       "    }\n",
       "</style>\n",
       "<table border=\"1\" class=\"dataframe\">\n",
       "  <thead>\n",
       "    <tr style=\"text-align: right;\">\n",
       "      <th></th>\n",
       "      <th>rating</th>\n",
       "      <th>sum</th>\n",
       "    </tr>\n",
       "  </thead>\n",
       "  <tbody>\n",
       "    <tr>\n",
       "      <th>0</th>\n",
       "      <td>M</td>\n",
       "      <td>189.86</td>\n",
       "    </tr>\n",
       "    <tr>\n",
       "      <th>1</th>\n",
       "      <td>E</td>\n",
       "      <td>100.43</td>\n",
       "    </tr>\n",
       "    <tr>\n",
       "      <th>2</th>\n",
       "      <td>tbd</td>\n",
       "      <td>85.10</td>\n",
       "    </tr>\n",
       "    <tr>\n",
       "      <th>3</th>\n",
       "      <td>T</td>\n",
       "      <td>49.64</td>\n",
       "    </tr>\n",
       "    <tr>\n",
       "      <th>4</th>\n",
       "      <td>E10+</td>\n",
       "      <td>45.30</td>\n",
       "    </tr>\n",
       "  </tbody>\n",
       "</table>\n",
       "</div>"
      ],
      "text/plain": [
       "  rating     sum\n",
       "0      M  189.86\n",
       "1      E  100.43\n",
       "2    tbd   85.10\n",
       "3      T   49.64\n",
       "4   E10+   45.30"
      ]
     },
     "execution_count": 49,
     "metadata": {},
     "output_type": "execute_result"
    }
   ],
   "source": [
    "eu_region_ersb = data_game.groupby('rating')['eu_sales'].agg(['sum']) \\\n",
    "    .sort_values(by='sum', ascending=False) \\\n",
    "    .reset_index()\n",
    "eu_region_ersb"
   ]
  },
  {
   "cell_type": "markdown",
   "metadata": {},
   "source": [
    "Портрет пользователя региона EU. В отличии от NA региона, видная сильная доминация PS платформ. Но с жанрами ситуация такая же, лишь доминация жанра action еще выше и на в топ входит жанр racing. Влияние возрастного рейтинга ersb так же присутствует, ситуация аналогична."
   ]
  },
  {
   "cell_type": "markdown",
   "metadata": {},
   "source": [
    "### Составляем портрет пользователя для региона JP"
   ]
  },
  {
   "cell_type": "code",
   "execution_count": 50,
   "metadata": {},
   "outputs": [
    {
     "data": {
      "text/html": [
       "<div>\n",
       "<style scoped>\n",
       "    .dataframe tbody tr th:only-of-type {\n",
       "        vertical-align: middle;\n",
       "    }\n",
       "\n",
       "    .dataframe tbody tr th {\n",
       "        vertical-align: top;\n",
       "    }\n",
       "\n",
       "    .dataframe thead th {\n",
       "        text-align: right;\n",
       "    }\n",
       "</style>\n",
       "<table border=\"1\" class=\"dataframe\">\n",
       "  <thead>\n",
       "    <tr style=\"text-align: right;\">\n",
       "      <th></th>\n",
       "      <th>platform</th>\n",
       "      <th>sum</th>\n",
       "      <th>percent</th>\n",
       "    </tr>\n",
       "  </thead>\n",
       "  <tbody>\n",
       "    <tr>\n",
       "      <th>0</th>\n",
       "      <td>3DS</td>\n",
       "      <td>87.79</td>\n",
       "      <td>0.57</td>\n",
       "    </tr>\n",
       "    <tr>\n",
       "      <th>1</th>\n",
       "      <td>PS3</td>\n",
       "      <td>35.29</td>\n",
       "      <td>0.23</td>\n",
       "    </tr>\n",
       "    <tr>\n",
       "      <th>2</th>\n",
       "      <td>PS4</td>\n",
       "      <td>15.96</td>\n",
       "      <td>0.10</td>\n",
       "    </tr>\n",
       "    <tr>\n",
       "      <th>3</th>\n",
       "      <td>PSP</td>\n",
       "      <td>10.47</td>\n",
       "      <td>0.07</td>\n",
       "    </tr>\n",
       "    <tr>\n",
       "      <th>4</th>\n",
       "      <td>DS</td>\n",
       "      <td>3.72</td>\n",
       "      <td>0.02</td>\n",
       "    </tr>\n",
       "  </tbody>\n",
       "</table>\n",
       "</div>"
      ],
      "text/plain": [
       "  platform    sum  percent\n",
       "0      3DS  87.79     0.57\n",
       "1      PS3  35.29     0.23\n",
       "2      PS4  15.96     0.10\n",
       "3      PSP  10.47     0.07\n",
       "4       DS   3.72     0.02"
      ]
     },
     "execution_count": 50,
     "metadata": {},
     "output_type": "execute_result"
    }
   ],
   "source": [
    "jp_region_sales = data_game.groupby('platform')['jp_sales'].agg(['sum']) \\\n",
    "    .sort_values(by='sum', ascending=False) \\\n",
    "    .reset_index()[:5]\n",
    "jp_region_sales['percent'] = (jp_region_sales['sum'] / jp_region_sales['sum'].sum()).round(2)\n",
    "jp_region_sales"
   ]
  },
  {
   "cell_type": "markdown",
   "metadata": {},
   "source": [
    "В регионе JP ситуация кардинально отличается. Здесь топ платформы DS, в то время как  Хbox даже не входит в топ 5 платформ."
   ]
  },
  {
   "cell_type": "markdown",
   "metadata": {},
   "source": [
    "Cчитаем топ 5 популярных жанров в JP регионе"
   ]
  },
  {
   "cell_type": "code",
   "execution_count": 51,
   "metadata": {},
   "outputs": [
    {
     "data": {
      "text/html": [
       "<div>\n",
       "<style scoped>\n",
       "    .dataframe tbody tr th:only-of-type {\n",
       "        vertical-align: middle;\n",
       "    }\n",
       "\n",
       "    .dataframe tbody tr th {\n",
       "        vertical-align: top;\n",
       "    }\n",
       "\n",
       "    .dataframe thead th {\n",
       "        text-align: right;\n",
       "    }\n",
       "</style>\n",
       "<table border=\"1\" class=\"dataframe\">\n",
       "  <thead>\n",
       "    <tr style=\"text-align: right;\">\n",
       "      <th></th>\n",
       "      <th>genre</th>\n",
       "      <th>sum</th>\n",
       "      <th>percent</th>\n",
       "    </tr>\n",
       "  </thead>\n",
       "  <tbody>\n",
       "    <tr>\n",
       "      <th>0</th>\n",
       "      <td>Role-Playing</td>\n",
       "      <td>56.87</td>\n",
       "      <td>0.44</td>\n",
       "    </tr>\n",
       "    <tr>\n",
       "      <th>1</th>\n",
       "      <td>Action</td>\n",
       "      <td>45.00</td>\n",
       "      <td>0.35</td>\n",
       "    </tr>\n",
       "    <tr>\n",
       "      <th>2</th>\n",
       "      <td>Simulation</td>\n",
       "      <td>10.37</td>\n",
       "      <td>0.08</td>\n",
       "    </tr>\n",
       "    <tr>\n",
       "      <th>3</th>\n",
       "      <td>Misc</td>\n",
       "      <td>8.12</td>\n",
       "      <td>0.06</td>\n",
       "    </tr>\n",
       "    <tr>\n",
       "      <th>4</th>\n",
       "      <td>Fighting</td>\n",
       "      <td>7.77</td>\n",
       "      <td>0.06</td>\n",
       "    </tr>\n",
       "  </tbody>\n",
       "</table>\n",
       "</div>"
      ],
      "text/plain": [
       "          genre    sum  percent\n",
       "0  Role-Playing  56.87     0.44\n",
       "1        Action  45.00     0.35\n",
       "2    Simulation  10.37     0.08\n",
       "3          Misc   8.12     0.06\n",
       "4      Fighting   7.77     0.06"
      ]
     },
     "execution_count": 51,
     "metadata": {},
     "output_type": "execute_result"
    }
   ],
   "source": [
    "jp_region_genre = data_game.groupby('genre')['jp_sales'].agg(['sum']) \\\n",
    "    .sort_values(by='sum', ascending=False) \\\n",
    "    .reset_index()[:5]\n",
    "jp_region_genre['percent'] = (jp_region_genre['sum'] / jp_region_genre['sum'].sum()).round(2)\n",
    "jp_region_genre"
   ]
  },
  {
   "cell_type": "markdown",
   "metadata": {},
   "source": [
    "*Доминацию в JP регионе захватыавет RPG жанры. На втором месте action, а вот у жанров присущии eu и na очень низкие продажи.*"
   ]
  },
  {
   "cell_type": "markdown",
   "metadata": {},
   "source": [
    "Узнаем влияет ли рейтинг ersb на продажи в JP регионе"
   ]
  },
  {
   "cell_type": "code",
   "execution_count": 52,
   "metadata": {},
   "outputs": [
    {
     "data": {
      "text/html": [
       "<div>\n",
       "<style scoped>\n",
       "    .dataframe tbody tr th:only-of-type {\n",
       "        vertical-align: middle;\n",
       "    }\n",
       "\n",
       "    .dataframe tbody tr th {\n",
       "        vertical-align: top;\n",
       "    }\n",
       "\n",
       "    .dataframe thead th {\n",
       "        text-align: right;\n",
       "    }\n",
       "</style>\n",
       "<table border=\"1\" class=\"dataframe\">\n",
       "  <thead>\n",
       "    <tr style=\"text-align: right;\">\n",
       "      <th></th>\n",
       "      <th>rating</th>\n",
       "      <th>sum</th>\n",
       "    </tr>\n",
       "  </thead>\n",
       "  <tbody>\n",
       "    <tr>\n",
       "      <th>0</th>\n",
       "      <td>tbd</td>\n",
       "      <td>93.14</td>\n",
       "    </tr>\n",
       "    <tr>\n",
       "      <th>1</th>\n",
       "      <td>E</td>\n",
       "      <td>21.51</td>\n",
       "    </tr>\n",
       "    <tr>\n",
       "      <th>2</th>\n",
       "      <td>T</td>\n",
       "      <td>19.77</td>\n",
       "    </tr>\n",
       "    <tr>\n",
       "      <th>3</th>\n",
       "      <td>M</td>\n",
       "      <td>18.96</td>\n",
       "    </tr>\n",
       "    <tr>\n",
       "      <th>4</th>\n",
       "      <td>E10+</td>\n",
       "      <td>5.15</td>\n",
       "    </tr>\n",
       "  </tbody>\n",
       "</table>\n",
       "</div>"
      ],
      "text/plain": [
       "  rating    sum\n",
       "0    tbd  93.14\n",
       "1      E  21.51\n",
       "2      T  19.77\n",
       "3      M  18.96\n",
       "4   E10+   5.15"
      ]
     },
     "execution_count": 52,
     "metadata": {},
     "output_type": "execute_result"
    }
   ],
   "source": [
    "jp_region_ersb = data_game.groupby('rating')['jp_sales'].agg(['sum']) \\\n",
    "    .sort_values(by='sum', ascending=False) \\\n",
    "    .reset_index()\n",
    "jp_region_ersb"
   ]
  },
  {
   "cell_type": "markdown",
   "metadata": {},
   "source": [
    "*Портрет пользователя JP региона. Портерт очень отличается от других регионов, здесь доминирует ds платформа и при этом Xbox платформ нет в топ-5, следом расположены продукты sony. И жанры отличаются тем, что заметная доминация у rpg жанра. С возрастным рейтингом ситуация интересная. Наши пропущенные значения на первом месте, что дает нам понять о рейтинг не влияет на продажи.*"
   ]
  },
  {
   "cell_type": "markdown",
   "metadata": {},
   "source": [
    "## Проверяем гипотезы"
   ]
  },
  {
   "cell_type": "markdown",
   "metadata": {},
   "source": [
    "### Средние пользовательские рейтинги платформ Xbox One и PC одинаковые"
   ]
  },
  {
   "cell_type": "markdown",
   "metadata": {},
   "source": [
    "**H0 (нулевая гипотеза)** - предпложение о том, что между данным у нас нет связи. В данном случая, что *средний пользовательский рейтинг* платформы <font color='green'>Xbox One</font> не отличается от *среднего пользовательского рейтинга* платформы <font color='blue'>PC</font>.\n",
    "\n",
    "**Н1 (альтернативная гипотеза)** *средний пользовательский рейтинг* платформы <font color='green'>Xbox One</font> отличается от *среднего пользовательского рейтинга* платформы <font color='blue'>PC</font>."
   ]
  },
  {
   "cell_type": "markdown",
   "metadata": {},
   "source": [
    "*У нас независимы выборки, поэтому используем функцию ttest_ind*\n",
    "\n",
    "*Но для начала проверим дисперсию наших выборок*"
   ]
  },
  {
   "cell_type": "markdown",
   "metadata": {},
   "source": [
    "#### Функция для вычисления дисперсии"
   ]
  },
  {
   "cell_type": "code",
   "execution_count": 53,
   "metadata": {},
   "outputs": [],
   "source": [
    "def variance(data): \n",
    "    n = len(data)\n",
    "    mean = sum(data) / n\n",
    "    deviations = [(x - mean) ** 2 for x in data]\n",
    "    variance = sum(deviations) / n\n",
    "    return variance"
   ]
  },
  {
   "cell_type": "markdown",
   "metadata": {},
   "source": [
    "Группируем данные"
   ]
  },
  {
   "cell_type": "code",
   "execution_count": 54,
   "metadata": {},
   "outputs": [],
   "source": [
    "x_one = data_game[(data_game['platform'] == 'XOne') & (data_game['user_score'] > 0)]['user_score']\n",
    "pc = data_game[(data_game['platform'] == 'PC') & (data_game['user_score'] > 0)]['user_score']"
   ]
  },
  {
   "cell_type": "markdown",
   "metadata": {},
   "source": [
    "Вычисляем дисперсию"
   ]
  },
  {
   "cell_type": "code",
   "execution_count": 55,
   "metadata": {},
   "outputs": [
    {
     "name": "stdout",
     "output_type": "stream",
     "text": [
      "Дисперсия XOne: 1.8965188383045533\n",
      "Дисперсия PC: 2.7569952398906565\n"
     ]
    }
   ],
   "source": [
    "print(f'Дисперсия XOne: {variance(x_one)}')\n",
    "print(f'Дисперсия PC: {variance(pc)}')"
   ]
  },
  {
   "cell_type": "markdown",
   "metadata": {},
   "source": [
    "Так как дисперсии не равны, указываем параметр **equal_var=False**"
   ]
  },
  {
   "cell_type": "code",
   "execution_count": 56,
   "metadata": {},
   "outputs": [
    {
     "name": "stdout",
     "output_type": "stream",
     "text": [
      "p-значение: 0.5489537965134912\n",
      "Не получилось отвергнуть нулевую гипотезу\n"
     ]
    }
   ],
   "source": [
    "results = st.ttest_ind(x_one, pc, equal_var = False)\n",
    "\n",
    "alpha = .05\n",
    "\n",
    "print('p-значение:', results.pvalue)\n",
    "\n",
    "if results.pvalue < alpha:\n",
    "    print(\"Отвергаем нулевую гипотезу\")\n",
    "else:\n",
    "    print(\"Не получилось отвергнуть нулевую гипотезу\")"
   ]
  },
  {
   "cell_type": "markdown",
   "metadata": {},
   "source": [
    "**Нулевую гипотезу** отвергнуть не получилось, тем самым мы можем утверждать, что разница в среднем пользовательском рейтинге платформы <font color='green'>Xbox One</font> и <font color='blue'>PC</font> не статистически значима."
   ]
  },
  {
   "cell_type": "markdown",
   "metadata": {},
   "source": [
    "Взглянем на средние значения рейтинга платформ"
   ]
  },
  {
   "cell_type": "code",
   "execution_count": 57,
   "metadata": {},
   "outputs": [
    {
     "name": "stdout",
     "output_type": "stream",
     "text": [
      "Средний пользовательский рейтинг платформы Xbox One: 6.52\n",
      "Средний пользовательский рейтинг платформы PC: 6.43\n"
     ]
    }
   ],
   "source": [
    "print(f'Средний пользовательский рейтинг платформы Xbox One: {x_one.mean().round(2)}')\n",
    "print(f'Средний пользовательский рейтинг платформы PC: {pc.mean().round(2)}')"
   ]
  },
  {
   "cell_type": "markdown",
   "metadata": {},
   "source": [
    "*Рейтинг отличается на 0.2 пункта*"
   ]
  },
  {
   "cell_type": "markdown",
   "metadata": {},
   "source": [
    "Средние пользовательские рейтинги жанров Action (англ. «действие», экшен-игры) и Sports (англ. «спортивные соревнования») разные.\n"
   ]
  },
  {
   "cell_type": "markdown",
   "metadata": {},
   "source": [
    "### Средние пользовательские рейтинги жанров Action и Sports разные.\n"
   ]
  },
  {
   "cell_type": "markdown",
   "metadata": {},
   "source": [
    "**H0 (нулевая гипотеза)** - предпложение о том, что между данным у нас нет связи. В данном случая, что *средний пользовательский рейтинг* жанра <font color='green'>Action</font> отличается от *среднего пользовательского рейтинга* жанра <font color='blue'>Sports</font>.\n",
    "\n",
    "**Н1 (альтернативная гипотеза)** *средний пользовательский рейтинг* жанра <font color='green'>Action</font> отличается от *среднего пользовательского рейтинга* жанра <font color='blue'>Sports</font>."
   ]
  },
  {
   "cell_type": "markdown",
   "metadata": {},
   "source": [
    "Группируем данные"
   ]
  },
  {
   "cell_type": "code",
   "execution_count": 58,
   "metadata": {},
   "outputs": [],
   "source": [
    "action = data_game[(data_game['genre'] == 'Action') & (data_game['user_score'] > 0)]['user_score']\n",
    "sports = data_game[(data_game['genre'] == 'Sports') & (data_game['user_score'] > 0)]['user_score']"
   ]
  },
  {
   "cell_type": "markdown",
   "metadata": {},
   "source": [
    "Вычисляем дисперсию"
   ]
  },
  {
   "cell_type": "code",
   "execution_count": 59,
   "metadata": {},
   "outputs": [
    {
     "name": "stdout",
     "output_type": "stream",
     "text": [
      "Дисперсия action: 1.904002420947563\n",
      "Дисперсия sports: 2.8666848765432107\n"
     ]
    }
   ],
   "source": [
    "print(f'Дисперсия action: {variance(action)}')\n",
    "print(f'Дисперсия sports: {variance(sports)}')"
   ]
  },
  {
   "cell_type": "markdown",
   "metadata": {},
   "source": [
    "Так как дисперсии не равны, указываем параметр equal_var=False"
   ]
  },
  {
   "cell_type": "code",
   "execution_count": 60,
   "metadata": {},
   "outputs": [
    {
     "name": "stdout",
     "output_type": "stream",
     "text": [
      "p-значение: 6.146673984407235e-19\n",
      "Отвергаем нулевую гипотезу\n"
     ]
    }
   ],
   "source": [
    "results = st.ttest_ind(action, sports, equal_var = False)\n",
    "\n",
    "alpha = .05\n",
    "\n",
    "print('p-значение:', results.pvalue)\n",
    "\n",
    "if results.pvalue < alpha:\n",
    "    print(\"Отвергаем нулевую гипотезу\")\n",
    "else:\n",
    "    print(\"Не получилось отвергнуть нулевую гипотезу\")"
   ]
  },
  {
   "cell_type": "markdown",
   "metadata": {},
   "source": [
    "Отвергаем **нулевую гипотезу**, тем самым мы можем утверждать, что разница в среднем пользовательском рейтинге жанров <font color='green'>Action</font> и <font color='blue'>Sports</font> статистически значима."
   ]
  },
  {
   "cell_type": "markdown",
   "metadata": {},
   "source": [
    "Посмотри чей рейтинг у жанров выше"
   ]
  },
  {
   "cell_type": "code",
   "execution_count": 61,
   "metadata": {},
   "outputs": [
    {
     "name": "stdout",
     "output_type": "stream",
     "text": [
      "Средний пользовательский рейтинг жанра Action: 6.77\n",
      "Средний пользовательский рейтинг жанра Sports: 5.41\n"
     ]
    }
   ],
   "source": [
    "print(f'Средний пользовательский рейтинг жанра Action: {action.mean().round(2)}')\n",
    "print(f'Средний пользовательский рейтинг жанра Sports: {sports.mean().round(2)}')"
   ]
  },
  {
   "cell_type": "markdown",
   "metadata": {},
   "source": [
    "У жанра Action в среднем выше рейтинг, чем у Sports и различия примерно в 1.3 пункта"
   ]
  },
  {
   "cell_type": "markdown",
   "metadata": {},
   "source": [
    "*Так как мы сравнивали между собой средние двух генеральных совокупностей, которые независимы друг к другу, то выбрали критерий ttest для средних двух независимых выборок. И проверяли дисперсии наших выборок, которые оказались не равны друг другу, поэтому указали дополнительный параметр при вычислении*\n",
    "\n",
    "*Но при этом, если не указывать параметр equal_var наш ttest не допустит ошибки*"
   ]
  },
  {
   "cell_type": "markdown",
   "metadata": {},
   "source": [
    "## Вывод"
   ]
  },
  {
   "cell_type": "markdown",
   "metadata": {},
   "source": [
    "В среднем срок жизни платформы составляет 10 лет, где спустя 6 лет выходит новая платформа, и примерно в течении 4 лет происходит спад продаж по старой платформе. В 2013 году как раз вышли новые платформы  PS4, Xone, 3DS. По графикам заметна тендеция, что продажи по старым платформам идут к нулю, что вписывается в временной промежуток жизни платформ. Поэтому стоит сделать акцент на игры на платформах PS4, XOne, 3DS.\n",
    "\n",
    "При составлении портрета пользователя заметили интересный факт о региона JP. Где доминацию по платформам занимает DS и Sony, а платформы Xbox отсутвуют вовсе. Так же кардинальная разница в жанрах, на первом месте в регионе занимает rpg. При этом выбор игроков не зависит от возрастного рейтинга ESRB.\n",
    "\n",
    "В регионах EU и NA ситуация в жанрах практически одинаковая, в обоих регионах доминируют Action и Shooter, различия лишь появляются ниже 4го места. С рейтингом ESRB так же все схоже, пик продаж по рейтинг М. Отличия лишь в выборе платформ. Пользователи региона NA предпочитают Xbox платформы,а вот в регионе EU больше любят PS платформы\n",
    "\n",
    "При проверки гипотезы о том, что средний средние пользовательские рейтинги платформ Xbox One и PC одинаковые, выяснили что разница в среднем пользовательском рейтинге платформы Xbox One и PC не статистически значима. Отличаются на 0.2 пункта.\n",
    "\n",
    "Так же выяснили, что разница в среднем пользовательском рейтинге жанров Action и Sports статистически значима. И в средней рейтинг жанра Action выше, чем у Sports\n"
   ]
  }
 ],
 "metadata": {
  "ExecuteTimeLog": [
   {
    "duration": 350,
    "start_time": "2022-11-14T11:58:54.585Z"
   },
   {
    "duration": 204,
    "start_time": "2022-11-14T11:59:14.625Z"
   },
   {
    "duration": 73,
    "start_time": "2022-11-14T11:59:19.575Z"
   },
   {
    "duration": 26,
    "start_time": "2022-11-14T11:59:25.437Z"
   },
   {
    "duration": 21,
    "start_time": "2022-11-14T12:05:52.821Z"
   },
   {
    "duration": 10,
    "start_time": "2022-11-14T12:09:53.022Z"
   },
   {
    "duration": 10,
    "start_time": "2022-11-14T12:09:59.521Z"
   },
   {
    "duration": 6,
    "start_time": "2022-11-14T12:10:08.824Z"
   },
   {
    "duration": 6,
    "start_time": "2022-11-14T12:10:20.007Z"
   },
   {
    "duration": 51,
    "start_time": "2022-11-14T12:10:32.982Z"
   },
   {
    "duration": 20,
    "start_time": "2022-11-14T12:10:33.219Z"
   },
   {
    "duration": 4,
    "start_time": "2022-11-14T12:12:13.887Z"
   },
   {
    "duration": 5,
    "start_time": "2022-11-14T12:12:21.318Z"
   },
   {
    "duration": 5,
    "start_time": "2022-11-14T12:12:25.917Z"
   },
   {
    "duration": 48,
    "start_time": "2022-11-14T12:13:16.743Z"
   },
   {
    "duration": 19,
    "start_time": "2022-11-14T12:13:16.886Z"
   },
   {
    "duration": 9,
    "start_time": "2022-11-14T12:13:37.280Z"
   },
   {
    "duration": 3,
    "start_time": "2022-11-14T12:13:52.042Z"
   },
   {
    "duration": 19,
    "start_time": "2022-11-14T12:13:56.251Z"
   },
   {
    "duration": 61,
    "start_time": "2022-11-14T12:16:43.834Z"
   },
   {
    "duration": 44,
    "start_time": "2022-11-14T12:16:49.361Z"
   },
   {
    "duration": 61,
    "start_time": "2022-11-14T12:16:56.434Z"
   },
   {
    "duration": 49,
    "start_time": "2022-11-14T12:17:01.587Z"
   },
   {
    "duration": 2,
    "start_time": "2022-11-14T12:18:21.443Z"
   },
   {
    "duration": 25,
    "start_time": "2022-11-14T12:18:30.378Z"
   },
   {
    "duration": 2,
    "start_time": "2022-11-14T12:18:52.762Z"
   },
   {
    "duration": 18,
    "start_time": "2022-11-14T12:18:54.660Z"
   },
   {
    "duration": 2,
    "start_time": "2022-11-14T12:19:17.572Z"
   },
   {
    "duration": 21,
    "start_time": "2022-11-14T12:19:18.960Z"
   },
   {
    "duration": 3,
    "start_time": "2022-11-14T12:25:17.526Z"
   },
   {
    "duration": 18,
    "start_time": "2022-11-14T12:25:17.797Z"
   },
   {
    "duration": 2,
    "start_time": "2022-11-14T12:25:25.900Z"
   },
   {
    "duration": 18,
    "start_time": "2022-11-14T12:25:26.125Z"
   },
   {
    "duration": 3,
    "start_time": "2022-11-14T12:25:43.159Z"
   },
   {
    "duration": 22,
    "start_time": "2022-11-14T12:25:45.325Z"
   },
   {
    "duration": 3,
    "start_time": "2022-11-14T12:26:04.643Z"
   },
   {
    "duration": 18,
    "start_time": "2022-11-14T12:26:05.166Z"
   },
   {
    "duration": 46,
    "start_time": "2022-11-14T12:26:42.589Z"
   },
   {
    "duration": 18,
    "start_time": "2022-11-14T12:26:42.963Z"
   },
   {
    "duration": 3,
    "start_time": "2022-11-14T12:26:50.463Z"
   },
   {
    "duration": 24,
    "start_time": "2022-11-14T12:26:50.935Z"
   },
   {
    "duration": 3,
    "start_time": "2022-11-14T12:27:12.124Z"
   },
   {
    "duration": 18,
    "start_time": "2022-11-14T12:27:12.599Z"
   },
   {
    "duration": 4,
    "start_time": "2022-11-14T12:27:20.167Z"
   },
   {
    "duration": 31,
    "start_time": "2022-11-14T12:27:20.533Z"
   },
   {
    "duration": 3,
    "start_time": "2022-11-14T12:27:46.704Z"
   },
   {
    "duration": 18,
    "start_time": "2022-11-14T12:27:47.263Z"
   },
   {
    "duration": 54,
    "start_time": "2022-11-14T12:28:34.207Z"
   },
   {
    "duration": 23,
    "start_time": "2022-11-14T12:28:34.743Z"
   },
   {
    "duration": 3,
    "start_time": "2022-11-14T12:28:43.689Z"
   },
   {
    "duration": 18,
    "start_time": "2022-11-14T12:28:44.492Z"
   },
   {
    "duration": 3,
    "start_time": "2022-11-14T12:29:25.996Z"
   },
   {
    "duration": 18,
    "start_time": "2022-11-14T12:29:27.903Z"
   },
   {
    "duration": 3,
    "start_time": "2022-11-14T12:29:43.256Z"
   },
   {
    "duration": 4,
    "start_time": "2022-11-14T12:29:44.001Z"
   },
   {
    "duration": 4,
    "start_time": "2022-11-14T12:30:14.761Z"
   },
   {
    "duration": 14,
    "start_time": "2022-11-14T12:30:15.319Z"
   },
   {
    "duration": 3,
    "start_time": "2022-11-14T12:30:42.623Z"
   },
   {
    "duration": 14,
    "start_time": "2022-11-14T12:30:43.073Z"
   },
   {
    "duration": 3,
    "start_time": "2022-11-14T12:31:13.540Z"
   },
   {
    "duration": 14,
    "start_time": "2022-11-14T12:31:13.985Z"
   },
   {
    "duration": 46,
    "start_time": "2022-11-14T12:31:29.447Z"
   },
   {
    "duration": 13,
    "start_time": "2022-11-14T12:31:29.920Z"
   },
   {
    "duration": 3,
    "start_time": "2022-11-14T12:31:32.994Z"
   },
   {
    "duration": 4,
    "start_time": "2022-11-14T12:31:33.296Z"
   },
   {
    "duration": 5,
    "start_time": "2022-11-14T12:31:40.272Z"
   },
   {
    "duration": 8,
    "start_time": "2022-11-14T12:31:40.587Z"
   },
   {
    "duration": 55,
    "start_time": "2022-11-14T12:32:19.438Z"
   },
   {
    "duration": 3,
    "start_time": "2022-11-14T12:32:24.586Z"
   },
   {
    "duration": 17,
    "start_time": "2022-11-14T12:32:25.001Z"
   },
   {
    "duration": 3,
    "start_time": "2022-11-14T12:32:34.595Z"
   },
   {
    "duration": 19,
    "start_time": "2022-11-14T12:32:36.427Z"
   },
   {
    "duration": 3,
    "start_time": "2022-11-14T12:32:48.480Z"
   },
   {
    "duration": 19,
    "start_time": "2022-11-14T12:32:48.917Z"
   },
   {
    "duration": 3,
    "start_time": "2022-11-14T12:32:54.785Z"
   },
   {
    "duration": 19,
    "start_time": "2022-11-14T12:32:55.099Z"
   },
   {
    "duration": 3,
    "start_time": "2022-11-14T12:33:47.605Z"
   },
   {
    "duration": 14,
    "start_time": "2022-11-14T12:33:48.650Z"
   },
   {
    "duration": 2,
    "start_time": "2022-11-14T12:33:54.630Z"
   },
   {
    "duration": 10,
    "start_time": "2022-11-14T12:33:54.844Z"
   },
   {
    "duration": 3,
    "start_time": "2022-11-14T12:34:25.676Z"
   },
   {
    "duration": 10,
    "start_time": "2022-11-14T12:34:25.853Z"
   },
   {
    "duration": 82,
    "start_time": "2022-11-14T12:35:18.745Z"
   },
   {
    "duration": 3,
    "start_time": "2022-11-14T12:35:23.620Z"
   },
   {
    "duration": 11,
    "start_time": "2022-11-14T12:35:23.976Z"
   },
   {
    "duration": 3,
    "start_time": "2022-11-14T12:35:29.868Z"
   },
   {
    "duration": 18,
    "start_time": "2022-11-14T12:35:30.178Z"
   },
   {
    "duration": 3,
    "start_time": "2022-11-14T12:35:38.744Z"
   },
   {
    "duration": 11,
    "start_time": "2022-11-14T12:35:39.064Z"
   },
   {
    "duration": 11,
    "start_time": "2022-11-14T12:36:27.351Z"
   },
   {
    "duration": 20,
    "start_time": "2022-11-14T12:37:09.050Z"
   },
   {
    "duration": 55,
    "start_time": "2022-11-14T12:37:24.533Z"
   },
   {
    "duration": 52,
    "start_time": "2022-11-14T12:37:36.079Z"
   },
   {
    "duration": 18,
    "start_time": "2022-11-14T12:37:47.047Z"
   },
   {
    "duration": 18,
    "start_time": "2022-11-14T12:39:38.331Z"
   },
   {
    "duration": 22,
    "start_time": "2022-11-14T12:39:45.323Z"
   },
   {
    "duration": 22,
    "start_time": "2022-11-14T12:40:01.827Z"
   },
   {
    "duration": 43,
    "start_time": "2022-11-14T12:40:31.197Z"
   },
   {
    "duration": 35,
    "start_time": "2022-11-14T12:40:41.196Z"
   },
   {
    "duration": 42,
    "start_time": "2022-11-14T12:40:51.030Z"
   },
   {
    "duration": 27,
    "start_time": "2022-11-14T12:41:03.628Z"
   },
   {
    "duration": 37,
    "start_time": "2022-11-14T12:42:04.039Z"
   },
   {
    "duration": 37,
    "start_time": "2022-11-14T12:42:29.081Z"
   },
   {
    "duration": 2,
    "start_time": "2022-11-14T12:44:38.499Z"
   },
   {
    "duration": 53,
    "start_time": "2022-11-14T12:44:38.503Z"
   },
   {
    "duration": 43,
    "start_time": "2022-11-14T12:44:39.258Z"
   },
   {
    "duration": 3,
    "start_time": "2022-11-14T12:44:43.454Z"
   },
   {
    "duration": 393,
    "start_time": "2022-11-15T07:26:15.649Z"
   },
   {
    "duration": 89,
    "start_time": "2022-11-15T07:26:16.044Z"
   },
   {
    "duration": 46,
    "start_time": "2022-11-15T07:26:16.717Z"
   },
   {
    "duration": 4,
    "start_time": "2022-11-15T07:26:19.621Z"
   },
   {
    "duration": 68,
    "start_time": "2022-11-15T07:26:55.647Z"
   },
   {
    "duration": 1138,
    "start_time": "2022-11-15T07:27:14.879Z"
   },
   {
    "duration": 23,
    "start_time": "2022-11-15T07:27:23.326Z"
   },
   {
    "duration": 5,
    "start_time": "2022-11-15T07:27:28.377Z"
   },
   {
    "duration": 21,
    "start_time": "2022-11-15T07:28:36.362Z"
   },
   {
    "duration": 7,
    "start_time": "2022-11-15T07:29:10.370Z"
   },
   {
    "duration": 7,
    "start_time": "2022-11-15T07:29:26.892Z"
   },
   {
    "duration": 26,
    "start_time": "2022-11-15T07:29:47.129Z"
   },
   {
    "duration": 7,
    "start_time": "2022-11-15T07:29:59.875Z"
   },
   {
    "duration": 21,
    "start_time": "2022-11-15T07:30:01.472Z"
   },
   {
    "duration": 46,
    "start_time": "2022-11-15T07:30:30.420Z"
   },
   {
    "duration": 43,
    "start_time": "2022-11-15T07:30:30.673Z"
   },
   {
    "duration": 3,
    "start_time": "2022-11-15T07:30:32.741Z"
   },
   {
    "duration": 33,
    "start_time": "2022-11-15T07:30:35.543Z"
   },
   {
    "duration": 2,
    "start_time": "2022-11-15T07:30:37.635Z"
   },
   {
    "duration": 7,
    "start_time": "2022-11-15T07:32:48.744Z"
   },
   {
    "duration": 21,
    "start_time": "2022-11-15T07:32:49.775Z"
   },
   {
    "duration": 13,
    "start_time": "2022-11-15T07:33:02.531Z"
   },
   {
    "duration": 13,
    "start_time": "2022-11-15T07:33:05.318Z"
   },
   {
    "duration": 7,
    "start_time": "2022-11-15T07:33:16.075Z"
   },
   {
    "duration": 20,
    "start_time": "2022-11-15T07:33:16.546Z"
   },
   {
    "duration": 54,
    "start_time": "2022-11-15T07:33:23.725Z"
   },
   {
    "duration": 27,
    "start_time": "2022-11-15T07:33:24.125Z"
   },
   {
    "duration": 5,
    "start_time": "2022-11-15T07:33:36.751Z"
   },
   {
    "duration": 22,
    "start_time": "2022-11-15T07:33:37.216Z"
   },
   {
    "duration": 16,
    "start_time": "2022-11-15T07:33:47.586Z"
   },
   {
    "duration": 25,
    "start_time": "2022-11-15T07:33:48.158Z"
   },
   {
    "duration": 14,
    "start_time": "2022-11-15T07:33:53.400Z"
   },
   {
    "duration": 11,
    "start_time": "2022-11-15T07:36:05.961Z"
   },
   {
    "duration": 33,
    "start_time": "2022-11-15T07:36:07.227Z"
   },
   {
    "duration": 16,
    "start_time": "2022-11-15T07:36:09.924Z"
   },
   {
    "duration": 45,
    "start_time": "2022-11-15T07:36:52.775Z"
   },
   {
    "duration": 43,
    "start_time": "2022-11-15T07:36:52.932Z"
   },
   {
    "duration": 4,
    "start_time": "2022-11-15T07:36:54.721Z"
   },
   {
    "duration": 6,
    "start_time": "2022-11-15T07:36:55.084Z"
   },
   {
    "duration": 18,
    "start_time": "2022-11-15T07:36:55.131Z"
   },
   {
    "duration": 21,
    "start_time": "2022-11-15T07:36:56.518Z"
   },
   {
    "duration": 15,
    "start_time": "2022-11-15T07:36:57.971Z"
   },
   {
    "duration": 47,
    "start_time": "2022-11-15T07:37:02.579Z"
   },
   {
    "duration": 44,
    "start_time": "2022-11-15T07:37:02.778Z"
   },
   {
    "duration": 3,
    "start_time": "2022-11-15T07:37:04.540Z"
   },
   {
    "duration": 6,
    "start_time": "2022-11-15T07:37:05.502Z"
   },
   {
    "duration": 21,
    "start_time": "2022-11-15T07:37:07.259Z"
   },
   {
    "duration": 16,
    "start_time": "2022-11-15T07:37:10.065Z"
   },
   {
    "duration": 11,
    "start_time": "2022-11-15T07:37:17.567Z"
   },
   {
    "duration": 23,
    "start_time": "2022-11-15T07:37:22.551Z"
   },
   {
    "duration": 43,
    "start_time": "2022-11-15T07:37:27.028Z"
   },
   {
    "duration": 42,
    "start_time": "2022-11-15T07:37:27.074Z"
   },
   {
    "duration": 3,
    "start_time": "2022-11-15T07:37:28.783Z"
   },
   {
    "duration": 6,
    "start_time": "2022-11-15T07:37:30.050Z"
   },
   {
    "duration": 21,
    "start_time": "2022-11-15T07:37:31.526Z"
   },
   {
    "duration": 14,
    "start_time": "2022-11-15T07:37:33.632Z"
   },
   {
    "duration": 17,
    "start_time": "2022-11-15T07:37:36.223Z"
   },
   {
    "duration": 41,
    "start_time": "2022-11-15T07:37:39.393Z"
   },
   {
    "duration": 3,
    "start_time": "2022-11-15T07:37:39.940Z"
   },
   {
    "duration": 7,
    "start_time": "2022-11-15T07:37:41.056Z"
   },
   {
    "duration": 15,
    "start_time": "2022-11-15T07:37:44.668Z"
   },
   {
    "duration": 21,
    "start_time": "2022-11-15T07:37:45.233Z"
   },
   {
    "duration": 23,
    "start_time": "2022-11-15T07:37:46.645Z"
   },
   {
    "duration": 43,
    "start_time": "2022-11-15T07:39:13.900Z"
   },
   {
    "duration": 60,
    "start_time": "2022-11-15T07:39:14.051Z"
   },
   {
    "duration": 3,
    "start_time": "2022-11-15T07:39:15.497Z"
   },
   {
    "duration": 18,
    "start_time": "2022-11-15T07:39:30.681Z"
   },
   {
    "duration": 29,
    "start_time": "2022-11-15T07:39:32.961Z"
   },
   {
    "duration": 28,
    "start_time": "2022-11-15T07:39:35.129Z"
   },
   {
    "duration": 860,
    "start_time": "2022-11-15T07:39:41.883Z"
   },
   {
    "duration": 591,
    "start_time": "2022-11-15T07:39:52.252Z"
   },
   {
    "duration": 9,
    "start_time": "2022-11-15T07:40:01.003Z"
   },
   {
    "duration": 22,
    "start_time": "2022-11-15T07:40:02.351Z"
   },
   {
    "duration": 45,
    "start_time": "2022-11-15T07:40:08.584Z"
   },
   {
    "duration": 42,
    "start_time": "2022-11-15T07:40:08.753Z"
   },
   {
    "duration": 3,
    "start_time": "2022-11-15T07:40:10.417Z"
   },
   {
    "duration": 14,
    "start_time": "2022-11-15T07:40:15.117Z"
   },
   {
    "duration": 44,
    "start_time": "2022-11-15T07:41:57.161Z"
   },
   {
    "duration": 38,
    "start_time": "2022-11-15T07:41:57.330Z"
   },
   {
    "duration": 4,
    "start_time": "2022-11-15T07:41:59.151Z"
   },
   {
    "duration": 5,
    "start_time": "2022-11-15T07:42:06.472Z"
   },
   {
    "duration": 19,
    "start_time": "2022-11-15T07:42:09.022Z"
   },
   {
    "duration": 19,
    "start_time": "2022-11-15T07:42:19.041Z"
   },
   {
    "duration": 23,
    "start_time": "2022-11-15T07:42:19.432Z"
   },
   {
    "duration": 15,
    "start_time": "2022-11-15T07:42:23.057Z"
   },
   {
    "duration": 22,
    "start_time": "2022-11-15T07:42:37.028Z"
   },
   {
    "duration": 13,
    "start_time": "2022-11-15T07:42:46.021Z"
   },
   {
    "duration": 27,
    "start_time": "2022-11-15T07:42:48.285Z"
   },
   {
    "duration": 6,
    "start_time": "2022-11-15T07:43:36.831Z"
   },
   {
    "duration": 24,
    "start_time": "2022-11-15T07:43:42.779Z"
   },
   {
    "duration": 9,
    "start_time": "2022-11-15T07:43:52.534Z"
   },
   {
    "duration": 30,
    "start_time": "2022-11-15T07:45:11.593Z"
   },
   {
    "duration": 23,
    "start_time": "2022-11-15T07:45:12.453Z"
   },
   {
    "duration": 9,
    "start_time": "2022-11-15T07:45:14.456Z"
   },
   {
    "duration": 9,
    "start_time": "2022-11-15T07:45:37.316Z"
   },
   {
    "duration": 23,
    "start_time": "2022-11-15T07:45:38.381Z"
   },
   {
    "duration": 9,
    "start_time": "2022-11-15T07:45:39.492Z"
   },
   {
    "duration": 9,
    "start_time": "2022-11-15T07:46:27.164Z"
   },
   {
    "duration": 23,
    "start_time": "2022-11-15T07:46:27.606Z"
   },
   {
    "duration": 9,
    "start_time": "2022-11-15T07:46:28.053Z"
   },
   {
    "duration": 10,
    "start_time": "2022-11-15T07:46:57.228Z"
   },
   {
    "duration": 25,
    "start_time": "2022-11-15T07:46:58.297Z"
   },
   {
    "duration": 9,
    "start_time": "2022-11-15T07:46:59.819Z"
   },
   {
    "duration": 9,
    "start_time": "2022-11-15T07:47:19.338Z"
   },
   {
    "duration": 23,
    "start_time": "2022-11-15T07:47:19.782Z"
   },
   {
    "duration": 44,
    "start_time": "2022-11-15T07:47:22.858Z"
   },
   {
    "duration": 45,
    "start_time": "2022-11-15T07:47:23.236Z"
   },
   {
    "duration": 3,
    "start_time": "2022-11-15T07:47:25.716Z"
   },
   {
    "duration": 10,
    "start_time": "2022-11-15T07:47:26.032Z"
   },
   {
    "duration": 21,
    "start_time": "2022-11-15T07:47:26.783Z"
   },
   {
    "duration": 23,
    "start_time": "2022-11-15T07:49:35.955Z"
   },
   {
    "duration": 8,
    "start_time": "2022-11-15T07:49:36.520Z"
   },
   {
    "duration": 14,
    "start_time": "2022-11-15T07:50:02.728Z"
   },
   {
    "duration": 8,
    "start_time": "2022-11-15T07:50:27.372Z"
   },
   {
    "duration": 1315,
    "start_time": "2022-11-15T07:50:42.433Z"
   },
   {
    "duration": 4,
    "start_time": "2022-11-15T07:50:58.419Z"
   },
   {
    "duration": 13,
    "start_time": "2022-11-15T07:50:59.800Z"
   },
   {
    "duration": 2,
    "start_time": "2022-11-15T07:52:29.826Z"
   },
   {
    "duration": 47,
    "start_time": "2022-11-15T07:52:29.996Z"
   },
   {
    "duration": 42,
    "start_time": "2022-11-15T07:52:30.250Z"
   },
   {
    "duration": 4,
    "start_time": "2022-11-15T07:52:42.597Z"
   },
   {
    "duration": 21,
    "start_time": "2022-11-15T07:52:42.899Z"
   },
   {
    "duration": 11,
    "start_time": "2022-11-15T07:52:46.991Z"
   },
   {
    "duration": 11,
    "start_time": "2022-11-15T07:52:53.730Z"
   },
   {
    "duration": 12,
    "start_time": "2022-11-15T07:54:20.300Z"
   },
   {
    "duration": 10,
    "start_time": "2022-11-15T07:54:41.291Z"
   },
   {
    "duration": 10,
    "start_time": "2022-11-15T07:54:51.259Z"
   },
   {
    "duration": 22,
    "start_time": "2022-11-15T07:54:53.118Z"
   },
   {
    "duration": 7,
    "start_time": "2022-11-15T07:55:14.398Z"
   },
   {
    "duration": 21,
    "start_time": "2022-11-15T07:55:16.200Z"
   },
   {
    "duration": 11,
    "start_time": "2022-11-15T07:55:18.676Z"
   },
   {
    "duration": 15,
    "start_time": "2022-11-15T07:56:04.153Z"
   },
   {
    "duration": 15,
    "start_time": "2022-11-15T07:57:27.770Z"
   },
   {
    "duration": 4,
    "start_time": "2022-11-15T07:58:14.758Z"
   },
   {
    "duration": 22,
    "start_time": "2022-11-15T07:58:18.110Z"
   },
   {
    "duration": 11,
    "start_time": "2022-11-15T07:58:20.020Z"
   },
   {
    "duration": 12,
    "start_time": "2022-11-15T07:58:31.001Z"
   },
   {
    "duration": 9,
    "start_time": "2022-11-15T07:59:28.088Z"
   },
   {
    "duration": 20,
    "start_time": "2022-11-15T07:59:36.381Z"
   },
   {
    "duration": 21,
    "start_time": "2022-11-15T07:59:38.230Z"
   },
   {
    "duration": 10,
    "start_time": "2022-11-15T07:59:40.469Z"
   },
   {
    "duration": 46,
    "start_time": "2022-11-15T07:59:46.493Z"
   },
   {
    "duration": 42,
    "start_time": "2022-11-15T07:59:46.825Z"
   },
   {
    "duration": 4,
    "start_time": "2022-11-15T07:59:49.170Z"
   },
   {
    "duration": 13,
    "start_time": "2022-11-15T07:59:49.496Z"
   },
   {
    "duration": 19,
    "start_time": "2022-11-15T07:59:55.277Z"
   },
   {
    "duration": 46,
    "start_time": "2022-11-15T08:01:32.251Z"
   },
   {
    "duration": 53,
    "start_time": "2022-11-15T08:01:32.435Z"
   },
   {
    "duration": 3,
    "start_time": "2022-11-15T08:01:34.415Z"
   },
   {
    "duration": 15,
    "start_time": "2022-11-15T08:01:34.640Z"
   },
   {
    "duration": 89,
    "start_time": "2022-11-15T08:01:51.135Z"
   },
   {
    "duration": 10,
    "start_time": "2022-11-15T08:02:05.840Z"
   },
   {
    "duration": 20,
    "start_time": "2022-11-15T08:02:06.967Z"
   },
   {
    "duration": 9,
    "start_time": "2022-11-15T08:02:08.212Z"
   },
   {
    "duration": 9,
    "start_time": "2022-11-15T08:03:00.851Z"
   },
   {
    "duration": 7,
    "start_time": "2022-11-15T08:03:19.151Z"
   },
   {
    "duration": 20,
    "start_time": "2022-11-15T08:03:21.128Z"
   },
   {
    "duration": 8,
    "start_time": "2022-11-15T08:03:25.392Z"
   },
   {
    "duration": 14,
    "start_time": "2022-11-15T08:03:31.069Z"
   },
   {
    "duration": 6,
    "start_time": "2022-11-15T08:03:41.328Z"
   },
   {
    "duration": 19,
    "start_time": "2022-11-15T08:03:42.465Z"
   },
   {
    "duration": 14,
    "start_time": "2022-11-15T08:03:44.195Z"
   },
   {
    "duration": 15,
    "start_time": "2022-11-15T08:03:44.336Z"
   },
   {
    "duration": 12,
    "start_time": "2022-11-15T08:05:13.932Z"
   },
   {
    "duration": 316,
    "start_time": "2022-11-15T08:05:22.125Z"
   },
   {
    "duration": 4,
    "start_time": "2022-11-15T08:05:35.146Z"
   },
   {
    "duration": 7,
    "start_time": "2022-11-15T08:05:55.719Z"
   },
   {
    "duration": 5,
    "start_time": "2022-11-15T08:06:02.195Z"
   },
   {
    "duration": 9,
    "start_time": "2022-11-15T08:06:03.899Z"
   },
   {
    "duration": 13,
    "start_time": "2022-11-15T08:06:06.467Z"
   },
   {
    "duration": 11,
    "start_time": "2022-11-15T08:06:22.720Z"
   },
   {
    "duration": 4,
    "start_time": "2022-11-15T08:08:19.340Z"
   },
   {
    "duration": 6,
    "start_time": "2022-11-15T08:08:22.664Z"
   },
   {
    "duration": 5,
    "start_time": "2022-11-15T08:24:30.928Z"
   },
   {
    "duration": 6,
    "start_time": "2022-11-15T08:24:45.356Z"
   },
   {
    "duration": 3,
    "start_time": "2022-11-15T09:34:34.299Z"
   },
   {
    "duration": 48,
    "start_time": "2022-11-15T09:34:34.911Z"
   },
   {
    "duration": 44,
    "start_time": "2022-11-15T09:34:35.473Z"
   },
   {
    "duration": 3,
    "start_time": "2022-11-15T09:34:37.698Z"
   },
   {
    "duration": 15,
    "start_time": "2022-11-15T09:34:38.169Z"
   },
   {
    "duration": 10,
    "start_time": "2022-11-15T09:34:46.739Z"
   },
   {
    "duration": 7,
    "start_time": "2022-11-15T09:37:07.839Z"
   },
   {
    "duration": 5,
    "start_time": "2022-11-15T09:37:22.828Z"
   },
   {
    "duration": 5,
    "start_time": "2022-11-15T09:37:33.410Z"
   },
   {
    "duration": 10,
    "start_time": "2022-11-15T09:38:03.545Z"
   },
   {
    "duration": 5,
    "start_time": "2022-11-15T09:38:06.045Z"
   },
   {
    "duration": 4,
    "start_time": "2022-11-15T09:38:09.235Z"
   },
   {
    "duration": 5,
    "start_time": "2022-11-15T09:38:20.560Z"
   },
   {
    "duration": 47,
    "start_time": "2022-11-15T09:38:53.931Z"
   },
   {
    "duration": 53,
    "start_time": "2022-11-15T09:38:54.088Z"
   },
   {
    "duration": 3,
    "start_time": "2022-11-15T09:38:56.360Z"
   },
   {
    "duration": 9,
    "start_time": "2022-11-15T09:38:58.315Z"
   },
   {
    "duration": 10,
    "start_time": "2022-11-15T09:38:58.746Z"
   },
   {
    "duration": 6,
    "start_time": "2022-11-15T09:39:01.814Z"
   },
   {
    "duration": 6,
    "start_time": "2022-11-15T09:39:06.763Z"
   },
   {
    "duration": 318,
    "start_time": "2022-11-15T09:39:22.533Z"
   },
   {
    "duration": 6,
    "start_time": "2022-11-15T09:39:33.298Z"
   },
   {
    "duration": 14,
    "start_time": "2022-11-15T09:39:39.113Z"
   },
   {
    "duration": 48,
    "start_time": "2022-11-15T09:41:31.680Z"
   },
   {
    "duration": 45,
    "start_time": "2022-11-15T09:41:31.838Z"
   },
   {
    "duration": 3,
    "start_time": "2022-11-15T09:41:33.750Z"
   },
   {
    "duration": 15,
    "start_time": "2022-11-15T09:41:34.110Z"
   },
   {
    "duration": 10,
    "start_time": "2022-11-15T09:41:37.773Z"
   },
   {
    "duration": 11,
    "start_time": "2022-11-15T09:41:38.645Z"
   },
   {
    "duration": 8,
    "start_time": "2022-11-15T09:41:39.322Z"
   },
   {
    "duration": 7,
    "start_time": "2022-11-15T09:41:40.665Z"
   },
   {
    "duration": 6,
    "start_time": "2022-11-15T09:41:41.357Z"
   },
   {
    "duration": 10,
    "start_time": "2022-11-15T09:41:41.887Z"
   },
   {
    "duration": 19,
    "start_time": "2022-11-15T09:41:44.261Z"
   },
   {
    "duration": 23,
    "start_time": "2022-11-15T09:43:47.152Z"
   },
   {
    "duration": 50,
    "start_time": "2022-11-15T09:43:53.425Z"
   },
   {
    "duration": 42,
    "start_time": "2022-11-15T09:43:53.668Z"
   },
   {
    "duration": 4,
    "start_time": "2022-11-15T09:43:56.612Z"
   },
   {
    "duration": 8,
    "start_time": "2022-11-15T09:43:59.551Z"
   },
   {
    "duration": 10,
    "start_time": "2022-11-15T09:43:59.971Z"
   },
   {
    "duration": 27,
    "start_time": "2022-11-15T09:44:00.460Z"
   },
   {
    "duration": 9,
    "start_time": "2022-11-15T09:44:06.272Z"
   },
   {
    "duration": 14,
    "start_time": "2022-11-15T09:44:07.893Z"
   },
   {
    "duration": 23,
    "start_time": "2022-11-15T09:44:43.880Z"
   },
   {
    "duration": 14,
    "start_time": "2022-11-15T09:44:46.570Z"
   },
   {
    "duration": 7,
    "start_time": "2022-11-15T09:46:42.529Z"
   },
   {
    "duration": 48,
    "start_time": "2022-11-15T09:46:46.081Z"
   },
   {
    "duration": 42,
    "start_time": "2022-11-15T09:46:46.353Z"
   },
   {
    "duration": 3,
    "start_time": "2022-11-15T09:46:48.227Z"
   },
   {
    "duration": 8,
    "start_time": "2022-11-15T09:46:50.008Z"
   },
   {
    "duration": 7,
    "start_time": "2022-11-15T09:46:50.368Z"
   },
   {
    "duration": 13,
    "start_time": "2022-11-15T09:46:50.787Z"
   },
   {
    "duration": 12,
    "start_time": "2022-11-15T09:46:54.102Z"
   },
   {
    "duration": 14,
    "start_time": "2022-11-15T09:47:00.047Z"
   },
   {
    "duration": 11,
    "start_time": "2022-11-15T09:47:13.660Z"
   },
   {
    "duration": 26,
    "start_time": "2022-11-15T09:50:07.816Z"
   },
   {
    "duration": 14,
    "start_time": "2022-11-15T09:50:12.655Z"
   },
   {
    "duration": 27,
    "start_time": "2022-11-15T09:50:34.538Z"
   },
   {
    "duration": 16,
    "start_time": "2022-11-15T09:50:37.305Z"
   },
   {
    "duration": 9,
    "start_time": "2022-11-15T09:50:47.147Z"
   },
   {
    "duration": 14,
    "start_time": "2022-11-15T09:50:49.925Z"
   },
   {
    "duration": 8,
    "start_time": "2022-11-15T09:51:02.353Z"
   },
   {
    "duration": 6,
    "start_time": "2022-11-15T09:51:19.497Z"
   },
   {
    "duration": 6,
    "start_time": "2022-11-15T09:51:24.025Z"
   },
   {
    "duration": 10,
    "start_time": "2022-11-15T09:52:28.545Z"
   },
   {
    "duration": 8,
    "start_time": "2022-11-15T09:52:29.634Z"
   },
   {
    "duration": 7,
    "start_time": "2022-11-15T09:52:30.024Z"
   },
   {
    "duration": 10,
    "start_time": "2022-11-15T09:52:31.938Z"
   },
   {
    "duration": 13,
    "start_time": "2022-11-15T09:52:40.908Z"
   },
   {
    "duration": 36,
    "start_time": "2022-11-15T09:53:25.451Z"
   },
   {
    "duration": 14,
    "start_time": "2022-11-15T09:58:13.475Z"
   },
   {
    "duration": 28,
    "start_time": "2022-11-15T09:58:20.556Z"
   },
   {
    "duration": 2,
    "start_time": "2022-11-15T10:01:37.681Z"
   },
   {
    "duration": 385,
    "start_time": "2022-11-16T05:51:01.442Z"
   },
   {
    "duration": 222,
    "start_time": "2022-11-16T05:51:02.263Z"
   },
   {
    "duration": 46,
    "start_time": "2022-11-16T05:51:02.823Z"
   },
   {
    "duration": 3,
    "start_time": "2022-11-16T05:51:05.716Z"
   },
   {
    "duration": 10,
    "start_time": "2022-11-16T05:51:06.166Z"
   },
   {
    "duration": 13,
    "start_time": "2022-11-16T05:51:06.892Z"
   },
   {
    "duration": 9,
    "start_time": "2022-11-16T05:51:07.936Z"
   },
   {
    "duration": 19,
    "start_time": "2022-11-16T05:51:34.928Z"
   },
   {
    "duration": 25,
    "start_time": "2022-11-16T05:52:25.562Z"
   },
   {
    "duration": 64,
    "start_time": "2022-11-16T05:52:51.743Z"
   },
   {
    "duration": 5,
    "start_time": "2022-11-16T05:52:58.145Z"
   },
   {
    "duration": 6,
    "start_time": "2022-11-16T05:54:49.903Z"
   },
   {
    "duration": 5,
    "start_time": "2022-11-16T05:56:09.842Z"
   },
   {
    "duration": 22,
    "start_time": "2022-11-16T05:56:11.096Z"
   },
   {
    "duration": 7,
    "start_time": "2022-11-16T05:57:08.491Z"
   },
   {
    "duration": 6,
    "start_time": "2022-11-16T05:59:01.767Z"
   },
   {
    "duration": 6,
    "start_time": "2022-11-16T06:00:51.246Z"
   },
   {
    "duration": 15,
    "start_time": "2022-11-16T06:00:58.265Z"
   },
   {
    "duration": 14,
    "start_time": "2022-11-16T06:01:17.017Z"
   },
   {
    "duration": 13,
    "start_time": "2022-11-16T06:01:28.103Z"
   },
   {
    "duration": 7,
    "start_time": "2022-11-16T06:02:01.434Z"
   },
   {
    "duration": 21,
    "start_time": "2022-11-16T06:02:10.075Z"
   },
   {
    "duration": 23,
    "start_time": "2022-11-16T06:02:37.206Z"
   },
   {
    "duration": 51,
    "start_time": "2022-11-16T06:03:04.574Z"
   },
   {
    "duration": 856,
    "start_time": "2022-11-16T06:03:10.068Z"
   },
   {
    "duration": 10,
    "start_time": "2022-11-16T06:03:16.098Z"
   },
   {
    "duration": 3,
    "start_time": "2022-11-16T06:03:57.562Z"
   },
   {
    "duration": 12,
    "start_time": "2022-11-16T06:03:59.268Z"
   },
   {
    "duration": 1010,
    "start_time": "2022-11-16T06:04:02.751Z"
   },
   {
    "duration": 22,
    "start_time": "2022-11-16T06:04:05.870Z"
   },
   {
    "duration": 64,
    "start_time": "2022-11-16T06:05:13.944Z"
   },
   {
    "duration": 4,
    "start_time": "2022-11-16T06:05:16.607Z"
   },
   {
    "duration": 9,
    "start_time": "2022-11-16T06:05:20.141Z"
   },
   {
    "duration": 10,
    "start_time": "2022-11-16T06:05:53.658Z"
   },
   {
    "duration": 24,
    "start_time": "2022-11-16T06:05:57.041Z"
   },
   {
    "duration": 53,
    "start_time": "2022-11-16T06:06:40.896Z"
   },
   {
    "duration": 4,
    "start_time": "2022-11-16T06:06:44.665Z"
   },
   {
    "duration": 9,
    "start_time": "2022-11-16T06:06:47.797Z"
   },
   {
    "duration": 8,
    "start_time": "2022-11-16T06:06:58.822Z"
   },
   {
    "duration": 38,
    "start_time": "2022-11-16T06:07:01.916Z"
   },
   {
    "duration": 22,
    "start_time": "2022-11-16T06:07:07.842Z"
   },
   {
    "duration": 52,
    "start_time": "2022-11-16T06:07:24.861Z"
   },
   {
    "duration": 38,
    "start_time": "2022-11-16T06:07:25.163Z"
   },
   {
    "duration": 4,
    "start_time": "2022-11-16T06:07:28.041Z"
   },
   {
    "duration": 9,
    "start_time": "2022-11-16T06:07:28.400Z"
   },
   {
    "duration": 14,
    "start_time": "2022-11-16T06:07:30.387Z"
   },
   {
    "duration": 41,
    "start_time": "2022-11-16T06:07:30.691Z"
   },
   {
    "duration": 10,
    "start_time": "2022-11-16T06:07:35.552Z"
   },
   {
    "duration": 689,
    "start_time": "2022-11-16T06:07:38.650Z"
   },
   {
    "duration": 6,
    "start_time": "2022-11-16T06:07:41.583Z"
   },
   {
    "duration": 24,
    "start_time": "2022-11-16T06:07:43.659Z"
   },
   {
    "duration": 23,
    "start_time": "2022-11-16T06:07:51.864Z"
   },
   {
    "duration": 10,
    "start_time": "2022-11-16T06:07:55.779Z"
   },
   {
    "duration": 8,
    "start_time": "2022-11-16T06:08:11.676Z"
   },
   {
    "duration": 14,
    "start_time": "2022-11-16T06:08:18.861Z"
   },
   {
    "duration": 43,
    "start_time": "2022-11-16T06:08:37.621Z"
   },
   {
    "duration": 26,
    "start_time": "2022-11-16T06:08:51.702Z"
   },
   {
    "duration": 5,
    "start_time": "2022-11-16T06:09:04.777Z"
   },
   {
    "duration": 21,
    "start_time": "2022-11-16T06:09:12.374Z"
   },
   {
    "duration": 22,
    "start_time": "2022-11-16T06:09:14.498Z"
   },
   {
    "duration": 8,
    "start_time": "2022-11-16T06:09:31.332Z"
   },
   {
    "duration": 10,
    "start_time": "2022-11-16T06:09:39.588Z"
   },
   {
    "duration": 7,
    "start_time": "2022-11-16T06:10:23.946Z"
   },
   {
    "duration": 14,
    "start_time": "2022-11-16T06:10:51.064Z"
   },
   {
    "duration": 4,
    "start_time": "2022-11-16T06:11:21.328Z"
   },
   {
    "duration": 8,
    "start_time": "2022-11-16T06:11:42.308Z"
   },
   {
    "duration": 9,
    "start_time": "2022-11-16T06:11:45.022Z"
   },
   {
    "duration": 41,
    "start_time": "2022-11-16T06:11:49.489Z"
   },
   {
    "duration": 422,
    "start_time": "2022-11-16T06:12:01.404Z"
   },
   {
    "duration": 57,
    "start_time": "2022-11-16T06:12:01.828Z"
   },
   {
    "duration": 46,
    "start_time": "2022-11-16T06:12:01.887Z"
   },
   {
    "duration": 9,
    "start_time": "2022-11-16T06:12:01.935Z"
   },
   {
    "duration": 30,
    "start_time": "2022-11-16T06:12:01.946Z"
   },
   {
    "duration": 19,
    "start_time": "2022-11-16T06:12:01.977Z"
   },
   {
    "duration": 111,
    "start_time": "2022-11-16T06:12:01.998Z"
   },
   {
    "duration": 0,
    "start_time": "2022-11-16T06:12:02.111Z"
   },
   {
    "duration": 0,
    "start_time": "2022-11-16T06:12:02.112Z"
   },
   {
    "duration": 0,
    "start_time": "2022-11-16T06:12:02.113Z"
   },
   {
    "duration": 0,
    "start_time": "2022-11-16T06:12:02.114Z"
   },
   {
    "duration": 9,
    "start_time": "2022-11-16T06:12:40.752Z"
   },
   {
    "duration": 37,
    "start_time": "2022-11-16T06:13:08.463Z"
   },
   {
    "duration": 410,
    "start_time": "2022-11-16T06:13:39.583Z"
   },
   {
    "duration": 53,
    "start_time": "2022-11-16T06:13:39.995Z"
   },
   {
    "duration": 48,
    "start_time": "2022-11-16T06:13:40.049Z"
   },
   {
    "duration": 3,
    "start_time": "2022-11-16T06:13:40.099Z"
   },
   {
    "duration": 19,
    "start_time": "2022-11-16T06:13:40.104Z"
   },
   {
    "duration": 5,
    "start_time": "2022-11-16T06:13:40.125Z"
   },
   {
    "duration": 24,
    "start_time": "2022-11-16T06:13:40.131Z"
   },
   {
    "duration": 106,
    "start_time": "2022-11-16T06:13:40.156Z"
   },
   {
    "duration": 0,
    "start_time": "2022-11-16T06:13:40.264Z"
   },
   {
    "duration": 0,
    "start_time": "2022-11-16T06:13:40.266Z"
   },
   {
    "duration": 0,
    "start_time": "2022-11-16T06:13:40.267Z"
   },
   {
    "duration": 0,
    "start_time": "2022-11-16T06:13:40.269Z"
   },
   {
    "duration": 38,
    "start_time": "2022-11-16T06:13:48.249Z"
   },
   {
    "duration": 8,
    "start_time": "2022-11-16T06:14:31.693Z"
   },
   {
    "duration": 10,
    "start_time": "2022-11-16T06:14:33.343Z"
   },
   {
    "duration": 9,
    "start_time": "2022-11-16T06:14:33.888Z"
   },
   {
    "duration": 36,
    "start_time": "2022-11-16T06:14:36.820Z"
   },
   {
    "duration": 410,
    "start_time": "2022-11-16T06:14:50.024Z"
   },
   {
    "duration": 55,
    "start_time": "2022-11-16T06:14:50.436Z"
   },
   {
    "duration": 48,
    "start_time": "2022-11-16T06:14:50.492Z"
   },
   {
    "duration": 3,
    "start_time": "2022-11-16T06:14:50.542Z"
   },
   {
    "duration": 12,
    "start_time": "2022-11-16T06:14:50.547Z"
   },
   {
    "duration": 15,
    "start_time": "2022-11-16T06:14:50.560Z"
   },
   {
    "duration": 10,
    "start_time": "2022-11-16T06:14:50.576Z"
   },
   {
    "duration": 9,
    "start_time": "2022-11-16T06:14:50.588Z"
   },
   {
    "duration": 49,
    "start_time": "2022-11-16T06:14:50.599Z"
   },
   {
    "duration": 5,
    "start_time": "2022-11-16T06:14:50.650Z"
   },
   {
    "duration": 30,
    "start_time": "2022-11-16T06:14:50.656Z"
   },
   {
    "duration": 45,
    "start_time": "2022-11-16T06:14:50.687Z"
   },
   {
    "duration": 378,
    "start_time": "2022-11-16T06:15:20.649Z"
   },
   {
    "duration": 54,
    "start_time": "2022-11-16T06:15:21.032Z"
   },
   {
    "duration": 63,
    "start_time": "2022-11-16T06:15:21.089Z"
   },
   {
    "duration": 4,
    "start_time": "2022-11-16T06:15:21.154Z"
   },
   {
    "duration": 14,
    "start_time": "2022-11-16T06:15:21.159Z"
   },
   {
    "duration": 6,
    "start_time": "2022-11-16T06:15:21.175Z"
   },
   {
    "duration": 10,
    "start_time": "2022-11-16T06:15:21.183Z"
   },
   {
    "duration": 11,
    "start_time": "2022-11-16T06:15:21.217Z"
   },
   {
    "duration": 37,
    "start_time": "2022-11-16T06:15:21.231Z"
   },
   {
    "duration": 4,
    "start_time": "2022-11-16T06:15:21.270Z"
   },
   {
    "duration": 53,
    "start_time": "2022-11-16T06:15:21.276Z"
   },
   {
    "duration": 23,
    "start_time": "2022-11-16T06:15:21.331Z"
   },
   {
    "duration": 13,
    "start_time": "2022-11-16T06:15:36.564Z"
   },
   {
    "duration": 373,
    "start_time": "2022-11-16T06:15:43.554Z"
   },
   {
    "duration": 57,
    "start_time": "2022-11-16T06:15:43.929Z"
   },
   {
    "duration": 66,
    "start_time": "2022-11-16T06:15:43.988Z"
   },
   {
    "duration": 4,
    "start_time": "2022-11-16T06:15:44.057Z"
   },
   {
    "duration": 17,
    "start_time": "2022-11-16T06:15:44.063Z"
   },
   {
    "duration": 33,
    "start_time": "2022-11-16T06:15:44.082Z"
   },
   {
    "duration": 10,
    "start_time": "2022-11-16T06:15:44.117Z"
   },
   {
    "duration": 125,
    "start_time": "2022-11-16T06:15:44.129Z"
   },
   {
    "duration": 0,
    "start_time": "2022-11-16T06:15:44.256Z"
   },
   {
    "duration": 0,
    "start_time": "2022-11-16T06:15:44.259Z"
   },
   {
    "duration": 0,
    "start_time": "2022-11-16T06:15:44.260Z"
   },
   {
    "duration": 0,
    "start_time": "2022-11-16T06:15:44.261Z"
   },
   {
    "duration": 15,
    "start_time": "2022-11-16T06:16:35.222Z"
   },
   {
    "duration": 13,
    "start_time": "2022-11-16T06:16:37.476Z"
   },
   {
    "duration": 200,
    "start_time": "2022-11-16T06:16:39.572Z"
   },
   {
    "duration": 384,
    "start_time": "2022-11-16T06:16:58.438Z"
   },
   {
    "duration": 52,
    "start_time": "2022-11-16T06:16:58.825Z"
   },
   {
    "duration": 47,
    "start_time": "2022-11-16T06:16:58.879Z"
   },
   {
    "duration": 3,
    "start_time": "2022-11-16T06:16:58.927Z"
   },
   {
    "duration": 10,
    "start_time": "2022-11-16T06:16:58.932Z"
   },
   {
    "duration": 13,
    "start_time": "2022-11-16T06:16:58.943Z"
   },
   {
    "duration": 13,
    "start_time": "2022-11-16T06:16:58.957Z"
   },
   {
    "duration": 303,
    "start_time": "2022-11-16T06:16:58.971Z"
   },
   {
    "duration": 0,
    "start_time": "2022-11-16T06:16:59.276Z"
   },
   {
    "duration": 0,
    "start_time": "2022-11-16T06:16:59.277Z"
   },
   {
    "duration": 0,
    "start_time": "2022-11-16T06:16:59.278Z"
   },
   {
    "duration": 0,
    "start_time": "2022-11-16T06:16:59.279Z"
   },
   {
    "duration": 10,
    "start_time": "2022-11-16T06:17:06.693Z"
   },
   {
    "duration": 13,
    "start_time": "2022-11-16T06:17:07.563Z"
   },
   {
    "duration": 202,
    "start_time": "2022-11-16T06:17:10.297Z"
   },
   {
    "duration": 9,
    "start_time": "2022-11-16T06:17:15.901Z"
   },
   {
    "duration": 14,
    "start_time": "2022-11-16T06:17:17.089Z"
   },
   {
    "duration": 218,
    "start_time": "2022-11-16T06:17:18.204Z"
   },
   {
    "duration": 423,
    "start_time": "2022-11-16T06:17:24.696Z"
   },
   {
    "duration": 55,
    "start_time": "2022-11-16T06:17:25.124Z"
   },
   {
    "duration": 53,
    "start_time": "2022-11-16T06:17:25.180Z"
   },
   {
    "duration": 3,
    "start_time": "2022-11-16T06:17:25.235Z"
   },
   {
    "duration": 18,
    "start_time": "2022-11-16T06:17:25.239Z"
   },
   {
    "duration": 12,
    "start_time": "2022-11-16T06:17:25.258Z"
   },
   {
    "duration": 14,
    "start_time": "2022-11-16T06:17:25.272Z"
   },
   {
    "duration": 73,
    "start_time": "2022-11-16T06:17:25.288Z"
   },
   {
    "duration": 0,
    "start_time": "2022-11-16T06:17:25.364Z"
   },
   {
    "duration": 0,
    "start_time": "2022-11-16T06:17:25.365Z"
   },
   {
    "duration": 0,
    "start_time": "2022-11-16T06:17:25.366Z"
   },
   {
    "duration": 0,
    "start_time": "2022-11-16T06:17:25.367Z"
   },
   {
    "duration": 3,
    "start_time": "2022-11-16T06:22:20.054Z"
   },
   {
    "duration": 6,
    "start_time": "2022-11-16T06:23:21.289Z"
   },
   {
    "duration": 382,
    "start_time": "2022-11-16T06:23:26.367Z"
   },
   {
    "duration": 53,
    "start_time": "2022-11-16T06:23:26.751Z"
   },
   {
    "duration": 58,
    "start_time": "2022-11-16T06:23:26.805Z"
   },
   {
    "duration": 3,
    "start_time": "2022-11-16T06:23:26.865Z"
   },
   {
    "duration": 16,
    "start_time": "2022-11-16T06:23:26.871Z"
   },
   {
    "duration": 6,
    "start_time": "2022-11-16T06:23:26.889Z"
   },
   {
    "duration": 10,
    "start_time": "2022-11-16T06:23:26.916Z"
   },
   {
    "duration": 9,
    "start_time": "2022-11-16T06:23:26.928Z"
   },
   {
    "duration": 37,
    "start_time": "2022-11-16T06:23:26.939Z"
   },
   {
    "duration": 38,
    "start_time": "2022-11-16T06:23:26.978Z"
   },
   {
    "duration": 22,
    "start_time": "2022-11-16T06:23:27.018Z"
   },
   {
    "duration": 22,
    "start_time": "2022-11-16T06:23:27.042Z"
   },
   {
    "duration": 350,
    "start_time": "2022-11-16T12:07:29.040Z"
   },
   {
    "duration": 206,
    "start_time": "2022-11-16T12:07:29.392Z"
   },
   {
    "duration": 51,
    "start_time": "2022-11-16T12:07:31.890Z"
   },
   {
    "duration": 3,
    "start_time": "2022-11-16T12:07:34.241Z"
   },
   {
    "duration": 11,
    "start_time": "2022-11-16T12:07:34.629Z"
   },
   {
    "duration": 7,
    "start_time": "2022-11-16T12:07:35.081Z"
   },
   {
    "duration": 9,
    "start_time": "2022-11-16T12:07:36.717Z"
   },
   {
    "duration": 9,
    "start_time": "2022-11-16T12:07:37.488Z"
   },
   {
    "duration": 33,
    "start_time": "2022-11-16T12:07:38.648Z"
   },
   {
    "duration": 5,
    "start_time": "2022-11-16T12:07:40.619Z"
   },
   {
    "duration": 4,
    "start_time": "2022-11-16T12:08:14.786Z"
   },
   {
    "duration": 7,
    "start_time": "2022-11-16T12:08:21.416Z"
   },
   {
    "duration": 65,
    "start_time": "2022-11-16T12:08:57.053Z"
   },
   {
    "duration": 7,
    "start_time": "2022-11-16T12:09:04.435Z"
   },
   {
    "duration": 572,
    "start_time": "2022-11-16T12:10:35.711Z"
   },
   {
    "duration": 542,
    "start_time": "2022-11-16T12:12:19.756Z"
   },
   {
    "duration": 2,
    "start_time": "2022-11-16T12:13:03.654Z"
   },
   {
    "duration": 125,
    "start_time": "2022-11-16T12:13:11.970Z"
   },
   {
    "duration": 4,
    "start_time": "2022-11-16T12:13:16.988Z"
   },
   {
    "duration": 142,
    "start_time": "2022-11-16T12:14:42.317Z"
   },
   {
    "duration": 163,
    "start_time": "2022-11-16T12:15:10.088Z"
   },
   {
    "duration": 182,
    "start_time": "2022-11-16T12:15:17.273Z"
   },
   {
    "duration": 415,
    "start_time": "2022-11-16T12:15:57.734Z"
   },
   {
    "duration": 426,
    "start_time": "2022-11-16T12:17:14.311Z"
   },
   {
    "duration": 392,
    "start_time": "2022-11-16T12:17:29.775Z"
   },
   {
    "duration": 435,
    "start_time": "2022-11-16T12:17:35.637Z"
   },
   {
    "duration": 180,
    "start_time": "2022-11-16T12:17:47.767Z"
   },
   {
    "duration": 427,
    "start_time": "2022-11-16T12:17:53.373Z"
   },
   {
    "duration": 54,
    "start_time": "2022-11-16T12:20:12.866Z"
   },
   {
    "duration": 146,
    "start_time": "2022-11-16T12:20:15.738Z"
   },
   {
    "duration": 136,
    "start_time": "2022-11-16T12:20:28.618Z"
   },
   {
    "duration": 4,
    "start_time": "2022-11-16T12:22:31.387Z"
   },
   {
    "duration": 140,
    "start_time": "2022-11-16T12:23:04.396Z"
   },
   {
    "duration": 12,
    "start_time": "2022-11-16T12:23:44.501Z"
   },
   {
    "duration": 161,
    "start_time": "2022-11-16T12:25:02.362Z"
   },
   {
    "duration": 151,
    "start_time": "2022-11-16T12:25:10.527Z"
   },
   {
    "duration": 159,
    "start_time": "2022-11-16T12:27:47.979Z"
   },
   {
    "duration": 155,
    "start_time": "2022-11-16T12:28:06.442Z"
   },
   {
    "duration": 162,
    "start_time": "2022-11-16T12:28:20.038Z"
   },
   {
    "duration": 8,
    "start_time": "2022-11-16T12:28:26.447Z"
   },
   {
    "duration": 162,
    "start_time": "2022-11-16T12:30:48.560Z"
   },
   {
    "duration": 245,
    "start_time": "2022-11-16T12:31:15.606Z"
   },
   {
    "duration": 6,
    "start_time": "2022-11-16T12:35:14.198Z"
   },
   {
    "duration": 7,
    "start_time": "2022-11-16T12:35:27.409Z"
   },
   {
    "duration": 123,
    "start_time": "2022-11-16T12:38:39.323Z"
   },
   {
    "duration": 126,
    "start_time": "2022-11-16T12:39:08.344Z"
   },
   {
    "duration": 158,
    "start_time": "2022-11-16T12:39:24.903Z"
   },
   {
    "duration": 24,
    "start_time": "2022-11-16T12:39:39.854Z"
   },
   {
    "duration": 149,
    "start_time": "2022-11-16T12:39:56.211Z"
   },
   {
    "duration": 19,
    "start_time": "2022-11-16T12:40:31.626Z"
   },
   {
    "duration": 143,
    "start_time": "2022-11-16T12:41:41.662Z"
   },
   {
    "duration": 4,
    "start_time": "2022-11-16T12:41:52.464Z"
   },
   {
    "duration": 7,
    "start_time": "2022-11-16T12:41:59.045Z"
   },
   {
    "duration": 132,
    "start_time": "2022-11-16T12:42:05.991Z"
   },
   {
    "duration": 134,
    "start_time": "2022-11-16T12:42:10.060Z"
   },
   {
    "duration": 6,
    "start_time": "2022-11-16T12:42:16.122Z"
   },
   {
    "duration": 379,
    "start_time": "2022-11-16T12:42:30.727Z"
   },
   {
    "duration": 6,
    "start_time": "2022-11-16T12:43:04.400Z"
   },
   {
    "duration": 12,
    "start_time": "2022-11-16T12:43:16.675Z"
   },
   {
    "duration": 14,
    "start_time": "2022-11-16T12:43:25.721Z"
   },
   {
    "duration": 7,
    "start_time": "2022-11-16T12:43:33.649Z"
   },
   {
    "duration": 4,
    "start_time": "2022-11-16T12:43:38.564Z"
   },
   {
    "duration": 4,
    "start_time": "2022-11-16T12:43:42.875Z"
   },
   {
    "duration": 6,
    "start_time": "2022-11-16T12:44:15.046Z"
   },
   {
    "duration": 151,
    "start_time": "2022-11-16T12:44:19.241Z"
   },
   {
    "duration": 6,
    "start_time": "2022-11-16T12:44:40.888Z"
   },
   {
    "duration": 8,
    "start_time": "2022-11-16T12:45:04.838Z"
   },
   {
    "duration": 127,
    "start_time": "2022-11-16T12:45:57.365Z"
   },
   {
    "duration": 122,
    "start_time": "2022-11-16T12:46:06.919Z"
   },
   {
    "duration": 156,
    "start_time": "2022-11-16T12:46:11.744Z"
   },
   {
    "duration": 124,
    "start_time": "2022-11-16T12:46:28.175Z"
   },
   {
    "duration": 6,
    "start_time": "2022-11-16T12:46:38.251Z"
   },
   {
    "duration": 14,
    "start_time": "2022-11-16T12:46:48.891Z"
   },
   {
    "duration": 4,
    "start_time": "2022-11-16T12:46:57.978Z"
   },
   {
    "duration": 49,
    "start_time": "2022-11-16T12:48:01.210Z"
   },
   {
    "duration": 170,
    "start_time": "2022-11-16T12:48:05.564Z"
   },
   {
    "duration": 6,
    "start_time": "2022-11-16T12:49:28.095Z"
   },
   {
    "duration": 5,
    "start_time": "2022-11-16T12:49:30.796Z"
   },
   {
    "duration": 2,
    "start_time": "2022-11-16T12:49:36.716Z"
   },
   {
    "duration": 5,
    "start_time": "2022-11-16T12:49:39.090Z"
   },
   {
    "duration": 2,
    "start_time": "2022-11-16T12:49:50.539Z"
   },
   {
    "duration": 4,
    "start_time": "2022-11-16T12:49:51.210Z"
   },
   {
    "duration": 7,
    "start_time": "2022-11-16T12:49:54.966Z"
   },
   {
    "duration": 8,
    "start_time": "2022-11-16T12:50:07.015Z"
   },
   {
    "duration": 17,
    "start_time": "2022-11-16T12:50:28.531Z"
   },
   {
    "duration": 7,
    "start_time": "2022-11-16T12:53:47.113Z"
   },
   {
    "duration": 38,
    "start_time": "2022-11-16T12:54:30.101Z"
   },
   {
    "duration": 10,
    "start_time": "2022-11-16T12:54:48.505Z"
   },
   {
    "duration": 5,
    "start_time": "2022-11-16T12:55:05.442Z"
   },
   {
    "duration": 4,
    "start_time": "2022-11-16T12:55:11.416Z"
   },
   {
    "duration": 4,
    "start_time": "2022-11-16T12:55:18.926Z"
   },
   {
    "duration": 4,
    "start_time": "2022-11-16T12:55:19.750Z"
   },
   {
    "duration": 6,
    "start_time": "2022-11-16T12:55:38.883Z"
   },
   {
    "duration": 7,
    "start_time": "2022-11-16T12:55:40.025Z"
   },
   {
    "duration": 51,
    "start_time": "2022-11-16T12:56:04.440Z"
   },
   {
    "duration": 260,
    "start_time": "2022-11-16T12:56:09.721Z"
   },
   {
    "duration": 12,
    "start_time": "2022-11-16T12:56:51.644Z"
   },
   {
    "duration": 10,
    "start_time": "2022-11-16T12:57:06.616Z"
   },
   {
    "duration": 12,
    "start_time": "2022-11-16T12:57:15.892Z"
   },
   {
    "duration": 11,
    "start_time": "2022-11-16T12:57:31.991Z"
   },
   {
    "duration": 10,
    "start_time": "2022-11-16T12:57:53.525Z"
   },
   {
    "duration": 43,
    "start_time": "2022-11-16T12:58:00.161Z"
   },
   {
    "duration": 14,
    "start_time": "2022-11-16T12:58:03.343Z"
   },
   {
    "duration": 10,
    "start_time": "2022-11-16T12:58:28.735Z"
   },
   {
    "duration": 17,
    "start_time": "2022-11-16T12:59:04.319Z"
   },
   {
    "duration": 11,
    "start_time": "2022-11-16T12:59:09.455Z"
   },
   {
    "duration": 7,
    "start_time": "2022-11-16T12:59:33.114Z"
   },
   {
    "duration": 21,
    "start_time": "2022-11-16T12:59:42.939Z"
   },
   {
    "duration": 980,
    "start_time": "2022-11-16T13:00:09.914Z"
   },
   {
    "duration": 11,
    "start_time": "2022-11-16T13:00:21.205Z"
   },
   {
    "duration": 14,
    "start_time": "2022-11-16T13:00:26.699Z"
   },
   {
    "duration": 15,
    "start_time": "2022-11-16T13:00:30.820Z"
   },
   {
    "duration": 10,
    "start_time": "2022-11-16T13:00:33.354Z"
   },
   {
    "duration": 10,
    "start_time": "2022-11-16T13:00:41.645Z"
   },
   {
    "duration": 11,
    "start_time": "2022-11-16T13:00:56.511Z"
   },
   {
    "duration": 8,
    "start_time": "2022-11-16T13:01:04.723Z"
   },
   {
    "duration": 11,
    "start_time": "2022-11-16T13:01:06.874Z"
   },
   {
    "duration": 9,
    "start_time": "2022-11-16T13:01:21.931Z"
   },
   {
    "duration": 7,
    "start_time": "2022-11-16T13:01:38.087Z"
   },
   {
    "duration": 7,
    "start_time": "2022-11-16T13:01:39.693Z"
   },
   {
    "duration": 7,
    "start_time": "2022-11-16T13:02:38.520Z"
   },
   {
    "duration": 14,
    "start_time": "2022-11-16T13:02:40.091Z"
   },
   {
    "duration": 167,
    "start_time": "2022-11-16T13:03:09.090Z"
   },
   {
    "duration": 11,
    "start_time": "2022-11-16T13:03:32.755Z"
   },
   {
    "duration": 8,
    "start_time": "2022-11-16T13:07:28.617Z"
   },
   {
    "duration": 124,
    "start_time": "2022-11-16T13:07:49.755Z"
   },
   {
    "duration": 13,
    "start_time": "2022-11-16T13:08:10.068Z"
   },
   {
    "duration": 185,
    "start_time": "2022-11-16T13:08:19.147Z"
   },
   {
    "duration": 4,
    "start_time": "2022-11-16T13:08:27.376Z"
   },
   {
    "duration": 8,
    "start_time": "2022-11-16T13:08:31.738Z"
   },
   {
    "duration": 3,
    "start_time": "2022-11-16T13:08:51.254Z"
   },
   {
    "duration": 11,
    "start_time": "2022-11-16T13:08:53.013Z"
   },
   {
    "duration": 171,
    "start_time": "2022-11-16T13:09:44.321Z"
   },
   {
    "duration": 4,
    "start_time": "2022-11-16T13:09:53.572Z"
   },
   {
    "duration": 9,
    "start_time": "2022-11-16T13:09:54.139Z"
   },
   {
    "duration": 4,
    "start_time": "2022-11-16T13:10:03.274Z"
   },
   {
    "duration": 9,
    "start_time": "2022-11-16T13:10:04.029Z"
   },
   {
    "duration": 1095,
    "start_time": "2022-11-16T14:02:12.010Z"
   },
   {
    "duration": 51,
    "start_time": "2022-11-16T14:02:13.107Z"
   },
   {
    "duration": 42,
    "start_time": "2022-11-16T14:02:13.160Z"
   },
   {
    "duration": 4,
    "start_time": "2022-11-16T14:02:13.203Z"
   },
   {
    "duration": 10,
    "start_time": "2022-11-16T14:02:13.209Z"
   },
   {
    "duration": 8,
    "start_time": "2022-11-16T14:02:13.221Z"
   },
   {
    "duration": 13,
    "start_time": "2022-11-16T14:02:13.231Z"
   },
   {
    "duration": 12,
    "start_time": "2022-11-16T14:02:13.245Z"
   },
   {
    "duration": 50,
    "start_time": "2022-11-16T14:02:13.258Z"
   },
   {
    "duration": 4,
    "start_time": "2022-11-16T14:02:13.309Z"
   },
   {
    "duration": 167,
    "start_time": "2022-11-16T14:02:13.315Z"
   },
   {
    "duration": 13,
    "start_time": "2022-11-16T14:02:13.484Z"
   },
   {
    "duration": 7,
    "start_time": "2022-11-16T14:02:13.499Z"
   },
   {
    "duration": 10,
    "start_time": "2022-11-16T14:02:13.508Z"
   },
   {
    "duration": 7,
    "start_time": "2022-11-16T14:02:13.520Z"
   },
   {
    "duration": 6,
    "start_time": "2022-11-16T14:02:13.529Z"
   },
   {
    "duration": 14,
    "start_time": "2022-11-16T14:02:13.536Z"
   },
   {
    "duration": 34,
    "start_time": "2022-11-16T14:02:13.551Z"
   },
   {
    "duration": 26,
    "start_time": "2022-11-16T14:02:13.587Z"
   },
   {
    "duration": 126,
    "start_time": "2022-11-16T14:02:29.538Z"
   },
   {
    "duration": 193,
    "start_time": "2022-11-16T14:02:38.925Z"
   },
   {
    "duration": 138,
    "start_time": "2022-11-16T14:02:48.287Z"
   },
   {
    "duration": 9,
    "start_time": "2022-11-16T14:03:02.434Z"
   },
   {
    "duration": 4,
    "start_time": "2022-11-16T14:03:03.644Z"
   },
   {
    "duration": 9,
    "start_time": "2022-11-16T14:03:18.511Z"
   },
   {
    "duration": 103,
    "start_time": "2022-11-16T14:03:25.228Z"
   },
   {
    "duration": 130,
    "start_time": "2022-11-16T14:03:41.082Z"
   },
   {
    "duration": 133,
    "start_time": "2022-11-16T14:03:48.458Z"
   },
   {
    "duration": 148,
    "start_time": "2022-11-16T14:03:53.992Z"
   },
   {
    "duration": 139,
    "start_time": "2022-11-16T14:04:09.455Z"
   },
   {
    "duration": 198,
    "start_time": "2022-11-16T14:04:21.402Z"
   },
   {
    "duration": 128,
    "start_time": "2022-11-16T14:04:48.042Z"
   },
   {
    "duration": 9,
    "start_time": "2022-11-16T14:05:00.611Z"
   },
   {
    "duration": 126,
    "start_time": "2022-11-16T14:05:22.381Z"
   },
   {
    "duration": 128,
    "start_time": "2022-11-16T14:05:26.302Z"
   },
   {
    "duration": 138,
    "start_time": "2022-11-16T14:05:31.975Z"
   },
   {
    "duration": 137,
    "start_time": "2022-11-16T14:05:49.080Z"
   },
   {
    "duration": 120,
    "start_time": "2022-11-16T14:06:38.542Z"
   },
   {
    "duration": 188,
    "start_time": "2022-11-16T14:07:32.951Z"
   },
   {
    "duration": 134,
    "start_time": "2022-11-16T14:07:53.302Z"
   },
   {
    "duration": 974,
    "start_time": "2022-11-16T14:09:13.604Z"
   },
   {
    "duration": 13,
    "start_time": "2022-11-16T14:09:36.546Z"
   },
   {
    "duration": 912,
    "start_time": "2022-11-16T14:09:44.268Z"
   },
   {
    "duration": 312,
    "start_time": "2022-11-16T14:09:53.012Z"
   },
   {
    "duration": 239,
    "start_time": "2022-11-16T14:10:12.266Z"
   },
   {
    "duration": 47,
    "start_time": "2022-11-16T14:10:54.638Z"
   },
   {
    "duration": 987,
    "start_time": "2022-11-16T14:10:59.900Z"
   },
   {
    "duration": 18,
    "start_time": "2022-11-16T14:11:13.093Z"
   },
   {
    "duration": 127,
    "start_time": "2022-11-16T14:11:20.395Z"
   },
   {
    "duration": 132,
    "start_time": "2022-11-16T14:11:34.636Z"
   },
   {
    "duration": 12,
    "start_time": "2022-11-16T14:12:28.080Z"
   },
   {
    "duration": 12,
    "start_time": "2022-11-16T14:12:47.183Z"
   },
   {
    "duration": 12,
    "start_time": "2022-11-16T14:12:58.544Z"
   },
   {
    "duration": 14,
    "start_time": "2022-11-16T14:13:50.143Z"
   },
   {
    "duration": 9,
    "start_time": "2022-11-16T14:14:24.883Z"
   },
   {
    "duration": 23,
    "start_time": "2022-11-16T14:14:27.630Z"
   },
   {
    "duration": 6,
    "start_time": "2022-11-16T14:14:49.484Z"
   },
   {
    "duration": 8,
    "start_time": "2022-11-16T14:14:54.518Z"
   },
   {
    "duration": 4,
    "start_time": "2022-11-16T14:14:56.812Z"
   },
   {
    "duration": 26,
    "start_time": "2022-11-16T14:16:31.912Z"
   },
   {
    "duration": 16,
    "start_time": "2022-11-16T14:17:49.160Z"
   },
   {
    "duration": 57,
    "start_time": "2022-11-16T14:18:02.052Z"
   },
   {
    "duration": 13,
    "start_time": "2022-11-16T14:18:11.852Z"
   },
   {
    "duration": 130,
    "start_time": "2022-11-16T14:18:52.697Z"
   },
   {
    "duration": 11,
    "start_time": "2022-11-16T14:19:06.500Z"
   },
   {
    "duration": 13,
    "start_time": "2022-11-16T14:19:38.195Z"
   },
   {
    "duration": 13,
    "start_time": "2022-11-16T14:19:47.727Z"
   },
   {
    "duration": 131,
    "start_time": "2022-11-16T14:20:30.643Z"
   },
   {
    "duration": 7,
    "start_time": "2022-11-16T14:20:36.582Z"
   },
   {
    "duration": 161,
    "start_time": "2022-11-16T14:20:50.077Z"
   },
   {
    "duration": 7,
    "start_time": "2022-11-16T14:20:54.900Z"
   },
   {
    "duration": 16,
    "start_time": "2022-11-16T14:21:02.313Z"
   },
   {
    "duration": 468,
    "start_time": "2022-11-16T14:28:51.314Z"
   },
   {
    "duration": 510,
    "start_time": "2022-11-16T14:29:10.737Z"
   },
   {
    "duration": 54,
    "start_time": "2022-11-16T14:29:34.077Z"
   },
   {
    "duration": 19,
    "start_time": "2022-11-16T14:35:36.234Z"
   },
   {
    "duration": 19,
    "start_time": "2022-11-16T14:35:58.707Z"
   },
   {
    "duration": 49,
    "start_time": "2022-11-16T14:36:07.718Z"
   },
   {
    "duration": 4,
    "start_time": "2022-11-16T14:38:35.108Z"
   },
   {
    "duration": 14,
    "start_time": "2022-11-16T14:38:41.399Z"
   },
   {
    "duration": 192,
    "start_time": "2022-11-16T14:38:56.180Z"
   },
   {
    "duration": 186,
    "start_time": "2022-11-16T14:39:37.328Z"
   },
   {
    "duration": 8,
    "start_time": "2022-11-16T14:40:18.636Z"
   },
   {
    "duration": 11,
    "start_time": "2022-11-16T14:40:33.752Z"
   },
   {
    "duration": 12,
    "start_time": "2022-11-16T14:40:45.743Z"
   },
   {
    "duration": 128,
    "start_time": "2022-11-16T14:40:51.382Z"
   },
   {
    "duration": 14,
    "start_time": "2022-11-16T14:41:06.703Z"
   },
   {
    "duration": 11,
    "start_time": "2022-11-16T14:41:36.300Z"
   },
   {
    "duration": 17,
    "start_time": "2022-11-16T14:41:47.239Z"
   },
   {
    "duration": 12,
    "start_time": "2022-11-16T14:42:04.297Z"
   },
   {
    "duration": 146,
    "start_time": "2022-11-16T14:42:34.985Z"
   },
   {
    "duration": 215,
    "start_time": "2022-11-16T14:42:46.137Z"
   },
   {
    "duration": 7,
    "start_time": "2022-11-16T14:43:08.381Z"
   },
   {
    "duration": 50,
    "start_time": "2022-11-16T14:44:04.801Z"
   },
   {
    "duration": 7,
    "start_time": "2022-11-16T14:44:28.713Z"
   },
   {
    "duration": 12,
    "start_time": "2022-11-16T14:44:33.250Z"
   },
   {
    "duration": 14,
    "start_time": "2022-11-16T14:44:42.559Z"
   },
   {
    "duration": 14,
    "start_time": "2022-11-16T14:44:49.244Z"
   },
   {
    "duration": 16,
    "start_time": "2022-11-16T14:45:05.921Z"
   },
   {
    "duration": 13,
    "start_time": "2022-11-16T14:45:18.028Z"
   },
   {
    "duration": 44,
    "start_time": "2022-11-16T14:46:50.623Z"
   },
   {
    "duration": 5,
    "start_time": "2022-11-16T14:47:02.379Z"
   },
   {
    "duration": 10,
    "start_time": "2022-11-16T14:47:09.453Z"
   },
   {
    "duration": 13,
    "start_time": "2022-11-16T14:47:36.544Z"
   },
   {
    "duration": 132,
    "start_time": "2022-11-16T14:47:46.842Z"
   },
   {
    "duration": 206,
    "start_time": "2022-11-16T14:47:57.094Z"
   },
   {
    "duration": 294,
    "start_time": "2022-11-16T14:48:09.619Z"
   },
   {
    "duration": 203,
    "start_time": "2022-11-16T14:48:36.468Z"
   },
   {
    "duration": 52,
    "start_time": "2022-11-16T14:48:57.071Z"
   },
   {
    "duration": 14,
    "start_time": "2022-11-16T14:49:00.512Z"
   },
   {
    "duration": 193,
    "start_time": "2022-11-16T14:49:07.215Z"
   },
   {
    "duration": 16,
    "start_time": "2022-11-16T14:49:28.760Z"
   },
   {
    "duration": 211,
    "start_time": "2022-11-16T14:49:37.244Z"
   },
   {
    "duration": 184,
    "start_time": "2022-11-16T14:49:48.027Z"
   },
   {
    "duration": 294,
    "start_time": "2022-11-16T14:49:57.594Z"
   },
   {
    "duration": 9,
    "start_time": "2022-11-16T14:50:25.589Z"
   },
   {
    "duration": 11,
    "start_time": "2022-11-16T14:50:46.049Z"
   },
   {
    "duration": 9,
    "start_time": "2022-11-16T14:50:49.934Z"
   },
   {
    "duration": 4,
    "start_time": "2022-11-16T14:51:17.342Z"
   },
   {
    "duration": 314,
    "start_time": "2022-11-16T14:51:24.430Z"
   },
   {
    "duration": 11,
    "start_time": "2022-11-16T14:51:44.827Z"
   },
   {
    "duration": 10,
    "start_time": "2022-11-16T14:51:56.085Z"
   },
   {
    "duration": 127,
    "start_time": "2022-11-16T14:52:06.862Z"
   },
   {
    "duration": 122,
    "start_time": "2022-11-16T14:52:31.946Z"
   },
   {
    "duration": 252,
    "start_time": "2022-11-16T14:53:07.769Z"
   },
   {
    "duration": 215,
    "start_time": "2022-11-16T14:53:22.723Z"
   },
   {
    "duration": 8,
    "start_time": "2022-11-16T14:53:28.181Z"
   },
   {
    "duration": 5,
    "start_time": "2022-11-16T14:53:28.481Z"
   },
   {
    "duration": 1094,
    "start_time": "2022-11-16T14:53:34.828Z"
   },
   {
    "duration": 58,
    "start_time": "2022-11-16T14:53:35.924Z"
   },
   {
    "duration": 45,
    "start_time": "2022-11-16T14:53:35.984Z"
   },
   {
    "duration": 3,
    "start_time": "2022-11-16T14:53:36.031Z"
   },
   {
    "duration": 13,
    "start_time": "2022-11-16T14:53:36.035Z"
   },
   {
    "duration": 5,
    "start_time": "2022-11-16T14:53:36.050Z"
   },
   {
    "duration": 10,
    "start_time": "2022-11-16T14:53:36.056Z"
   },
   {
    "duration": 30,
    "start_time": "2022-11-16T14:53:36.067Z"
   },
   {
    "duration": 34,
    "start_time": "2022-11-16T14:53:36.099Z"
   },
   {
    "duration": 5,
    "start_time": "2022-11-16T14:53:36.135Z"
   },
   {
    "duration": 165,
    "start_time": "2022-11-16T14:53:36.141Z"
   },
   {
    "duration": 9,
    "start_time": "2022-11-16T14:53:36.308Z"
   },
   {
    "duration": 5,
    "start_time": "2022-11-16T14:53:36.318Z"
   },
   {
    "duration": 505,
    "start_time": "2022-11-16T14:53:36.325Z"
   },
   {
    "duration": 56,
    "start_time": "2022-11-16T14:53:36.832Z"
   },
   {
    "duration": 96,
    "start_time": "2022-11-16T14:53:36.890Z"
   },
   {
    "duration": 0,
    "start_time": "2022-11-16T14:53:36.987Z"
   },
   {
    "duration": 0,
    "start_time": "2022-11-16T14:53:36.988Z"
   },
   {
    "duration": 0,
    "start_time": "2022-11-16T14:53:36.989Z"
   },
   {
    "duration": 0,
    "start_time": "2022-11-16T14:53:36.989Z"
   },
   {
    "duration": 0,
    "start_time": "2022-11-16T14:53:36.997Z"
   },
   {
    "duration": 242,
    "start_time": "2022-11-16T14:53:42.885Z"
   },
   {
    "duration": 52,
    "start_time": "2022-11-16T14:54:12.433Z"
   },
   {
    "duration": 51,
    "start_time": "2022-11-16T14:54:26.618Z"
   },
   {
    "duration": 51,
    "start_time": "2022-11-16T14:55:06.687Z"
   },
   {
    "duration": 14,
    "start_time": "2022-11-16T14:55:23.755Z"
   },
   {
    "duration": 46,
    "start_time": "2022-11-16T14:55:30.717Z"
   },
   {
    "duration": 8,
    "start_time": "2022-11-16T14:55:39.030Z"
   },
   {
    "duration": 10,
    "start_time": "2022-11-16T14:55:55.652Z"
   },
   {
    "duration": 10,
    "start_time": "2022-11-16T14:55:59.237Z"
   },
   {
    "duration": 44,
    "start_time": "2022-11-16T14:56:03.640Z"
   },
   {
    "duration": 4,
    "start_time": "2022-11-16T14:56:26.900Z"
   },
   {
    "duration": 47,
    "start_time": "2022-11-16T14:56:32.350Z"
   },
   {
    "duration": 13,
    "start_time": "2022-11-16T14:56:44.077Z"
   },
   {
    "duration": 47,
    "start_time": "2022-11-16T14:56:45.207Z"
   },
   {
    "duration": 49,
    "start_time": "2022-11-16T14:57:18.213Z"
   },
   {
    "duration": 7,
    "start_time": "2022-11-16T14:57:20.696Z"
   },
   {
    "duration": 13,
    "start_time": "2022-11-16T14:57:29.845Z"
   },
   {
    "duration": 5,
    "start_time": "2022-11-16T14:57:38.682Z"
   },
   {
    "duration": 12,
    "start_time": "2022-11-16T14:57:40.285Z"
   },
   {
    "duration": 15,
    "start_time": "2022-11-16T14:58:13.994Z"
   },
   {
    "duration": 10,
    "start_time": "2022-11-16T14:58:21.515Z"
   },
   {
    "duration": 8,
    "start_time": "2022-11-16T14:58:40.235Z"
   },
   {
    "duration": 4,
    "start_time": "2022-11-16T14:58:50.984Z"
   },
   {
    "duration": 9,
    "start_time": "2022-11-16T14:58:55.479Z"
   },
   {
    "duration": 8,
    "start_time": "2022-11-16T14:59:56.541Z"
   },
   {
    "duration": 5,
    "start_time": "2022-11-16T14:59:58.496Z"
   },
   {
    "duration": 13,
    "start_time": "2022-11-16T15:00:03.067Z"
   },
   {
    "duration": 198,
    "start_time": "2022-11-16T15:00:19.314Z"
   },
   {
    "duration": 127,
    "start_time": "2022-11-16T15:00:34.187Z"
   },
   {
    "duration": 11,
    "start_time": "2022-11-16T15:05:34.216Z"
   },
   {
    "duration": 85,
    "start_time": "2022-11-16T15:06:24.815Z"
   },
   {
    "duration": 11,
    "start_time": "2022-11-16T15:06:30.337Z"
   },
   {
    "duration": 10,
    "start_time": "2022-11-16T15:06:36.098Z"
   },
   {
    "duration": 10,
    "start_time": "2022-11-16T15:06:46.640Z"
   },
   {
    "duration": 10,
    "start_time": "2022-11-16T15:06:54.193Z"
   },
   {
    "duration": 459,
    "start_time": "2022-11-16T15:10:01.145Z"
   },
   {
    "duration": 15,
    "start_time": "2022-11-16T15:10:34.651Z"
   },
   {
    "duration": 515,
    "start_time": "2022-11-16T15:11:27.386Z"
   },
   {
    "duration": 831,
    "start_time": "2022-11-16T15:11:35.232Z"
   },
   {
    "duration": 54,
    "start_time": "2022-11-16T15:11:44.085Z"
   },
   {
    "duration": 40,
    "start_time": "2022-11-16T15:11:47.146Z"
   },
   {
    "duration": 819,
    "start_time": "2022-11-16T15:12:50.555Z"
   },
   {
    "duration": 8,
    "start_time": "2022-11-16T15:13:02.234Z"
   },
   {
    "duration": 9,
    "start_time": "2022-11-16T15:13:10.888Z"
   },
   {
    "duration": 9,
    "start_time": "2022-11-16T15:13:28.210Z"
   },
   {
    "duration": 841,
    "start_time": "2022-11-16T15:16:29.321Z"
   },
   {
    "duration": 3,
    "start_time": "2022-11-16T15:16:39.739Z"
   },
   {
    "duration": 6,
    "start_time": "2022-11-16T15:17:45.693Z"
   },
   {
    "duration": 21,
    "start_time": "2022-11-16T15:17:52.188Z"
   },
   {
    "duration": 17,
    "start_time": "2022-11-16T15:18:12.146Z"
   },
   {
    "duration": 442,
    "start_time": "2022-11-16T15:18:19.290Z"
   },
   {
    "duration": 9,
    "start_time": "2022-11-16T15:19:03.717Z"
   },
   {
    "duration": 5,
    "start_time": "2022-11-16T15:19:06.385Z"
   },
   {
    "duration": 11,
    "start_time": "2022-11-16T15:19:07.016Z"
   },
   {
    "duration": 7,
    "start_time": "2022-11-16T15:19:43.134Z"
   },
   {
    "duration": 4,
    "start_time": "2022-11-16T15:19:46.548Z"
   },
   {
    "duration": 9,
    "start_time": "2022-11-16T15:19:46.803Z"
   },
   {
    "duration": 9,
    "start_time": "2022-11-16T15:20:04.716Z"
   },
   {
    "duration": 4,
    "start_time": "2022-11-16T15:20:05.145Z"
   },
   {
    "duration": 12,
    "start_time": "2022-11-16T15:20:05.584Z"
   },
   {
    "duration": 15,
    "start_time": "2022-11-16T15:20:10.695Z"
   },
   {
    "duration": 10,
    "start_time": "2022-11-16T15:20:23.486Z"
   },
   {
    "duration": 8,
    "start_time": "2022-11-16T15:21:57.615Z"
   },
   {
    "duration": 9,
    "start_time": "2022-11-16T15:22:02.753Z"
   },
   {
    "duration": 8,
    "start_time": "2022-11-16T15:22:06.454Z"
   },
   {
    "duration": 47,
    "start_time": "2022-11-16T15:24:31.421Z"
   },
   {
    "duration": 213,
    "start_time": "2022-11-16T15:24:34.523Z"
   },
   {
    "duration": 202,
    "start_time": "2022-11-16T15:25:54.488Z"
   },
   {
    "duration": 72,
    "start_time": "2022-11-16T15:26:28.830Z"
   },
   {
    "duration": 6,
    "start_time": "2022-11-16T15:26:33.004Z"
   },
   {
    "duration": 25,
    "start_time": "2022-11-16T15:26:40.036Z"
   },
   {
    "duration": 217,
    "start_time": "2022-11-16T15:26:56.082Z"
   },
   {
    "duration": 392,
    "start_time": "2022-11-16T15:27:23.763Z"
   },
   {
    "duration": 11,
    "start_time": "2022-11-16T15:27:35.378Z"
   },
   {
    "duration": 52,
    "start_time": "2022-11-16T15:27:45.804Z"
   },
   {
    "duration": 384,
    "start_time": "2022-11-16T15:27:49.283Z"
   },
   {
    "duration": 11,
    "start_time": "2022-11-16T15:31:42.483Z"
   },
   {
    "duration": 6,
    "start_time": "2022-11-16T15:33:14.047Z"
   },
   {
    "duration": 13,
    "start_time": "2022-11-16T15:33:22.301Z"
   },
   {
    "duration": 372,
    "start_time": "2022-11-16T15:33:23.849Z"
   },
   {
    "duration": 5,
    "start_time": "2022-11-16T15:33:35.480Z"
   },
   {
    "duration": 3,
    "start_time": "2022-11-16T15:36:22.746Z"
   },
   {
    "duration": 25,
    "start_time": "2022-11-16T15:37:00.313Z"
   },
   {
    "duration": 3,
    "start_time": "2022-11-16T15:37:17.131Z"
   },
   {
    "duration": 21,
    "start_time": "2022-11-16T15:37:17.731Z"
   },
   {
    "duration": 8,
    "start_time": "2022-11-16T15:37:26.733Z"
   },
   {
    "duration": 8,
    "start_time": "2022-11-16T15:37:31.718Z"
   },
   {
    "duration": 4,
    "start_time": "2022-11-16T15:37:36.319Z"
   },
   {
    "duration": 5,
    "start_time": "2022-11-16T15:37:47.971Z"
   },
   {
    "duration": 7,
    "start_time": "2022-11-16T15:37:58.898Z"
   },
   {
    "duration": 5,
    "start_time": "2022-11-16T15:38:00.607Z"
   },
   {
    "duration": 13,
    "start_time": "2022-11-16T15:38:26.774Z"
   },
   {
    "duration": 245,
    "start_time": "2022-11-16T15:38:27.201Z"
   },
   {
    "duration": 9,
    "start_time": "2022-11-16T15:39:07.229Z"
   },
   {
    "duration": 11,
    "start_time": "2022-11-16T15:39:59.669Z"
   },
   {
    "duration": 22,
    "start_time": "2022-11-16T15:41:21.744Z"
   },
   {
    "duration": 27,
    "start_time": "2022-11-16T15:42:21.865Z"
   },
   {
    "duration": 13,
    "start_time": "2022-11-16T15:42:55.817Z"
   },
   {
    "duration": 244,
    "start_time": "2022-11-16T15:43:13.075Z"
   },
   {
    "duration": 235,
    "start_time": "2022-11-16T15:43:25.308Z"
   },
   {
    "duration": 245,
    "start_time": "2022-11-16T15:44:31.811Z"
   },
   {
    "duration": 259,
    "start_time": "2022-11-16T15:44:37.905Z"
   },
   {
    "duration": 7,
    "start_time": "2022-11-16T15:50:12.594Z"
   },
   {
    "duration": 24,
    "start_time": "2022-11-16T15:50:31.782Z"
   },
   {
    "duration": 1100,
    "start_time": "2022-11-16T17:23:30.997Z"
   },
   {
    "duration": 51,
    "start_time": "2022-11-16T17:23:32.099Z"
   },
   {
    "duration": 41,
    "start_time": "2022-11-16T17:23:32.152Z"
   },
   {
    "duration": 3,
    "start_time": "2022-11-16T17:23:32.195Z"
   },
   {
    "duration": 18,
    "start_time": "2022-11-16T17:23:32.199Z"
   },
   {
    "duration": 12,
    "start_time": "2022-11-16T17:23:32.219Z"
   },
   {
    "duration": 12,
    "start_time": "2022-11-16T17:23:32.233Z"
   },
   {
    "duration": 9,
    "start_time": "2022-11-16T17:23:32.247Z"
   },
   {
    "duration": 31,
    "start_time": "2022-11-16T17:23:32.257Z"
   },
   {
    "duration": 9,
    "start_time": "2022-11-16T17:23:32.290Z"
   },
   {
    "duration": 168,
    "start_time": "2022-11-16T17:23:32.300Z"
   },
   {
    "duration": 5,
    "start_time": "2022-11-16T17:23:32.469Z"
   },
   {
    "duration": 30,
    "start_time": "2022-11-16T17:23:32.475Z"
   },
   {
    "duration": 6,
    "start_time": "2022-11-16T17:23:32.507Z"
   },
   {
    "duration": 280,
    "start_time": "2022-11-16T17:23:32.514Z"
   },
   {
    "duration": 27,
    "start_time": "2022-11-16T17:23:32.797Z"
   },
   {
    "duration": 95,
    "start_time": "2022-11-16T17:24:30.211Z"
   },
   {
    "duration": 24,
    "start_time": "2022-11-16T17:24:55.500Z"
   },
   {
    "duration": 299,
    "start_time": "2022-11-16T17:25:07.621Z"
   },
   {
    "duration": 48,
    "start_time": "2022-11-16T17:25:28.497Z"
   },
   {
    "duration": 69,
    "start_time": "2022-11-16T17:25:34.951Z"
   },
   {
    "duration": 238,
    "start_time": "2022-11-16T17:25:43.939Z"
   },
   {
    "duration": 53,
    "start_time": "2022-11-16T17:26:04.618Z"
   },
   {
    "duration": 244,
    "start_time": "2022-11-16T17:26:08.683Z"
   },
   {
    "duration": 259,
    "start_time": "2022-11-16T17:26:49.742Z"
   },
   {
    "duration": 213,
    "start_time": "2022-11-16T17:35:21.128Z"
   },
   {
    "duration": 250,
    "start_time": "2022-11-16T17:35:33.504Z"
   },
   {
    "duration": 29,
    "start_time": "2022-11-16T17:37:23.241Z"
   },
   {
    "duration": 6,
    "start_time": "2022-11-16T17:37:33.934Z"
   },
   {
    "duration": 253,
    "start_time": "2022-11-16T17:37:38.202Z"
   },
   {
    "duration": 9,
    "start_time": "2022-11-16T17:38:06.263Z"
   },
   {
    "duration": 243,
    "start_time": "2022-11-16T17:38:10.968Z"
   },
   {
    "duration": 313,
    "start_time": "2022-11-16T17:40:05.784Z"
   },
   {
    "duration": 10,
    "start_time": "2022-11-16T17:45:07.219Z"
   },
   {
    "duration": 10,
    "start_time": "2022-11-16T17:45:23.468Z"
   },
   {
    "duration": 10,
    "start_time": "2022-11-16T17:45:33.361Z"
   },
   {
    "duration": 5,
    "start_time": "2022-11-16T17:50:11.453Z"
   },
   {
    "duration": 7,
    "start_time": "2022-11-16T17:51:16.083Z"
   },
   {
    "duration": 242,
    "start_time": "2022-11-16T17:51:17.870Z"
   },
   {
    "duration": 15,
    "start_time": "2022-11-16T17:51:33.573Z"
   },
   {
    "duration": 1051,
    "start_time": "2022-11-16T17:51:50.754Z"
   },
   {
    "duration": 51,
    "start_time": "2022-11-16T17:51:51.807Z"
   },
   {
    "duration": 794,
    "start_time": "2022-11-16T17:51:51.860Z"
   },
   {
    "duration": 0,
    "start_time": "2022-11-16T17:51:52.656Z"
   },
   {
    "duration": 0,
    "start_time": "2022-11-16T17:51:52.657Z"
   },
   {
    "duration": 0,
    "start_time": "2022-11-16T17:51:52.658Z"
   },
   {
    "duration": 0,
    "start_time": "2022-11-16T17:51:52.659Z"
   },
   {
    "duration": 0,
    "start_time": "2022-11-16T17:51:52.660Z"
   },
   {
    "duration": 0,
    "start_time": "2022-11-16T17:51:52.661Z"
   },
   {
    "duration": 0,
    "start_time": "2022-11-16T17:51:52.661Z"
   },
   {
    "duration": 0,
    "start_time": "2022-11-16T17:51:52.662Z"
   },
   {
    "duration": 0,
    "start_time": "2022-11-16T17:51:52.664Z"
   },
   {
    "duration": 0,
    "start_time": "2022-11-16T17:51:52.664Z"
   },
   {
    "duration": 0,
    "start_time": "2022-11-16T17:51:52.665Z"
   },
   {
    "duration": 0,
    "start_time": "2022-11-16T17:51:52.666Z"
   },
   {
    "duration": 0,
    "start_time": "2022-11-16T17:51:52.667Z"
   },
   {
    "duration": 0,
    "start_time": "2022-11-16T17:51:52.667Z"
   },
   {
    "duration": 0,
    "start_time": "2022-11-16T17:51:52.668Z"
   },
   {
    "duration": 1110,
    "start_time": "2022-11-16T17:52:07.107Z"
   },
   {
    "duration": 54,
    "start_time": "2022-11-16T17:52:08.218Z"
   },
   {
    "duration": 41,
    "start_time": "2022-11-16T17:52:08.274Z"
   },
   {
    "duration": 2,
    "start_time": "2022-11-16T17:52:08.317Z"
   },
   {
    "duration": 34,
    "start_time": "2022-11-16T17:52:08.320Z"
   },
   {
    "duration": 17,
    "start_time": "2022-11-16T17:52:08.356Z"
   },
   {
    "duration": 28,
    "start_time": "2022-11-16T17:52:08.375Z"
   },
   {
    "duration": 13,
    "start_time": "2022-11-16T17:52:08.405Z"
   },
   {
    "duration": 44,
    "start_time": "2022-11-16T17:52:08.419Z"
   },
   {
    "duration": 9,
    "start_time": "2022-11-16T17:52:08.465Z"
   },
   {
    "duration": 185,
    "start_time": "2022-11-16T17:52:08.476Z"
   },
   {
    "duration": 6,
    "start_time": "2022-11-16T17:52:08.662Z"
   },
   {
    "duration": 26,
    "start_time": "2022-11-16T17:52:08.669Z"
   },
   {
    "duration": 7,
    "start_time": "2022-11-16T17:52:08.697Z"
   },
   {
    "duration": 305,
    "start_time": "2022-11-16T17:52:08.705Z"
   },
   {
    "duration": 259,
    "start_time": "2022-11-16T17:52:09.012Z"
   },
   {
    "duration": 10,
    "start_time": "2022-11-16T17:52:09.272Z"
   },
   {
    "duration": 471,
    "start_time": "2022-11-16T17:53:21.614Z"
   },
   {
    "duration": 6,
    "start_time": "2022-11-16T17:54:23.298Z"
   },
   {
    "duration": 258,
    "start_time": "2022-11-16T17:54:23.750Z"
   },
   {
    "duration": 1082,
    "start_time": "2022-11-16T17:54:57.716Z"
   },
   {
    "duration": 55,
    "start_time": "2022-11-16T17:54:58.800Z"
   },
   {
    "duration": 40,
    "start_time": "2022-11-16T17:54:58.857Z"
   },
   {
    "duration": 3,
    "start_time": "2022-11-16T17:54:58.898Z"
   },
   {
    "duration": 11,
    "start_time": "2022-11-16T17:54:58.903Z"
   },
   {
    "duration": 5,
    "start_time": "2022-11-16T17:54:58.915Z"
   },
   {
    "duration": 11,
    "start_time": "2022-11-16T17:54:58.921Z"
   },
   {
    "duration": 13,
    "start_time": "2022-11-16T17:54:58.933Z"
   },
   {
    "duration": 31,
    "start_time": "2022-11-16T17:54:58.948Z"
   },
   {
    "duration": 19,
    "start_time": "2022-11-16T17:54:58.981Z"
   },
   {
    "duration": 164,
    "start_time": "2022-11-16T17:54:59.001Z"
   },
   {
    "duration": 5,
    "start_time": "2022-11-16T17:54:59.167Z"
   },
   {
    "duration": 24,
    "start_time": "2022-11-16T17:54:59.173Z"
   },
   {
    "duration": 498,
    "start_time": "2022-11-16T17:54:59.200Z"
   },
   {
    "duration": 23,
    "start_time": "2022-11-16T17:54:59.700Z"
   },
   {
    "duration": 334,
    "start_time": "2022-11-16T17:54:59.725Z"
   },
   {
    "duration": 342,
    "start_time": "2022-11-16T17:55:00.060Z"
   },
   {
    "duration": 12,
    "start_time": "2022-11-16T17:55:00.403Z"
   },
   {
    "duration": 6,
    "start_time": "2022-11-16T17:56:49.746Z"
   },
   {
    "duration": 7,
    "start_time": "2022-11-16T17:58:06.283Z"
   },
   {
    "duration": 291,
    "start_time": "2022-11-16T17:58:06.870Z"
   },
   {
    "duration": 1114,
    "start_time": "2022-11-16T17:58:23.117Z"
   },
   {
    "duration": 53,
    "start_time": "2022-11-16T17:58:24.233Z"
   },
   {
    "duration": 45,
    "start_time": "2022-11-16T17:58:24.288Z"
   },
   {
    "duration": 3,
    "start_time": "2022-11-16T17:58:24.336Z"
   },
   {
    "duration": 15,
    "start_time": "2022-11-16T17:58:24.340Z"
   },
   {
    "duration": 9,
    "start_time": "2022-11-16T17:58:24.357Z"
   },
   {
    "duration": 11,
    "start_time": "2022-11-16T17:58:24.367Z"
   },
   {
    "duration": 10,
    "start_time": "2022-11-16T17:58:24.398Z"
   },
   {
    "duration": 38,
    "start_time": "2022-11-16T17:58:24.410Z"
   },
   {
    "duration": 5,
    "start_time": "2022-11-16T17:58:24.451Z"
   },
   {
    "duration": 178,
    "start_time": "2022-11-16T17:58:24.458Z"
   },
   {
    "duration": 7,
    "start_time": "2022-11-16T17:58:24.638Z"
   },
   {
    "duration": 14,
    "start_time": "2022-11-16T17:58:24.646Z"
   },
   {
    "duration": 572,
    "start_time": "2022-11-16T17:58:24.662Z"
   },
   {
    "duration": 7,
    "start_time": "2022-11-16T17:58:25.236Z"
   },
   {
    "duration": 303,
    "start_time": "2022-11-16T17:58:25.244Z"
   },
   {
    "duration": 317,
    "start_time": "2022-11-16T17:58:25.548Z"
   },
   {
    "duration": 10,
    "start_time": "2022-11-16T17:58:25.867Z"
   },
   {
    "duration": 1114,
    "start_time": "2022-11-16T17:59:44.228Z"
   },
   {
    "duration": 51,
    "start_time": "2022-11-16T17:59:45.344Z"
   },
   {
    "duration": 41,
    "start_time": "2022-11-16T17:59:45.396Z"
   },
   {
    "duration": 11,
    "start_time": "2022-11-16T17:59:45.438Z"
   },
   {
    "duration": 13,
    "start_time": "2022-11-16T17:59:45.451Z"
   },
   {
    "duration": 19,
    "start_time": "2022-11-16T17:59:45.466Z"
   },
   {
    "duration": 21,
    "start_time": "2022-11-16T17:59:45.487Z"
   },
   {
    "duration": 7,
    "start_time": "2022-11-16T17:59:45.509Z"
   },
   {
    "duration": 33,
    "start_time": "2022-11-16T17:59:45.518Z"
   },
   {
    "duration": 4,
    "start_time": "2022-11-16T17:59:45.552Z"
   },
   {
    "duration": 188,
    "start_time": "2022-11-16T17:59:45.558Z"
   },
   {
    "duration": 5,
    "start_time": "2022-11-16T17:59:45.748Z"
   },
   {
    "duration": 16,
    "start_time": "2022-11-16T17:59:45.755Z"
   },
   {
    "duration": 7,
    "start_time": "2022-11-16T17:59:45.773Z"
   },
   {
    "duration": 338,
    "start_time": "2022-11-16T17:59:45.796Z"
   },
   {
    "duration": 303,
    "start_time": "2022-11-16T17:59:46.136Z"
   },
   {
    "duration": 10,
    "start_time": "2022-11-16T17:59:46.441Z"
   },
   {
    "duration": 11,
    "start_time": "2022-11-16T18:04:33.878Z"
   },
   {
    "duration": 355,
    "start_time": "2022-11-16T18:04:59.980Z"
   },
   {
    "duration": 12,
    "start_time": "2022-11-16T18:06:59.829Z"
   },
   {
    "duration": 88,
    "start_time": "2022-11-16T18:10:12.940Z"
   },
   {
    "duration": 197,
    "start_time": "2022-11-16T18:11:43.350Z"
   },
   {
    "duration": 218,
    "start_time": "2022-11-16T18:12:00.580Z"
   },
   {
    "duration": 298,
    "start_time": "2022-11-16T18:12:06.118Z"
   },
   {
    "duration": 222,
    "start_time": "2022-11-16T18:12:10.522Z"
   },
   {
    "duration": 248,
    "start_time": "2022-11-16T18:12:15.857Z"
   },
   {
    "duration": 312,
    "start_time": "2022-11-16T18:13:08.631Z"
   },
   {
    "duration": 240,
    "start_time": "2022-11-16T18:13:16.734Z"
   },
   {
    "duration": 8,
    "start_time": "2022-11-16T18:21:08.273Z"
   },
   {
    "duration": 305,
    "start_time": "2022-11-16T18:21:28.008Z"
   },
   {
    "duration": 8,
    "start_time": "2022-11-16T18:26:48.394Z"
   },
   {
    "duration": 6,
    "start_time": "2022-11-16T18:27:00.100Z"
   },
   {
    "duration": 21,
    "start_time": "2022-11-16T18:27:16.656Z"
   },
   {
    "duration": 24,
    "start_time": "2022-11-16T18:27:34.766Z"
   },
   {
    "duration": 21,
    "start_time": "2022-11-16T18:27:38.801Z"
   },
   {
    "duration": 9,
    "start_time": "2022-11-16T18:28:29.731Z"
   },
   {
    "duration": 10,
    "start_time": "2022-11-16T18:28:46.154Z"
   },
   {
    "duration": 9,
    "start_time": "2022-11-16T18:29:05.039Z"
   },
   {
    "duration": 4,
    "start_time": "2022-11-16T18:29:37.278Z"
   },
   {
    "duration": 5,
    "start_time": "2022-11-16T18:29:40.536Z"
   },
   {
    "duration": 13,
    "start_time": "2022-11-16T18:29:48.526Z"
   },
   {
    "duration": 10,
    "start_time": "2022-11-16T18:29:52.986Z"
   },
   {
    "duration": 22,
    "start_time": "2022-11-16T18:30:01.469Z"
   },
   {
    "duration": 20,
    "start_time": "2022-11-16T18:30:10.732Z"
   },
   {
    "duration": 5,
    "start_time": "2022-11-16T18:30:33.072Z"
   },
   {
    "duration": 241,
    "start_time": "2022-11-16T18:30:47.123Z"
   },
   {
    "duration": 255,
    "start_time": "2022-11-16T18:31:00.102Z"
   },
   {
    "duration": 25,
    "start_time": "2022-11-16T18:31:27.937Z"
   },
   {
    "duration": 12,
    "start_time": "2022-11-16T18:38:28.675Z"
   },
   {
    "duration": 29,
    "start_time": "2022-11-16T18:38:31.106Z"
   },
   {
    "duration": 10,
    "start_time": "2022-11-16T18:38:44.411Z"
   },
   {
    "duration": 273,
    "start_time": "2022-11-16T18:41:52.227Z"
   },
   {
    "duration": 247,
    "start_time": "2022-11-16T18:41:59.092Z"
   },
   {
    "duration": 22,
    "start_time": "2022-11-16T19:20:19.015Z"
   },
   {
    "duration": 22,
    "start_time": "2022-11-16T19:20:59.567Z"
   },
   {
    "duration": 5,
    "start_time": "2022-11-16T19:23:48.933Z"
   },
   {
    "duration": 9,
    "start_time": "2022-11-16T19:24:09.516Z"
   },
   {
    "duration": 26,
    "start_time": "2022-11-16T19:24:18.550Z"
   },
   {
    "duration": 10,
    "start_time": "2022-11-16T19:24:48.378Z"
   },
   {
    "duration": 13,
    "start_time": "2022-11-16T19:25:24.258Z"
   },
   {
    "duration": 12,
    "start_time": "2022-11-16T19:25:44.508Z"
   },
   {
    "duration": 11,
    "start_time": "2022-11-16T19:25:58.528Z"
   },
   {
    "duration": 136,
    "start_time": "2022-11-16T19:26:07.728Z"
   },
   {
    "duration": 186,
    "start_time": "2022-11-16T19:26:32.778Z"
   },
   {
    "duration": 228,
    "start_time": "2022-11-16T19:26:49.217Z"
   },
   {
    "duration": 14,
    "start_time": "2022-11-16T19:28:46.380Z"
   },
   {
    "duration": 127,
    "start_time": "2022-11-16T19:30:10.780Z"
   },
   {
    "duration": 15,
    "start_time": "2022-11-16T19:30:17.101Z"
   },
   {
    "duration": 1005,
    "start_time": "2022-11-16T19:30:45.069Z"
   },
   {
    "duration": 877,
    "start_time": "2022-11-16T19:30:58.831Z"
   },
   {
    "duration": 11,
    "start_time": "2022-11-16T19:31:11.545Z"
   },
   {
    "duration": 13,
    "start_time": "2022-11-16T19:31:18.268Z"
   },
   {
    "duration": 126,
    "start_time": "2022-11-16T19:31:51.036Z"
   },
   {
    "duration": 131,
    "start_time": "2022-11-16T19:32:01.088Z"
   },
   {
    "duration": 128,
    "start_time": "2022-11-16T19:32:15.697Z"
   },
   {
    "duration": 123,
    "start_time": "2022-11-16T19:32:36.945Z"
   },
   {
    "duration": 8,
    "start_time": "2022-11-16T19:32:42.428Z"
   },
   {
    "duration": 123,
    "start_time": "2022-11-16T19:32:52.922Z"
   },
   {
    "duration": 764,
    "start_time": "2022-11-16T19:35:30.404Z"
   },
   {
    "duration": 5,
    "start_time": "2022-11-16T19:35:44.520Z"
   },
   {
    "duration": 126,
    "start_time": "2022-11-16T19:37:05.706Z"
   },
   {
    "duration": 138,
    "start_time": "2022-11-16T19:39:52.794Z"
   },
   {
    "duration": 121,
    "start_time": "2022-11-16T19:39:57.367Z"
   },
   {
    "duration": 121,
    "start_time": "2022-11-16T19:40:00.750Z"
   },
   {
    "duration": 118,
    "start_time": "2022-11-16T19:40:12.628Z"
   },
   {
    "duration": 117,
    "start_time": "2022-11-16T19:40:16.346Z"
   },
   {
    "duration": 113,
    "start_time": "2022-11-16T19:40:19.635Z"
   },
   {
    "duration": 110,
    "start_time": "2022-11-16T19:40:24.118Z"
   },
   {
    "duration": 68,
    "start_time": "2022-11-16T19:42:05.105Z"
   },
   {
    "duration": 51,
    "start_time": "2022-11-16T19:42:14.620Z"
   },
   {
    "duration": 116,
    "start_time": "2022-11-16T19:42:20.808Z"
   },
   {
    "duration": 211,
    "start_time": "2022-11-16T19:42:37.275Z"
   },
   {
    "duration": 123,
    "start_time": "2022-11-16T19:43:08.822Z"
   },
   {
    "duration": 124,
    "start_time": "2022-11-16T19:43:19.611Z"
   },
   {
    "duration": 5,
    "start_time": "2022-11-16T19:43:45.060Z"
   },
   {
    "duration": 7,
    "start_time": "2022-11-16T19:43:53.947Z"
   },
   {
    "duration": 11,
    "start_time": "2022-11-16T19:44:42.915Z"
   },
   {
    "duration": 6,
    "start_time": "2022-11-16T19:44:56.977Z"
   },
   {
    "duration": 6,
    "start_time": "2022-11-16T19:45:19.016Z"
   },
   {
    "duration": 5,
    "start_time": "2022-11-16T19:46:18.347Z"
   },
   {
    "duration": 22,
    "start_time": "2022-11-16T19:46:32.854Z"
   },
   {
    "duration": 6,
    "start_time": "2022-11-16T19:46:41.885Z"
   },
   {
    "duration": 5,
    "start_time": "2022-11-16T19:47:06.103Z"
   },
   {
    "duration": 213,
    "start_time": "2022-11-16T19:48:34.106Z"
   },
   {
    "duration": 7,
    "start_time": "2022-11-16T19:48:47.262Z"
   },
   {
    "duration": 4,
    "start_time": "2022-11-16T19:49:18.076Z"
   },
   {
    "duration": 7,
    "start_time": "2022-11-16T19:49:20.610Z"
   },
   {
    "duration": 6,
    "start_time": "2022-11-16T19:49:26.172Z"
   },
   {
    "duration": 4,
    "start_time": "2022-11-16T19:49:37.288Z"
   },
   {
    "duration": 8,
    "start_time": "2022-11-16T19:49:38.517Z"
   },
   {
    "duration": 4,
    "start_time": "2022-11-16T19:49:41.201Z"
   },
   {
    "duration": 7,
    "start_time": "2022-11-16T19:49:41.899Z"
   },
   {
    "duration": 4,
    "start_time": "2022-11-16T19:49:50.749Z"
   },
   {
    "duration": 6,
    "start_time": "2022-11-16T19:49:51.317Z"
   },
   {
    "duration": 7,
    "start_time": "2022-11-16T19:49:53.646Z"
   },
   {
    "duration": 5,
    "start_time": "2022-11-16T19:50:31.077Z"
   },
   {
    "duration": 5,
    "start_time": "2022-11-16T19:50:31.286Z"
   },
   {
    "duration": 33,
    "start_time": "2022-11-16T19:51:58.829Z"
   },
   {
    "duration": 5,
    "start_time": "2022-11-16T19:52:05.926Z"
   },
   {
    "duration": 119,
    "start_time": "2022-11-16T19:53:12.458Z"
   },
   {
    "duration": 126,
    "start_time": "2022-11-16T19:54:31.848Z"
   },
   {
    "duration": 6,
    "start_time": "2022-11-16T19:54:40.382Z"
   },
   {
    "duration": 115,
    "start_time": "2022-11-16T19:55:17.533Z"
   },
   {
    "duration": 111,
    "start_time": "2022-11-16T19:55:28.776Z"
   },
   {
    "duration": 41,
    "start_time": "2022-11-16T19:57:18.229Z"
   },
   {
    "duration": 52,
    "start_time": "2022-11-16T19:57:44.729Z"
   },
   {
    "duration": 5,
    "start_time": "2022-11-16T19:58:05.764Z"
   },
   {
    "duration": 10,
    "start_time": "2022-11-16T19:58:09.351Z"
   },
   {
    "duration": 5,
    "start_time": "2022-11-16T19:58:14.799Z"
   },
   {
    "duration": 6,
    "start_time": "2022-11-16T19:58:28.224Z"
   },
   {
    "duration": 5,
    "start_time": "2022-11-16T19:59:30.697Z"
   },
   {
    "duration": 7,
    "start_time": "2022-11-16T19:59:37.304Z"
   },
   {
    "duration": 6,
    "start_time": "2022-11-16T19:59:43.419Z"
   },
   {
    "duration": 5,
    "start_time": "2022-11-16T19:59:54.744Z"
   },
   {
    "duration": 6,
    "start_time": "2022-11-16T20:00:29.967Z"
   },
   {
    "duration": 127,
    "start_time": "2022-11-16T20:00:34.316Z"
   },
   {
    "duration": 9,
    "start_time": "2022-11-16T20:05:30.903Z"
   },
   {
    "duration": 5,
    "start_time": "2022-11-16T20:05:34.582Z"
   },
   {
    "duration": 6,
    "start_time": "2022-11-16T20:05:34.972Z"
   },
   {
    "duration": 116,
    "start_time": "2022-11-16T20:05:35.468Z"
   },
   {
    "duration": 5,
    "start_time": "2022-11-16T20:05:47.303Z"
   },
   {
    "duration": 115,
    "start_time": "2022-11-16T20:05:48.038Z"
   },
   {
    "duration": 118,
    "start_time": "2022-11-16T20:05:52.715Z"
   },
   {
    "duration": 4,
    "start_time": "2022-11-16T20:06:17.443Z"
   },
   {
    "duration": 6,
    "start_time": "2022-11-16T20:06:38.619Z"
   },
   {
    "duration": 20,
    "start_time": "2022-11-16T20:06:42.385Z"
   },
   {
    "duration": 5,
    "start_time": "2022-11-16T20:07:14.422Z"
   },
   {
    "duration": 121,
    "start_time": "2022-11-16T20:07:33.429Z"
   },
   {
    "duration": 6,
    "start_time": "2022-11-16T20:08:05.244Z"
   },
   {
    "duration": 121,
    "start_time": "2022-11-16T20:08:21.388Z"
   },
   {
    "duration": 6,
    "start_time": "2022-11-16T20:09:19.149Z"
   },
   {
    "duration": 4,
    "start_time": "2022-11-16T20:10:27.496Z"
   },
   {
    "duration": 25,
    "start_time": "2022-11-16T20:10:33.048Z"
   },
   {
    "duration": 4,
    "start_time": "2022-11-16T20:11:26.414Z"
   },
   {
    "duration": 118,
    "start_time": "2022-11-16T20:11:28.628Z"
   },
   {
    "duration": 4,
    "start_time": "2022-11-16T20:12:16.671Z"
   },
   {
    "duration": 126,
    "start_time": "2022-11-16T20:12:39.087Z"
   },
   {
    "duration": 5,
    "start_time": "2022-11-16T20:13:11.639Z"
   },
   {
    "duration": 164,
    "start_time": "2022-11-16T20:13:24.524Z"
   },
   {
    "duration": 6,
    "start_time": "2022-11-16T20:13:55.658Z"
   },
   {
    "duration": 5,
    "start_time": "2022-11-16T20:14:41.917Z"
   },
   {
    "duration": 21,
    "start_time": "2022-11-16T20:14:45.175Z"
   },
   {
    "duration": 6,
    "start_time": "2022-11-16T20:15:16.875Z"
   },
   {
    "duration": 116,
    "start_time": "2022-11-16T20:15:36.729Z"
   },
   {
    "duration": 4,
    "start_time": "2022-11-16T20:15:52.342Z"
   },
   {
    "duration": 140,
    "start_time": "2022-11-16T20:15:53.882Z"
   },
   {
    "duration": 4,
    "start_time": "2022-11-16T20:16:16.939Z"
   },
   {
    "duration": 141,
    "start_time": "2022-11-16T20:16:32.659Z"
   },
   {
    "duration": 4,
    "start_time": "2022-11-16T20:24:09.785Z"
   },
   {
    "duration": 4,
    "start_time": "2022-11-16T20:25:00.832Z"
   },
   {
    "duration": 5,
    "start_time": "2022-11-16T20:25:15.724Z"
   },
   {
    "duration": 23,
    "start_time": "2022-11-16T20:26:43.627Z"
   },
   {
    "duration": 5,
    "start_time": "2022-11-16T20:26:50.938Z"
   },
   {
    "duration": 14,
    "start_time": "2022-11-16T20:27:00.362Z"
   },
   {
    "duration": 11,
    "start_time": "2022-11-16T20:33:22.015Z"
   },
   {
    "duration": 10,
    "start_time": "2022-11-16T20:33:33.222Z"
   },
   {
    "duration": 10,
    "start_time": "2022-11-16T20:33:54.135Z"
   },
   {
    "duration": 12,
    "start_time": "2022-11-16T20:35:05.678Z"
   },
   {
    "duration": 9,
    "start_time": "2022-11-16T20:35:19.723Z"
   },
   {
    "duration": 131,
    "start_time": "2022-11-16T20:39:25.613Z"
   },
   {
    "duration": 189,
    "start_time": "2022-11-16T20:39:34.267Z"
   },
   {
    "duration": 259,
    "start_time": "2022-11-16T20:39:57.005Z"
   },
   {
    "duration": 11,
    "start_time": "2022-11-16T20:40:12.980Z"
   },
   {
    "duration": 53,
    "start_time": "2022-11-16T21:22:13.842Z"
   },
   {
    "duration": 5,
    "start_time": "2022-11-16T21:23:56.819Z"
   },
   {
    "duration": 1133,
    "start_time": "2022-11-16T21:24:04.687Z"
   },
   {
    "duration": 51,
    "start_time": "2022-11-16T21:24:05.822Z"
   },
   {
    "duration": 41,
    "start_time": "2022-11-16T21:24:05.875Z"
   },
   {
    "duration": 3,
    "start_time": "2022-11-16T21:24:05.917Z"
   },
   {
    "duration": 12,
    "start_time": "2022-11-16T21:24:05.922Z"
   },
   {
    "duration": 14,
    "start_time": "2022-11-16T21:24:05.936Z"
   },
   {
    "duration": 24,
    "start_time": "2022-11-16T21:24:05.951Z"
   },
   {
    "duration": 13,
    "start_time": "2022-11-16T21:24:05.976Z"
   },
   {
    "duration": 34,
    "start_time": "2022-11-16T21:24:05.991Z"
   },
   {
    "duration": 4,
    "start_time": "2022-11-16T21:24:06.027Z"
   },
   {
    "duration": 166,
    "start_time": "2022-11-16T21:24:06.033Z"
   },
   {
    "duration": 6,
    "start_time": "2022-11-16T21:24:06.200Z"
   },
   {
    "duration": 13,
    "start_time": "2022-11-16T21:24:06.207Z"
   },
   {
    "duration": 507,
    "start_time": "2022-11-16T21:24:06.223Z"
   },
   {
    "duration": 7,
    "start_time": "2022-11-16T21:24:06.732Z"
   },
   {
    "duration": 315,
    "start_time": "2022-11-16T21:24:06.740Z"
   },
   {
    "duration": 296,
    "start_time": "2022-11-16T21:24:07.057Z"
   },
   {
    "duration": 10,
    "start_time": "2022-11-16T21:24:07.355Z"
   },
   {
    "duration": 281,
    "start_time": "2022-11-16T21:24:07.366Z"
   },
   {
    "duration": 4,
    "start_time": "2022-11-16T21:24:07.649Z"
   },
   {
    "duration": 6,
    "start_time": "2022-11-16T21:24:07.654Z"
   },
   {
    "duration": 113,
    "start_time": "2022-11-16T21:24:07.662Z"
   },
   {
    "duration": 5,
    "start_time": "2022-11-16T21:24:07.777Z"
   },
   {
    "duration": 130,
    "start_time": "2022-11-16T21:24:07.783Z"
   },
   {
    "duration": 5,
    "start_time": "2022-11-16T21:24:07.915Z"
   },
   {
    "duration": 7,
    "start_time": "2022-11-16T21:24:07.921Z"
   },
   {
    "duration": 215,
    "start_time": "2022-11-16T21:24:07.929Z"
   },
   {
    "duration": 5,
    "start_time": "2022-11-16T21:24:08.145Z"
   },
   {
    "duration": 127,
    "start_time": "2022-11-16T21:24:08.151Z"
   },
   {
    "duration": 4,
    "start_time": "2022-11-16T21:24:08.279Z"
   },
   {
    "duration": 12,
    "start_time": "2022-11-16T21:24:08.285Z"
   },
   {
    "duration": 123,
    "start_time": "2022-11-16T21:24:08.298Z"
   },
   {
    "duration": 4,
    "start_time": "2022-11-16T21:24:08.422Z"
   },
   {
    "duration": 144,
    "start_time": "2022-11-16T21:24:08.427Z"
   },
   {
    "duration": 5,
    "start_time": "2022-11-16T21:24:08.573Z"
   },
   {
    "duration": 8,
    "start_time": "2022-11-16T21:24:08.579Z"
   },
   {
    "duration": 118,
    "start_time": "2022-11-16T21:24:08.597Z"
   },
   {
    "duration": 5,
    "start_time": "2022-11-16T21:24:08.716Z"
   },
   {
    "duration": 138,
    "start_time": "2022-11-16T21:24:08.723Z"
   },
   {
    "duration": 10,
    "start_time": "2022-11-16T21:24:08.863Z"
   },
   {
    "duration": 489,
    "start_time": "2022-11-16T21:25:12.073Z"
   },
   {
    "duration": 6,
    "start_time": "2022-11-16T21:25:17.282Z"
   },
   {
    "duration": 16,
    "start_time": "2022-11-16T21:25:19.921Z"
   },
   {
    "duration": 491,
    "start_time": "2022-11-16T21:25:24.787Z"
   },
   {
    "duration": 5,
    "start_time": "2022-11-16T21:26:27.044Z"
   },
   {
    "duration": 1095,
    "start_time": "2022-11-16T21:26:48.583Z"
   },
   {
    "duration": 52,
    "start_time": "2022-11-16T21:26:49.680Z"
   },
   {
    "duration": 43,
    "start_time": "2022-11-16T21:26:49.734Z"
   },
   {
    "duration": 3,
    "start_time": "2022-11-16T21:26:49.779Z"
   },
   {
    "duration": 13,
    "start_time": "2022-11-16T21:26:49.784Z"
   },
   {
    "duration": 5,
    "start_time": "2022-11-16T21:26:49.799Z"
   },
   {
    "duration": 14,
    "start_time": "2022-11-16T21:26:49.805Z"
   },
   {
    "duration": 7,
    "start_time": "2022-11-16T21:26:49.821Z"
   },
   {
    "duration": 33,
    "start_time": "2022-11-16T21:26:49.830Z"
   },
   {
    "duration": 34,
    "start_time": "2022-11-16T21:26:49.866Z"
   },
   {
    "duration": 169,
    "start_time": "2022-11-16T21:26:49.902Z"
   },
   {
    "duration": 5,
    "start_time": "2022-11-16T21:26:50.073Z"
   },
   {
    "duration": 32,
    "start_time": "2022-11-16T21:26:50.079Z"
   },
   {
    "duration": 501,
    "start_time": "2022-11-16T21:26:50.113Z"
   },
   {
    "duration": 9,
    "start_time": "2022-11-16T21:26:50.616Z"
   },
   {
    "duration": 311,
    "start_time": "2022-11-16T21:26:50.627Z"
   },
   {
    "duration": 311,
    "start_time": "2022-11-16T21:26:50.940Z"
   },
   {
    "duration": 12,
    "start_time": "2022-11-16T21:26:51.253Z"
   },
   {
    "duration": 287,
    "start_time": "2022-11-16T21:26:51.267Z"
   },
   {
    "duration": 4,
    "start_time": "2022-11-16T21:26:51.556Z"
   },
   {
    "duration": 8,
    "start_time": "2022-11-16T21:26:51.562Z"
   },
   {
    "duration": 128,
    "start_time": "2022-11-16T21:26:51.571Z"
   },
   {
    "duration": 4,
    "start_time": "2022-11-16T21:26:51.701Z"
   },
   {
    "duration": 134,
    "start_time": "2022-11-16T21:26:51.707Z"
   },
   {
    "duration": 4,
    "start_time": "2022-11-16T21:26:51.843Z"
   },
   {
    "duration": 23,
    "start_time": "2022-11-16T21:26:51.848Z"
   },
   {
    "duration": 212,
    "start_time": "2022-11-16T21:26:51.872Z"
   },
   {
    "duration": 11,
    "start_time": "2022-11-16T21:26:52.087Z"
   },
   {
    "duration": 130,
    "start_time": "2022-11-16T21:26:52.099Z"
   },
   {
    "duration": 4,
    "start_time": "2022-11-16T21:26:52.231Z"
   },
   {
    "duration": 9,
    "start_time": "2022-11-16T21:26:52.236Z"
   },
   {
    "duration": 172,
    "start_time": "2022-11-16T21:26:52.247Z"
   },
   {
    "duration": 5,
    "start_time": "2022-11-16T21:26:52.420Z"
   },
   {
    "duration": 148,
    "start_time": "2022-11-16T21:26:52.427Z"
   },
   {
    "duration": 6,
    "start_time": "2022-11-16T21:26:52.576Z"
   },
   {
    "duration": 26,
    "start_time": "2022-11-16T21:26:52.583Z"
   },
   {
    "duration": 136,
    "start_time": "2022-11-16T21:26:52.611Z"
   },
   {
    "duration": 4,
    "start_time": "2022-11-16T21:26:52.749Z"
   },
   {
    "duration": 174,
    "start_time": "2022-11-16T21:26:52.754Z"
   },
   {
    "duration": 11,
    "start_time": "2022-11-16T21:26:52.930Z"
   },
   {
    "duration": 1350,
    "start_time": "2022-11-17T11:38:55.124Z"
   },
   {
    "duration": 194,
    "start_time": "2022-11-17T11:38:57.383Z"
   },
   {
    "duration": 47,
    "start_time": "2022-11-17T11:38:58.993Z"
   },
   {
    "duration": 3,
    "start_time": "2022-11-17T11:39:01.125Z"
   },
   {
    "duration": 9,
    "start_time": "2022-11-17T11:39:01.559Z"
   },
   {
    "duration": 6,
    "start_time": "2022-11-17T11:39:01.991Z"
   },
   {
    "duration": 13,
    "start_time": "2022-11-17T11:39:02.594Z"
   },
   {
    "duration": 8,
    "start_time": "2022-11-17T11:39:04.481Z"
   },
   {
    "duration": 38,
    "start_time": "2022-11-17T11:39:04.840Z"
   },
   {
    "duration": 5,
    "start_time": "2022-11-17T11:39:08.526Z"
   },
   {
    "duration": 172,
    "start_time": "2022-11-17T11:39:12.317Z"
   },
   {
    "duration": 6,
    "start_time": "2022-11-17T11:39:14.968Z"
   },
   {
    "duration": 15,
    "start_time": "2022-11-17T11:39:17.181Z"
   },
   {
    "duration": 567,
    "start_time": "2022-11-17T11:39:19.999Z"
   },
   {
    "duration": 10,
    "start_time": "2022-11-17T11:39:24.212Z"
   },
   {
    "duration": 352,
    "start_time": "2022-11-17T11:39:26.698Z"
   },
   {
    "duration": 351,
    "start_time": "2022-11-17T11:39:27.982Z"
   },
   {
    "duration": 12,
    "start_time": "2022-11-17T11:39:33.192Z"
   },
   {
    "duration": 358,
    "start_time": "2022-11-17T11:39:35.788Z"
   },
   {
    "duration": 5,
    "start_time": "2022-11-17T11:39:40.235Z"
   },
   {
    "duration": 4,
    "start_time": "2022-11-17T11:39:40.578Z"
   },
   {
    "duration": 142,
    "start_time": "2022-11-17T11:39:40.923Z"
   },
   {
    "duration": 5,
    "start_time": "2022-11-17T11:39:43.997Z"
   },
   {
    "duration": 161,
    "start_time": "2022-11-17T11:39:44.347Z"
   },
   {
    "duration": 4,
    "start_time": "2022-11-17T11:39:48.205Z"
   },
   {
    "duration": 5,
    "start_time": "2022-11-17T11:39:48.542Z"
   },
   {
    "duration": 253,
    "start_time": "2022-11-17T11:39:48.897Z"
   },
   {
    "duration": 4,
    "start_time": "2022-11-17T11:39:51.356Z"
   },
   {
    "duration": 135,
    "start_time": "2022-11-17T11:39:51.606Z"
   },
   {
    "duration": 4,
    "start_time": "2022-11-17T11:39:53.601Z"
   },
   {
    "duration": 5,
    "start_time": "2022-11-17T11:39:54.972Z"
   },
   {
    "duration": 142,
    "start_time": "2022-11-17T11:39:55.348Z"
   },
   {
    "duration": 5,
    "start_time": "2022-11-17T11:39:57.397Z"
   },
   {
    "duration": 140,
    "start_time": "2022-11-17T11:39:57.722Z"
   },
   {
    "duration": 5,
    "start_time": "2022-11-17T11:39:59.844Z"
   },
   {
    "duration": 5,
    "start_time": "2022-11-17T11:40:00.191Z"
   },
   {
    "duration": 130,
    "start_time": "2022-11-17T11:40:00.544Z"
   },
   {
    "duration": 5,
    "start_time": "2022-11-17T11:40:02.279Z"
   },
   {
    "duration": 149,
    "start_time": "2022-11-17T11:40:02.662Z"
   },
   {
    "duration": 106,
    "start_time": "2022-11-17T11:40:15.212Z"
   },
   {
    "duration": 8,
    "start_time": "2022-11-17T11:40:33.112Z"
   },
   {
    "duration": 20,
    "start_time": "2022-11-17T11:40:35.474Z"
   },
   {
    "duration": 23,
    "start_time": "2022-11-17T11:40:53.560Z"
   },
   {
    "duration": 4,
    "start_time": "2022-11-17T11:41:25.828Z"
   },
   {
    "duration": 8,
    "start_time": "2022-11-17T11:41:29.849Z"
   },
   {
    "duration": 8,
    "start_time": "2022-11-17T11:41:39.407Z"
   },
   {
    "duration": 11,
    "start_time": "2022-11-17T11:41:47.748Z"
   },
   {
    "duration": 11,
    "start_time": "2022-11-17T11:41:59.041Z"
   },
   {
    "duration": 9,
    "start_time": "2022-11-17T11:42:13.430Z"
   },
   {
    "duration": 22,
    "start_time": "2022-11-17T11:43:11.214Z"
   },
   {
    "duration": 73,
    "start_time": "2022-11-17T11:43:24.444Z"
   },
   {
    "duration": 43,
    "start_time": "2022-11-17T11:43:29.177Z"
   },
   {
    "duration": 10,
    "start_time": "2022-11-17T11:44:14.344Z"
   },
   {
    "duration": 11,
    "start_time": "2022-11-17T11:44:59.463Z"
   },
   {
    "duration": 10,
    "start_time": "2022-11-17T11:45:20.031Z"
   },
   {
    "duration": 11,
    "start_time": "2022-11-17T11:45:57.617Z"
   },
   {
    "duration": 14,
    "start_time": "2022-11-17T11:46:05.960Z"
   },
   {
    "duration": 12,
    "start_time": "2022-11-17T11:48:39.949Z"
   },
   {
    "duration": 13,
    "start_time": "2022-11-17T11:52:59.701Z"
   },
   {
    "duration": 10,
    "start_time": "2022-11-17T11:53:32.742Z"
   },
   {
    "duration": 7,
    "start_time": "2022-11-17T11:53:37.827Z"
   },
   {
    "duration": 28,
    "start_time": "2022-11-17T11:55:11.135Z"
   },
   {
    "duration": 8,
    "start_time": "2022-11-17T11:55:22.895Z"
   },
   {
    "duration": 5,
    "start_time": "2022-11-17T11:55:27.102Z"
   },
   {
    "duration": 10,
    "start_time": "2022-11-17T11:55:39.601Z"
   },
   {
    "duration": 9,
    "start_time": "2022-11-17T11:55:42.386Z"
   },
   {
    "duration": 9,
    "start_time": "2022-11-17T11:55:51.384Z"
   },
   {
    "duration": 8,
    "start_time": "2022-11-17T11:55:52.451Z"
   },
   {
    "duration": 9,
    "start_time": "2022-11-17T11:58:08.827Z"
   },
   {
    "duration": 9,
    "start_time": "2022-11-17T11:58:09.427Z"
   },
   {
    "duration": 11,
    "start_time": "2022-11-17T12:01:21.834Z"
   },
   {
    "duration": 11,
    "start_time": "2022-11-17T12:01:23.032Z"
   },
   {
    "duration": 7,
    "start_time": "2022-11-17T12:01:52.146Z"
   },
   {
    "duration": 10,
    "start_time": "2022-11-17T12:01:57.459Z"
   },
   {
    "duration": 113,
    "start_time": "2022-11-17T12:02:25.258Z"
   },
   {
    "duration": 7,
    "start_time": "2022-11-17T12:02:25.436Z"
   },
   {
    "duration": 8,
    "start_time": "2022-11-17T12:02:35.883Z"
   },
   {
    "duration": 9,
    "start_time": "2022-11-17T12:02:39.870Z"
   },
   {
    "duration": 8,
    "start_time": "2022-11-17T12:02:42.399Z"
   },
   {
    "duration": 9,
    "start_time": "2022-11-17T12:03:17.594Z"
   },
   {
    "duration": 9,
    "start_time": "2022-11-17T12:03:18.769Z"
   },
   {
    "duration": 15,
    "start_time": "2022-11-17T12:04:14.780Z"
   },
   {
    "duration": 15,
    "start_time": "2022-11-17T12:04:22.925Z"
   },
   {
    "duration": 21,
    "start_time": "2022-11-17T12:06:18.117Z"
   },
   {
    "duration": 8,
    "start_time": "2022-11-17T12:06:54.970Z"
   },
   {
    "duration": 17,
    "start_time": "2022-11-17T12:06:59.495Z"
   },
   {
    "duration": 14,
    "start_time": "2022-11-17T12:07:09.260Z"
   },
   {
    "duration": 13,
    "start_time": "2022-11-17T12:23:20.786Z"
   },
   {
    "duration": 44,
    "start_time": "2022-11-17T12:25:17.322Z"
   },
   {
    "duration": 19,
    "start_time": "2022-11-17T12:26:06.418Z"
   },
   {
    "duration": 14,
    "start_time": "2022-11-17T12:26:48.510Z"
   },
   {
    "duration": 19,
    "start_time": "2022-11-17T12:27:05.899Z"
   },
   {
    "duration": 16,
    "start_time": "2022-11-17T12:29:08.047Z"
   },
   {
    "duration": 16,
    "start_time": "2022-11-17T12:29:25.807Z"
   },
   {
    "duration": 14,
    "start_time": "2022-11-17T12:29:42.065Z"
   },
   {
    "duration": 13,
    "start_time": "2022-11-17T12:31:47.806Z"
   },
   {
    "duration": 15,
    "start_time": "2022-11-17T12:32:06.388Z"
   },
   {
    "duration": 15,
    "start_time": "2022-11-17T12:34:12.619Z"
   },
   {
    "duration": 15,
    "start_time": "2022-11-17T12:36:25.868Z"
   },
   {
    "duration": 58,
    "start_time": "2022-11-17T12:38:21.742Z"
   },
   {
    "duration": 11,
    "start_time": "2022-11-17T12:38:52.069Z"
   },
   {
    "duration": 1315,
    "start_time": "2022-11-17T17:25:13.320Z"
   },
   {
    "duration": 220,
    "start_time": "2022-11-17T17:25:14.637Z"
   },
   {
    "duration": 55,
    "start_time": "2022-11-17T17:25:16.438Z"
   },
   {
    "duration": 3,
    "start_time": "2022-11-17T17:25:20.292Z"
   },
   {
    "duration": 11,
    "start_time": "2022-11-17T17:25:22.071Z"
   },
   {
    "duration": 5,
    "start_time": "2022-11-17T17:25:29.208Z"
   },
   {
    "duration": 8,
    "start_time": "2022-11-17T17:25:57.353Z"
   },
   {
    "duration": 8,
    "start_time": "2022-11-17T17:26:08.098Z"
   },
   {
    "duration": 5,
    "start_time": "2022-11-17T17:26:08.952Z"
   },
   {
    "duration": 1157,
    "start_time": "2022-11-17T18:26:39.990Z"
   },
   {
    "duration": 56,
    "start_time": "2022-11-17T18:26:44.169Z"
   },
   {
    "duration": 50,
    "start_time": "2022-11-17T18:26:46.507Z"
   },
   {
    "duration": 4,
    "start_time": "2022-11-17T18:26:49.820Z"
   },
   {
    "duration": 9,
    "start_time": "2022-11-17T18:26:51.521Z"
   },
   {
    "duration": 6,
    "start_time": "2022-11-17T18:26:52.258Z"
   },
   {
    "duration": 9,
    "start_time": "2022-11-17T18:26:52.824Z"
   },
   {
    "duration": 8,
    "start_time": "2022-11-17T18:28:07.465Z"
   },
   {
    "duration": 39,
    "start_time": "2022-11-17T18:28:08.342Z"
   },
   {
    "duration": 7,
    "start_time": "2022-11-17T18:28:36.784Z"
   },
   {
    "duration": 179,
    "start_time": "2022-11-17T18:28:45.018Z"
   },
   {
    "duration": 8,
    "start_time": "2022-11-17T18:29:16.680Z"
   },
   {
    "duration": 14,
    "start_time": "2022-11-17T18:29:17.706Z"
   },
   {
    "duration": 10,
    "start_time": "2022-11-17T18:29:31.994Z"
   },
   {
    "duration": 354,
    "start_time": "2022-11-17T18:30:28.242Z"
   },
   {
    "duration": 251,
    "start_time": "2022-11-17T18:32:21.197Z"
   },
   {
    "duration": 4,
    "start_time": "2022-11-17T18:32:31.322Z"
   },
   {
    "duration": 7,
    "start_time": "2022-11-17T18:32:32.463Z"
   },
   {
    "duration": 129,
    "start_time": "2022-11-17T18:32:33.880Z"
   },
   {
    "duration": 6,
    "start_time": "2022-11-17T18:32:44.679Z"
   },
   {
    "duration": 185,
    "start_time": "2022-11-17T18:32:46.299Z"
   },
   {
    "duration": 4,
    "start_time": "2022-11-17T18:32:51.045Z"
   },
   {
    "duration": 5,
    "start_time": "2022-11-17T18:32:52.159Z"
   },
   {
    "duration": 142,
    "start_time": "2022-11-17T18:32:54.459Z"
   },
   {
    "duration": 6,
    "start_time": "2022-11-17T18:32:56.955Z"
   },
   {
    "duration": 149,
    "start_time": "2022-11-17T18:32:58.688Z"
   },
   {
    "duration": 4,
    "start_time": "2022-11-17T18:33:01.542Z"
   },
   {
    "duration": 5,
    "start_time": "2022-11-17T18:33:02.449Z"
   },
   {
    "duration": 145,
    "start_time": "2022-11-17T18:33:04.292Z"
   },
   {
    "duration": 5,
    "start_time": "2022-11-17T18:33:05.815Z"
   },
   {
    "duration": 223,
    "start_time": "2022-11-17T18:33:07.620Z"
   },
   {
    "duration": 4,
    "start_time": "2022-11-17T18:33:10.604Z"
   },
   {
    "duration": 5,
    "start_time": "2022-11-17T18:33:11.426Z"
   },
   {
    "duration": 146,
    "start_time": "2022-11-17T18:33:13.422Z"
   },
   {
    "duration": 5,
    "start_time": "2022-11-17T18:33:16.256Z"
   },
   {
    "duration": 132,
    "start_time": "2022-11-17T18:33:18.192Z"
   },
   {
    "duration": 4,
    "start_time": "2022-11-17T18:34:21.796Z"
   },
   {
    "duration": 135,
    "start_time": "2022-11-17T18:34:23.145Z"
   },
   {
    "duration": 99,
    "start_time": "2022-11-17T18:34:35.842Z"
   },
   {
    "duration": 4,
    "start_time": "2022-11-17T18:34:40.766Z"
   },
   {
    "duration": 10,
    "start_time": "2022-11-17T18:34:41.277Z"
   },
   {
    "duration": 5,
    "start_time": "2022-11-17T18:34:56.002Z"
   },
   {
    "duration": 146,
    "start_time": "2022-11-17T18:34:57.612Z"
   },
   {
    "duration": 4,
    "start_time": "2022-11-17T18:35:45.763Z"
   },
   {
    "duration": 131,
    "start_time": "2022-11-17T18:35:54.970Z"
   },
   {
    "duration": 11,
    "start_time": "2022-11-17T18:36:07.246Z"
   },
   {
    "duration": 13,
    "start_time": "2022-11-17T18:36:56.765Z"
   },
   {
    "duration": 18,
    "start_time": "2022-11-17T18:37:46.146Z"
   },
   {
    "duration": 16,
    "start_time": "2022-11-17T18:37:58.805Z"
   },
   {
    "duration": 14,
    "start_time": "2022-11-17T18:39:59.303Z"
   },
   {
    "duration": 12,
    "start_time": "2022-11-17T18:40:27.955Z"
   },
   {
    "duration": 14,
    "start_time": "2022-11-17T18:41:52.784Z"
   },
   {
    "duration": 15,
    "start_time": "2022-11-17T18:42:33.458Z"
   },
   {
    "duration": 14,
    "start_time": "2022-11-17T18:42:43.530Z"
   },
   {
    "duration": 15,
    "start_time": "2022-11-17T18:43:10.958Z"
   },
   {
    "duration": 20,
    "start_time": "2022-11-17T18:43:24.217Z"
   },
   {
    "duration": 14,
    "start_time": "2022-11-17T18:43:38.309Z"
   },
   {
    "duration": 1174,
    "start_time": "2022-11-17T18:48:48.933Z"
   },
   {
    "duration": 56,
    "start_time": "2022-11-17T18:48:50.108Z"
   },
   {
    "duration": 50,
    "start_time": "2022-11-17T18:48:50.166Z"
   },
   {
    "duration": 4,
    "start_time": "2022-11-17T18:48:50.218Z"
   },
   {
    "duration": 15,
    "start_time": "2022-11-17T18:48:50.224Z"
   },
   {
    "duration": 14,
    "start_time": "2022-11-17T18:48:50.241Z"
   },
   {
    "duration": 18,
    "start_time": "2022-11-17T18:48:50.256Z"
   },
   {
    "duration": 13,
    "start_time": "2022-11-17T18:48:50.276Z"
   },
   {
    "duration": 41,
    "start_time": "2022-11-17T18:48:50.291Z"
   },
   {
    "duration": 6,
    "start_time": "2022-11-17T18:48:50.333Z"
   },
   {
    "duration": 183,
    "start_time": "2022-11-17T18:48:50.340Z"
   },
   {
    "duration": 6,
    "start_time": "2022-11-17T18:48:50.524Z"
   },
   {
    "duration": 19,
    "start_time": "2022-11-17T18:48:50.531Z"
   },
   {
    "duration": 546,
    "start_time": "2022-11-17T18:48:50.554Z"
   },
   {
    "duration": 8,
    "start_time": "2022-11-17T18:48:51.101Z"
   },
   {
    "duration": 338,
    "start_time": "2022-11-17T18:48:51.111Z"
   },
   {
    "duration": 323,
    "start_time": "2022-11-17T18:48:51.451Z"
   },
   {
    "duration": 12,
    "start_time": "2022-11-17T18:48:51.776Z"
   },
   {
    "duration": 257,
    "start_time": "2022-11-17T18:48:51.790Z"
   },
   {
    "duration": 4,
    "start_time": "2022-11-17T18:48:52.049Z"
   },
   {
    "duration": 21,
    "start_time": "2022-11-17T18:48:52.056Z"
   },
   {
    "duration": 142,
    "start_time": "2022-11-17T18:48:52.079Z"
   },
   {
    "duration": 4,
    "start_time": "2022-11-17T18:48:52.223Z"
   },
   {
    "duration": 132,
    "start_time": "2022-11-17T18:48:52.229Z"
   },
   {
    "duration": 4,
    "start_time": "2022-11-17T18:48:52.363Z"
   },
   {
    "duration": 24,
    "start_time": "2022-11-17T18:48:52.368Z"
   },
   {
    "duration": 242,
    "start_time": "2022-11-17T18:48:52.393Z"
   },
   {
    "duration": 5,
    "start_time": "2022-11-17T18:48:52.637Z"
   },
   {
    "duration": 142,
    "start_time": "2022-11-17T18:48:52.644Z"
   },
   {
    "duration": 4,
    "start_time": "2022-11-17T18:48:52.788Z"
   },
   {
    "duration": 21,
    "start_time": "2022-11-17T18:48:52.793Z"
   },
   {
    "duration": 151,
    "start_time": "2022-11-17T18:48:52.816Z"
   },
   {
    "duration": 4,
    "start_time": "2022-11-17T18:48:52.969Z"
   },
   {
    "duration": 145,
    "start_time": "2022-11-17T18:48:52.975Z"
   },
   {
    "duration": 3,
    "start_time": "2022-11-17T18:48:53.122Z"
   },
   {
    "duration": 8,
    "start_time": "2022-11-17T18:48:53.127Z"
   },
   {
    "duration": 111,
    "start_time": "2022-11-17T18:48:53.136Z"
   },
   {
    "duration": 0,
    "start_time": "2022-11-17T18:48:53.248Z"
   },
   {
    "duration": 0,
    "start_time": "2022-11-17T18:48:53.250Z"
   },
   {
    "duration": 0,
    "start_time": "2022-11-17T18:48:53.251Z"
   },
   {
    "duration": 0,
    "start_time": "2022-11-17T18:48:53.253Z"
   },
   {
    "duration": 0,
    "start_time": "2022-11-17T18:48:53.254Z"
   },
   {
    "duration": 0,
    "start_time": "2022-11-17T18:48:53.255Z"
   },
   {
    "duration": 0,
    "start_time": "2022-11-17T18:48:53.256Z"
   },
   {
    "duration": 0,
    "start_time": "2022-11-17T18:48:53.257Z"
   },
   {
    "duration": 0,
    "start_time": "2022-11-17T18:48:53.258Z"
   },
   {
    "duration": 0,
    "start_time": "2022-11-17T18:48:53.259Z"
   },
   {
    "duration": 0,
    "start_time": "2022-11-17T18:48:53.260Z"
   },
   {
    "duration": 0,
    "start_time": "2022-11-17T18:48:53.261Z"
   },
   {
    "duration": 131,
    "start_time": "2022-11-17T18:53:39.873Z"
   },
   {
    "duration": 4,
    "start_time": "2022-11-17T18:54:12.153Z"
   },
   {
    "duration": 132,
    "start_time": "2022-11-17T18:54:13.033Z"
   },
   {
    "duration": 11,
    "start_time": "2022-11-17T18:54:20.859Z"
   },
   {
    "duration": 14,
    "start_time": "2022-11-17T18:55:13.771Z"
   },
   {
    "duration": 16,
    "start_time": "2022-11-17T18:55:52.158Z"
   },
   {
    "duration": 11,
    "start_time": "2022-11-17T18:56:13.182Z"
   },
   {
    "duration": 13,
    "start_time": "2022-11-17T19:01:19.415Z"
   },
   {
    "duration": 14,
    "start_time": "2022-11-17T19:01:26.740Z"
   },
   {
    "duration": 12,
    "start_time": "2022-11-17T19:01:59.014Z"
   },
   {
    "duration": 14,
    "start_time": "2022-11-17T19:05:03.600Z"
   },
   {
    "duration": 14,
    "start_time": "2022-11-17T19:05:13.671Z"
   },
   {
    "duration": 11,
    "start_time": "2022-11-17T19:06:25.323Z"
   },
   {
    "duration": 147,
    "start_time": "2022-11-17T19:13:59.251Z"
   },
   {
    "duration": 194,
    "start_time": "2022-11-17T19:14:05.010Z"
   },
   {
    "duration": 15,
    "start_time": "2022-11-17T19:14:12.224Z"
   },
   {
    "duration": 15,
    "start_time": "2022-11-17T19:14:13.974Z"
   },
   {
    "duration": 125,
    "start_time": "2022-11-17T19:14:25.202Z"
   },
   {
    "duration": 134,
    "start_time": "2022-11-17T19:14:33.817Z"
   },
   {
    "duration": 15,
    "start_time": "2022-11-17T19:14:44.734Z"
   },
   {
    "duration": 50,
    "start_time": "2022-11-17T19:20:08.815Z"
   },
   {
    "duration": 38,
    "start_time": "2022-11-17T19:21:47.009Z"
   },
   {
    "duration": 755,
    "start_time": "2022-11-17T19:24:48.965Z"
   },
   {
    "duration": 3,
    "start_time": "2022-11-17T19:24:52.637Z"
   },
   {
    "duration": 51,
    "start_time": "2022-11-17T19:24:53.640Z"
   },
   {
    "duration": 41,
    "start_time": "2022-11-17T19:24:55.316Z"
   },
   {
    "duration": 3,
    "start_time": "2022-11-17T19:24:58.046Z"
   },
   {
    "duration": 9,
    "start_time": "2022-11-17T19:24:59.956Z"
   },
   {
    "duration": 7,
    "start_time": "2022-11-17T19:25:01.817Z"
   },
   {
    "duration": 9,
    "start_time": "2022-11-17T19:26:17.348Z"
   },
   {
    "duration": 36,
    "start_time": "2022-11-17T19:26:35.092Z"
   },
   {
    "duration": 6,
    "start_time": "2022-11-17T19:27:03.253Z"
   },
   {
    "duration": 153,
    "start_time": "2022-11-17T19:36:36.628Z"
   },
   {
    "duration": 228,
    "start_time": "2022-11-17T19:37:32.650Z"
   },
   {
    "duration": 6,
    "start_time": "2022-11-17T19:39:43.119Z"
   },
   {
    "duration": 49,
    "start_time": "2022-11-17T19:43:11.574Z"
   },
   {
    "duration": 13,
    "start_time": "2022-11-17T19:43:23.933Z"
   },
   {
    "duration": 7,
    "start_time": "2022-11-17T19:46:24.924Z"
   },
   {
    "duration": 8,
    "start_time": "2022-11-17T19:46:33.638Z"
   },
   {
    "duration": 335,
    "start_time": "2022-11-17T19:46:39.864Z"
   },
   {
    "duration": 2,
    "start_time": "2022-11-17T19:48:10.379Z"
   },
   {
    "duration": 329,
    "start_time": "2022-11-17T19:51:51.812Z"
   },
   {
    "duration": 156,
    "start_time": "2022-11-17T19:53:18.846Z"
   },
   {
    "duration": 10,
    "start_time": "2022-11-17T19:53:26.627Z"
   },
   {
    "duration": 16,
    "start_time": "2022-11-17T19:53:52.902Z"
   },
   {
    "duration": 15,
    "start_time": "2022-11-17T19:54:14.081Z"
   },
   {
    "duration": 262,
    "start_time": "2022-11-17T19:55:42.340Z"
   },
   {
    "duration": 4,
    "start_time": "2022-11-17T20:00:56.395Z"
   },
   {
    "duration": 5,
    "start_time": "2022-11-17T20:00:57.094Z"
   },
   {
    "duration": 130,
    "start_time": "2022-11-17T20:01:02.167Z"
   },
   {
    "duration": 4,
    "start_time": "2022-11-17T20:19:11.477Z"
   },
   {
    "duration": 5,
    "start_time": "2022-11-17T20:19:20.939Z"
   },
   {
    "duration": 132,
    "start_time": "2022-11-17T20:19:50.540Z"
   },
   {
    "duration": 308,
    "start_time": "2022-11-17T20:23:46.163Z"
   },
   {
    "duration": 260,
    "start_time": "2022-11-17T20:24:14.121Z"
   },
   {
    "duration": 166,
    "start_time": "2022-11-17T20:24:18.039Z"
   },
   {
    "duration": 15,
    "start_time": "2022-11-17T20:24:29.744Z"
   },
   {
    "duration": 10,
    "start_time": "2022-11-17T20:24:43.924Z"
   },
   {
    "duration": 10,
    "start_time": "2022-11-17T20:24:49.514Z"
   },
   {
    "duration": 147,
    "start_time": "2022-11-17T20:24:56.019Z"
   },
   {
    "duration": 12,
    "start_time": "2022-11-17T20:25:00.610Z"
   },
   {
    "duration": 243,
    "start_time": "2022-11-17T20:26:05.625Z"
   },
   {
    "duration": 141,
    "start_time": "2022-11-17T20:26:20.493Z"
   },
   {
    "duration": 131,
    "start_time": "2022-11-17T20:26:33.075Z"
   },
   {
    "duration": 141,
    "start_time": "2022-11-17T20:26:48.868Z"
   },
   {
    "duration": 139,
    "start_time": "2022-11-17T20:26:54.396Z"
   },
   {
    "duration": 130,
    "start_time": "2022-11-17T20:26:58.502Z"
   },
   {
    "duration": 133,
    "start_time": "2022-11-17T20:27:03.698Z"
   },
   {
    "duration": 133,
    "start_time": "2022-11-17T20:27:58.765Z"
   },
   {
    "duration": 129,
    "start_time": "2022-11-17T20:28:04.128Z"
   },
   {
    "duration": 122,
    "start_time": "2022-11-17T20:28:11.639Z"
   },
   {
    "duration": 155,
    "start_time": "2022-11-17T20:28:26.769Z"
   },
   {
    "duration": 143,
    "start_time": "2022-11-17T20:28:30.923Z"
   },
   {
    "duration": 133,
    "start_time": "2022-11-17T20:29:13.323Z"
   },
   {
    "duration": 225,
    "start_time": "2022-11-17T20:29:55.289Z"
   },
   {
    "duration": 72,
    "start_time": "2022-11-17T20:31:45.508Z"
   },
   {
    "duration": 55,
    "start_time": "2022-11-17T20:32:53.950Z"
   },
   {
    "duration": 50,
    "start_time": "2022-11-17T20:33:02.642Z"
   },
   {
    "duration": 43,
    "start_time": "2022-11-17T20:33:11.459Z"
   },
   {
    "duration": 4,
    "start_time": "2022-11-17T20:33:36.437Z"
   },
   {
    "duration": 173,
    "start_time": "2022-11-17T20:33:55.059Z"
   },
   {
    "duration": 89,
    "start_time": "2022-11-17T20:35:06.488Z"
   },
   {
    "duration": 173,
    "start_time": "2022-11-17T20:35:31.879Z"
   },
   {
    "duration": 3,
    "start_time": "2022-11-17T20:35:37.468Z"
   },
   {
    "duration": 138,
    "start_time": "2022-11-17T20:36:26.238Z"
   },
   {
    "duration": 4,
    "start_time": "2022-11-17T20:37:33.324Z"
   },
   {
    "duration": 128,
    "start_time": "2022-11-17T20:37:35.988Z"
   },
   {
    "duration": 4,
    "start_time": "2022-11-17T20:37:44.743Z"
   },
   {
    "duration": 137,
    "start_time": "2022-11-17T20:37:46.025Z"
   },
   {
    "duration": 4,
    "start_time": "2022-11-17T20:37:53.269Z"
   },
   {
    "duration": 140,
    "start_time": "2022-11-17T20:37:54.156Z"
   },
   {
    "duration": 3,
    "start_time": "2022-11-17T20:38:13.008Z"
   },
   {
    "duration": 150,
    "start_time": "2022-11-17T20:38:14.255Z"
   },
   {
    "duration": 4,
    "start_time": "2022-11-17T20:38:41.066Z"
   },
   {
    "duration": 151,
    "start_time": "2022-11-17T20:38:45.969Z"
   },
   {
    "duration": 4,
    "start_time": "2022-11-17T20:38:52.198Z"
   },
   {
    "duration": 126,
    "start_time": "2022-11-17T20:38:53.229Z"
   },
   {
    "duration": 126,
    "start_time": "2022-11-17T20:39:28.582Z"
   },
   {
    "duration": 5,
    "start_time": "2022-11-17T20:41:05.494Z"
   },
   {
    "duration": 3,
    "start_time": "2022-11-17T20:42:12.214Z"
   },
   {
    "duration": 126,
    "start_time": "2022-11-17T20:42:17.895Z"
   },
   {
    "duration": 3,
    "start_time": "2022-11-17T20:42:35.604Z"
   },
   {
    "duration": 16,
    "start_time": "2022-11-17T20:43:03.069Z"
   },
   {
    "duration": 126,
    "start_time": "2022-11-17T20:43:23.899Z"
   },
   {
    "duration": 131,
    "start_time": "2022-11-17T20:48:22.772Z"
   },
   {
    "duration": 225,
    "start_time": "2022-11-17T20:48:35.392Z"
   },
   {
    "duration": 137,
    "start_time": "2022-11-17T20:48:52.287Z"
   },
   {
    "duration": 5,
    "start_time": "2022-11-17T20:49:13.688Z"
   },
   {
    "duration": 126,
    "start_time": "2022-11-17T20:49:26.437Z"
   },
   {
    "duration": 5,
    "start_time": "2022-11-17T20:50:34.613Z"
   },
   {
    "duration": 5,
    "start_time": "2022-11-17T20:50:38.195Z"
   },
   {
    "duration": 124,
    "start_time": "2022-11-17T20:50:53.360Z"
   },
   {
    "duration": 5,
    "start_time": "2022-11-17T20:51:00.030Z"
   },
   {
    "duration": 133,
    "start_time": "2022-11-17T20:51:10.735Z"
   },
   {
    "duration": 4,
    "start_time": "2022-11-17T20:52:33.595Z"
   },
   {
    "duration": 5,
    "start_time": "2022-11-17T20:52:39.144Z"
   },
   {
    "duration": 121,
    "start_time": "2022-11-17T20:52:49.499Z"
   },
   {
    "duration": 6,
    "start_time": "2022-11-17T20:52:56.091Z"
   },
   {
    "duration": 125,
    "start_time": "2022-11-17T20:53:03.429Z"
   },
   {
    "duration": 15,
    "start_time": "2022-11-17T20:56:11.279Z"
   },
   {
    "duration": 12,
    "start_time": "2022-11-17T20:56:29.341Z"
   },
   {
    "duration": 42,
    "start_time": "2022-11-17T20:56:36.979Z"
   },
   {
    "duration": 19,
    "start_time": "2022-11-17T20:57:46.784Z"
   },
   {
    "duration": 17,
    "start_time": "2022-11-17T20:58:10.061Z"
   },
   {
    "duration": 14,
    "start_time": "2022-11-17T20:58:39.395Z"
   },
   {
    "duration": 11,
    "start_time": "2022-11-17T20:59:06.192Z"
   },
   {
    "duration": 191,
    "start_time": "2022-11-17T21:11:18.520Z"
   },
   {
    "duration": 315,
    "start_time": "2022-11-17T21:11:34.595Z"
   },
   {
    "duration": 21,
    "start_time": "2022-11-17T21:12:17.715Z"
   },
   {
    "duration": 27,
    "start_time": "2022-11-17T21:12:26.325Z"
   },
   {
    "duration": 114,
    "start_time": "2022-11-17T21:12:37.000Z"
   },
   {
    "duration": 30,
    "start_time": "2022-11-17T21:12:47.404Z"
   },
   {
    "duration": 314,
    "start_time": "2022-11-17T21:13:09.420Z"
   },
   {
    "duration": 311,
    "start_time": "2022-11-17T21:14:43.298Z"
   },
   {
    "duration": 317,
    "start_time": "2022-11-17T21:14:50.122Z"
   },
   {
    "duration": 421,
    "start_time": "2022-11-17T21:15:43.429Z"
   },
   {
    "duration": 313,
    "start_time": "2022-11-17T21:15:54.754Z"
   },
   {
    "duration": 315,
    "start_time": "2022-11-17T21:15:58.850Z"
   },
   {
    "duration": 47,
    "start_time": "2022-11-17T21:16:22.492Z"
   },
   {
    "duration": 311,
    "start_time": "2022-11-17T21:16:26.847Z"
   },
   {
    "duration": 342,
    "start_time": "2022-11-17T21:16:36.018Z"
   },
   {
    "duration": 347,
    "start_time": "2022-11-17T21:17:23.090Z"
   },
   {
    "duration": 4,
    "start_time": "2022-11-17T21:27:32.509Z"
   },
   {
    "duration": 6,
    "start_time": "2022-11-17T21:27:36.997Z"
   },
   {
    "duration": 3,
    "start_time": "2022-11-17T21:29:46.817Z"
   },
   {
    "duration": 25,
    "start_time": "2022-11-17T21:33:47.795Z"
   },
   {
    "duration": 7,
    "start_time": "2022-11-17T21:34:09.135Z"
   },
   {
    "duration": 21,
    "start_time": "2022-11-17T21:34:11.503Z"
   },
   {
    "duration": 19,
    "start_time": "2022-11-17T21:34:51.558Z"
   },
   {
    "duration": 10,
    "start_time": "2022-11-17T21:36:39.137Z"
   },
   {
    "duration": 324,
    "start_time": "2022-11-17T21:37:21.178Z"
   },
   {
    "duration": 11,
    "start_time": "2022-11-17T21:37:30.229Z"
   },
   {
    "duration": 333,
    "start_time": "2022-11-17T21:37:44.856Z"
   },
   {
    "duration": 9,
    "start_time": "2022-11-17T21:37:52.700Z"
   },
   {
    "duration": 516,
    "start_time": "2022-11-17T21:47:51.698Z"
   },
   {
    "duration": 581,
    "start_time": "2022-11-17T21:47:58.708Z"
   },
   {
    "duration": 9,
    "start_time": "2022-11-17T21:48:15.518Z"
   },
   {
    "duration": 5,
    "start_time": "2022-11-17T21:48:23.897Z"
   },
   {
    "duration": 9,
    "start_time": "2022-11-17T21:48:35.528Z"
   },
   {
    "duration": 4,
    "start_time": "2022-11-17T21:52:39.921Z"
   },
   {
    "duration": 3,
    "start_time": "2022-11-17T21:52:48.972Z"
   },
   {
    "duration": 5,
    "start_time": "2022-11-17T21:53:06.439Z"
   },
   {
    "duration": 51,
    "start_time": "2022-11-17T21:54:19.974Z"
   },
   {
    "duration": 9,
    "start_time": "2022-11-17T21:54:22.397Z"
   },
   {
    "duration": 8,
    "start_time": "2022-11-17T21:54:29.600Z"
   },
   {
    "duration": 44,
    "start_time": "2022-11-17T21:56:40.131Z"
   },
   {
    "duration": 9,
    "start_time": "2022-11-17T22:11:33.027Z"
   },
   {
    "duration": 4,
    "start_time": "2022-11-17T22:11:36.499Z"
   },
   {
    "duration": 1352,
    "start_time": "2022-11-18T11:07:54.739Z"
   },
   {
    "duration": 192,
    "start_time": "2022-11-18T11:07:58.354Z"
   },
   {
    "duration": 48,
    "start_time": "2022-11-18T11:08:01.089Z"
   },
   {
    "duration": 3,
    "start_time": "2022-11-18T11:08:03.233Z"
   },
   {
    "duration": 13,
    "start_time": "2022-11-18T11:08:04.276Z"
   },
   {
    "duration": 8,
    "start_time": "2022-11-18T11:08:05.916Z"
   },
   {
    "duration": 9,
    "start_time": "2022-11-18T11:08:08.246Z"
   },
   {
    "duration": 7,
    "start_time": "2022-11-18T11:08:10.031Z"
   },
   {
    "duration": 190,
    "start_time": "2022-11-18T11:08:11.783Z"
   },
   {
    "duration": 7,
    "start_time": "2022-11-18T11:08:13.960Z"
   },
   {
    "duration": 14,
    "start_time": "2022-11-18T11:08:15.477Z"
   },
   {
    "duration": 7,
    "start_time": "2022-11-18T11:08:17.281Z"
   },
   {
    "duration": 378,
    "start_time": "2022-11-18T11:08:18.478Z"
   },
   {
    "duration": 350,
    "start_time": "2022-11-18T11:08:21.355Z"
   },
   {
    "duration": 13,
    "start_time": "2022-11-18T11:08:23.572Z"
   },
   {
    "duration": 248,
    "start_time": "2022-11-18T11:08:25.322Z"
   },
   {
    "duration": 4,
    "start_time": "2022-11-18T11:08:27.494Z"
   },
   {
    "duration": 5,
    "start_time": "2022-11-18T11:08:29.206Z"
   },
   {
    "duration": 4,
    "start_time": "2022-11-18T11:08:30.841Z"
   },
   {
    "duration": 103,
    "start_time": "2022-11-18T11:08:34.722Z"
   },
   {
    "duration": 4,
    "start_time": "2022-11-18T11:09:06.430Z"
   },
   {
    "duration": 3,
    "start_time": "2022-11-18T11:09:10.856Z"
   },
   {
    "duration": 152,
    "start_time": "2022-11-18T11:09:12.374Z"
   },
   {
    "duration": 4,
    "start_time": "2022-11-18T11:09:14.558Z"
   },
   {
    "duration": 5,
    "start_time": "2022-11-18T11:09:16.148Z"
   },
   {
    "duration": 5,
    "start_time": "2022-11-18T11:09:17.494Z"
   },
   {
    "duration": 6,
    "start_time": "2022-11-18T11:09:19.042Z"
   },
   {
    "duration": 6,
    "start_time": "2022-11-18T11:09:20.218Z"
   },
   {
    "duration": 5,
    "start_time": "2022-11-18T11:09:21.698Z"
   },
   {
    "duration": 4,
    "start_time": "2022-11-18T11:09:23.917Z"
   },
   {
    "duration": 5,
    "start_time": "2022-11-18T11:09:24.430Z"
   },
   {
    "duration": 146,
    "start_time": "2022-11-18T11:09:24.944Z"
   },
   {
    "duration": 10,
    "start_time": "2022-11-18T11:09:28.327Z"
   },
   {
    "duration": 15,
    "start_time": "2022-11-18T11:09:30.600Z"
   },
   {
    "duration": 14,
    "start_time": "2022-11-18T11:09:32.094Z"
   },
   {
    "duration": 13,
    "start_time": "2022-11-18T11:09:33.688Z"
   },
   {
    "duration": 14,
    "start_time": "2022-11-18T11:09:35.406Z"
   },
   {
    "duration": 15,
    "start_time": "2022-11-18T11:09:36.812Z"
   },
   {
    "duration": 13,
    "start_time": "2022-11-18T11:09:43.880Z"
   },
   {
    "duration": 14,
    "start_time": "2022-11-18T11:09:45.182Z"
   },
   {
    "duration": 14,
    "start_time": "2022-11-18T11:09:46.522Z"
   },
   {
    "duration": 15,
    "start_time": "2022-11-18T11:09:47.829Z"
   },
   {
    "duration": 8,
    "start_time": "2022-11-18T11:16:42.683Z"
   },
   {
    "duration": 4,
    "start_time": "2022-11-18T11:17:00.657Z"
   },
   {
    "duration": 5,
    "start_time": "2022-11-18T11:17:06.718Z"
   },
   {
    "duration": 4,
    "start_time": "2022-11-18T11:20:18.915Z"
   },
   {
    "duration": 74,
    "start_time": "2022-11-18T11:21:12.404Z"
   },
   {
    "duration": 5,
    "start_time": "2022-11-18T12:48:34.867Z"
   },
   {
    "duration": 1125,
    "start_time": "2022-11-18T12:48:44.342Z"
   },
   {
    "duration": 54,
    "start_time": "2022-11-18T12:48:45.469Z"
   },
   {
    "duration": 48,
    "start_time": "2022-11-18T12:48:45.525Z"
   },
   {
    "duration": 3,
    "start_time": "2022-11-18T12:48:45.575Z"
   },
   {
    "duration": 16,
    "start_time": "2022-11-18T12:48:45.580Z"
   },
   {
    "duration": 28,
    "start_time": "2022-11-18T12:48:45.597Z"
   },
   {
    "duration": 10,
    "start_time": "2022-11-18T12:48:45.627Z"
   },
   {
    "duration": 22,
    "start_time": "2022-11-18T12:48:45.639Z"
   },
   {
    "duration": 38,
    "start_time": "2022-11-18T12:48:45.663Z"
   },
   {
    "duration": 6,
    "start_time": "2022-11-18T12:48:45.721Z"
   },
   {
    "duration": 214,
    "start_time": "2022-11-18T12:48:45.729Z"
   },
   {
    "duration": 5,
    "start_time": "2022-11-18T12:48:45.945Z"
   },
   {
    "duration": 18,
    "start_time": "2022-11-18T12:48:45.952Z"
   },
   {
    "duration": 8,
    "start_time": "2022-11-18T12:48:45.971Z"
   },
   {
    "duration": 408,
    "start_time": "2022-11-18T12:48:45.980Z"
   },
   {
    "duration": 342,
    "start_time": "2022-11-18T12:48:46.390Z"
   },
   {
    "duration": 11,
    "start_time": "2022-11-18T12:48:46.734Z"
   },
   {
    "duration": 266,
    "start_time": "2022-11-18T12:48:46.747Z"
   },
   {
    "duration": 9,
    "start_time": "2022-11-18T12:48:47.015Z"
   },
   {
    "duration": 13,
    "start_time": "2022-11-18T12:48:47.025Z"
   },
   {
    "duration": 8,
    "start_time": "2022-11-18T12:48:47.040Z"
   },
   {
    "duration": 132,
    "start_time": "2022-11-18T12:48:47.050Z"
   },
   {
    "duration": 5,
    "start_time": "2022-11-18T12:48:47.184Z"
   },
   {
    "duration": 7,
    "start_time": "2022-11-18T12:48:47.190Z"
   },
   {
    "duration": 153,
    "start_time": "2022-11-18T12:48:47.199Z"
   },
   {
    "duration": 4,
    "start_time": "2022-11-18T12:48:47.353Z"
   },
   {
    "duration": 8,
    "start_time": "2022-11-18T12:48:47.358Z"
   },
   {
    "duration": 154,
    "start_time": "2022-11-18T12:48:47.369Z"
   },
   {
    "duration": 4,
    "start_time": "2022-11-18T12:48:47.525Z"
   },
   {
    "duration": 140,
    "start_time": "2022-11-18T12:48:47.531Z"
   },
   {
    "duration": 4,
    "start_time": "2022-11-18T12:48:47.673Z"
   },
   {
    "duration": 7,
    "start_time": "2022-11-18T12:48:47.679Z"
   },
   {
    "duration": 234,
    "start_time": "2022-11-18T12:48:47.688Z"
   },
   {
    "duration": 5,
    "start_time": "2022-11-18T12:48:47.923Z"
   },
   {
    "duration": 151,
    "start_time": "2022-11-18T12:48:47.930Z"
   },
   {
    "duration": 4,
    "start_time": "2022-11-18T12:48:48.083Z"
   },
   {
    "duration": 7,
    "start_time": "2022-11-18T12:48:48.088Z"
   },
   {
    "duration": 141,
    "start_time": "2022-11-18T12:48:48.097Z"
   },
   {
    "duration": 5,
    "start_time": "2022-11-18T12:48:48.240Z"
   },
   {
    "duration": 148,
    "start_time": "2022-11-18T12:48:48.247Z"
   },
   {
    "duration": 10,
    "start_time": "2022-11-18T12:48:48.397Z"
   },
   {
    "duration": 25,
    "start_time": "2022-11-18T12:48:48.409Z"
   },
   {
    "duration": 14,
    "start_time": "2022-11-18T12:48:48.435Z"
   },
   {
    "duration": 17,
    "start_time": "2022-11-18T12:48:48.451Z"
   },
   {
    "duration": 19,
    "start_time": "2022-11-18T12:48:48.470Z"
   },
   {
    "duration": 35,
    "start_time": "2022-11-18T12:48:48.491Z"
   },
   {
    "duration": 14,
    "start_time": "2022-11-18T12:48:48.528Z"
   },
   {
    "duration": 16,
    "start_time": "2022-11-18T12:48:48.544Z"
   },
   {
    "duration": 21,
    "start_time": "2022-11-18T12:48:48.562Z"
   },
   {
    "duration": 38,
    "start_time": "2022-11-18T12:48:48.585Z"
   },
   {
    "duration": 9,
    "start_time": "2022-11-18T12:48:48.625Z"
   },
   {
    "duration": 8,
    "start_time": "2022-11-18T12:48:48.636Z"
   },
   {
    "duration": 9,
    "start_time": "2022-11-18T12:48:48.646Z"
   },
   {
    "duration": 7,
    "start_time": "2022-11-18T12:48:48.657Z"
   },
   {
    "duration": 4,
    "start_time": "2022-11-18T12:51:30.723Z"
   },
   {
    "duration": 4,
    "start_time": "2022-11-18T12:51:31.204Z"
   },
   {
    "duration": 138,
    "start_time": "2022-11-18T12:51:31.672Z"
   },
   {
    "duration": 5,
    "start_time": "2022-11-18T12:52:07.255Z"
   },
   {
    "duration": 5,
    "start_time": "2022-11-18T12:52:08.024Z"
   },
   {
    "duration": 3,
    "start_time": "2022-11-18T12:52:11.408Z"
   },
   {
    "duration": 141,
    "start_time": "2022-11-18T12:52:13.522Z"
   },
   {
    "duration": 5,
    "start_time": "2022-11-18T12:52:29.979Z"
   },
   {
    "duration": 6,
    "start_time": "2022-11-18T12:52:30.352Z"
   },
   {
    "duration": 136,
    "start_time": "2022-11-18T12:52:30.684Z"
   },
   {
    "duration": 5,
    "start_time": "2022-11-18T12:52:43.030Z"
   },
   {
    "duration": 4,
    "start_time": "2022-11-18T12:52:43.308Z"
   },
   {
    "duration": 126,
    "start_time": "2022-11-18T12:52:43.563Z"
   },
   {
    "duration": 8,
    "start_time": "2022-11-18T12:53:14.354Z"
   },
   {
    "duration": 4,
    "start_time": "2022-11-18T12:53:24.650Z"
   },
   {
    "duration": 9,
    "start_time": "2022-11-18T12:53:31.277Z"
   },
   {
    "duration": 4,
    "start_time": "2022-11-18T12:53:33.459Z"
   },
   {
    "duration": 8,
    "start_time": "2022-11-18T12:53:54.891Z"
   },
   {
    "duration": 4,
    "start_time": "2022-11-18T12:54:17.536Z"
   },
   {
    "duration": 5,
    "start_time": "2022-11-18T12:54:17.924Z"
   },
   {
    "duration": 125,
    "start_time": "2022-11-18T12:54:18.279Z"
   },
   {
    "duration": 8,
    "start_time": "2022-11-18T12:54:35.779Z"
   },
   {
    "duration": 8,
    "start_time": "2022-11-18T12:54:45.374Z"
   },
   {
    "duration": 14,
    "start_time": "2022-11-18T13:07:04.240Z"
   },
   {
    "duration": 6,
    "start_time": "2022-11-18T13:09:30.517Z"
   },
   {
    "duration": 1115,
    "start_time": "2022-11-18T13:09:35.953Z"
   },
   {
    "duration": 53,
    "start_time": "2022-11-18T13:09:37.071Z"
   },
   {
    "duration": 48,
    "start_time": "2022-11-18T13:09:37.126Z"
   },
   {
    "duration": 4,
    "start_time": "2022-11-18T13:09:37.176Z"
   },
   {
    "duration": 18,
    "start_time": "2022-11-18T13:09:37.181Z"
   },
   {
    "duration": 24,
    "start_time": "2022-11-18T13:09:37.201Z"
   },
   {
    "duration": 12,
    "start_time": "2022-11-18T13:09:37.227Z"
   },
   {
    "duration": 11,
    "start_time": "2022-11-18T13:09:37.241Z"
   },
   {
    "duration": 35,
    "start_time": "2022-11-18T13:09:37.254Z"
   },
   {
    "duration": 30,
    "start_time": "2022-11-18T13:09:37.292Z"
   },
   {
    "duration": 179,
    "start_time": "2022-11-18T13:09:37.324Z"
   },
   {
    "duration": 6,
    "start_time": "2022-11-18T13:09:37.505Z"
   },
   {
    "duration": 21,
    "start_time": "2022-11-18T13:09:37.512Z"
   },
   {
    "duration": 8,
    "start_time": "2022-11-18T13:09:37.535Z"
   },
   {
    "duration": 419,
    "start_time": "2022-11-18T13:09:37.545Z"
   },
   {
    "duration": 348,
    "start_time": "2022-11-18T13:09:37.965Z"
   },
   {
    "duration": 13,
    "start_time": "2022-11-18T13:09:38.321Z"
   },
   {
    "duration": 261,
    "start_time": "2022-11-18T13:09:38.336Z"
   },
   {
    "duration": 4,
    "start_time": "2022-11-18T13:09:38.599Z"
   },
   {
    "duration": 17,
    "start_time": "2022-11-18T13:09:38.605Z"
   },
   {
    "duration": 3,
    "start_time": "2022-11-18T13:09:38.624Z"
   },
   {
    "duration": 149,
    "start_time": "2022-11-18T13:09:38.628Z"
   },
   {
    "duration": 4,
    "start_time": "2022-11-18T13:09:38.779Z"
   },
   {
    "duration": 8,
    "start_time": "2022-11-18T13:09:38.785Z"
   },
   {
    "duration": 155,
    "start_time": "2022-11-18T13:09:38.795Z"
   },
   {
    "duration": 5,
    "start_time": "2022-11-18T13:09:38.952Z"
   },
   {
    "duration": 12,
    "start_time": "2022-11-18T13:09:38.959Z"
   },
   {
    "duration": 162,
    "start_time": "2022-11-18T13:09:38.975Z"
   },
   {
    "duration": 5,
    "start_time": "2022-11-18T13:09:39.139Z"
   },
   {
    "duration": 155,
    "start_time": "2022-11-18T13:09:39.146Z"
   },
   {
    "duration": 5,
    "start_time": "2022-11-18T13:09:39.303Z"
   },
   {
    "duration": 12,
    "start_time": "2022-11-18T13:09:39.311Z"
   },
   {
    "duration": 234,
    "start_time": "2022-11-18T13:09:39.325Z"
   },
   {
    "duration": 5,
    "start_time": "2022-11-18T13:09:39.561Z"
   },
   {
    "duration": 156,
    "start_time": "2022-11-18T13:09:39.568Z"
   },
   {
    "duration": 6,
    "start_time": "2022-11-18T13:09:39.726Z"
   },
   {
    "duration": 8,
    "start_time": "2022-11-18T13:09:39.734Z"
   },
   {
    "duration": 161,
    "start_time": "2022-11-18T13:09:39.743Z"
   },
   {
    "duration": 4,
    "start_time": "2022-11-18T13:09:39.906Z"
   },
   {
    "duration": 141,
    "start_time": "2022-11-18T13:09:39.922Z"
   },
   {
    "duration": 11,
    "start_time": "2022-11-18T13:09:40.064Z"
   },
   {
    "duration": 17,
    "start_time": "2022-11-18T13:09:40.077Z"
   },
   {
    "duration": 35,
    "start_time": "2022-11-18T13:09:40.095Z"
   },
   {
    "duration": 13,
    "start_time": "2022-11-18T13:09:40.132Z"
   },
   {
    "duration": 16,
    "start_time": "2022-11-18T13:09:40.147Z"
   },
   {
    "duration": 14,
    "start_time": "2022-11-18T13:09:40.165Z"
   },
   {
    "duration": 11,
    "start_time": "2022-11-18T13:09:40.181Z"
   },
   {
    "duration": 15,
    "start_time": "2022-11-18T13:09:40.221Z"
   },
   {
    "duration": 17,
    "start_time": "2022-11-18T13:09:40.237Z"
   },
   {
    "duration": 13,
    "start_time": "2022-11-18T13:09:40.256Z"
   },
   {
    "duration": 9,
    "start_time": "2022-11-18T13:09:40.271Z"
   },
   {
    "duration": 10,
    "start_time": "2022-11-18T13:09:40.282Z"
   },
   {
    "duration": 35,
    "start_time": "2022-11-18T13:09:40.294Z"
   },
   {
    "duration": 8,
    "start_time": "2022-11-18T13:09:40.331Z"
   },
   {
    "duration": 7,
    "start_time": "2022-11-18T13:40:16.342Z"
   },
   {
    "duration": 4,
    "start_time": "2022-11-18T13:40:23.888Z"
   },
   {
    "duration": 4,
    "start_time": "2022-11-18T13:40:29.720Z"
   },
   {
    "duration": 9,
    "start_time": "2022-11-18T13:41:44.475Z"
   },
   {
    "duration": 9,
    "start_time": "2022-11-18T13:41:48.564Z"
   },
   {
    "duration": 10,
    "start_time": "2022-11-18T13:41:54.521Z"
   },
   {
    "duration": 74,
    "start_time": "2022-11-18T13:47:27.733Z"
   },
   {
    "duration": 4,
    "start_time": "2022-11-18T13:48:01.521Z"
   },
   {
    "duration": 4,
    "start_time": "2022-11-18T13:48:21.673Z"
   },
   {
    "duration": 4,
    "start_time": "2022-11-18T13:48:37.955Z"
   },
   {
    "duration": 6,
    "start_time": "2022-11-18T13:49:29.139Z"
   },
   {
    "duration": 4,
    "start_time": "2022-11-18T13:49:36.487Z"
   },
   {
    "duration": 10,
    "start_time": "2022-11-18T13:50:04.673Z"
   },
   {
    "duration": 10,
    "start_time": "2022-11-18T13:50:13.713Z"
   },
   {
    "duration": 9,
    "start_time": "2022-11-18T13:50:22.977Z"
   },
   {
    "duration": 10,
    "start_time": "2022-11-18T13:51:03.362Z"
   },
   {
    "duration": 4,
    "start_time": "2022-11-18T13:52:22.508Z"
   },
   {
    "duration": 8,
    "start_time": "2022-11-18T13:52:53.542Z"
   },
   {
    "duration": 3,
    "start_time": "2022-11-18T13:54:04.406Z"
   },
   {
    "duration": 7,
    "start_time": "2022-11-18T13:55:39.668Z"
   },
   {
    "duration": 5,
    "start_time": "2022-11-18T13:55:42.868Z"
   },
   {
    "duration": 5,
    "start_time": "2022-11-18T13:56:21.692Z"
   },
   {
    "duration": 1252,
    "start_time": "2022-11-18T14:02:24.008Z"
   },
   {
    "duration": 53,
    "start_time": "2022-11-18T14:02:25.262Z"
   },
   {
    "duration": 45,
    "start_time": "2022-11-18T14:02:25.316Z"
   },
   {
    "duration": 4,
    "start_time": "2022-11-18T14:02:25.362Z"
   },
   {
    "duration": 12,
    "start_time": "2022-11-18T14:02:25.369Z"
   },
   {
    "duration": 6,
    "start_time": "2022-11-18T14:02:25.383Z"
   },
   {
    "duration": 32,
    "start_time": "2022-11-18T14:02:25.391Z"
   },
   {
    "duration": 8,
    "start_time": "2022-11-18T14:02:25.425Z"
   },
   {
    "duration": 34,
    "start_time": "2022-11-18T14:02:25.435Z"
   },
   {
    "duration": 5,
    "start_time": "2022-11-18T14:02:25.471Z"
   },
   {
    "duration": 206,
    "start_time": "2022-11-18T14:02:25.478Z"
   },
   {
    "duration": 5,
    "start_time": "2022-11-18T14:02:25.686Z"
   },
   {
    "duration": 14,
    "start_time": "2022-11-18T14:02:25.693Z"
   },
   {
    "duration": 7,
    "start_time": "2022-11-18T14:02:25.724Z"
   },
   {
    "duration": 396,
    "start_time": "2022-11-18T14:02:25.732Z"
   },
   {
    "duration": 326,
    "start_time": "2022-11-18T14:02:26.130Z"
   },
   {
    "duration": 12,
    "start_time": "2022-11-18T14:02:26.458Z"
   },
   {
    "duration": 255,
    "start_time": "2022-11-18T14:02:26.472Z"
   },
   {
    "duration": 4,
    "start_time": "2022-11-18T14:02:26.729Z"
   },
   {
    "duration": 9,
    "start_time": "2022-11-18T14:02:26.735Z"
   },
   {
    "duration": 8,
    "start_time": "2022-11-18T14:02:26.746Z"
   },
   {
    "duration": 141,
    "start_time": "2022-11-18T14:02:26.756Z"
   },
   {
    "duration": 4,
    "start_time": "2022-11-18T14:02:26.899Z"
   },
   {
    "duration": 7,
    "start_time": "2022-11-18T14:02:26.904Z"
   },
   {
    "duration": 141,
    "start_time": "2022-11-18T14:02:26.922Z"
   },
   {
    "duration": 5,
    "start_time": "2022-11-18T14:02:27.064Z"
   },
   {
    "duration": 9,
    "start_time": "2022-11-18T14:02:27.070Z"
   },
   {
    "duration": 146,
    "start_time": "2022-11-18T14:02:27.080Z"
   },
   {
    "duration": 5,
    "start_time": "2022-11-18T14:02:27.227Z"
   },
   {
    "duration": 148,
    "start_time": "2022-11-18T14:02:27.234Z"
   },
   {
    "duration": 5,
    "start_time": "2022-11-18T14:02:27.383Z"
   },
   {
    "duration": 14,
    "start_time": "2022-11-18T14:02:27.390Z"
   },
   {
    "duration": 227,
    "start_time": "2022-11-18T14:02:27.405Z"
   },
   {
    "duration": 4,
    "start_time": "2022-11-18T14:02:27.635Z"
   },
   {
    "duration": 161,
    "start_time": "2022-11-18T14:02:27.641Z"
   },
   {
    "duration": 5,
    "start_time": "2022-11-18T14:02:27.804Z"
   },
   {
    "duration": 5,
    "start_time": "2022-11-18T14:02:27.822Z"
   },
   {
    "duration": 146,
    "start_time": "2022-11-18T14:02:27.829Z"
   },
   {
    "duration": 5,
    "start_time": "2022-11-18T14:02:27.976Z"
   },
   {
    "duration": 142,
    "start_time": "2022-11-18T14:02:27.982Z"
   },
   {
    "duration": 10,
    "start_time": "2022-11-18T14:02:28.128Z"
   },
   {
    "duration": 19,
    "start_time": "2022-11-18T14:02:28.139Z"
   },
   {
    "duration": 14,
    "start_time": "2022-11-18T14:02:28.160Z"
   },
   {
    "duration": 11,
    "start_time": "2022-11-18T14:02:28.175Z"
   },
   {
    "duration": 40,
    "start_time": "2022-11-18T14:02:28.188Z"
   },
   {
    "duration": 21,
    "start_time": "2022-11-18T14:02:28.229Z"
   },
   {
    "duration": 14,
    "start_time": "2022-11-18T14:02:28.252Z"
   },
   {
    "duration": 17,
    "start_time": "2022-11-18T14:02:28.268Z"
   },
   {
    "duration": 14,
    "start_time": "2022-11-18T14:02:28.287Z"
   },
   {
    "duration": 11,
    "start_time": "2022-11-18T14:02:28.323Z"
   },
   {
    "duration": 5,
    "start_time": "2022-11-18T14:02:28.335Z"
   },
   {
    "duration": 16,
    "start_time": "2022-11-18T14:02:28.342Z"
   },
   {
    "duration": 10,
    "start_time": "2022-11-18T14:02:28.359Z"
   },
   {
    "duration": 7,
    "start_time": "2022-11-18T14:02:28.370Z"
   },
   {
    "duration": 7,
    "start_time": "2022-11-18T14:02:28.378Z"
   },
   {
    "duration": 8,
    "start_time": "2022-11-18T14:02:28.387Z"
   },
   {
    "duration": 27,
    "start_time": "2022-11-18T14:02:28.396Z"
   },
   {
    "duration": 42,
    "start_time": "2022-11-18T14:02:28.425Z"
   },
   {
    "duration": 15,
    "start_time": "2022-11-18T14:02:28.469Z"
   },
   {
    "duration": 41,
    "start_time": "2022-11-18T14:03:08.698Z"
   },
   {
    "duration": 1228,
    "start_time": "2022-11-18T14:03:14.563Z"
   },
   {
    "duration": 61,
    "start_time": "2022-11-18T14:03:15.793Z"
   },
   {
    "duration": 70,
    "start_time": "2022-11-18T14:03:15.862Z"
   },
   {
    "duration": 3,
    "start_time": "2022-11-18T14:03:15.934Z"
   },
   {
    "duration": 12,
    "start_time": "2022-11-18T14:03:15.939Z"
   },
   {
    "duration": 6,
    "start_time": "2022-11-18T14:03:15.953Z"
   },
   {
    "duration": 15,
    "start_time": "2022-11-18T14:03:15.961Z"
   },
   {
    "duration": 10,
    "start_time": "2022-11-18T14:03:15.977Z"
   },
   {
    "duration": 69,
    "start_time": "2022-11-18T14:03:15.990Z"
   },
   {
    "duration": 6,
    "start_time": "2022-11-18T14:03:16.061Z"
   },
   {
    "duration": 197,
    "start_time": "2022-11-18T14:03:16.069Z"
   },
   {
    "duration": 6,
    "start_time": "2022-11-18T14:03:16.268Z"
   },
   {
    "duration": 16,
    "start_time": "2022-11-18T14:03:16.276Z"
   },
   {
    "duration": 7,
    "start_time": "2022-11-18T14:03:16.294Z"
   },
   {
    "duration": 370,
    "start_time": "2022-11-18T14:03:16.322Z"
   },
   {
    "duration": 329,
    "start_time": "2022-11-18T14:03:16.693Z"
   },
   {
    "duration": 13,
    "start_time": "2022-11-18T14:03:17.023Z"
   },
   {
    "duration": 265,
    "start_time": "2022-11-18T14:03:17.038Z"
   },
   {
    "duration": 5,
    "start_time": "2022-11-18T14:03:17.306Z"
   },
   {
    "duration": 6,
    "start_time": "2022-11-18T14:03:17.321Z"
   },
   {
    "duration": 4,
    "start_time": "2022-11-18T14:03:17.329Z"
   },
   {
    "duration": 159,
    "start_time": "2022-11-18T14:03:17.335Z"
   },
   {
    "duration": 4,
    "start_time": "2022-11-18T14:03:17.496Z"
   },
   {
    "duration": 6,
    "start_time": "2022-11-18T14:03:17.502Z"
   },
   {
    "duration": 135,
    "start_time": "2022-11-18T14:03:17.522Z"
   },
   {
    "duration": 5,
    "start_time": "2022-11-18T14:03:17.658Z"
   },
   {
    "duration": 18,
    "start_time": "2022-11-18T14:03:17.667Z"
   },
   {
    "duration": 160,
    "start_time": "2022-11-18T14:03:17.687Z"
   },
   {
    "duration": 6,
    "start_time": "2022-11-18T14:03:17.849Z"
   },
   {
    "duration": 145,
    "start_time": "2022-11-18T14:03:17.857Z"
   },
   {
    "duration": 5,
    "start_time": "2022-11-18T14:03:18.003Z"
   },
   {
    "duration": 25,
    "start_time": "2022-11-18T14:03:18.010Z"
   },
   {
    "duration": 229,
    "start_time": "2022-11-18T14:03:18.037Z"
   },
   {
    "duration": 4,
    "start_time": "2022-11-18T14:03:18.268Z"
   },
   {
    "duration": 154,
    "start_time": "2022-11-18T14:03:18.274Z"
   },
   {
    "duration": 4,
    "start_time": "2022-11-18T14:03:18.430Z"
   },
   {
    "duration": 22,
    "start_time": "2022-11-18T14:03:18.436Z"
   },
   {
    "duration": 135,
    "start_time": "2022-11-18T14:03:18.460Z"
   },
   {
    "duration": 5,
    "start_time": "2022-11-18T14:03:18.597Z"
   },
   {
    "duration": 138,
    "start_time": "2022-11-18T14:03:18.603Z"
   },
   {
    "duration": 10,
    "start_time": "2022-11-18T14:03:18.742Z"
   },
   {
    "duration": 42,
    "start_time": "2022-11-18T14:03:18.754Z"
   },
   {
    "duration": 38,
    "start_time": "2022-11-18T14:03:18.798Z"
   },
   {
    "duration": 19,
    "start_time": "2022-11-18T14:03:18.838Z"
   },
   {
    "duration": 37,
    "start_time": "2022-11-18T14:03:18.859Z"
   },
   {
    "duration": 152,
    "start_time": "2022-11-18T14:03:18.898Z"
   },
   {
    "duration": 223,
    "start_time": "2022-11-18T14:03:19.052Z"
   },
   {
    "duration": 108,
    "start_time": "2022-11-18T14:03:19.277Z"
   },
   {
    "duration": 63,
    "start_time": "2022-11-18T14:03:19.387Z"
   },
   {
    "duration": 16,
    "start_time": "2022-11-18T14:03:19.451Z"
   },
   {
    "duration": 15,
    "start_time": "2022-11-18T14:03:19.468Z"
   },
   {
    "duration": 24,
    "start_time": "2022-11-18T14:03:19.485Z"
   },
   {
    "duration": 21,
    "start_time": "2022-11-18T14:03:19.511Z"
   },
   {
    "duration": 11,
    "start_time": "2022-11-18T14:03:19.534Z"
   },
   {
    "duration": 21,
    "start_time": "2022-11-18T14:03:19.547Z"
   },
   {
    "duration": 20,
    "start_time": "2022-11-18T14:03:19.570Z"
   },
   {
    "duration": 20,
    "start_time": "2022-11-18T14:03:19.592Z"
   },
   {
    "duration": 34,
    "start_time": "2022-11-18T14:03:19.614Z"
   },
   {
    "duration": 15,
    "start_time": "2022-11-18T14:03:19.651Z"
   },
   {
    "duration": 52,
    "start_time": "2022-11-18T14:03:45.765Z"
   },
   {
    "duration": 4,
    "start_time": "2022-11-18T14:05:17.343Z"
   },
   {
    "duration": 132,
    "start_time": "2022-11-18T14:05:23.576Z"
   },
   {
    "duration": 3,
    "start_time": "2022-11-18T14:05:50.871Z"
   },
   {
    "duration": 3,
    "start_time": "2022-11-18T14:05:53.754Z"
   },
   {
    "duration": 138,
    "start_time": "2022-11-18T14:05:56.267Z"
   },
   {
    "duration": 1181,
    "start_time": "2022-11-18T14:06:50.737Z"
   },
   {
    "duration": 56,
    "start_time": "2022-11-18T14:06:51.920Z"
   },
   {
    "duration": 47,
    "start_time": "2022-11-18T14:06:51.978Z"
   },
   {
    "duration": 3,
    "start_time": "2022-11-18T14:06:52.027Z"
   },
   {
    "duration": 16,
    "start_time": "2022-11-18T14:06:52.031Z"
   },
   {
    "duration": 7,
    "start_time": "2022-11-18T14:06:52.049Z"
   },
   {
    "duration": 18,
    "start_time": "2022-11-18T14:06:52.058Z"
   },
   {
    "duration": 21,
    "start_time": "2022-11-18T14:06:52.077Z"
   },
   {
    "duration": 41,
    "start_time": "2022-11-18T14:06:52.100Z"
   },
   {
    "duration": 11,
    "start_time": "2022-11-18T14:06:52.145Z"
   },
   {
    "duration": 201,
    "start_time": "2022-11-18T14:06:52.158Z"
   },
   {
    "duration": 6,
    "start_time": "2022-11-18T14:06:52.360Z"
   },
   {
    "duration": 26,
    "start_time": "2022-11-18T14:06:52.368Z"
   },
   {
    "duration": 14,
    "start_time": "2022-11-18T14:06:52.396Z"
   },
   {
    "duration": 408,
    "start_time": "2022-11-18T14:06:52.412Z"
   },
   {
    "duration": 343,
    "start_time": "2022-11-18T14:06:52.822Z"
   },
   {
    "duration": 13,
    "start_time": "2022-11-18T14:06:53.167Z"
   },
   {
    "duration": 280,
    "start_time": "2022-11-18T14:06:53.182Z"
   },
   {
    "duration": 6,
    "start_time": "2022-11-18T14:06:53.464Z"
   },
   {
    "duration": 16,
    "start_time": "2022-11-18T14:06:53.472Z"
   },
   {
    "duration": 40,
    "start_time": "2022-11-18T14:06:53.491Z"
   },
   {
    "duration": 192,
    "start_time": "2022-11-18T14:06:53.533Z"
   },
   {
    "duration": 4,
    "start_time": "2022-11-18T14:06:53.727Z"
   },
   {
    "duration": 6,
    "start_time": "2022-11-18T14:06:53.733Z"
   },
   {
    "duration": 153,
    "start_time": "2022-11-18T14:06:53.740Z"
   },
   {
    "duration": 51,
    "start_time": "2022-11-18T14:06:53.895Z"
   },
   {
    "duration": 10,
    "start_time": "2022-11-18T14:06:53.948Z"
   },
   {
    "duration": 167,
    "start_time": "2022-11-18T14:06:53.962Z"
   },
   {
    "duration": 5,
    "start_time": "2022-11-18T14:06:54.132Z"
   },
   {
    "duration": 185,
    "start_time": "2022-11-18T14:06:54.140Z"
   },
   {
    "duration": 5,
    "start_time": "2022-11-18T14:06:54.326Z"
   },
   {
    "duration": 12,
    "start_time": "2022-11-18T14:06:54.333Z"
   },
   {
    "duration": 234,
    "start_time": "2022-11-18T14:06:54.346Z"
   },
   {
    "duration": 5,
    "start_time": "2022-11-18T14:06:54.582Z"
   },
   {
    "duration": 162,
    "start_time": "2022-11-18T14:06:54.588Z"
   },
   {
    "duration": 4,
    "start_time": "2022-11-18T14:06:54.752Z"
   },
   {
    "duration": 11,
    "start_time": "2022-11-18T14:06:54.758Z"
   },
   {
    "duration": 147,
    "start_time": "2022-11-18T14:06:54.770Z"
   },
   {
    "duration": 5,
    "start_time": "2022-11-18T14:06:54.918Z"
   },
   {
    "duration": 152,
    "start_time": "2022-11-18T14:06:54.925Z"
   },
   {
    "duration": 10,
    "start_time": "2022-11-18T14:06:55.079Z"
   },
   {
    "duration": 28,
    "start_time": "2022-11-18T14:06:55.091Z"
   },
   {
    "duration": 18,
    "start_time": "2022-11-18T14:06:55.122Z"
   },
   {
    "duration": 14,
    "start_time": "2022-11-18T14:06:55.142Z"
   },
   {
    "duration": 15,
    "start_time": "2022-11-18T14:06:55.158Z"
   },
   {
    "duration": 20,
    "start_time": "2022-11-18T14:06:55.174Z"
   },
   {
    "duration": 28,
    "start_time": "2022-11-18T14:06:55.195Z"
   },
   {
    "duration": 17,
    "start_time": "2022-11-18T14:06:55.225Z"
   },
   {
    "duration": 29,
    "start_time": "2022-11-18T14:06:55.244Z"
   },
   {
    "duration": 13,
    "start_time": "2022-11-18T14:06:55.275Z"
   },
   {
    "duration": 11,
    "start_time": "2022-11-18T14:06:55.289Z"
   },
   {
    "duration": 20,
    "start_time": "2022-11-18T14:06:55.302Z"
   },
   {
    "duration": 6,
    "start_time": "2022-11-18T14:06:55.324Z"
   },
   {
    "duration": 7,
    "start_time": "2022-11-18T14:06:55.332Z"
   },
   {
    "duration": 7,
    "start_time": "2022-11-18T14:06:55.341Z"
   },
   {
    "duration": 11,
    "start_time": "2022-11-18T14:06:55.349Z"
   },
   {
    "duration": 7,
    "start_time": "2022-11-18T14:06:55.361Z"
   },
   {
    "duration": 8,
    "start_time": "2022-11-18T14:06:55.370Z"
   },
   {
    "duration": 11,
    "start_time": "2022-11-18T14:06:55.380Z"
   },
   {
    "duration": 1314,
    "start_time": "2022-11-18T17:16:47.542Z"
   },
   {
    "duration": 173,
    "start_time": "2022-11-18T17:16:48.857Z"
   },
   {
    "duration": 42,
    "start_time": "2022-11-18T17:16:49.032Z"
   },
   {
    "duration": 3,
    "start_time": "2022-11-18T17:16:49.076Z"
   },
   {
    "duration": 10,
    "start_time": "2022-11-18T17:16:49.082Z"
   },
   {
    "duration": 6,
    "start_time": "2022-11-18T17:16:49.094Z"
   },
   {
    "duration": 9,
    "start_time": "2022-11-18T17:16:49.112Z"
   },
   {
    "duration": 8,
    "start_time": "2022-11-18T17:16:49.122Z"
   },
   {
    "duration": 34,
    "start_time": "2022-11-18T17:16:49.132Z"
   },
   {
    "duration": 5,
    "start_time": "2022-11-18T17:16:49.168Z"
   },
   {
    "duration": 180,
    "start_time": "2022-11-18T17:16:49.174Z"
   },
   {
    "duration": 5,
    "start_time": "2022-11-18T17:16:49.355Z"
   },
   {
    "duration": 12,
    "start_time": "2022-11-18T17:16:49.362Z"
   },
   {
    "duration": 7,
    "start_time": "2022-11-18T17:16:49.376Z"
   },
   {
    "duration": 352,
    "start_time": "2022-11-18T17:16:49.385Z"
   },
   {
    "duration": 299,
    "start_time": "2022-11-18T17:16:49.739Z"
   },
   {
    "duration": 11,
    "start_time": "2022-11-18T17:16:50.039Z"
   },
   {
    "duration": 255,
    "start_time": "2022-11-18T17:16:50.051Z"
   },
   {
    "duration": 7,
    "start_time": "2022-11-18T17:16:50.308Z"
   },
   {
    "duration": 13,
    "start_time": "2022-11-18T17:16:50.317Z"
   },
   {
    "duration": 10,
    "start_time": "2022-11-18T17:16:50.331Z"
   },
   {
    "duration": 143,
    "start_time": "2022-11-18T17:16:50.343Z"
   },
   {
    "duration": 4,
    "start_time": "2022-11-18T17:16:50.488Z"
   },
   {
    "duration": 5,
    "start_time": "2022-11-18T17:16:50.493Z"
   },
   {
    "duration": 129,
    "start_time": "2022-11-18T17:16:50.513Z"
   },
   {
    "duration": 4,
    "start_time": "2022-11-18T17:16:50.644Z"
   },
   {
    "duration": 7,
    "start_time": "2022-11-18T17:16:50.649Z"
   },
   {
    "duration": 125,
    "start_time": "2022-11-18T17:16:50.658Z"
   },
   {
    "duration": 4,
    "start_time": "2022-11-18T17:16:50.785Z"
   },
   {
    "duration": 127,
    "start_time": "2022-11-18T17:16:50.790Z"
   },
   {
    "duration": 4,
    "start_time": "2022-11-18T17:16:50.918Z"
   },
   {
    "duration": 10,
    "start_time": "2022-11-18T17:16:50.924Z"
   },
   {
    "duration": 222,
    "start_time": "2022-11-18T17:16:50.936Z"
   },
   {
    "duration": 4,
    "start_time": "2022-11-18T17:16:51.160Z"
   },
   {
    "duration": 136,
    "start_time": "2022-11-18T17:16:51.165Z"
   },
   {
    "duration": 9,
    "start_time": "2022-11-18T17:16:51.303Z"
   },
   {
    "duration": 4,
    "start_time": "2022-11-18T17:16:51.314Z"
   },
   {
    "duration": 129,
    "start_time": "2022-11-18T17:16:51.320Z"
   },
   {
    "duration": 4,
    "start_time": "2022-11-18T17:16:51.450Z"
   },
   {
    "duration": 132,
    "start_time": "2022-11-18T17:16:51.456Z"
   },
   {
    "duration": 10,
    "start_time": "2022-11-18T17:16:51.592Z"
   },
   {
    "duration": 14,
    "start_time": "2022-11-18T17:16:51.613Z"
   },
   {
    "duration": 14,
    "start_time": "2022-11-18T17:16:51.628Z"
   },
   {
    "duration": 12,
    "start_time": "2022-11-18T17:16:51.643Z"
   },
   {
    "duration": 16,
    "start_time": "2022-11-18T17:16:51.657Z"
   },
   {
    "duration": 13,
    "start_time": "2022-11-18T17:16:51.674Z"
   },
   {
    "duration": 12,
    "start_time": "2022-11-18T17:16:51.713Z"
   },
   {
    "duration": 16,
    "start_time": "2022-11-18T17:16:51.726Z"
   },
   {
    "duration": 13,
    "start_time": "2022-11-18T17:16:51.743Z"
   },
   {
    "duration": 16,
    "start_time": "2022-11-18T17:16:51.757Z"
   },
   {
    "duration": 7,
    "start_time": "2022-11-18T17:16:51.775Z"
   },
   {
    "duration": 10,
    "start_time": "2022-11-18T17:16:51.783Z"
   },
   {
    "duration": 4,
    "start_time": "2022-11-18T17:16:51.813Z"
   },
   {
    "duration": 8,
    "start_time": "2022-11-18T17:16:51.819Z"
   },
   {
    "duration": 18,
    "start_time": "2022-11-18T17:16:51.829Z"
   },
   {
    "duration": 10,
    "start_time": "2022-11-18T17:16:51.849Z"
   },
   {
    "duration": 6,
    "start_time": "2022-11-18T17:16:51.861Z"
   },
   {
    "duration": 6,
    "start_time": "2022-11-18T17:16:51.869Z"
   },
   {
    "duration": 6,
    "start_time": "2022-11-18T17:16:51.877Z"
   },
   {
    "duration": 81,
    "start_time": "2022-11-19T09:30:12.973Z"
   },
   {
    "duration": 1307,
    "start_time": "2022-11-19T09:30:26.213Z"
   },
   {
    "duration": 1142,
    "start_time": "2022-11-19T09:30:50.920Z"
   },
   {
    "duration": 116,
    "start_time": "2022-11-19T09:30:52.064Z"
   },
   {
    "duration": 45,
    "start_time": "2022-11-19T09:30:52.182Z"
   },
   {
    "duration": 3,
    "start_time": "2022-11-19T09:30:52.229Z"
   },
   {
    "duration": 19,
    "start_time": "2022-11-19T09:30:52.235Z"
   },
   {
    "duration": 19,
    "start_time": "2022-11-19T09:30:52.256Z"
   },
   {
    "duration": 15,
    "start_time": "2022-11-19T09:30:52.276Z"
   },
   {
    "duration": 13,
    "start_time": "2022-11-19T09:30:52.293Z"
   },
   {
    "duration": 35,
    "start_time": "2022-11-19T09:30:52.307Z"
   },
   {
    "duration": 5,
    "start_time": "2022-11-19T09:30:52.344Z"
   },
   {
    "duration": 193,
    "start_time": "2022-11-19T09:30:52.351Z"
   },
   {
    "duration": 6,
    "start_time": "2022-11-19T09:30:52.546Z"
   },
   {
    "duration": 19,
    "start_time": "2022-11-19T09:30:52.553Z"
   },
   {
    "duration": 8,
    "start_time": "2022-11-19T09:30:52.575Z"
   },
   {
    "duration": 397,
    "start_time": "2022-11-19T09:30:52.585Z"
   },
   {
    "duration": 321,
    "start_time": "2022-11-19T09:30:52.984Z"
   },
   {
    "duration": 18,
    "start_time": "2022-11-19T09:30:53.307Z"
   },
   {
    "duration": 244,
    "start_time": "2022-11-19T09:30:53.327Z"
   },
   {
    "duration": 5,
    "start_time": "2022-11-19T09:30:53.573Z"
   },
   {
    "duration": 11,
    "start_time": "2022-11-19T09:30:53.580Z"
   },
   {
    "duration": 15,
    "start_time": "2022-11-19T09:30:53.593Z"
   },
   {
    "duration": 144,
    "start_time": "2022-11-19T09:30:53.610Z"
   },
   {
    "duration": 5,
    "start_time": "2022-11-19T09:30:53.756Z"
   },
   {
    "duration": 11,
    "start_time": "2022-11-19T09:30:53.763Z"
   },
   {
    "duration": 155,
    "start_time": "2022-11-19T09:30:53.776Z"
   },
   {
    "duration": 4,
    "start_time": "2022-11-19T09:30:53.933Z"
   },
   {
    "duration": 6,
    "start_time": "2022-11-19T09:30:53.939Z"
   },
   {
    "duration": 152,
    "start_time": "2022-11-19T09:30:53.947Z"
   },
   {
    "duration": 5,
    "start_time": "2022-11-19T09:30:54.101Z"
   },
   {
    "duration": 137,
    "start_time": "2022-11-19T09:30:54.107Z"
   },
   {
    "duration": 5,
    "start_time": "2022-11-19T09:30:54.245Z"
   },
   {
    "duration": 7,
    "start_time": "2022-11-19T09:30:54.251Z"
   },
   {
    "duration": 212,
    "start_time": "2022-11-19T09:30:54.260Z"
   },
   {
    "duration": 4,
    "start_time": "2022-11-19T09:30:54.473Z"
   },
   {
    "duration": 151,
    "start_time": "2022-11-19T09:30:54.479Z"
   },
   {
    "duration": 4,
    "start_time": "2022-11-19T09:30:54.632Z"
   },
   {
    "duration": 14,
    "start_time": "2022-11-19T09:30:54.637Z"
   },
   {
    "duration": 129,
    "start_time": "2022-11-19T09:30:54.653Z"
   },
   {
    "duration": 5,
    "start_time": "2022-11-19T09:30:54.783Z"
   },
   {
    "duration": 137,
    "start_time": "2022-11-19T09:30:54.790Z"
   },
   {
    "duration": 11,
    "start_time": "2022-11-19T09:30:54.931Z"
   },
   {
    "duration": 16,
    "start_time": "2022-11-19T09:30:54.943Z"
   },
   {
    "duration": 13,
    "start_time": "2022-11-19T09:30:54.961Z"
   },
   {
    "duration": 17,
    "start_time": "2022-11-19T09:30:54.975Z"
   },
   {
    "duration": 13,
    "start_time": "2022-11-19T09:30:55.016Z"
   },
   {
    "duration": 16,
    "start_time": "2022-11-19T09:30:55.031Z"
   },
   {
    "duration": 15,
    "start_time": "2022-11-19T09:30:55.049Z"
   },
   {
    "duration": 19,
    "start_time": "2022-11-19T09:30:55.065Z"
   },
   {
    "duration": 34,
    "start_time": "2022-11-19T09:30:55.085Z"
   },
   {
    "duration": 18,
    "start_time": "2022-11-19T09:30:55.121Z"
   },
   {
    "duration": 4,
    "start_time": "2022-11-19T09:30:55.141Z"
   },
   {
    "duration": 7,
    "start_time": "2022-11-19T09:30:55.147Z"
   },
   {
    "duration": 18,
    "start_time": "2022-11-19T09:30:55.155Z"
   },
   {
    "duration": 7,
    "start_time": "2022-11-19T09:30:55.174Z"
   },
   {
    "duration": 11,
    "start_time": "2022-11-19T09:30:55.183Z"
   },
   {
    "duration": 9,
    "start_time": "2022-11-19T09:30:55.196Z"
   },
   {
    "duration": 14,
    "start_time": "2022-11-19T09:30:55.206Z"
   },
   {
    "duration": 20,
    "start_time": "2022-11-19T09:30:55.221Z"
   },
   {
    "duration": 7,
    "start_time": "2022-11-19T09:30:55.243Z"
   },
   {
    "duration": 1115,
    "start_time": "2022-11-19T09:39:25.278Z"
   },
   {
    "duration": 60,
    "start_time": "2022-11-19T09:39:26.395Z"
   },
   {
    "duration": 43,
    "start_time": "2022-11-19T09:39:26.457Z"
   },
   {
    "duration": 3,
    "start_time": "2022-11-19T09:39:26.501Z"
   },
   {
    "duration": 22,
    "start_time": "2022-11-19T09:39:26.515Z"
   },
   {
    "duration": 16,
    "start_time": "2022-11-19T09:39:26.538Z"
   },
   {
    "duration": 11,
    "start_time": "2022-11-19T09:39:26.556Z"
   },
   {
    "duration": 8,
    "start_time": "2022-11-19T09:39:26.569Z"
   },
   {
    "duration": 34,
    "start_time": "2022-11-19T09:39:26.579Z"
   },
   {
    "duration": 5,
    "start_time": "2022-11-19T09:39:26.616Z"
   },
   {
    "duration": 180,
    "start_time": "2022-11-19T09:39:26.622Z"
   },
   {
    "duration": 11,
    "start_time": "2022-11-19T09:39:26.804Z"
   },
   {
    "duration": 13,
    "start_time": "2022-11-19T09:39:26.817Z"
   },
   {
    "duration": 7,
    "start_time": "2022-11-19T09:39:26.831Z"
   },
   {
    "duration": 365,
    "start_time": "2022-11-19T09:39:26.839Z"
   },
   {
    "duration": 333,
    "start_time": "2022-11-19T09:39:27.206Z"
   },
   {
    "duration": 12,
    "start_time": "2022-11-19T09:39:27.541Z"
   },
   {
    "duration": 248,
    "start_time": "2022-11-19T09:39:27.554Z"
   },
   {
    "duration": 4,
    "start_time": "2022-11-19T09:39:27.804Z"
   },
   {
    "duration": 3,
    "start_time": "2022-11-19T09:39:27.816Z"
   },
   {
    "duration": 4,
    "start_time": "2022-11-19T09:39:27.821Z"
   },
   {
    "duration": 135,
    "start_time": "2022-11-19T09:39:27.827Z"
   },
   {
    "duration": 4,
    "start_time": "2022-11-19T09:39:27.964Z"
   },
   {
    "duration": 5,
    "start_time": "2022-11-19T09:39:27.969Z"
   },
   {
    "duration": 165,
    "start_time": "2022-11-19T09:39:27.975Z"
   },
   {
    "duration": 4,
    "start_time": "2022-11-19T09:39:28.141Z"
   },
   {
    "duration": 7,
    "start_time": "2022-11-19T09:39:28.147Z"
   },
   {
    "duration": 144,
    "start_time": "2022-11-19T09:39:28.157Z"
   },
   {
    "duration": 4,
    "start_time": "2022-11-19T09:39:28.302Z"
   },
   {
    "duration": 142,
    "start_time": "2022-11-19T09:39:28.316Z"
   },
   {
    "duration": 4,
    "start_time": "2022-11-19T09:39:28.460Z"
   },
   {
    "duration": 9,
    "start_time": "2022-11-19T09:39:28.465Z"
   },
   {
    "duration": 206,
    "start_time": "2022-11-19T09:39:28.475Z"
   },
   {
    "duration": 4,
    "start_time": "2022-11-19T09:39:28.683Z"
   },
   {
    "duration": 141,
    "start_time": "2022-11-19T09:39:28.688Z"
   },
   {
    "duration": 4,
    "start_time": "2022-11-19T09:39:28.832Z"
   },
   {
    "duration": 9,
    "start_time": "2022-11-19T09:39:28.838Z"
   },
   {
    "duration": 134,
    "start_time": "2022-11-19T09:39:28.849Z"
   },
   {
    "duration": 4,
    "start_time": "2022-11-19T09:39:28.985Z"
   },
   {
    "duration": 138,
    "start_time": "2022-11-19T09:39:28.990Z"
   },
   {
    "duration": 11,
    "start_time": "2022-11-19T09:39:29.130Z"
   },
   {
    "duration": 14,
    "start_time": "2022-11-19T09:39:29.143Z"
   },
   {
    "duration": 13,
    "start_time": "2022-11-19T09:39:29.159Z"
   },
   {
    "duration": 11,
    "start_time": "2022-11-19T09:39:29.174Z"
   },
   {
    "duration": 38,
    "start_time": "2022-11-19T09:39:29.187Z"
   },
   {
    "duration": 13,
    "start_time": "2022-11-19T09:39:29.227Z"
   },
   {
    "duration": 10,
    "start_time": "2022-11-19T09:39:29.241Z"
   },
   {
    "duration": 13,
    "start_time": "2022-11-19T09:39:29.252Z"
   },
   {
    "duration": 14,
    "start_time": "2022-11-19T09:39:29.267Z"
   },
   {
    "duration": 40,
    "start_time": "2022-11-19T09:39:29.283Z"
   },
   {
    "duration": 2,
    "start_time": "2022-11-19T09:39:29.325Z"
   },
   {
    "duration": 7,
    "start_time": "2022-11-19T09:39:29.329Z"
   },
   {
    "duration": 5,
    "start_time": "2022-11-19T09:39:29.337Z"
   },
   {
    "duration": 6,
    "start_time": "2022-11-19T09:39:29.343Z"
   },
   {
    "duration": 8,
    "start_time": "2022-11-19T09:39:29.351Z"
   },
   {
    "duration": 7,
    "start_time": "2022-11-19T09:39:29.361Z"
   },
   {
    "duration": 4,
    "start_time": "2022-11-19T09:39:29.370Z"
   },
   {
    "duration": 6,
    "start_time": "2022-11-19T09:39:29.376Z"
   },
   {
    "duration": 37,
    "start_time": "2022-11-19T09:39:29.383Z"
   },
   {
    "duration": 1093,
    "start_time": "2022-11-19T09:39:54.149Z"
   },
   {
    "duration": 54,
    "start_time": "2022-11-19T09:39:55.244Z"
   },
   {
    "duration": 43,
    "start_time": "2022-11-19T09:39:55.300Z"
   },
   {
    "duration": 3,
    "start_time": "2022-11-19T09:39:55.345Z"
   },
   {
    "duration": 14,
    "start_time": "2022-11-19T09:39:55.350Z"
   },
   {
    "duration": 10,
    "start_time": "2022-11-19T09:39:55.365Z"
   },
   {
    "duration": 26,
    "start_time": "2022-11-19T09:39:55.376Z"
   },
   {
    "duration": 14,
    "start_time": "2022-11-19T09:39:55.403Z"
   },
   {
    "duration": 38,
    "start_time": "2022-11-19T09:39:55.418Z"
   },
   {
    "duration": 5,
    "start_time": "2022-11-19T09:39:55.459Z"
   },
   {
    "duration": 194,
    "start_time": "2022-11-19T09:39:55.465Z"
   },
   {
    "duration": 6,
    "start_time": "2022-11-19T09:39:55.660Z"
   },
   {
    "duration": 13,
    "start_time": "2022-11-19T09:39:55.667Z"
   },
   {
    "duration": 6,
    "start_time": "2022-11-19T09:39:55.682Z"
   },
   {
    "duration": 383,
    "start_time": "2022-11-19T09:39:55.689Z"
   },
   {
    "duration": 385,
    "start_time": "2022-11-19T09:39:56.074Z"
   },
   {
    "duration": 12,
    "start_time": "2022-11-19T09:39:56.461Z"
   },
   {
    "duration": 254,
    "start_time": "2022-11-19T09:39:56.474Z"
   },
   {
    "duration": 4,
    "start_time": "2022-11-19T09:39:56.729Z"
   },
   {
    "duration": 7,
    "start_time": "2022-11-19T09:39:56.735Z"
   },
   {
    "duration": 5,
    "start_time": "2022-11-19T09:39:56.743Z"
   },
   {
    "duration": 138,
    "start_time": "2022-11-19T09:39:56.750Z"
   },
   {
    "duration": 5,
    "start_time": "2022-11-19T09:39:56.890Z"
   },
   {
    "duration": 6,
    "start_time": "2022-11-19T09:39:56.896Z"
   },
   {
    "duration": 137,
    "start_time": "2022-11-19T09:39:56.916Z"
   },
   {
    "duration": 5,
    "start_time": "2022-11-19T09:39:57.055Z"
   },
   {
    "duration": 19,
    "start_time": "2022-11-19T09:39:57.061Z"
   },
   {
    "duration": 124,
    "start_time": "2022-11-19T09:39:57.084Z"
   },
   {
    "duration": 4,
    "start_time": "2022-11-19T09:39:57.215Z"
   },
   {
    "duration": 139,
    "start_time": "2022-11-19T09:39:57.221Z"
   },
   {
    "duration": 4,
    "start_time": "2022-11-19T09:39:57.361Z"
   },
   {
    "duration": 7,
    "start_time": "2022-11-19T09:39:57.366Z"
   },
   {
    "duration": 212,
    "start_time": "2022-11-19T09:39:57.375Z"
   },
   {
    "duration": 5,
    "start_time": "2022-11-19T09:39:57.589Z"
   },
   {
    "duration": 150,
    "start_time": "2022-11-19T09:39:57.596Z"
   },
   {
    "duration": 4,
    "start_time": "2022-11-19T09:39:57.748Z"
   },
   {
    "duration": 6,
    "start_time": "2022-11-19T09:39:57.753Z"
   },
   {
    "duration": 135,
    "start_time": "2022-11-19T09:39:57.761Z"
   },
   {
    "duration": 4,
    "start_time": "2022-11-19T09:39:57.897Z"
   },
   {
    "duration": 127,
    "start_time": "2022-11-19T09:39:57.902Z"
   },
   {
    "duration": 11,
    "start_time": "2022-11-19T09:39:58.032Z"
   },
   {
    "duration": 14,
    "start_time": "2022-11-19T09:39:58.045Z"
   },
   {
    "duration": 21,
    "start_time": "2022-11-19T09:39:58.060Z"
   },
   {
    "duration": 33,
    "start_time": "2022-11-19T09:39:58.083Z"
   },
   {
    "duration": 14,
    "start_time": "2022-11-19T09:39:58.118Z"
   },
   {
    "duration": 14,
    "start_time": "2022-11-19T09:39:58.133Z"
   },
   {
    "duration": 16,
    "start_time": "2022-11-19T09:39:58.149Z"
   },
   {
    "duration": 18,
    "start_time": "2022-11-19T09:39:58.167Z"
   },
   {
    "duration": 37,
    "start_time": "2022-11-19T09:39:58.187Z"
   },
   {
    "duration": 15,
    "start_time": "2022-11-19T09:39:58.226Z"
   },
   {
    "duration": 9,
    "start_time": "2022-11-19T09:39:58.243Z"
   },
   {
    "duration": 7,
    "start_time": "2022-11-19T09:39:58.254Z"
   },
   {
    "duration": 13,
    "start_time": "2022-11-19T09:39:58.263Z"
   },
   {
    "duration": 12,
    "start_time": "2022-11-19T09:39:58.278Z"
   },
   {
    "duration": 6,
    "start_time": "2022-11-19T09:39:58.292Z"
   },
   {
    "duration": 20,
    "start_time": "2022-11-19T09:39:58.300Z"
   },
   {
    "duration": 11,
    "start_time": "2022-11-19T09:39:58.323Z"
   },
   {
    "duration": 8,
    "start_time": "2022-11-19T09:39:58.336Z"
   },
   {
    "duration": 9,
    "start_time": "2022-11-19T09:39:58.345Z"
   },
   {
    "duration": 1496,
    "start_time": "2022-11-26T16:49:24.516Z"
   },
   {
    "duration": 101,
    "start_time": "2022-11-26T16:49:26.016Z"
   },
   {
    "duration": 53,
    "start_time": "2022-11-26T16:49:26.121Z"
   },
   {
    "duration": 7,
    "start_time": "2022-11-26T16:49:26.176Z"
   },
   {
    "duration": 34,
    "start_time": "2022-11-26T16:49:26.185Z"
   },
   {
    "duration": 17,
    "start_time": "2022-11-26T16:49:26.222Z"
   },
   {
    "duration": 12,
    "start_time": "2022-11-26T16:49:26.241Z"
   },
   {
    "duration": 9,
    "start_time": "2022-11-26T16:49:26.255Z"
   },
   {
    "duration": 50,
    "start_time": "2022-11-26T16:49:26.265Z"
   },
   {
    "duration": 6,
    "start_time": "2022-11-26T16:49:26.318Z"
   },
   {
    "duration": 257,
    "start_time": "2022-11-26T16:49:26.326Z"
   },
   {
    "duration": 6,
    "start_time": "2022-11-26T16:49:26.585Z"
   },
   {
    "duration": 37,
    "start_time": "2022-11-26T16:49:26.595Z"
   },
   {
    "duration": 8,
    "start_time": "2022-11-26T16:49:26.636Z"
   },
   {
    "duration": 476,
    "start_time": "2022-11-26T16:49:26.647Z"
   },
   {
    "duration": 417,
    "start_time": "2022-11-26T16:49:27.127Z"
   },
   {
    "duration": 13,
    "start_time": "2022-11-26T16:49:27.546Z"
   },
   {
    "duration": 300,
    "start_time": "2022-11-26T16:49:27.561Z"
   },
   {
    "duration": 4,
    "start_time": "2022-11-26T16:49:27.863Z"
   },
   {
    "duration": 26,
    "start_time": "2022-11-26T16:49:27.869Z"
   },
   {
    "duration": 19,
    "start_time": "2022-11-26T16:49:27.897Z"
   },
   {
    "duration": 164,
    "start_time": "2022-11-26T16:49:27.919Z"
   },
   {
    "duration": 4,
    "start_time": "2022-11-26T16:49:28.084Z"
   },
   {
    "duration": 22,
    "start_time": "2022-11-26T16:49:28.090Z"
   },
   {
    "duration": 193,
    "start_time": "2022-11-26T16:49:28.115Z"
   },
   {
    "duration": 7,
    "start_time": "2022-11-26T16:49:28.310Z"
   },
   {
    "duration": 19,
    "start_time": "2022-11-26T16:49:28.319Z"
   },
   {
    "duration": 164,
    "start_time": "2022-11-26T16:49:28.342Z"
   },
   {
    "duration": 8,
    "start_time": "2022-11-26T16:49:28.520Z"
   },
   {
    "duration": 156,
    "start_time": "2022-11-26T16:49:28.531Z"
   },
   {
    "duration": 5,
    "start_time": "2022-11-26T16:49:28.689Z"
   },
   {
    "duration": 19,
    "start_time": "2022-11-26T16:49:28.696Z"
   },
   {
    "duration": 248,
    "start_time": "2022-11-26T16:49:28.718Z"
   },
   {
    "duration": 5,
    "start_time": "2022-11-26T16:49:28.967Z"
   },
   {
    "duration": 172,
    "start_time": "2022-11-26T16:49:28.973Z"
   },
   {
    "duration": 5,
    "start_time": "2022-11-26T16:49:29.146Z"
   },
   {
    "duration": 8,
    "start_time": "2022-11-26T16:49:29.153Z"
   },
   {
    "duration": 158,
    "start_time": "2022-11-26T16:49:29.163Z"
   },
   {
    "duration": 6,
    "start_time": "2022-11-26T16:49:29.324Z"
   },
   {
    "duration": 157,
    "start_time": "2022-11-26T16:49:29.332Z"
   },
   {
    "duration": 12,
    "start_time": "2022-11-26T16:49:29.490Z"
   },
   {
    "duration": 27,
    "start_time": "2022-11-26T16:49:29.512Z"
   },
   {
    "duration": 29,
    "start_time": "2022-11-26T16:49:29.541Z"
   },
   {
    "duration": 33,
    "start_time": "2022-11-26T16:49:29.572Z"
   },
   {
    "duration": 33,
    "start_time": "2022-11-26T16:49:29.607Z"
   },
   {
    "duration": 28,
    "start_time": "2022-11-26T16:49:29.642Z"
   },
   {
    "duration": 36,
    "start_time": "2022-11-26T16:49:29.671Z"
   },
   {
    "duration": 29,
    "start_time": "2022-11-26T16:49:29.708Z"
   },
   {
    "duration": 21,
    "start_time": "2022-11-26T16:49:29.739Z"
   },
   {
    "duration": 24,
    "start_time": "2022-11-26T16:49:29.762Z"
   },
   {
    "duration": 19,
    "start_time": "2022-11-26T16:49:29.788Z"
   },
   {
    "duration": 20,
    "start_time": "2022-11-26T16:49:29.809Z"
   },
   {
    "duration": 11,
    "start_time": "2022-11-26T16:49:29.831Z"
   },
   {
    "duration": 7,
    "start_time": "2022-11-26T16:49:29.844Z"
   },
   {
    "duration": 16,
    "start_time": "2022-11-26T16:49:29.852Z"
   },
   {
    "duration": 9,
    "start_time": "2022-11-26T16:49:29.869Z"
   },
   {
    "duration": 7,
    "start_time": "2022-11-26T16:49:29.880Z"
   },
   {
    "duration": 9,
    "start_time": "2022-11-26T16:49:29.888Z"
   },
   {
    "duration": 25,
    "start_time": "2022-11-26T16:49:29.898Z"
   },
   {
    "duration": 6,
    "start_time": "2022-11-26T16:49:59.628Z"
   },
   {
    "duration": 9,
    "start_time": "2022-11-26T16:50:51.641Z"
   },
   {
    "duration": 27,
    "start_time": "2022-11-26T16:55:47.228Z"
   },
   {
    "duration": 16,
    "start_time": "2022-11-26T16:57:59.949Z"
   },
   {
    "duration": 16,
    "start_time": "2022-11-26T17:01:06.935Z"
   }
  ],
  "kernelspec": {
   "display_name": "Python 3 (ipykernel)",
   "language": "python",
   "name": "python3"
  },
  "language_info": {
   "codemirror_mode": {
    "name": "ipython",
    "version": 3
   },
   "file_extension": ".py",
   "mimetype": "text/x-python",
   "name": "python",
   "nbconvert_exporter": "python",
   "pygments_lexer": "ipython3",
   "version": "3.10.6"
  },
  "toc": {
   "base_numbering": 1,
   "nav_menu": {},
   "number_sections": true,
   "sideBar": true,
   "skip_h1_title": true,
   "title_cell": "Содержание",
   "title_sidebar": "Contents",
   "toc_cell": true,
   "toc_position": {
    "height": "calc(100% - 180px)",
    "left": "10px",
    "top": "150px",
    "width": "270.188px"
   },
   "toc_section_display": true,
   "toc_window_display": true
  }
 },
 "nbformat": 4,
 "nbformat_minor": 2
}
