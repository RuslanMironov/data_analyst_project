{
 "cells": [
  {
   "cell_type": "markdown",
   "id": "795189fb",
   "metadata": {
    "toc": true
   },
   "source": [
    "<h1>Содержание<span class=\"tocSkip\"></span></h1>\n",
    "<div class=\"toc\"><ul class=\"toc-item\"><li><span><a href=\"#Описание-проекта\" data-toc-modified-id=\"Описание-проекта-1\"><span class=\"toc-item-num\">1&nbsp;&nbsp;</span>Описание проекта</a></span></li><li><span><a href=\"#Описание-данных\" data-toc-modified-id=\"Описание-данных-2\"><span class=\"toc-item-num\">2&nbsp;&nbsp;</span>Описание данных</a></span></li><li><span><a href=\"#Приоритизация-гипотез\" data-toc-modified-id=\"Приоритизация-гипотез-3\"><span class=\"toc-item-num\">3&nbsp;&nbsp;</span>Приоритизация гипотез</a></span><ul class=\"toc-item\"><li><span><a href=\"#Подготовим-данные-к-приоритизация\" data-toc-modified-id=\"Подготовим-данные-к-приоритизация-3.1\"><span class=\"toc-item-num\">3.1&nbsp;&nbsp;</span>Подготовим данные к приоритизация</a></span></li><li><span><a href=\"#Применяем-фреймворк-ICE\" data-toc-modified-id=\"Применяем-фреймворк-ICE-3.2\"><span class=\"toc-item-num\">3.2&nbsp;&nbsp;</span>Применяем фреймворк ICE</a></span></li><li><span><a href=\"#Применяем-фреймворк-RICE\" data-toc-modified-id=\"Применяем-фреймворк-RICE-3.3\"><span class=\"toc-item-num\">3.3&nbsp;&nbsp;</span>Применяем фреймворк RICE</a></span></li></ul></li><li><span><a href=\"#Анализ-А/В-теста\" data-toc-modified-id=\"Анализ-А/В-теста-4\"><span class=\"toc-item-num\">4&nbsp;&nbsp;</span>Анализ А/В теста</a></span><ul class=\"toc-item\"><li><span><a href=\"#Обработаем-данные-о-заказах\" data-toc-modified-id=\"Обработаем-данные-о-заказах-4.1\"><span class=\"toc-item-num\">4.1&nbsp;&nbsp;</span>Обработаем данные о заказах</a></span></li><li><span><a href=\"#Обработаем-данные-о-посетителях\" data-toc-modified-id=\"Обработаем-данные-о-посетителях-4.2\"><span class=\"toc-item-num\">4.2&nbsp;&nbsp;</span>Обработаем данные о посетителях</a></span></li><li><span><a href=\"#Подготовим-данные-к-анализу\" data-toc-modified-id=\"Подготовим-данные-к-анализу-4.3\"><span class=\"toc-item-num\">4.3&nbsp;&nbsp;</span>Подготовим данные к анализу</a></span><ul class=\"toc-item\"><li><span><a href=\"#Cоздадим-датафрейм-с-уникальными-парами-значений\" data-toc-modified-id=\"Cоздадим-датафрейм-с-уникальными-парами-значений-4.3.1\"><span class=\"toc-item-num\">4.3.1&nbsp;&nbsp;</span>Cоздадим датафрейм с уникальными парами значений</a></span></li><li><span><a href=\"#Создадим-датафрейм-orders_aggregated\" data-toc-modified-id=\"Создадим-датафрейм-orders_aggregated-4.3.2\"><span class=\"toc-item-num\">4.3.2&nbsp;&nbsp;</span>Создадим датафрейм orders_aggregated</a></span></li><li><span><a href=\"#Создадим-датафрейм-visitors_aggregated\" data-toc-modified-id=\"Создадим-датафрейм-visitors_aggregated-4.3.3\"><span class=\"toc-item-num\">4.3.3&nbsp;&nbsp;</span>Создадим датафрейм visitors_aggregated</a></span></li><li><span><a href=\"#Обьеденим-полученные-датафреймы\" data-toc-modified-id=\"Обьеденим-полученные-датафреймы-4.3.4\"><span class=\"toc-item-num\">4.3.4&nbsp;&nbsp;</span>Обьеденим полученные датафреймы</a></span></li></ul></li><li><span><a href=\"#Строим-график-кумулятивной-выручки-по-группам.\" data-toc-modified-id=\"Строим-график-кумулятивной-выручки-по-группам.-4.4\"><span class=\"toc-item-num\">4.4&nbsp;&nbsp;</span>Строим график кумулятивной выручки по группам.</a></span><ul class=\"toc-item\"><li><span><a href=\"#Разбиваем-данные-и-строим-график\" data-toc-modified-id=\"Разбиваем-данные-и-строим-график-4.4.1\"><span class=\"toc-item-num\">4.4.1&nbsp;&nbsp;</span>Разбиваем данные и строим график</a></span></li></ul></li><li><span><a href=\"#Строим-график-кумулятивного-среднего-чека-по-группам\" data-toc-modified-id=\"Строим-график-кумулятивного-среднего-чека-по-группам-4.5\"><span class=\"toc-item-num\">4.5&nbsp;&nbsp;</span>Строим график кумулятивного среднего чека по группам</a></span></li><li><span><a href=\"#Строим-график-относительного-изменения-кумулятивного-среднего-чека-группы-B-к-группе-A\" data-toc-modified-id=\"Строим-график-относительного-изменения-кумулятивного-среднего-чека-группы-B-к-группе-A-4.6\"><span class=\"toc-item-num\">4.6&nbsp;&nbsp;</span>Строим график относительного изменения кумулятивного среднего чека группы B к группе A</a></span></li><li><span><a href=\"#Строим-график-кумулятивного-среднего-количества-заказов-на-посетителя-по-группам\" data-toc-modified-id=\"Строим-график-кумулятивного-среднего-количества-заказов-на-посетителя-по-группам-4.7\"><span class=\"toc-item-num\">4.7&nbsp;&nbsp;</span>Строим график кумулятивного среднего количества заказов на посетителя по группам</a></span></li><li><span><a href=\"#Строим-график-относительного-изменения-кумулятивного-среднего-количества-заказов-на-посетителя-группы-B-к-группе-A\" data-toc-modified-id=\"Строим-график-относительного-изменения-кумулятивного-среднего-количества-заказов-на-посетителя-группы-B-к-группе-A-4.8\"><span class=\"toc-item-num\">4.8&nbsp;&nbsp;</span>Строим график относительного изменения кумулятивного среднего количества заказов на посетителя группы B к группе A</a></span></li><li><span><a href=\"#Строим-точечный-график-количества-заказов-по-пользователям\" data-toc-modified-id=\"Строим-точечный-график-количества-заказов-по-пользователям-4.9\"><span class=\"toc-item-num\">4.9&nbsp;&nbsp;</span>Строим точечный график количества заказов по пользователям</a></span></li><li><span><a href=\"#Посчитаем-95-й-и-99-й-перцентили-количества-заказов-на-пользователя\" data-toc-modified-id=\"Посчитаем-95-й-и-99-й-перцентили-количества-заказов-на-пользователя-4.10\"><span class=\"toc-item-num\">4.10&nbsp;&nbsp;</span>Посчитаем 95-й и 99-й перцентили количества заказов на пользователя</a></span></li><li><span><a href=\"#Строим-точечный-график-стоимостей-заказов\" data-toc-modified-id=\"Строим-точечный-график-стоимостей-заказов-4.11\"><span class=\"toc-item-num\">4.11&nbsp;&nbsp;</span>Строим точечный график стоимостей заказов</a></span></li><li><span><a href=\"#Считаем-95-й-и-99-й-перцентили-стоимости-заказов\" data-toc-modified-id=\"Считаем-95-й-и-99-й-перцентили-стоимости-заказов-4.12\"><span class=\"toc-item-num\">4.12&nbsp;&nbsp;</span>Считаем 95-й и 99-й перцентили стоимости заказов</a></span></li><li><span><a href=\"#Посчитаем-статистическую-значимость-различий-в-среднем-количестве-заказов-на-посетителя-между-группами-по-«сырым»-данным\" data-toc-modified-id=\"Посчитаем-статистическую-значимость-различий-в-среднем-количестве-заказов-на-посетителя-между-группами-по-«сырым»-данным-4.13\"><span class=\"toc-item-num\">4.13&nbsp;&nbsp;</span>Посчитаем статистическую значимость различий в среднем количестве заказов на посетителя между группами по «сырым» данным</a></span><ul class=\"toc-item\"><li><span><a href=\"#Посчитаем-кол-во-пользователей-в-день,-для-каждой-группы\" data-toc-modified-id=\"Посчитаем-кол-во-пользователей-в-день,-для-каждой-группы-4.13.1\"><span class=\"toc-item-num\">4.13.1&nbsp;&nbsp;</span>Посчитаем кол-во пользователей в день, для каждой группы</a></span></li><li><span><a href=\"#Посчитаем-суммарное-кол-во-заказов-и-суммарную-выручку-в-день\" data-toc-modified-id=\"Посчитаем-суммарное-кол-во-заказов-и-суммарную-выручку-в-день-4.13.2\"><span class=\"toc-item-num\">4.13.2&nbsp;&nbsp;</span>Посчитаем суммарное кол-во заказов и суммарную выручку в день</a></span></li><li><span><a href=\"#Создадим-датафрейм-с-заказами\" data-toc-modified-id=\"Создадим-датафрейм-с-заказами-4.13.3\"><span class=\"toc-item-num\">4.13.3&nbsp;&nbsp;</span>Создадим датафрейм с заказами</a></span></li><li><span><a href=\"#Создадим-переменные-с-заказами-по-каждому-пользователю-для-каждой-из-групп\" data-toc-modified-id=\"Создадим-переменные-с-заказами-по-каждому-пользователю-для-каждой-из-групп-4.13.4\"><span class=\"toc-item-num\">4.13.4&nbsp;&nbsp;</span>Создадим переменные с заказами по каждому пользователю для каждой из групп</a></span></li></ul></li><li><span><a href=\"#Посчитаем-статистическую-значимость-различий-в-среднем-чеке-заказа-между-группами-по-«сырым»-данным\" data-toc-modified-id=\"Посчитаем-статистическую-значимость-различий-в-среднем-чеке-заказа-между-группами-по-«сырым»-данным-4.14\"><span class=\"toc-item-num\">4.14&nbsp;&nbsp;</span>Посчитаем статистическую значимость различий в среднем чеке заказа между группами по «сырым» данным</a></span></li><li><span><a href=\"#Посчитаем-статистическую-значимость-различий-в-среднем-количестве-заказов-на-посетителя-между-группами-по-«очищенным»-данным\" data-toc-modified-id=\"Посчитаем-статистическую-значимость-различий-в-среднем-количестве-заказов-на-посетителя-между-группами-по-«очищенным»-данным-4.15\"><span class=\"toc-item-num\">4.15&nbsp;&nbsp;</span>Посчитаем статистическую значимость различий в среднем количестве заказов на посетителя между группами по «очищенным» данным</a></span></li><li><span><a href=\"#Посчитаем-статистическую-значимость-различий-в-среднем-чеке-заказа-между-группами-по-«очищенным»-данным\" data-toc-modified-id=\"Посчитаем-статистическую-значимость-различий-в-среднем-чеке-заказа-между-группами-по-«очищенным»-данным-4.16\"><span class=\"toc-item-num\">4.16&nbsp;&nbsp;</span>Посчитаем статистическую значимость различий в среднем чеке заказа между группами по «очищенным» данным</a></span></li></ul></li><li><span><a href=\"#Общий-вывод\" data-toc-modified-id=\"Общий-вывод-5\"><span class=\"toc-item-num\">5&nbsp;&nbsp;</span>Общий вывод</a></span></li></ul></div>"
   ]
  },
  {
   "cell_type": "markdown",
   "id": "9359e2a7",
   "metadata": {},
   "source": [
    "# Описание проекта\n",
    "\n",
    "*Я — аналитик крупного интернет-магазина. Вместе с отделом маркетинга мы подготовили список гипотез для увеличения выручки.\n",
    "Приоритизируем гипотезы, запустим A/B-тест и проанализируем результаты.* "
   ]
  },
  {
   "cell_type": "markdown",
   "id": "e60a9f35",
   "metadata": {},
   "source": [
    "# Описание данных\n",
    "\n",
    "*hypothesis.csv*\n",
    "\n",
    "- Hypothesis — краткое описание гипотезы;\n",
    "- Reach — охват пользователей по 10-балльной шкале;\n",
    "- Impact — влияние на пользователей по 10-балльной шкале;\n",
    "- Confidence — уверенность в гипотезе по 10-балльной шкале;\n",
    "- Efforts — затраты ресурсов на проверку гипотезы по 10-балльной шкале. Чем больше значение Efforts, тем дороже проверка гипотезы.\n",
    "\n",
    "\n",
    "*orders.csv* \n",
    "\n",
    "- transactionId — идентификатор заказа;\n",
    "- visitorId — идентификатор пользователя, совершившего заказ;\n",
    "- date — дата, когда был совершён заказ;\n",
    "- revenue — выручка заказа;\n",
    "- group — группа A/B-теста, в которую попал заказ.\n",
    "\n",
    "\n",
    "*visitors.csv*\n",
    "- date — дата;\n",
    "- group — группа A/B-теста;\n",
    "- visitors — количество пользователей в указанную дату в указанной группе A/B-теста"
   ]
  },
  {
   "cell_type": "code",
   "execution_count": 1,
   "id": "b36a2062",
   "metadata": {},
   "outputs": [],
   "source": [
    "import pandas as pd\n",
    "import datetime as dt\n",
    "import numpy as np\n",
    "import matplotlib.pyplot as plt\n",
    "from pandas.plotting import register_matplotlib_converters\n",
    "import warnings\n",
    "import scipy.stats as stats\n",
    "import requests as r\n",
    "from io import BytesIO"
   ]
  },
  {
   "cell_type": "code",
   "execution_count": 2,
   "id": "82c1badb",
   "metadata": {},
   "outputs": [],
   "source": [
    "try:\n",
    "    hypothesis = pd.read_csv('/Users/nastinpupochek/Downloads/hypothesis.csv')\n",
    "except: \n",
    "    spreadsheet_id = '1LhlzTFq7R5Khgj9QQwBXm6eRAlpK_QSLycK5ZiW86lo'\n",
    "    file_name = 'https://docs.google.com/spreadsheets/d/{}/export?format=csv'.format(spreadsheet_id)\n",
    "    r = r.get(file_name)\n",
    "    hypothesis = pd.read_csv(BytesIO(r.content), sep=',')"
   ]
  },
  {
   "cell_type": "code",
   "execution_count": 3,
   "id": "6b46156b",
   "metadata": {},
   "outputs": [],
   "source": [
    "try:\n",
    "    orders = pd.read_csv('/Users/nastinpupochek/Downloads/orders.csv')\n",
    "except: \n",
    "    spreadsheet_id = '1KwTlap609AZcW7MsncFjsTf-TW4xw0Gq_aOhMNig2Js'\n",
    "    file_name = 'https://docs.google.com/spreadsheets/d/{}/export?format=csv'.format(spreadsheet_id)\n",
    "    r = r.get(file_name)\n",
    "    orders = pd.read_csv(BytesIO(r.content), sep=',')"
   ]
  },
  {
   "cell_type": "code",
   "execution_count": 4,
   "id": "a83ae473",
   "metadata": {},
   "outputs": [],
   "source": [
    "try:\n",
    "    visitors = pd.read_csv('/Users/nastinpupochek/Downloads/visitors.csv')\n",
    "except: \n",
    "    spreadsheet_id = '1KzYvWNsCuGzWgGA8lBnRtAgEZspKth7uPnXEzOn49I4'\n",
    "    file_name = 'https://docs.google.com/spreadsheets/d/{}/export?format=csv'.format(spreadsheet_id)\n",
    "    r = r.get(file_name)\n",
    "    visitors = pd.read_csv(BytesIO(r.content), sep=',')"
   ]
  },
  {
   "cell_type": "markdown",
   "id": "6682f151",
   "metadata": {},
   "source": [
    "# Приоритизация гипотез"
   ]
  },
  {
   "cell_type": "markdown",
   "id": "c9fd5fa2",
   "metadata": {},
   "source": [
    "*В файле hypothesis.csv 9 гипотез по увеличению выручки интернет-магазина с указанными параметрами Reach, Impact, Confidence, Effort. Установим приоритет гипотез при помощи фреймворка ICE и RICE.*"
   ]
  },
  {
   "cell_type": "markdown",
   "id": "ba7bb564",
   "metadata": {},
   "source": [
    "## Подготовим данные к приоритизация"
   ]
  },
  {
   "cell_type": "markdown",
   "id": "d7c84e33",
   "metadata": {},
   "source": [
    "*Напишем функцию для проверки данных*"
   ]
  },
  {
   "cell_type": "code",
   "execution_count": 5,
   "id": "6240679a",
   "metadata": {},
   "outputs": [],
   "source": [
    "def df_info(df):\n",
    "    pd.options.display.max_colwidth = 150\n",
    "    display(df.head())\n",
    "    print(f'Количество строк: {df.shape[0]}')\n",
    "    print(f'\\nКоличество пропущенных значений: \\n{df.isna().sum()}')\n",
    "    print(f'\\nТипы данных в столбцах: \\n{df.dtypes}')\n",
    "    print(f'\\nКоличество дубликатов: \\n{df.duplicated().sum()}')"
   ]
  },
  {
   "cell_type": "code",
   "execution_count": 6,
   "id": "ee564b28",
   "metadata": {},
   "outputs": [
    {
     "data": {
      "text/html": [
       "<div>\n",
       "<style scoped>\n",
       "    .dataframe tbody tr th:only-of-type {\n",
       "        vertical-align: middle;\n",
       "    }\n",
       "\n",
       "    .dataframe tbody tr th {\n",
       "        vertical-align: top;\n",
       "    }\n",
       "\n",
       "    .dataframe thead th {\n",
       "        text-align: right;\n",
       "    }\n",
       "</style>\n",
       "<table border=\"1\" class=\"dataframe\">\n",
       "  <thead>\n",
       "    <tr style=\"text-align: right;\">\n",
       "      <th></th>\n",
       "      <th>Hypothesis</th>\n",
       "      <th>Reach</th>\n",
       "      <th>Impact</th>\n",
       "      <th>Confidence</th>\n",
       "      <th>Efforts</th>\n",
       "    </tr>\n",
       "  </thead>\n",
       "  <tbody>\n",
       "    <tr>\n",
       "      <th>0</th>\n",
       "      <td>Добавить два новых канала привлечения трафика, что позволит привлекать на 30% больше пользователей</td>\n",
       "      <td>3</td>\n",
       "      <td>10</td>\n",
       "      <td>8</td>\n",
       "      <td>6</td>\n",
       "    </tr>\n",
       "    <tr>\n",
       "      <th>1</th>\n",
       "      <td>Запустить собственную службу доставки, что сократит срок доставки заказов</td>\n",
       "      <td>2</td>\n",
       "      <td>5</td>\n",
       "      <td>4</td>\n",
       "      <td>10</td>\n",
       "    </tr>\n",
       "    <tr>\n",
       "      <th>2</th>\n",
       "      <td>Добавить блоки рекомендаций товаров на сайт интернет магазина, чтобы повысить конверсию и средний чек заказа</td>\n",
       "      <td>8</td>\n",
       "      <td>3</td>\n",
       "      <td>7</td>\n",
       "      <td>3</td>\n",
       "    </tr>\n",
       "    <tr>\n",
       "      <th>3</th>\n",
       "      <td>Изменить структура категорий, что увеличит конверсию, т.к. пользователи быстрее найдут нужный товар</td>\n",
       "      <td>8</td>\n",
       "      <td>3</td>\n",
       "      <td>3</td>\n",
       "      <td>8</td>\n",
       "    </tr>\n",
       "    <tr>\n",
       "      <th>4</th>\n",
       "      <td>Изменить цвет фона главной страницы, чтобы увеличить вовлеченность пользователей</td>\n",
       "      <td>3</td>\n",
       "      <td>1</td>\n",
       "      <td>1</td>\n",
       "      <td>1</td>\n",
       "    </tr>\n",
       "  </tbody>\n",
       "</table>\n",
       "</div>"
      ],
      "text/plain": [
       "                                                                                                     Hypothesis  \\\n",
       "0            Добавить два новых канала привлечения трафика, что позволит привлекать на 30% больше пользователей   \n",
       "1                                     Запустить собственную службу доставки, что сократит срок доставки заказов   \n",
       "2  Добавить блоки рекомендаций товаров на сайт интернет магазина, чтобы повысить конверсию и средний чек заказа   \n",
       "3           Изменить структура категорий, что увеличит конверсию, т.к. пользователи быстрее найдут нужный товар   \n",
       "4                              Изменить цвет фона главной страницы, чтобы увеличить вовлеченность пользователей   \n",
       "\n",
       "   Reach  Impact  Confidence  Efforts  \n",
       "0      3      10           8        6  \n",
       "1      2       5           4       10  \n",
       "2      8       3           7        3  \n",
       "3      8       3           3        8  \n",
       "4      3       1           1        1  "
      ]
     },
     "metadata": {},
     "output_type": "display_data"
    },
    {
     "name": "stdout",
     "output_type": "stream",
     "text": [
      "Количество строк: 9\n",
      "\n",
      "Количество пропущенных значений: \n",
      "Hypothesis    0\n",
      "Reach         0\n",
      "Impact        0\n",
      "Confidence    0\n",
      "Efforts       0\n",
      "dtype: int64\n",
      "\n",
      "Типы данных в столбцах: \n",
      "Hypothesis    object\n",
      "Reach          int64\n",
      "Impact         int64\n",
      "Confidence     int64\n",
      "Efforts        int64\n",
      "dtype: object\n",
      "\n",
      "Количество дубликатов: \n",
      "0\n"
     ]
    }
   ],
   "source": [
    "df_info(hypothesis)"
   ]
  },
  {
   "cell_type": "markdown",
   "id": "88210afb",
   "metadata": {},
   "source": [
    "*Приведем название столбцов в нижний регистр*"
   ]
  },
  {
   "cell_type": "code",
   "execution_count": 7,
   "id": "91ba0b94",
   "metadata": {},
   "outputs": [],
   "source": [
    "hypothesis.columns = hypothesis.columns.str.lower()"
   ]
  },
  {
   "cell_type": "markdown",
   "id": "1ce36962",
   "metadata": {},
   "source": [
    "*Проверим за какой период у нас данные*"
   ]
  },
  {
   "cell_type": "code",
   "execution_count": 8,
   "id": "b550eb67",
   "metadata": {},
   "outputs": [
    {
     "data": {
      "text/plain": [
       "'2019-08-01'"
      ]
     },
     "metadata": {},
     "output_type": "display_data"
    }
   ],
   "source": [
    "min_date = orders['date'].min()\n",
    "display(min_date)"
   ]
  },
  {
   "cell_type": "code",
   "execution_count": 9,
   "id": "3b309f7a",
   "metadata": {},
   "outputs": [
    {
     "data": {
      "text/plain": [
       "'2019-08-31'"
      ]
     },
     "metadata": {},
     "output_type": "display_data"
    }
   ],
   "source": [
    "max_date = orders['date'].max()\n",
    "display(max_date)"
   ]
  },
  {
   "cell_type": "markdown",
   "id": "53477b49",
   "metadata": {},
   "source": [
    "*Данные за месяц*"
   ]
  },
  {
   "cell_type": "markdown",
   "id": "5c4d4f24",
   "metadata": {},
   "source": [
    "## Применяем фреймворк ICE"
   ]
  },
  {
   "cell_type": "code",
   "execution_count": 10,
   "id": "e851ff55",
   "metadata": {},
   "outputs": [
    {
     "data": {
      "text/html": [
       "<div>\n",
       "<style scoped>\n",
       "    .dataframe tbody tr th:only-of-type {\n",
       "        vertical-align: middle;\n",
       "    }\n",
       "\n",
       "    .dataframe tbody tr th {\n",
       "        vertical-align: top;\n",
       "    }\n",
       "\n",
       "    .dataframe thead th {\n",
       "        text-align: right;\n",
       "    }\n",
       "</style>\n",
       "<table border=\"1\" class=\"dataframe\">\n",
       "  <thead>\n",
       "    <tr style=\"text-align: right;\">\n",
       "      <th></th>\n",
       "      <th>hypothesis</th>\n",
       "      <th>reach</th>\n",
       "      <th>impact</th>\n",
       "      <th>confidence</th>\n",
       "      <th>efforts</th>\n",
       "    </tr>\n",
       "  </thead>\n",
       "  <tbody>\n",
       "    <tr>\n",
       "      <th>0</th>\n",
       "      <td>Добавить два новых канала привлечения трафика, что позволит привлекать на 30% больше пользователей</td>\n",
       "      <td>3</td>\n",
       "      <td>10</td>\n",
       "      <td>8</td>\n",
       "      <td>6</td>\n",
       "    </tr>\n",
       "    <tr>\n",
       "      <th>1</th>\n",
       "      <td>Запустить собственную службу доставки, что сократит срок доставки заказов</td>\n",
       "      <td>2</td>\n",
       "      <td>5</td>\n",
       "      <td>4</td>\n",
       "      <td>10</td>\n",
       "    </tr>\n",
       "    <tr>\n",
       "      <th>2</th>\n",
       "      <td>Добавить блоки рекомендаций товаров на сайт интернет магазина, чтобы повысить конверсию и средний чек заказа</td>\n",
       "      <td>8</td>\n",
       "      <td>3</td>\n",
       "      <td>7</td>\n",
       "      <td>3</td>\n",
       "    </tr>\n",
       "    <tr>\n",
       "      <th>3</th>\n",
       "      <td>Изменить структура категорий, что увеличит конверсию, т.к. пользователи быстрее найдут нужный товар</td>\n",
       "      <td>8</td>\n",
       "      <td>3</td>\n",
       "      <td>3</td>\n",
       "      <td>8</td>\n",
       "    </tr>\n",
       "    <tr>\n",
       "      <th>4</th>\n",
       "      <td>Изменить цвет фона главной страницы, чтобы увеличить вовлеченность пользователей</td>\n",
       "      <td>3</td>\n",
       "      <td>1</td>\n",
       "      <td>1</td>\n",
       "      <td>1</td>\n",
       "    </tr>\n",
       "  </tbody>\n",
       "</table>\n",
       "</div>"
      ],
      "text/plain": [
       "                                                                                                     hypothesis  \\\n",
       "0            Добавить два новых канала привлечения трафика, что позволит привлекать на 30% больше пользователей   \n",
       "1                                     Запустить собственную службу доставки, что сократит срок доставки заказов   \n",
       "2  Добавить блоки рекомендаций товаров на сайт интернет магазина, чтобы повысить конверсию и средний чек заказа   \n",
       "3           Изменить структура категорий, что увеличит конверсию, т.к. пользователи быстрее найдут нужный товар   \n",
       "4                              Изменить цвет фона главной страницы, чтобы увеличить вовлеченность пользователей   \n",
       "\n",
       "   reach  impact  confidence  efforts  \n",
       "0      3      10           8        6  \n",
       "1      2       5           4       10  \n",
       "2      8       3           7        3  \n",
       "3      8       3           3        8  \n",
       "4      3       1           1        1  "
      ]
     },
     "execution_count": 10,
     "metadata": {},
     "output_type": "execute_result"
    }
   ],
   "source": [
    "hypothesis.head()"
   ]
  },
  {
   "cell_type": "code",
   "execution_count": 11,
   "id": "a07dcee2",
   "metadata": {},
   "outputs": [],
   "source": [
    "hypothesis['ICE'] = round((hypothesis.impact * hypothesis.confidence) / hypothesis.efforts, 2)"
   ]
  },
  {
   "cell_type": "code",
   "execution_count": 12,
   "id": "8197f01a",
   "metadata": {},
   "outputs": [
    {
     "data": {
      "text/html": [
       "<div>\n",
       "<style scoped>\n",
       "    .dataframe tbody tr th:only-of-type {\n",
       "        vertical-align: middle;\n",
       "    }\n",
       "\n",
       "    .dataframe tbody tr th {\n",
       "        vertical-align: top;\n",
       "    }\n",
       "\n",
       "    .dataframe thead th {\n",
       "        text-align: right;\n",
       "    }\n",
       "</style>\n",
       "<table border=\"1\" class=\"dataframe\">\n",
       "  <thead>\n",
       "    <tr style=\"text-align: right;\">\n",
       "      <th></th>\n",
       "      <th>hypothesis</th>\n",
       "      <th>reach</th>\n",
       "      <th>impact</th>\n",
       "      <th>confidence</th>\n",
       "      <th>efforts</th>\n",
       "      <th>ICE</th>\n",
       "    </tr>\n",
       "  </thead>\n",
       "  <tbody>\n",
       "    <tr>\n",
       "      <th>8</th>\n",
       "      <td>Запустить акцию, дающую скидку на товар в день рождения</td>\n",
       "      <td>1</td>\n",
       "      <td>9</td>\n",
       "      <td>9</td>\n",
       "      <td>5</td>\n",
       "      <td>16.20</td>\n",
       "    </tr>\n",
       "    <tr>\n",
       "      <th>0</th>\n",
       "      <td>Добавить два новых канала привлечения трафика, что позволит привлекать на 30% больше пользователей</td>\n",
       "      <td>3</td>\n",
       "      <td>10</td>\n",
       "      <td>8</td>\n",
       "      <td>6</td>\n",
       "      <td>13.33</td>\n",
       "    </tr>\n",
       "    <tr>\n",
       "      <th>7</th>\n",
       "      <td>Добавить форму подписки на все основные страницы, чтобы собрать базу клиентов для email-рассылок</td>\n",
       "      <td>10</td>\n",
       "      <td>7</td>\n",
       "      <td>8</td>\n",
       "      <td>5</td>\n",
       "      <td>11.20</td>\n",
       "    </tr>\n",
       "    <tr>\n",
       "      <th>6</th>\n",
       "      <td>Показать на главной странице баннеры с актуальными акциями и распродажами, чтобы увеличить конверсию</td>\n",
       "      <td>5</td>\n",
       "      <td>3</td>\n",
       "      <td>8</td>\n",
       "      <td>3</td>\n",
       "      <td>8.00</td>\n",
       "    </tr>\n",
       "    <tr>\n",
       "      <th>2</th>\n",
       "      <td>Добавить блоки рекомендаций товаров на сайт интернет магазина, чтобы повысить конверсию и средний чек заказа</td>\n",
       "      <td>8</td>\n",
       "      <td>3</td>\n",
       "      <td>7</td>\n",
       "      <td>3</td>\n",
       "      <td>7.00</td>\n",
       "    </tr>\n",
       "    <tr>\n",
       "      <th>1</th>\n",
       "      <td>Запустить собственную службу доставки, что сократит срок доставки заказов</td>\n",
       "      <td>2</td>\n",
       "      <td>5</td>\n",
       "      <td>4</td>\n",
       "      <td>10</td>\n",
       "      <td>2.00</td>\n",
       "    </tr>\n",
       "    <tr>\n",
       "      <th>5</th>\n",
       "      <td>Добавить страницу отзывов клиентов о магазине, что позволит увеличить количество заказов</td>\n",
       "      <td>3</td>\n",
       "      <td>2</td>\n",
       "      <td>2</td>\n",
       "      <td>3</td>\n",
       "      <td>1.33</td>\n",
       "    </tr>\n",
       "    <tr>\n",
       "      <th>3</th>\n",
       "      <td>Изменить структура категорий, что увеличит конверсию, т.к. пользователи быстрее найдут нужный товар</td>\n",
       "      <td>8</td>\n",
       "      <td>3</td>\n",
       "      <td>3</td>\n",
       "      <td>8</td>\n",
       "      <td>1.12</td>\n",
       "    </tr>\n",
       "    <tr>\n",
       "      <th>4</th>\n",
       "      <td>Изменить цвет фона главной страницы, чтобы увеличить вовлеченность пользователей</td>\n",
       "      <td>3</td>\n",
       "      <td>1</td>\n",
       "      <td>1</td>\n",
       "      <td>1</td>\n",
       "      <td>1.00</td>\n",
       "    </tr>\n",
       "  </tbody>\n",
       "</table>\n",
       "</div>"
      ],
      "text/plain": [
       "                                                                                                     hypothesis  \\\n",
       "8                                                       Запустить акцию, дающую скидку на товар в день рождения   \n",
       "0            Добавить два новых канала привлечения трафика, что позволит привлекать на 30% больше пользователей   \n",
       "7              Добавить форму подписки на все основные страницы, чтобы собрать базу клиентов для email-рассылок   \n",
       "6          Показать на главной странице баннеры с актуальными акциями и распродажами, чтобы увеличить конверсию   \n",
       "2  Добавить блоки рекомендаций товаров на сайт интернет магазина, чтобы повысить конверсию и средний чек заказа   \n",
       "1                                     Запустить собственную службу доставки, что сократит срок доставки заказов   \n",
       "5                      Добавить страницу отзывов клиентов о магазине, что позволит увеличить количество заказов   \n",
       "3           Изменить структура категорий, что увеличит конверсию, т.к. пользователи быстрее найдут нужный товар   \n",
       "4                              Изменить цвет фона главной страницы, чтобы увеличить вовлеченность пользователей   \n",
       "\n",
       "   reach  impact  confidence  efforts    ICE  \n",
       "8      1       9           9        5  16.20  \n",
       "0      3      10           8        6  13.33  \n",
       "7     10       7           8        5  11.20  \n",
       "6      5       3           8        3   8.00  \n",
       "2      8       3           7        3   7.00  \n",
       "1      2       5           4       10   2.00  \n",
       "5      3       2           2        3   1.33  \n",
       "3      8       3           3        8   1.12  \n",
       "4      3       1           1        1   1.00  "
      ]
     },
     "execution_count": 12,
     "metadata": {},
     "output_type": "execute_result"
    }
   ],
   "source": [
    "hypothesis.sort_values(by='ICE',ascending=False)"
   ]
  },
  {
   "cell_type": "code",
   "execution_count": 13,
   "id": "05df4f78",
   "metadata": {},
   "outputs": [
    {
     "data": {
      "image/png": "[encoded data removed]",
      "text/plain": [
       "<Figure size 432x288 with 1 Axes>"
      ]
     },
     "metadata": {
      "needs_background": "light"
     },
     "output_type": "display_data"
    }
   ],
   "source": [
    "ax = hypothesis[['hypothesis', 'ICE']] \\\n",
    "    .set_index('hypothesis').sort_values('ICE') \\\n",
    "    .plot(kind='barh')\n",
    "ax.set_xlabel('Приоритет')\n",
    "ax.set_ylabel('Гипотеза')\n",
    "ax.set_title('ICE')\n",
    "plt.show()"
   ]
  },
  {
   "cell_type": "markdown",
   "id": "1de3eae8",
   "metadata": {},
   "source": [
    "## Применяем фреймворк RICE"
   ]
  },
  {
   "cell_type": "code",
   "execution_count": 14,
   "id": "a5939314",
   "metadata": {},
   "outputs": [],
   "source": [
    "hypothesis['RICE'] = round((hypothesis.reach * hypothesis.impact * hypothesis.confidence) / hypothesis.efforts, 2)"
   ]
  },
  {
   "cell_type": "code",
   "execution_count": 15,
   "id": "1b85b999",
   "metadata": {},
   "outputs": [
    {
     "data": {
      "text/html": [
       "<div>\n",
       "<style scoped>\n",
       "    .dataframe tbody tr th:only-of-type {\n",
       "        vertical-align: middle;\n",
       "    }\n",
       "\n",
       "    .dataframe tbody tr th {\n",
       "        vertical-align: top;\n",
       "    }\n",
       "\n",
       "    .dataframe thead th {\n",
       "        text-align: right;\n",
       "    }\n",
       "</style>\n",
       "<table border=\"1\" class=\"dataframe\">\n",
       "  <thead>\n",
       "    <tr style=\"text-align: right;\">\n",
       "      <th></th>\n",
       "      <th>hypothesis</th>\n",
       "      <th>reach</th>\n",
       "      <th>impact</th>\n",
       "      <th>confidence</th>\n",
       "      <th>efforts</th>\n",
       "      <th>ICE</th>\n",
       "      <th>RICE</th>\n",
       "    </tr>\n",
       "  </thead>\n",
       "  <tbody>\n",
       "    <tr>\n",
       "      <th>7</th>\n",
       "      <td>Добавить форму подписки на все основные страницы, чтобы собрать базу клиентов для email-рассылок</td>\n",
       "      <td>10</td>\n",
       "      <td>7</td>\n",
       "      <td>8</td>\n",
       "      <td>5</td>\n",
       "      <td>11.20</td>\n",
       "      <td>112.0</td>\n",
       "    </tr>\n",
       "    <tr>\n",
       "      <th>2</th>\n",
       "      <td>Добавить блоки рекомендаций товаров на сайт интернет магазина, чтобы повысить конверсию и средний чек заказа</td>\n",
       "      <td>8</td>\n",
       "      <td>3</td>\n",
       "      <td>7</td>\n",
       "      <td>3</td>\n",
       "      <td>7.00</td>\n",
       "      <td>56.0</td>\n",
       "    </tr>\n",
       "    <tr>\n",
       "      <th>0</th>\n",
       "      <td>Добавить два новых канала привлечения трафика, что позволит привлекать на 30% больше пользователей</td>\n",
       "      <td>3</td>\n",
       "      <td>10</td>\n",
       "      <td>8</td>\n",
       "      <td>6</td>\n",
       "      <td>13.33</td>\n",
       "      <td>40.0</td>\n",
       "    </tr>\n",
       "    <tr>\n",
       "      <th>6</th>\n",
       "      <td>Показать на главной странице баннеры с актуальными акциями и распродажами, чтобы увеличить конверсию</td>\n",
       "      <td>5</td>\n",
       "      <td>3</td>\n",
       "      <td>8</td>\n",
       "      <td>3</td>\n",
       "      <td>8.00</td>\n",
       "      <td>40.0</td>\n",
       "    </tr>\n",
       "    <tr>\n",
       "      <th>8</th>\n",
       "      <td>Запустить акцию, дающую скидку на товар в день рождения</td>\n",
       "      <td>1</td>\n",
       "      <td>9</td>\n",
       "      <td>9</td>\n",
       "      <td>5</td>\n",
       "      <td>16.20</td>\n",
       "      <td>16.2</td>\n",
       "    </tr>\n",
       "    <tr>\n",
       "      <th>3</th>\n",
       "      <td>Изменить структура категорий, что увеличит конверсию, т.к. пользователи быстрее найдут нужный товар</td>\n",
       "      <td>8</td>\n",
       "      <td>3</td>\n",
       "      <td>3</td>\n",
       "      <td>8</td>\n",
       "      <td>1.12</td>\n",
       "      <td>9.0</td>\n",
       "    </tr>\n",
       "    <tr>\n",
       "      <th>1</th>\n",
       "      <td>Запустить собственную службу доставки, что сократит срок доставки заказов</td>\n",
       "      <td>2</td>\n",
       "      <td>5</td>\n",
       "      <td>4</td>\n",
       "      <td>10</td>\n",
       "      <td>2.00</td>\n",
       "      <td>4.0</td>\n",
       "    </tr>\n",
       "    <tr>\n",
       "      <th>5</th>\n",
       "      <td>Добавить страницу отзывов клиентов о магазине, что позволит увеличить количество заказов</td>\n",
       "      <td>3</td>\n",
       "      <td>2</td>\n",
       "      <td>2</td>\n",
       "      <td>3</td>\n",
       "      <td>1.33</td>\n",
       "      <td>4.0</td>\n",
       "    </tr>\n",
       "    <tr>\n",
       "      <th>4</th>\n",
       "      <td>Изменить цвет фона главной страницы, чтобы увеличить вовлеченность пользователей</td>\n",
       "      <td>3</td>\n",
       "      <td>1</td>\n",
       "      <td>1</td>\n",
       "      <td>1</td>\n",
       "      <td>1.00</td>\n",
       "      <td>3.0</td>\n",
       "    </tr>\n",
       "  </tbody>\n",
       "</table>\n",
       "</div>"
      ],
      "text/plain": [
       "                                                                                                     hypothesis  \\\n",
       "7              Добавить форму подписки на все основные страницы, чтобы собрать базу клиентов для email-рассылок   \n",
       "2  Добавить блоки рекомендаций товаров на сайт интернет магазина, чтобы повысить конверсию и средний чек заказа   \n",
       "0            Добавить два новых канала привлечения трафика, что позволит привлекать на 30% больше пользователей   \n",
       "6          Показать на главной странице баннеры с актуальными акциями и распродажами, чтобы увеличить конверсию   \n",
       "8                                                       Запустить акцию, дающую скидку на товар в день рождения   \n",
       "3           Изменить структура категорий, что увеличит конверсию, т.к. пользователи быстрее найдут нужный товар   \n",
       "1                                     Запустить собственную службу доставки, что сократит срок доставки заказов   \n",
       "5                      Добавить страницу отзывов клиентов о магазине, что позволит увеличить количество заказов   \n",
       "4                              Изменить цвет фона главной страницы, чтобы увеличить вовлеченность пользователей   \n",
       "\n",
       "   reach  impact  confidence  efforts    ICE   RICE  \n",
       "7     10       7           8        5  11.20  112.0  \n",
       "2      8       3           7        3   7.00   56.0  \n",
       "0      3      10           8        6  13.33   40.0  \n",
       "6      5       3           8        3   8.00   40.0  \n",
       "8      1       9           9        5  16.20   16.2  \n",
       "3      8       3           3        8   1.12    9.0  \n",
       "1      2       5           4       10   2.00    4.0  \n",
       "5      3       2           2        3   1.33    4.0  \n",
       "4      3       1           1        1   1.00    3.0  "
      ]
     },
     "execution_count": 15,
     "metadata": {},
     "output_type": "execute_result"
    }
   ],
   "source": [
    "hypothesis.sort_values(by=['RICE', 'ICE'], ascending=False)"
   ]
  },
  {
   "cell_type": "code",
   "execution_count": 16,
   "id": "4aa903b4",
   "metadata": {},
   "outputs": [
    {
     "data": {
      "image/png": "[encoded data removed]",
      "text/plain": [
       "<Figure size 432x288 with 1 Axes>"
      ]
     },
     "metadata": {
      "needs_background": "light"
     },
     "output_type": "display_data"
    }
   ],
   "source": [
    "ax = hypothesis[['hypothesis', 'RICE']] \\\n",
    "    .set_index('hypothesis').sort_values('RICE') \\\n",
    "    .plot(kind='barh')\n",
    "ax.set_xlabel('Приоритет')\n",
    "ax.set_ylabel('Гипотеза')\n",
    "ax.set_title('RICE')\n",
    "plt.show()"
   ]
  },
  {
   "cell_type": "markdown",
   "id": "d08df31d",
   "metadata": {},
   "source": [
    "**Вывод**\n",
    "\n",
    "*При расчетах при ICE первое место занимает 8ая гипотеза, в то время как при RICE 8ая гипотеза на 5ом месте. Такая разница в позициях, из-за переменной Reach. Из-за чего 7ая гипотеза, у которой Efforts = 5, за счет чего при ICE она занимает 3ье место, но когда мы добавляем переменную Reach, и считаем через RICE, гипотеза становится на первое место.*"
   ]
  },
  {
   "cell_type": "markdown",
   "id": "803b1d4b",
   "metadata": {},
   "source": [
    "#  Анализ А/В теста"
   ]
  },
  {
   "cell_type": "markdown",
   "id": "f0f37a06",
   "metadata": {},
   "source": [
    "## Обработаем данные о заказах"
   ]
  },
  {
   "cell_type": "code",
   "execution_count": 17,
   "id": "da26fe11",
   "metadata": {},
   "outputs": [
    {
     "data": {
      "text/html": [
       "<div>\n",
       "<style scoped>\n",
       "    .dataframe tbody tr th:only-of-type {\n",
       "        vertical-align: middle;\n",
       "    }\n",
       "\n",
       "    .dataframe tbody tr th {\n",
       "        vertical-align: top;\n",
       "    }\n",
       "\n",
       "    .dataframe thead th {\n",
       "        text-align: right;\n",
       "    }\n",
       "</style>\n",
       "<table border=\"1\" class=\"dataframe\">\n",
       "  <thead>\n",
       "    <tr style=\"text-align: right;\">\n",
       "      <th></th>\n",
       "      <th>transactionId</th>\n",
       "      <th>visitorId</th>\n",
       "      <th>date</th>\n",
       "      <th>revenue</th>\n",
       "      <th>group</th>\n",
       "    </tr>\n",
       "  </thead>\n",
       "  <tbody>\n",
       "    <tr>\n",
       "      <th>0</th>\n",
       "      <td>3667963787</td>\n",
       "      <td>3312258926</td>\n",
       "      <td>2019-08-15</td>\n",
       "      <td>1650</td>\n",
       "      <td>B</td>\n",
       "    </tr>\n",
       "    <tr>\n",
       "      <th>1</th>\n",
       "      <td>2804400009</td>\n",
       "      <td>3642806036</td>\n",
       "      <td>2019-08-15</td>\n",
       "      <td>730</td>\n",
       "      <td>B</td>\n",
       "    </tr>\n",
       "    <tr>\n",
       "      <th>2</th>\n",
       "      <td>2961555356</td>\n",
       "      <td>4069496402</td>\n",
       "      <td>2019-08-15</td>\n",
       "      <td>400</td>\n",
       "      <td>A</td>\n",
       "    </tr>\n",
       "    <tr>\n",
       "      <th>3</th>\n",
       "      <td>3797467345</td>\n",
       "      <td>1196621759</td>\n",
       "      <td>2019-08-15</td>\n",
       "      <td>9759</td>\n",
       "      <td>B</td>\n",
       "    </tr>\n",
       "    <tr>\n",
       "      <th>4</th>\n",
       "      <td>2282983706</td>\n",
       "      <td>2322279887</td>\n",
       "      <td>2019-08-15</td>\n",
       "      <td>2308</td>\n",
       "      <td>B</td>\n",
       "    </tr>\n",
       "  </tbody>\n",
       "</table>\n",
       "</div>"
      ],
      "text/plain": [
       "   transactionId   visitorId        date  revenue group\n",
       "0     3667963787  3312258926  2019-08-15     1650     B\n",
       "1     2804400009  3642806036  2019-08-15      730     B\n",
       "2     2961555356  4069496402  2019-08-15      400     A\n",
       "3     3797467345  1196621759  2019-08-15     9759     B\n",
       "4     2282983706  2322279887  2019-08-15     2308     B"
      ]
     },
     "metadata": {},
     "output_type": "display_data"
    },
    {
     "name": "stdout",
     "output_type": "stream",
     "text": [
      "Количество строк: 1197\n",
      "\n",
      "Количество пропущенных значений: \n",
      "transactionId    0\n",
      "visitorId        0\n",
      "date             0\n",
      "revenue          0\n",
      "group            0\n",
      "dtype: int64\n",
      "\n",
      "Типы данных в столбцах: \n",
      "transactionId     int64\n",
      "visitorId         int64\n",
      "date             object\n",
      "revenue           int64\n",
      "group            object\n",
      "dtype: object\n",
      "\n",
      "Количество дубликатов: \n",
      "0\n"
     ]
    }
   ],
   "source": [
    "df_info(orders)"
   ]
  },
  {
   "cell_type": "markdown",
   "id": "91c63e55",
   "metadata": {},
   "source": [
    "*Поменяем назване столбцов на удобное*"
   ]
  },
  {
   "cell_type": "code",
   "execution_count": 18,
   "id": "6fc02350",
   "metadata": {},
   "outputs": [],
   "source": [
    "orders = orders.rename(columns={'transactionId': 'transaction_id', 'visitorId': 'visitor_id'})"
   ]
  },
  {
   "cell_type": "markdown",
   "id": "f8061b01",
   "metadata": {},
   "source": [
    "*Поменяем тип данных в столбце с датой*"
   ]
  },
  {
   "cell_type": "code",
   "execution_count": 19,
   "id": "f49e7f2a",
   "metadata": {},
   "outputs": [],
   "source": [
    "orders['date'] = orders['date'].map(\n",
    "    lambda x: dt.datetime.strptime(x, '%Y-%m-%d')\n",
    ")"
   ]
  },
  {
   "cell_type": "markdown",
   "id": "92608dae",
   "metadata": {},
   "source": [
    "*Сохраним даты в переменные*"
   ]
  },
  {
   "cell_type": "code",
   "execution_count": 20,
   "id": "fb71d455",
   "metadata": {},
   "outputs": [],
   "source": [
    "min_date = orders['date'].min()\n",
    "max_date = orders['date'].max()"
   ]
  },
  {
   "cell_type": "markdown",
   "id": "069c8e84",
   "metadata": {},
   "source": [
    "## Обработаем данные о посетителях"
   ]
  },
  {
   "cell_type": "code",
   "execution_count": 21,
   "id": "6149cbaf",
   "metadata": {},
   "outputs": [
    {
     "data": {
      "text/html": [
       "<div>\n",
       "<style scoped>\n",
       "    .dataframe tbody tr th:only-of-type {\n",
       "        vertical-align: middle;\n",
       "    }\n",
       "\n",
       "    .dataframe tbody tr th {\n",
       "        vertical-align: top;\n",
       "    }\n",
       "\n",
       "    .dataframe thead th {\n",
       "        text-align: right;\n",
       "    }\n",
       "</style>\n",
       "<table border=\"1\" class=\"dataframe\">\n",
       "  <thead>\n",
       "    <tr style=\"text-align: right;\">\n",
       "      <th></th>\n",
       "      <th>date</th>\n",
       "      <th>group</th>\n",
       "      <th>visitors</th>\n",
       "    </tr>\n",
       "  </thead>\n",
       "  <tbody>\n",
       "    <tr>\n",
       "      <th>0</th>\n",
       "      <td>2019-08-01</td>\n",
       "      <td>A</td>\n",
       "      <td>719</td>\n",
       "    </tr>\n",
       "    <tr>\n",
       "      <th>1</th>\n",
       "      <td>2019-08-02</td>\n",
       "      <td>A</td>\n",
       "      <td>619</td>\n",
       "    </tr>\n",
       "    <tr>\n",
       "      <th>2</th>\n",
       "      <td>2019-08-03</td>\n",
       "      <td>A</td>\n",
       "      <td>507</td>\n",
       "    </tr>\n",
       "    <tr>\n",
       "      <th>3</th>\n",
       "      <td>2019-08-04</td>\n",
       "      <td>A</td>\n",
       "      <td>717</td>\n",
       "    </tr>\n",
       "    <tr>\n",
       "      <th>4</th>\n",
       "      <td>2019-08-05</td>\n",
       "      <td>A</td>\n",
       "      <td>756</td>\n",
       "    </tr>\n",
       "  </tbody>\n",
       "</table>\n",
       "</div>"
      ],
      "text/plain": [
       "         date group  visitors\n",
       "0  2019-08-01     A       719\n",
       "1  2019-08-02     A       619\n",
       "2  2019-08-03     A       507\n",
       "3  2019-08-04     A       717\n",
       "4  2019-08-05     A       756"
      ]
     },
     "metadata": {},
     "output_type": "display_data"
    },
    {
     "name": "stdout",
     "output_type": "stream",
     "text": [
      "Количество строк: 62\n",
      "\n",
      "Количество пропущенных значений: \n",
      "date        0\n",
      "group       0\n",
      "visitors    0\n",
      "dtype: int64\n",
      "\n",
      "Типы данных в столбцах: \n",
      "date        object\n",
      "group       object\n",
      "visitors     int64\n",
      "dtype: object\n",
      "\n",
      "Количество дубликатов: \n",
      "0\n"
     ]
    }
   ],
   "source": [
    "df_info(visitors)"
   ]
  },
  {
   "cell_type": "markdown",
   "id": "1c2fb363",
   "metadata": {},
   "source": [
    "*Поменяем тип данных в столбце с датой*"
   ]
  },
  {
   "cell_type": "code",
   "execution_count": 22,
   "id": "463a30aa",
   "metadata": {},
   "outputs": [],
   "source": [
    "visitors['date'] = visitors['date'].map(\n",
    "    lambda x: dt.datetime.strptime(x, '%Y-%m-%d')\n",
    ")"
   ]
  },
  {
   "cell_type": "markdown",
   "id": "f2d34fbb",
   "metadata": {},
   "source": [
    "*При просмотре на данные, обратил внимание, что у нас есть пользователи которые попали в обе группы, исключим их для более корректных выводов*"
   ]
  },
  {
   "cell_type": "code",
   "execution_count": 23,
   "id": "bac568da",
   "metadata": {},
   "outputs": [],
   "source": [
    "duplicat = np.intersect1d(orders.query('group == \"A\"')['visitor_id'] \\\n",
    "                                  .unique(), orders.query('group == \"B\"')['visitor_id'].unique())\n",
    "\n",
    "orders = orders[~orders['visitor_id'].isin(duplicat)]"
   ]
  },
  {
   "cell_type": "markdown",
   "id": "96087ce1",
   "metadata": {},
   "source": [
    "## Подготовим данные к анализу"
   ]
  },
  {
   "cell_type": "markdown",
   "id": "5d2556d3",
   "metadata": {},
   "source": [
    "###  Cоздадим датафрейм с уникальными парами значений"
   ]
  },
  {
   "cell_type": "code",
   "execution_count": 24,
   "id": "c4265579",
   "metadata": {},
   "outputs": [
    {
     "data": {
      "text/html": [
       "<div>\n",
       "<style scoped>\n",
       "    .dataframe tbody tr th:only-of-type {\n",
       "        vertical-align: middle;\n",
       "    }\n",
       "\n",
       "    .dataframe tbody tr th {\n",
       "        vertical-align: top;\n",
       "    }\n",
       "\n",
       "    .dataframe thead th {\n",
       "        text-align: right;\n",
       "    }\n",
       "</style>\n",
       "<table border=\"1\" class=\"dataframe\">\n",
       "  <thead>\n",
       "    <tr style=\"text-align: right;\">\n",
       "      <th></th>\n",
       "      <th>date</th>\n",
       "      <th>group</th>\n",
       "    </tr>\n",
       "  </thead>\n",
       "  <tbody>\n",
       "    <tr>\n",
       "      <th>0</th>\n",
       "      <td>2019-08-15</td>\n",
       "      <td>B</td>\n",
       "    </tr>\n",
       "    <tr>\n",
       "      <th>7</th>\n",
       "      <td>2019-08-15</td>\n",
       "      <td>A</td>\n",
       "    </tr>\n",
       "    <tr>\n",
       "      <th>45</th>\n",
       "      <td>2019-08-16</td>\n",
       "      <td>A</td>\n",
       "    </tr>\n",
       "    <tr>\n",
       "      <th>47</th>\n",
       "      <td>2019-08-16</td>\n",
       "      <td>B</td>\n",
       "    </tr>\n",
       "    <tr>\n",
       "      <th>55</th>\n",
       "      <td>2019-08-01</td>\n",
       "      <td>A</td>\n",
       "    </tr>\n",
       "  </tbody>\n",
       "</table>\n",
       "</div>"
      ],
      "text/plain": [
       "         date group\n",
       "0  2019-08-15     B\n",
       "7  2019-08-15     A\n",
       "45 2019-08-16     A\n",
       "47 2019-08-16     B\n",
       "55 2019-08-01     A"
      ]
     },
     "execution_count": 24,
     "metadata": {},
     "output_type": "execute_result"
    }
   ],
   "source": [
    "dates_groups = orders[['date', 'group']].drop_duplicates()\n",
    "dates_groups.head()"
   ]
  },
  {
   "cell_type": "markdown",
   "id": "ebe52a5c",
   "metadata": {},
   "source": [
    "### Создадим датафрейм orders_aggregated"
   ]
  },
  {
   "cell_type": "markdown",
   "id": "59e017b1",
   "metadata": {},
   "source": [
    "Где:\n",
    "\n",
    "- date - дата;\n",
    "- group - группа A/B-теста;\n",
    "- transaction_id - число уникальных заказов в группе теста;\n",
    "- visitor_id - число уникальных пользователей, совершивших хотя бы 1 заказ в группе теста;\n",
    "- revenue - суммарную выручку заказов в группе теста."
   ]
  },
  {
   "cell_type": "code",
   "execution_count": 25,
   "id": "8436df5f",
   "metadata": {},
   "outputs": [],
   "source": [
    "orders_aggregated = (dates_groups.apply(\n",
    "    lambda x: orders[\n",
    "        np.logical_and(\n",
    "            orders['date'] <= x['date'], orders['group'] == x['group']\n",
    "        )\n",
    "    ].agg(\n",
    "        {\n",
    "            'date': 'max',\n",
    "            'group': 'max',\n",
    "            'transaction_id': 'nunique',\n",
    "            'visitor_id': 'nunique',\n",
    "            'revenue': 'sum',\n",
    "        }\n",
    "    ),\n",
    "    axis=1,\n",
    ").sort_values(by=['date', 'group'])).rename(columns={'transaction_id':'orders', 'visitor_id':'buyers'})"
   ]
  },
  {
   "cell_type": "markdown",
   "id": "ed346d9c",
   "metadata": {},
   "source": [
    "### Создадим датафрейм visitors_aggregated"
   ]
  },
  {
   "cell_type": "markdown",
   "id": "c7d0db82",
   "metadata": {},
   "source": [
    "Где:\n",
    "\n",
    "- date - дата;\n",
    "- group - группу A/B-теста;\n",
    "- visitors - количество уникальных посетителей в группе теста."
   ]
  },
  {
   "cell_type": "code",
   "execution_count": 26,
   "id": "a2e887a5",
   "metadata": {},
   "outputs": [],
   "source": [
    "visitors_aggregated = dates_groups.apply(\n",
    "    lambda x: visitors[\n",
    "        np.logical_and(\n",
    "            visitors['date'] <= x['date'], visitors['group'] == x['group']\n",
    "        )\n",
    "    ].agg({'date': 'max', 'group': 'max', 'visitors': 'sum'}),\n",
    "    axis=1,\n",
    ").sort_values(by=['date', 'group'])"
   ]
  },
  {
   "cell_type": "code",
   "execution_count": 27,
   "id": "688f75cb",
   "metadata": {},
   "outputs": [
    {
     "data": {
      "text/html": [
       "<div>\n",
       "<style scoped>\n",
       "    .dataframe tbody tr th:only-of-type {\n",
       "        vertical-align: middle;\n",
       "    }\n",
       "\n",
       "    .dataframe tbody tr th {\n",
       "        vertical-align: top;\n",
       "    }\n",
       "\n",
       "    .dataframe thead th {\n",
       "        text-align: right;\n",
       "    }\n",
       "</style>\n",
       "<table border=\"1\" class=\"dataframe\">\n",
       "  <thead>\n",
       "    <tr style=\"text-align: right;\">\n",
       "      <th></th>\n",
       "      <th>date</th>\n",
       "      <th>group</th>\n",
       "      <th>visitors</th>\n",
       "    </tr>\n",
       "  </thead>\n",
       "  <tbody>\n",
       "    <tr>\n",
       "      <th>55</th>\n",
       "      <td>2019-08-01</td>\n",
       "      <td>A</td>\n",
       "      <td>719</td>\n",
       "    </tr>\n",
       "    <tr>\n",
       "      <th>66</th>\n",
       "      <td>2019-08-01</td>\n",
       "      <td>B</td>\n",
       "      <td>713</td>\n",
       "    </tr>\n",
       "    <tr>\n",
       "      <th>175</th>\n",
       "      <td>2019-08-02</td>\n",
       "      <td>A</td>\n",
       "      <td>1338</td>\n",
       "    </tr>\n",
       "    <tr>\n",
       "      <th>173</th>\n",
       "      <td>2019-08-02</td>\n",
       "      <td>B</td>\n",
       "      <td>1294</td>\n",
       "    </tr>\n",
       "    <tr>\n",
       "      <th>291</th>\n",
       "      <td>2019-08-03</td>\n",
       "      <td>A</td>\n",
       "      <td>1845</td>\n",
       "    </tr>\n",
       "  </tbody>\n",
       "</table>\n",
       "</div>"
      ],
      "text/plain": [
       "          date group  visitors\n",
       "55  2019-08-01     A       719\n",
       "66  2019-08-01     B       713\n",
       "175 2019-08-02     A      1338\n",
       "173 2019-08-02     B      1294\n",
       "291 2019-08-03     A      1845"
      ]
     },
     "execution_count": 27,
     "metadata": {},
     "output_type": "execute_result"
    }
   ],
   "source": [
    "visitors_aggregated.head(5)"
   ]
  },
  {
   "cell_type": "markdown",
   "id": "9b35ca03",
   "metadata": {},
   "source": [
    "### Обьеденим полученные датафреймы"
   ]
  },
  {
   "cell_type": "code",
   "execution_count": 28,
   "id": "3d73bfc7",
   "metadata": {},
   "outputs": [],
   "source": [
    "cumulative_data = orders_aggregated.merge(visitors_aggregated, on=['date', 'group'])"
   ]
  },
  {
   "cell_type": "code",
   "execution_count": 29,
   "id": "b63bb79b",
   "metadata": {},
   "outputs": [
    {
     "data": {
      "text/html": [
       "<div>\n",
       "<style scoped>\n",
       "    .dataframe tbody tr th:only-of-type {\n",
       "        vertical-align: middle;\n",
       "    }\n",
       "\n",
       "    .dataframe tbody tr th {\n",
       "        vertical-align: top;\n",
       "    }\n",
       "\n",
       "    .dataframe thead th {\n",
       "        text-align: right;\n",
       "    }\n",
       "</style>\n",
       "<table border=\"1\" class=\"dataframe\">\n",
       "  <thead>\n",
       "    <tr style=\"text-align: right;\">\n",
       "      <th></th>\n",
       "      <th>date</th>\n",
       "      <th>group</th>\n",
       "      <th>orders</th>\n",
       "      <th>buyers</th>\n",
       "      <th>revenue</th>\n",
       "      <th>visitors</th>\n",
       "    </tr>\n",
       "  </thead>\n",
       "  <tbody>\n",
       "    <tr>\n",
       "      <th>0</th>\n",
       "      <td>2019-08-01</td>\n",
       "      <td>A</td>\n",
       "      <td>23</td>\n",
       "      <td>19</td>\n",
       "      <td>142779</td>\n",
       "      <td>719</td>\n",
       "    </tr>\n",
       "    <tr>\n",
       "      <th>1</th>\n",
       "      <td>2019-08-01</td>\n",
       "      <td>B</td>\n",
       "      <td>17</td>\n",
       "      <td>17</td>\n",
       "      <td>59758</td>\n",
       "      <td>713</td>\n",
       "    </tr>\n",
       "    <tr>\n",
       "      <th>2</th>\n",
       "      <td>2019-08-02</td>\n",
       "      <td>A</td>\n",
       "      <td>42</td>\n",
       "      <td>36</td>\n",
       "      <td>234381</td>\n",
       "      <td>1338</td>\n",
       "    </tr>\n",
       "    <tr>\n",
       "      <th>3</th>\n",
       "      <td>2019-08-02</td>\n",
       "      <td>B</td>\n",
       "      <td>40</td>\n",
       "      <td>39</td>\n",
       "      <td>221801</td>\n",
       "      <td>1294</td>\n",
       "    </tr>\n",
       "    <tr>\n",
       "      <th>4</th>\n",
       "      <td>2019-08-03</td>\n",
       "      <td>A</td>\n",
       "      <td>66</td>\n",
       "      <td>60</td>\n",
       "      <td>346854</td>\n",
       "      <td>1845</td>\n",
       "    </tr>\n",
       "  </tbody>\n",
       "</table>\n",
       "</div>"
      ],
      "text/plain": [
       "        date group  orders  buyers  revenue  visitors\n",
       "0 2019-08-01     A      23      19   142779       719\n",
       "1 2019-08-01     B      17      17    59758       713\n",
       "2 2019-08-02     A      42      36   234381      1338\n",
       "3 2019-08-02     B      40      39   221801      1294\n",
       "4 2019-08-03     A      66      60   346854      1845"
      ]
     },
     "execution_count": 29,
     "metadata": {},
     "output_type": "execute_result"
    }
   ],
   "source": [
    "cumulative_data.head(5)"
   ]
  },
  {
   "cell_type": "markdown",
   "id": "95bdd3e6",
   "metadata": {},
   "source": [
    "## Строим график кумулятивной выручки по группам."
   ]
  },
  {
   "cell_type": "markdown",
   "id": "8073bed1",
   "metadata": {},
   "source": [
    "### Разбиваем данные и строим график"
   ]
  },
  {
   "cell_type": "code",
   "execution_count": 30,
   "id": "7d5741c8",
   "metadata": {},
   "outputs": [],
   "source": [
    "cumulative_revenue_A = cumulative_data[cumulative_data['group'] == 'A'][['date', 'revenue', 'orders']]\n",
    "cumulative_revenue_B = cumulative_data[cumulative_data['group'] == 'B'][['date', 'revenue', 'orders']]"
   ]
  },
  {
   "cell_type": "code",
   "execution_count": 31,
   "id": "7f76a480",
   "metadata": {},
   "outputs": [
    {
     "data": {
      "image/png": "[encoded data removed]",
      "text/plain": [
       "<Figure size 1080x432 with 1 Axes>"
      ]
     },
     "metadata": {
      "needs_background": "light"
     },
     "output_type": "display_data"
    }
   ],
   "source": [
    "plt.figure(figsize=(15, 6))\n",
    "plt.plot(cumulative_revenue_A['date'], cumulative_revenue_A['revenue'], label='A')\n",
    "plt.plot(cumulative_revenue_B['date'], cumulative_revenue_B['revenue'], label='B')\n",
    "plt.xticks(rotation=50)\n",
    "plt.legend()\n",
    "plt.xlabel('Дата')\n",
    "plt.ylabel('Выручка')\n",
    "plt.title('Кумулятивная выручка по группам')\n",
    "plt.show()"
   ]
  },
  {
   "cell_type": "markdown",
   "id": "c97afc93",
   "metadata": {},
   "source": [
    "**Вывод**\n",
    "\n",
    "*После 15-16 числа сегмент В резко вышел \"вперед\". Видимо, присутсвуют аномальные покупки*"
   ]
  },
  {
   "cell_type": "markdown",
   "id": "081a6119",
   "metadata": {},
   "source": [
    "## Строим график кумулятивного среднего чека по группам"
   ]
  },
  {
   "cell_type": "markdown",
   "id": "d460ba28",
   "metadata": {},
   "source": [
    "*Считаем средний чек по группам*"
   ]
  },
  {
   "cell_type": "code",
   "execution_count": 32,
   "id": "10eba961",
   "metadata": {},
   "outputs": [],
   "source": [
    "avg_rev_a = cumulative_revenue_A['revenue']/cumulative_revenue_A['orders']\n",
    "avg_rev_b = cumulative_revenue_B['revenue']/cumulative_revenue_B['orders']"
   ]
  },
  {
   "cell_type": "code",
   "execution_count": 33,
   "id": "71484f6c",
   "metadata": {},
   "outputs": [
    {
     "data": {
      "image/png": "[encoded data removed]",
      "text/plain": [
       "<Figure size 1080x432 with 1 Axes>"
      ]
     },
     "metadata": {
      "needs_background": "light"
     },
     "output_type": "display_data"
    }
   ],
   "source": [
    "plt.figure(figsize=(15, 6))\n",
    "plt.plot(cumulative_revenue_A['date'], avg_rev_a, label='A')\n",
    "plt.plot(cumulative_revenue_B['date'], avg_rev_b, label='B')\n",
    "plt.xticks(rotation=50)\n",
    "plt.legend()\n",
    "plt.xlabel('Дата')\n",
    "plt.ylabel('Средний чек')\n",
    "plt.title('Кумулятивный средний чек')\n",
    "plt.show()"
   ]
  },
  {
   "cell_type": "markdown",
   "id": "f74d44e3",
   "metadata": {},
   "source": [
    "**Вывод**\n",
    "\n",
    "*По графику среднего чека стало еще заметнее аномальные покупки после 15 числа в сегменте В. Так же заметен небольшой просадок в начале месяца у сегмента А*"
   ]
  },
  {
   "cell_type": "markdown",
   "id": "ecd3e0c4",
   "metadata": {},
   "source": [
    "## Строим график относительного изменения кумулятивного среднего чека группы B к группе A"
   ]
  },
  {
   "cell_type": "markdown",
   "id": "537c1f7c",
   "metadata": {},
   "source": [
    "*Обьеденим датафрейм с доходами по группам*"
   ]
  },
  {
   "cell_type": "code",
   "execution_count": 34,
   "id": "17a8dccb",
   "metadata": {},
   "outputs": [],
   "source": [
    "mer_cumul_rev = cumulative_revenue_A.merge(cumulative_revenue_B, on='date', how='left', suffixes=['_A', '_B'])"
   ]
  },
  {
   "cell_type": "code",
   "execution_count": 35,
   "id": "4a5ce7ed",
   "metadata": {},
   "outputs": [
    {
     "data": {
      "text/html": [
       "<div>\n",
       "<style scoped>\n",
       "    .dataframe tbody tr th:only-of-type {\n",
       "        vertical-align: middle;\n",
       "    }\n",
       "\n",
       "    .dataframe tbody tr th {\n",
       "        vertical-align: top;\n",
       "    }\n",
       "\n",
       "    .dataframe thead th {\n",
       "        text-align: right;\n",
       "    }\n",
       "</style>\n",
       "<table border=\"1\" class=\"dataframe\">\n",
       "  <thead>\n",
       "    <tr style=\"text-align: right;\">\n",
       "      <th></th>\n",
       "      <th>date</th>\n",
       "      <th>revenue_A</th>\n",
       "      <th>orders_A</th>\n",
       "      <th>revenue_B</th>\n",
       "      <th>orders_B</th>\n",
       "    </tr>\n",
       "  </thead>\n",
       "  <tbody>\n",
       "    <tr>\n",
       "      <th>0</th>\n",
       "      <td>2019-08-01</td>\n",
       "      <td>142779</td>\n",
       "      <td>23</td>\n",
       "      <td>59758</td>\n",
       "      <td>17</td>\n",
       "    </tr>\n",
       "    <tr>\n",
       "      <th>1</th>\n",
       "      <td>2019-08-02</td>\n",
       "      <td>234381</td>\n",
       "      <td>42</td>\n",
       "      <td>221801</td>\n",
       "      <td>40</td>\n",
       "    </tr>\n",
       "    <tr>\n",
       "      <th>2</th>\n",
       "      <td>2019-08-03</td>\n",
       "      <td>346854</td>\n",
       "      <td>66</td>\n",
       "      <td>288850</td>\n",
       "      <td>54</td>\n",
       "    </tr>\n",
       "    <tr>\n",
       "      <th>3</th>\n",
       "      <td>2019-08-04</td>\n",
       "      <td>388030</td>\n",
       "      <td>77</td>\n",
       "      <td>385740</td>\n",
       "      <td>68</td>\n",
       "    </tr>\n",
       "    <tr>\n",
       "      <th>4</th>\n",
       "      <td>2019-08-05</td>\n",
       "      <td>474413</td>\n",
       "      <td>99</td>\n",
       "      <td>475648</td>\n",
       "      <td>89</td>\n",
       "    </tr>\n",
       "  </tbody>\n",
       "</table>\n",
       "</div>"
      ],
      "text/plain": [
       "        date  revenue_A  orders_A  revenue_B  orders_B\n",
       "0 2019-08-01     142779        23      59758        17\n",
       "1 2019-08-02     234381        42     221801        40\n",
       "2 2019-08-03     346854        66     288850        54\n",
       "3 2019-08-04     388030        77     385740        68\n",
       "4 2019-08-05     474413        99     475648        89"
      ]
     },
     "execution_count": 35,
     "metadata": {},
     "output_type": "execute_result"
    }
   ],
   "source": [
    "mer_cumul_rev.head(5)"
   ]
  },
  {
   "cell_type": "markdown",
   "id": "d18c3542",
   "metadata": {},
   "source": [
    "*Считаем средний чек*"
   ]
  },
  {
   "cell_type": "code",
   "execution_count": 36,
   "id": "758951d3",
   "metadata": {},
   "outputs": [],
   "source": [
    "avg_cumul_A = mer_cumul_rev['revenue_A'] / mer_cumul_rev['orders_A']\n",
    "avg_cumul_B = mer_cumul_rev['revenue_B'] / mer_cumul_rev['orders_B']"
   ]
  },
  {
   "cell_type": "code",
   "execution_count": 37,
   "id": "16959126",
   "metadata": {
    "scrolled": true
   },
   "outputs": [
    {
     "data": {
      "image/png": "[encoded data removed]",
      "text/plain": [
       "<Figure size 720x288 with 1 Axes>"
      ]
     },
     "metadata": {
      "needs_background": "light"
     },
     "output_type": "display_data"
    }
   ],
   "source": [
    "plt.figure(figsize=(10, 4))\n",
    "plt.plot(mer_cumul_rev['date'], avg_cumul_B / avg_cumul_A -1)\n",
    "plt.xticks(rotation=50)\n",
    "plt.axhline(y=0, color='black', linestyle='--')\n",
    "plt.xlabel('Дата')\n",
    "plt.ylabel('Прирост')\n",
    "plt.title('Относительное изменение кумулятивного среднего чека')\n",
    "plt.show()"
   ]
  },
  {
   "cell_type": "markdown",
   "id": "30459dba",
   "metadata": {},
   "source": [
    "**Вывод**\n",
    "\n",
    "*Еще раз убеждаемся в аномалиях*"
   ]
  },
  {
   "cell_type": "markdown",
   "id": "60785946",
   "metadata": {},
   "source": [
    "## Строим график кумулятивного среднего количества заказов на посетителя по группам"
   ]
  },
  {
   "cell_type": "markdown",
   "id": "4a0f1520",
   "metadata": {},
   "source": [
    "*Считаем среднее кол-во заказов на посетителя*"
   ]
  },
  {
   "cell_type": "code",
   "execution_count": 38,
   "id": "c2af881d",
   "metadata": {},
   "outputs": [],
   "source": [
    "cumulative_data['avg_orders'] = cumulative_data['orders'] / cumulative_data['visitors']"
   ]
  },
  {
   "cell_type": "markdown",
   "id": "80b1f2bf",
   "metadata": {},
   "source": [
    "*Делим по группам*"
   ]
  },
  {
   "cell_type": "code",
   "execution_count": 39,
   "id": "c6070bbc",
   "metadata": {},
   "outputs": [],
   "source": [
    "cumulative_data_a = cumulative_data[cumulative_data['group'] == 'A']\n",
    "cumulative_data_b = cumulative_data[cumulative_data['group'] == 'B']"
   ]
  },
  {
   "cell_type": "code",
   "execution_count": 40,
   "id": "5d9beae0",
   "metadata": {},
   "outputs": [
    {
     "data": {
      "image/png": "[encoded data removed]",
      "text/plain": [
       "<Figure size 1080x432 with 1 Axes>"
      ]
     },
     "metadata": {
      "needs_background": "light"
     },
     "output_type": "display_data"
    }
   ],
   "source": [
    "plt.figure(figsize=(15, 6))\n",
    "plt.plot(cumulative_data_a['date'], cumulative_data_a['avg_orders'], label='A')\n",
    "plt.plot(cumulative_data_b['date'], cumulative_data_b['avg_orders'], label='B')\n",
    "plt.legend()\n",
    "plt.xticks(rotation=50)\n",
    "plt.xlabel('Дата')\n",
    "plt.ylabel('Среднее кол-во')\n",
    "plt.title('Кумулятивное среднее количества заказов ')\n",
    "plt.show()"
   ]
  },
  {
   "cell_type": "markdown",
   "id": "b9baea1e",
   "metadata": {},
   "source": [
    "**Вывод**\n",
    "\n",
    "*В начале месяца среднее кол-во покупок  группы А был выше группы В. Но вскоре среднее кол-во покупок группы В вырос, немного колебался, но выровнился у своего среднего значения. Среднее кол-во покупок группы А упал, к концу выровнился, но в последние дни виден небольшой спад*"
   ]
  },
  {
   "cell_type": "markdown",
   "id": "ae877cf5",
   "metadata": {},
   "source": [
    "## Строим график относительного изменения кумулятивного среднего количества заказов на посетителя группы B к группе A"
   ]
  },
  {
   "cell_type": "code",
   "execution_count": 41,
   "id": "a2d46fc1",
   "metadata": {},
   "outputs": [],
   "source": [
    "mer_avg_orders = cumulative_data_a[['date', 'avg_orders']] \\\n",
    "    .merge(cumulative_data_b[['date', 'avg_orders']], on='date', how='left', suffixes=['_A', '_B'])"
   ]
  },
  {
   "cell_type": "code",
   "execution_count": 42,
   "id": "26be8115",
   "metadata": {},
   "outputs": [
    {
     "data": {
      "text/html": [
       "<div>\n",
       "<style scoped>\n",
       "    .dataframe tbody tr th:only-of-type {\n",
       "        vertical-align: middle;\n",
       "    }\n",
       "\n",
       "    .dataframe tbody tr th {\n",
       "        vertical-align: top;\n",
       "    }\n",
       "\n",
       "    .dataframe thead th {\n",
       "        text-align: right;\n",
       "    }\n",
       "</style>\n",
       "<table border=\"1\" class=\"dataframe\">\n",
       "  <thead>\n",
       "    <tr style=\"text-align: right;\">\n",
       "      <th></th>\n",
       "      <th>date</th>\n",
       "      <th>avg_orders_A</th>\n",
       "      <th>avg_orders_B</th>\n",
       "    </tr>\n",
       "  </thead>\n",
       "  <tbody>\n",
       "    <tr>\n",
       "      <th>0</th>\n",
       "      <td>2019-08-01</td>\n",
       "      <td>0.031989</td>\n",
       "      <td>0.023843</td>\n",
       "    </tr>\n",
       "    <tr>\n",
       "      <th>1</th>\n",
       "      <td>2019-08-02</td>\n",
       "      <td>0.031390</td>\n",
       "      <td>0.030912</td>\n",
       "    </tr>\n",
       "    <tr>\n",
       "      <th>2</th>\n",
       "      <td>2019-08-03</td>\n",
       "      <td>0.035772</td>\n",
       "      <td>0.029950</td>\n",
       "    </tr>\n",
       "    <tr>\n",
       "      <th>3</th>\n",
       "      <td>2019-08-04</td>\n",
       "      <td>0.030055</td>\n",
       "      <td>0.026428</td>\n",
       "    </tr>\n",
       "    <tr>\n",
       "      <th>4</th>\n",
       "      <td>2019-08-05</td>\n",
       "      <td>0.029837</td>\n",
       "      <td>0.027134</td>\n",
       "    </tr>\n",
       "  </tbody>\n",
       "</table>\n",
       "</div>"
      ],
      "text/plain": [
       "        date  avg_orders_A  avg_orders_B\n",
       "0 2019-08-01      0.031989      0.023843\n",
       "1 2019-08-02      0.031390      0.030912\n",
       "2 2019-08-03      0.035772      0.029950\n",
       "3 2019-08-04      0.030055      0.026428\n",
       "4 2019-08-05      0.029837      0.027134"
      ]
     },
     "execution_count": 42,
     "metadata": {},
     "output_type": "execute_result"
    }
   ],
   "source": [
    "mer_avg_orders.head(5)"
   ]
  },
  {
   "cell_type": "code",
   "execution_count": 43,
   "id": "77ebb06e",
   "metadata": {},
   "outputs": [
    {
     "data": {
      "image/png": "[encoded data removed]",
      "text/plain": [
       "<Figure size 1080x432 with 1 Axes>"
      ]
     },
     "metadata": {
      "needs_background": "light"
     },
     "output_type": "display_data"
    }
   ],
   "source": [
    "plt.figure(figsize=(15, 6))\n",
    "plt.plot(mer_avg_orders['date'], \n",
    "         mer_avg_orders['avg_orders_B']/mer_avg_orders['avg_orders_A']-1, \n",
    "         label='изменения среднего количества заказов')\n",
    "plt.legend()\n",
    "plt.xticks(rotation=50)\n",
    "plt.axhline(y=0, color='black', linestyle='--')\n",
    "plt.axhline(y=0.2, color='grey', linestyle='--')\n",
    "plt.xlabel('Дата')\n",
    "plt.ylabel('Прирост')\n",
    "plt.title('Относительное изменение кумулятивного среднего количества заказов')\n",
    "plt.show()"
   ]
  },
  {
   "cell_type": "markdown",
   "id": "5eeba542",
   "metadata": {},
   "source": [
    "**Вывод**\n",
    "\n",
    "*Практические с самого начала группа В лидирует. Разница достигала 20%, но после снизилась и колебалась в районе 10%*"
   ]
  },
  {
   "cell_type": "markdown",
   "id": "27274aea",
   "metadata": {},
   "source": [
    "## Строим точечный график количества заказов по пользователям"
   ]
  },
  {
   "cell_type": "markdown",
   "id": "93e7a588",
   "metadata": {},
   "source": [
    "*Создадим датафрейм с числом заказов по пользователям*"
   ]
  },
  {
   "cell_type": "code",
   "execution_count": 44,
   "id": "97ac4def",
   "metadata": {},
   "outputs": [],
   "source": [
    "orders_by_users = (orders.groupby('visitor_id', as_index=False) \\\n",
    "    .agg(({'transaction_id': 'nunique'})) \\\n",
    "    .sort_values(by='transaction_id', ascending=False)) \\\n",
    "    .rename(columns={'visitor_id': 'user_id', 'transaction_id': 'orders'})"
   ]
  },
  {
   "cell_type": "code",
   "execution_count": 45,
   "id": "e8942a87",
   "metadata": {},
   "outputs": [
    {
     "data": {
      "text/html": [
       "<div>\n",
       "<style scoped>\n",
       "    .dataframe tbody tr th:only-of-type {\n",
       "        vertical-align: middle;\n",
       "    }\n",
       "\n",
       "    .dataframe tbody tr th {\n",
       "        vertical-align: top;\n",
       "    }\n",
       "\n",
       "    .dataframe thead th {\n",
       "        text-align: right;\n",
       "    }\n",
       "</style>\n",
       "<table border=\"1\" class=\"dataframe\">\n",
       "  <thead>\n",
       "    <tr style=\"text-align: right;\">\n",
       "      <th></th>\n",
       "      <th>user_id</th>\n",
       "      <th>orders</th>\n",
       "    </tr>\n",
       "  </thead>\n",
       "  <tbody>\n",
       "    <tr>\n",
       "      <th>908</th>\n",
       "      <td>3967698036</td>\n",
       "      <td>3</td>\n",
       "    </tr>\n",
       "    <tr>\n",
       "      <th>55</th>\n",
       "      <td>249864742</td>\n",
       "      <td>3</td>\n",
       "    </tr>\n",
       "    <tr>\n",
       "      <th>478</th>\n",
       "      <td>2108163459</td>\n",
       "      <td>3</td>\n",
       "    </tr>\n",
       "    <tr>\n",
       "      <th>687</th>\n",
       "      <td>2988190573</td>\n",
       "      <td>3</td>\n",
       "    </tr>\n",
       "    <tr>\n",
       "      <th>890</th>\n",
       "      <td>3908431265</td>\n",
       "      <td>3</td>\n",
       "    </tr>\n",
       "  </tbody>\n",
       "</table>\n",
       "</div>"
      ],
      "text/plain": [
       "        user_id  orders\n",
       "908  3967698036       3\n",
       "55    249864742       3\n",
       "478  2108163459       3\n",
       "687  2988190573       3\n",
       "890  3908431265       3"
      ]
     },
     "execution_count": 45,
     "metadata": {},
     "output_type": "execute_result"
    }
   ],
   "source": [
    "orders_by_users.head(5)"
   ]
  },
  {
   "cell_type": "code",
   "execution_count": 46,
   "id": "55fee481",
   "metadata": {
    "scrolled": true
   },
   "outputs": [
    {
     "data": {
      "image/png": "[encoded data removed]",
      "text/plain": [
       "<Figure size 720x360 with 1 Axes>"
      ]
     },
     "metadata": {
      "needs_background": "light"
     },
     "output_type": "display_data"
    }
   ],
   "source": [
    "x_values = pd.Series(range(0, len(orders_by_users)))\n",
    "plt.figure(figsize=(10, 5))\n",
    "plt.scatter(x_values, orders_by_users['orders'])\n",
    "plt.xlabel('Дата')\n",
    "plt.ylabel('Среднее кол-во')\n",
    "plt.title('Количество заказов')\n",
    "plt.show()"
   ]
  },
  {
   "cell_type": "markdown",
   "id": "bff5c445",
   "metadata": {},
   "source": [
    "**Вывод**\n",
    "\n",
    "*Большое всего 1-2 заказа, после 3 заказы очень редкие и могут быть аномальными. Посчитаем прцоентили для конечного утверждения о аномальных заказах*"
   ]
  },
  {
   "cell_type": "markdown",
   "id": "cec5398f",
   "metadata": {},
   "source": [
    "## Посчитаем 95-й и 99-й перцентили количества заказов на пользователя"
   ]
  },
  {
   "cell_type": "markdown",
   "id": "7d74a112",
   "metadata": {},
   "source": [
    "*Сохраним перцентили в переменные*"
   ]
  },
  {
   "cell_type": "code",
   "execution_count": 47,
   "id": "b6786519",
   "metadata": {},
   "outputs": [],
   "source": [
    "perc_orders_95 = np.percentile(orders_by_users['orders'], 95)\n",
    "perc_orders_99 = np.percentile(orders_by_users['orders'], 99)"
   ]
  },
  {
   "cell_type": "code",
   "execution_count": 48,
   "id": "a724eb16",
   "metadata": {},
   "outputs": [
    {
     "name": "stdout",
     "output_type": "stream",
     "text": [
      "95-ый перцентиль равен: 1.0\n"
     ]
    }
   ],
   "source": [
    "print('95-ый перцентиль равен: {}'.format(perc_orders_95))"
   ]
  },
  {
   "cell_type": "code",
   "execution_count": 49,
   "id": "f0622db2",
   "metadata": {},
   "outputs": [
    {
     "name": "stdout",
     "output_type": "stream",
     "text": [
      "99-ый перцентиль равен: 2.0\n"
     ]
    }
   ],
   "source": [
    "print('99-ый перцентиль равен: {}'.format(perc_orders_99))"
   ]
  },
  {
   "cell_type": "markdown",
   "id": "f391d3e9",
   "metadata": {},
   "source": [
    "**Вывод**\n",
    "\n",
    "*Не более 5% заказывали больше 2 заказов и не более 1% больше 3 заказов. Из-за чего можем принять более 3ех заказов за аномальные заказы*"
   ]
  },
  {
   "cell_type": "markdown",
   "id": "33bfd297",
   "metadata": {},
   "source": [
    "## Строим точечный график стоимостей заказов"
   ]
  },
  {
   "cell_type": "markdown",
   "id": "290695a3",
   "metadata": {},
   "source": [
    "*Посмотрим на 10ть самых дорогих заказов*"
   ]
  },
  {
   "cell_type": "code",
   "execution_count": 50,
   "id": "4618fdbe",
   "metadata": {},
   "outputs": [
    {
     "data": {
      "text/html": [
       "<div>\n",
       "<style scoped>\n",
       "    .dataframe tbody tr th:only-of-type {\n",
       "        vertical-align: middle;\n",
       "    }\n",
       "\n",
       "    .dataframe tbody tr th {\n",
       "        vertical-align: top;\n",
       "    }\n",
       "\n",
       "    .dataframe thead th {\n",
       "        text-align: right;\n",
       "    }\n",
       "</style>\n",
       "<table border=\"1\" class=\"dataframe\">\n",
       "  <thead>\n",
       "    <tr style=\"text-align: right;\">\n",
       "      <th></th>\n",
       "      <th>transaction_id</th>\n",
       "      <th>visitor_id</th>\n",
       "      <th>date</th>\n",
       "      <th>revenue</th>\n",
       "      <th>group</th>\n",
       "    </tr>\n",
       "  </thead>\n",
       "  <tbody>\n",
       "    <tr>\n",
       "      <th>425</th>\n",
       "      <td>590470918</td>\n",
       "      <td>1920142716</td>\n",
       "      <td>2019-08-19</td>\n",
       "      <td>1294500</td>\n",
       "      <td>B</td>\n",
       "    </tr>\n",
       "    <tr>\n",
       "      <th>1196</th>\n",
       "      <td>3936777065</td>\n",
       "      <td>2108080724</td>\n",
       "      <td>2019-08-15</td>\n",
       "      <td>202740</td>\n",
       "      <td>B</td>\n",
       "    </tr>\n",
       "    <tr>\n",
       "      <th>1136</th>\n",
       "      <td>666610489</td>\n",
       "      <td>1307669133</td>\n",
       "      <td>2019-08-13</td>\n",
       "      <td>92550</td>\n",
       "      <td>A</td>\n",
       "    </tr>\n",
       "    <tr>\n",
       "      <th>744</th>\n",
       "      <td>3668308183</td>\n",
       "      <td>888512513</td>\n",
       "      <td>2019-08-27</td>\n",
       "      <td>86620</td>\n",
       "      <td>B</td>\n",
       "    </tr>\n",
       "    <tr>\n",
       "      <th>743</th>\n",
       "      <td>3603576309</td>\n",
       "      <td>4133034833</td>\n",
       "      <td>2019-08-09</td>\n",
       "      <td>67990</td>\n",
       "      <td>A</td>\n",
       "    </tr>\n",
       "    <tr>\n",
       "      <th>1103</th>\n",
       "      <td>1348774318</td>\n",
       "      <td>1164614297</td>\n",
       "      <td>2019-08-12</td>\n",
       "      <td>66350</td>\n",
       "      <td>A</td>\n",
       "    </tr>\n",
       "    <tr>\n",
       "      <th>1099</th>\n",
       "      <td>316924019</td>\n",
       "      <td>148427295</td>\n",
       "      <td>2019-08-12</td>\n",
       "      <td>65710</td>\n",
       "      <td>A</td>\n",
       "    </tr>\n",
       "    <tr>\n",
       "      <th>949</th>\n",
       "      <td>1347999392</td>\n",
       "      <td>887908475</td>\n",
       "      <td>2019-08-21</td>\n",
       "      <td>60450</td>\n",
       "      <td>A</td>\n",
       "    </tr>\n",
       "    <tr>\n",
       "      <th>940</th>\n",
       "      <td>2420050534</td>\n",
       "      <td>4003628586</td>\n",
       "      <td>2019-08-08</td>\n",
       "      <td>58550</td>\n",
       "      <td>B</td>\n",
       "    </tr>\n",
       "    <tr>\n",
       "      <th>131</th>\n",
       "      <td>3163614039</td>\n",
       "      <td>2254586615</td>\n",
       "      <td>2019-08-22</td>\n",
       "      <td>53904</td>\n",
       "      <td>A</td>\n",
       "    </tr>\n",
       "  </tbody>\n",
       "</table>\n",
       "</div>"
      ],
      "text/plain": [
       "      transaction_id  visitor_id       date  revenue group\n",
       "425        590470918  1920142716 2019-08-19  1294500     B\n",
       "1196      3936777065  2108080724 2019-08-15   202740     B\n",
       "1136       666610489  1307669133 2019-08-13    92550     A\n",
       "744       3668308183   888512513 2019-08-27    86620     B\n",
       "743       3603576309  4133034833 2019-08-09    67990     A\n",
       "1103      1348774318  1164614297 2019-08-12    66350     A\n",
       "1099       316924019   148427295 2019-08-12    65710     A\n",
       "949       1347999392   887908475 2019-08-21    60450     A\n",
       "940       2420050534  4003628586 2019-08-08    58550     B\n",
       "131       3163614039  2254586615 2019-08-22    53904     A"
      ]
     },
     "execution_count": 50,
     "metadata": {},
     "output_type": "execute_result"
    }
   ],
   "source": [
    "orders.sort_values(by='revenue',ascending=False).head(10)"
   ]
  },
  {
   "cell_type": "code",
   "execution_count": 51,
   "id": "a8bdc16a",
   "metadata": {},
   "outputs": [
    {
     "data": {
      "image/png": "[encoded data removed]",
      "text/plain": [
       "<Figure size 720x360 with 1 Axes>"
      ]
     },
     "metadata": {
      "needs_background": "light"
     },
     "output_type": "display_data"
    }
   ],
   "source": [
    "x_values = pd.Series(range(0, len(orders['revenue'])))\n",
    "plt.figure(figsize=(10, 5))\n",
    "plt.scatter(x_values, orders['revenue'])\n",
    "plt.xlabel('Дата')\n",
    "plt.ylabel('Стоимость')\n",
    "plt.title('Стоимость заказов')\n",
    "plt.show()"
   ]
  },
  {
   "cell_type": "markdown",
   "id": "691f8488",
   "metadata": {},
   "source": [
    "**Вывод**\n",
    "\n",
    "*Больше всего заказов до 100000, и видны только 2 выброса с суммой 202к и 1249500. Посмотри на перцентили*"
   ]
  },
  {
   "cell_type": "markdown",
   "id": "2ad8b16e",
   "metadata": {},
   "source": [
    "*Удалим явные выборсы и посмотрим на распределение*"
   ]
  },
  {
   "cell_type": "code",
   "execution_count": 52,
   "id": "ca51bc12",
   "metadata": {},
   "outputs": [],
   "source": [
    "orders_new = orders.query('revenue not in [202740, 1294500]')"
   ]
  },
  {
   "cell_type": "code",
   "execution_count": 53,
   "id": "d74c74ed",
   "metadata": {},
   "outputs": [
    {
     "data": {
      "image/png": "[encoded data removed]",
      "text/plain": [
       "<Figure size 720x360 with 1 Axes>"
      ]
     },
     "metadata": {
      "needs_background": "light"
     },
     "output_type": "display_data"
    }
   ],
   "source": [
    "x_values = pd.Series(range(0, len(orders_new['revenue'])))\n",
    "plt.figure(figsize=(10, 5))\n",
    "plt.scatter(x_values, orders_new['revenue'])\n",
    "plt.xlabel('Дата')\n",
    "plt.ylabel('Стоимость')\n",
    "plt.title('Стоимость заказов')\n",
    "plt.show()"
   ]
  },
  {
   "cell_type": "markdown",
   "id": "b5302b81",
   "metadata": {},
   "source": [
    "## Считаем 95-й и 99-й перцентили стоимости заказов"
   ]
  },
  {
   "cell_type": "markdown",
   "id": "66e9214b",
   "metadata": {},
   "source": [
    "*Сохраним перцентили в переменные*"
   ]
  },
  {
   "cell_type": "code",
   "execution_count": 54,
   "id": "22bbc2f2",
   "metadata": {},
   "outputs": [],
   "source": [
    "perc_revenue_95 = np.percentile(orders['revenue'], 95)\n",
    "perc_revenue_99 = np.percentile(orders['revenue'], 99)"
   ]
  },
  {
   "cell_type": "code",
   "execution_count": 55,
   "id": "92102eff",
   "metadata": {},
   "outputs": [
    {
     "name": "stdout",
     "output_type": "stream",
     "text": [
      "95-ый перцентиль равен: 26785\n"
     ]
    }
   ],
   "source": [
    "print('95-ый перцентиль равен: {0:.0f}'.format(perc_revenue_95))"
   ]
  },
  {
   "cell_type": "code",
   "execution_count": 56,
   "id": "283e833e",
   "metadata": {},
   "outputs": [
    {
     "name": "stdout",
     "output_type": "stream",
     "text": [
      "99-ый перцентиль равен: 53904\n"
     ]
    }
   ],
   "source": [
    "print('99-ый перцентиль равен: {0:.0f}'.format(perc_revenue_99))"
   ]
  },
  {
   "cell_type": "markdown",
   "id": "65734cf2",
   "metadata": {},
   "source": [
    "**Вывод**\n",
    "\n",
    "*Не более 5% заказ дороже 28000 и не более 1% дороже 58233. Из-за чего можем принять, что данные за 99ым перцентилем - аномалные*"
   ]
  },
  {
   "cell_type": "markdown",
   "id": "deff9da7",
   "metadata": {},
   "source": [
    "## Посчитаем статистическую значимость различий в среднем количестве заказов на посетителя между группами по «сырым» данным"
   ]
  },
  {
   "cell_type": "markdown",
   "id": "579c4078",
   "metadata": {},
   "source": [
    "**H0 (нулевая гипотеза)** - *среднее количество заказов на посетителя* <font color='green'>*группы А*</font> *равна среднему количеству заказов* <font color='blue'>*группы В*</font>.\n",
    "\n",
    "**Н1 (альтернативная гипотеза)** - *среднее количество заказов на посетителя* <font color='green'>*группы А*</font> *не равна среднему количеству заказов* <font color='blue'>*группы В*</font>."
   ]
  },
  {
   "cell_type": "markdown",
   "id": "38d0a827",
   "metadata": {},
   "source": [
    "*Будем использовать критерий Манна-Уитни. Так как этот критерий дает возможность работать с непараметрическими параметрами. В наших данных присутствуют выбросы и разные значение, и использование, допустим, среднего сильно исказит результат*"
   ]
  },
  {
   "cell_type": "markdown",
   "id": "52af687f",
   "metadata": {},
   "source": [
    "*Подготовим новые датафреймы с группами, для дальнейших расчетов*"
   ]
  },
  {
   "cell_type": "markdown",
   "id": "2ce879b0",
   "metadata": {},
   "source": [
    "### Посчитаем кол-во пользователей в день, для каждой группы"
   ]
  },
  {
   "cell_type": "code",
   "execution_count": 57,
   "id": "580a4487",
   "metadata": {},
   "outputs": [],
   "source": [
    "visitors_a_daily = (visitors[visitors['group'] == 'A'][['date', 'visitors']]) \\\n",
    "    .rename(columns={'visitors': 'visitors_date_A'})"
   ]
  },
  {
   "cell_type": "code",
   "execution_count": 58,
   "id": "554286ff",
   "metadata": {},
   "outputs": [
    {
     "data": {
      "text/html": [
       "<div>\n",
       "<style scoped>\n",
       "    .dataframe tbody tr th:only-of-type {\n",
       "        vertical-align: middle;\n",
       "    }\n",
       "\n",
       "    .dataframe tbody tr th {\n",
       "        vertical-align: top;\n",
       "    }\n",
       "\n",
       "    .dataframe thead th {\n",
       "        text-align: right;\n",
       "    }\n",
       "</style>\n",
       "<table border=\"1\" class=\"dataframe\">\n",
       "  <thead>\n",
       "    <tr style=\"text-align: right;\">\n",
       "      <th></th>\n",
       "      <th>date</th>\n",
       "      <th>visitors_date_A</th>\n",
       "    </tr>\n",
       "  </thead>\n",
       "  <tbody>\n",
       "    <tr>\n",
       "      <th>0</th>\n",
       "      <td>2019-08-01</td>\n",
       "      <td>719</td>\n",
       "    </tr>\n",
       "    <tr>\n",
       "      <th>1</th>\n",
       "      <td>2019-08-02</td>\n",
       "      <td>619</td>\n",
       "    </tr>\n",
       "    <tr>\n",
       "      <th>2</th>\n",
       "      <td>2019-08-03</td>\n",
       "      <td>507</td>\n",
       "    </tr>\n",
       "    <tr>\n",
       "      <th>3</th>\n",
       "      <td>2019-08-04</td>\n",
       "      <td>717</td>\n",
       "    </tr>\n",
       "    <tr>\n",
       "      <th>4</th>\n",
       "      <td>2019-08-05</td>\n",
       "      <td>756</td>\n",
       "    </tr>\n",
       "  </tbody>\n",
       "</table>\n",
       "</div>"
      ],
      "text/plain": [
       "        date  visitors_date_A\n",
       "0 2019-08-01              719\n",
       "1 2019-08-02              619\n",
       "2 2019-08-03              507\n",
       "3 2019-08-04              717\n",
       "4 2019-08-05              756"
      ]
     },
     "execution_count": 58,
     "metadata": {},
     "output_type": "execute_result"
    }
   ],
   "source": [
    "visitors_a_daily.head(5)"
   ]
  },
  {
   "cell_type": "code",
   "execution_count": 59,
   "id": "d7255e88",
   "metadata": {},
   "outputs": [],
   "source": [
    "visitors_b_daily = (visitors[visitors['group'] == 'B'][['date', 'visitors']]) \\\n",
    "    .rename(columns={'visitors': 'visitors_date_B'})"
   ]
  },
  {
   "cell_type": "code",
   "execution_count": 60,
   "id": "4f58e265",
   "metadata": {},
   "outputs": [
    {
     "data": {
      "text/html": [
       "<div>\n",
       "<style scoped>\n",
       "    .dataframe tbody tr th:only-of-type {\n",
       "        vertical-align: middle;\n",
       "    }\n",
       "\n",
       "    .dataframe tbody tr th {\n",
       "        vertical-align: top;\n",
       "    }\n",
       "\n",
       "    .dataframe thead th {\n",
       "        text-align: right;\n",
       "    }\n",
       "</style>\n",
       "<table border=\"1\" class=\"dataframe\">\n",
       "  <thead>\n",
       "    <tr style=\"text-align: right;\">\n",
       "      <th></th>\n",
       "      <th>date</th>\n",
       "      <th>visitors_date_B</th>\n",
       "    </tr>\n",
       "  </thead>\n",
       "  <tbody>\n",
       "    <tr>\n",
       "      <th>31</th>\n",
       "      <td>2019-08-01</td>\n",
       "      <td>713</td>\n",
       "    </tr>\n",
       "    <tr>\n",
       "      <th>32</th>\n",
       "      <td>2019-08-02</td>\n",
       "      <td>581</td>\n",
       "    </tr>\n",
       "    <tr>\n",
       "      <th>33</th>\n",
       "      <td>2019-08-03</td>\n",
       "      <td>509</td>\n",
       "    </tr>\n",
       "    <tr>\n",
       "      <th>34</th>\n",
       "      <td>2019-08-04</td>\n",
       "      <td>770</td>\n",
       "    </tr>\n",
       "    <tr>\n",
       "      <th>35</th>\n",
       "      <td>2019-08-05</td>\n",
       "      <td>707</td>\n",
       "    </tr>\n",
       "  </tbody>\n",
       "</table>\n",
       "</div>"
      ],
      "text/plain": [
       "         date  visitors_date_B\n",
       "31 2019-08-01              713\n",
       "32 2019-08-02              581\n",
       "33 2019-08-03              509\n",
       "34 2019-08-04              770\n",
       "35 2019-08-05              707"
      ]
     },
     "execution_count": 60,
     "metadata": {},
     "output_type": "execute_result"
    }
   ],
   "source": [
    "visitors_b_daily.head(5)"
   ]
  },
  {
   "cell_type": "markdown",
   "id": "46fb635e",
   "metadata": {},
   "source": [
    "### Посчитаем суммарное кол-во заказов и суммарную выручку в день"
   ]
  },
  {
   "cell_type": "code",
   "execution_count": 61,
   "id": "4d8c9f9a",
   "metadata": {},
   "outputs": [],
   "source": [
    "orders_a_daily = (orders[orders['group'] == 'A'][['date', 'transaction_id', 'visitor_id', 'revenue']] \\\n",
    "    .groupby('date', as_index=False) \\\n",
    "    .agg({'transaction_id': 'nunique',\n",
    "          'revenue': 'sum'})) \\\n",
    "    .rename(columns={'transaction_id': 'orders_date_A', 'revenue': 'revenue_date_A'})"
   ]
  },
  {
   "cell_type": "code",
   "execution_count": 62,
   "id": "130ca491",
   "metadata": {},
   "outputs": [],
   "source": [
    "orders_a_cummulative = (orders_a_daily.apply(\n",
    "    lambda x: orders_a_daily[orders_a_daily['date'] <= x['date']] \\\n",
    "        .agg({'date': 'max',\n",
    "              'orders_date_A': 'sum',\n",
    "              'revenue_date_A': 'sum'}), axis=1\n",
    ").sort_values(by=['date'])) \\\n",
    "    .rename(columns={'orders_date_A': 'orders_cummulative_A', 'revenue_date_A': 'revenue_cummulative_A'})"
   ]
  },
  {
   "cell_type": "code",
   "execution_count": 63,
   "id": "d2f12c2e",
   "metadata": {},
   "outputs": [
    {
     "data": {
      "text/html": [
       "<div>\n",
       "<style scoped>\n",
       "    .dataframe tbody tr th:only-of-type {\n",
       "        vertical-align: middle;\n",
       "    }\n",
       "\n",
       "    .dataframe tbody tr th {\n",
       "        vertical-align: top;\n",
       "    }\n",
       "\n",
       "    .dataframe thead th {\n",
       "        text-align: right;\n",
       "    }\n",
       "</style>\n",
       "<table border=\"1\" class=\"dataframe\">\n",
       "  <thead>\n",
       "    <tr style=\"text-align: right;\">\n",
       "      <th></th>\n",
       "      <th>date</th>\n",
       "      <th>orders_cummulative_A</th>\n",
       "      <th>revenue_cummulative_A</th>\n",
       "    </tr>\n",
       "  </thead>\n",
       "  <tbody>\n",
       "    <tr>\n",
       "      <th>0</th>\n",
       "      <td>2019-08-01</td>\n",
       "      <td>23</td>\n",
       "      <td>142779</td>\n",
       "    </tr>\n",
       "    <tr>\n",
       "      <th>1</th>\n",
       "      <td>2019-08-02</td>\n",
       "      <td>42</td>\n",
       "      <td>234381</td>\n",
       "    </tr>\n",
       "    <tr>\n",
       "      <th>2</th>\n",
       "      <td>2019-08-03</td>\n",
       "      <td>66</td>\n",
       "      <td>346854</td>\n",
       "    </tr>\n",
       "    <tr>\n",
       "      <th>3</th>\n",
       "      <td>2019-08-04</td>\n",
       "      <td>77</td>\n",
       "      <td>388030</td>\n",
       "    </tr>\n",
       "    <tr>\n",
       "      <th>4</th>\n",
       "      <td>2019-08-05</td>\n",
       "      <td>99</td>\n",
       "      <td>474413</td>\n",
       "    </tr>\n",
       "  </tbody>\n",
       "</table>\n",
       "</div>"
      ],
      "text/plain": [
       "        date  orders_cummulative_A  revenue_cummulative_A\n",
       "0 2019-08-01                    23                 142779\n",
       "1 2019-08-02                    42                 234381\n",
       "2 2019-08-03                    66                 346854\n",
       "3 2019-08-04                    77                 388030\n",
       "4 2019-08-05                    99                 474413"
      ]
     },
     "execution_count": 63,
     "metadata": {},
     "output_type": "execute_result"
    }
   ],
   "source": [
    "orders_a_cummulative.head(5)"
   ]
  },
  {
   "cell_type": "code",
   "execution_count": 64,
   "id": "3a03e9f0",
   "metadata": {},
   "outputs": [],
   "source": [
    "orders_b_daily = (orders[orders['group'] == 'B'][['date', 'transaction_id', 'visitor_id', 'revenue']] \\\n",
    "    .groupby('date', as_index=False) \\\n",
    "    .agg({'transaction_id': 'nunique',\n",
    "          'revenue': 'sum'})) \\\n",
    "    .rename(columns={'transaction_id': 'orders_date_B', 'revenue': 'revenue_date_B'})"
   ]
  },
  {
   "cell_type": "code",
   "execution_count": 65,
   "id": "e1babf27",
   "metadata": {},
   "outputs": [
    {
     "data": {
      "text/html": [
       "<div>\n",
       "<style scoped>\n",
       "    .dataframe tbody tr th:only-of-type {\n",
       "        vertical-align: middle;\n",
       "    }\n",
       "\n",
       "    .dataframe tbody tr th {\n",
       "        vertical-align: top;\n",
       "    }\n",
       "\n",
       "    .dataframe thead th {\n",
       "        text-align: right;\n",
       "    }\n",
       "</style>\n",
       "<table border=\"1\" class=\"dataframe\">\n",
       "  <thead>\n",
       "    <tr style=\"text-align: right;\">\n",
       "      <th></th>\n",
       "      <th>date</th>\n",
       "      <th>orders_date_B</th>\n",
       "      <th>revenue_date_B</th>\n",
       "    </tr>\n",
       "  </thead>\n",
       "  <tbody>\n",
       "    <tr>\n",
       "      <th>0</th>\n",
       "      <td>2019-08-01</td>\n",
       "      <td>17</td>\n",
       "      <td>59758</td>\n",
       "    </tr>\n",
       "    <tr>\n",
       "      <th>1</th>\n",
       "      <td>2019-08-02</td>\n",
       "      <td>23</td>\n",
       "      <td>162043</td>\n",
       "    </tr>\n",
       "    <tr>\n",
       "      <th>2</th>\n",
       "      <td>2019-08-03</td>\n",
       "      <td>14</td>\n",
       "      <td>67049</td>\n",
       "    </tr>\n",
       "    <tr>\n",
       "      <th>3</th>\n",
       "      <td>2019-08-04</td>\n",
       "      <td>14</td>\n",
       "      <td>96890</td>\n",
       "    </tr>\n",
       "    <tr>\n",
       "      <th>4</th>\n",
       "      <td>2019-08-05</td>\n",
       "      <td>21</td>\n",
       "      <td>89908</td>\n",
       "    </tr>\n",
       "  </tbody>\n",
       "</table>\n",
       "</div>"
      ],
      "text/plain": [
       "        date  orders_date_B  revenue_date_B\n",
       "0 2019-08-01             17           59758\n",
       "1 2019-08-02             23          162043\n",
       "2 2019-08-03             14           67049\n",
       "3 2019-08-04             14           96890\n",
       "4 2019-08-05             21           89908"
      ]
     },
     "execution_count": 65,
     "metadata": {},
     "output_type": "execute_result"
    }
   ],
   "source": [
    "orders_b_daily.head(5)"
   ]
  },
  {
   "cell_type": "code",
   "execution_count": 66,
   "id": "a10bb302",
   "metadata": {},
   "outputs": [],
   "source": [
    "orders_b_cummulative = (orders_b_daily.apply(\n",
    "    lambda x: orders_b_daily[orders_b_daily['date'] <= x['date']] \\\n",
    "        .agg({'date': 'max',\n",
    "              'orders_date_B': 'sum',\n",
    "              'revenue_date_B': 'sum'}), axis=1\n",
    ").sort_values(by=['date'])) \\\n",
    "    .rename(columns={'orders_date_B': 'orders_cummulative_B', 'revenue_date_B': 'revenue_cummulative_B'})"
   ]
  },
  {
   "cell_type": "code",
   "execution_count": 67,
   "id": "557acb56",
   "metadata": {},
   "outputs": [
    {
     "data": {
      "text/html": [
       "<div>\n",
       "<style scoped>\n",
       "    .dataframe tbody tr th:only-of-type {\n",
       "        vertical-align: middle;\n",
       "    }\n",
       "\n",
       "    .dataframe tbody tr th {\n",
       "        vertical-align: top;\n",
       "    }\n",
       "\n",
       "    .dataframe thead th {\n",
       "        text-align: right;\n",
       "    }\n",
       "</style>\n",
       "<table border=\"1\" class=\"dataframe\">\n",
       "  <thead>\n",
       "    <tr style=\"text-align: right;\">\n",
       "      <th></th>\n",
       "      <th>date</th>\n",
       "      <th>orders_cummulative_B</th>\n",
       "      <th>revenue_cummulative_B</th>\n",
       "    </tr>\n",
       "  </thead>\n",
       "  <tbody>\n",
       "    <tr>\n",
       "      <th>0</th>\n",
       "      <td>2019-08-01</td>\n",
       "      <td>17</td>\n",
       "      <td>59758</td>\n",
       "    </tr>\n",
       "    <tr>\n",
       "      <th>1</th>\n",
       "      <td>2019-08-02</td>\n",
       "      <td>40</td>\n",
       "      <td>221801</td>\n",
       "    </tr>\n",
       "    <tr>\n",
       "      <th>2</th>\n",
       "      <td>2019-08-03</td>\n",
       "      <td>54</td>\n",
       "      <td>288850</td>\n",
       "    </tr>\n",
       "    <tr>\n",
       "      <th>3</th>\n",
       "      <td>2019-08-04</td>\n",
       "      <td>68</td>\n",
       "      <td>385740</td>\n",
       "    </tr>\n",
       "    <tr>\n",
       "      <th>4</th>\n",
       "      <td>2019-08-05</td>\n",
       "      <td>89</td>\n",
       "      <td>475648</td>\n",
       "    </tr>\n",
       "  </tbody>\n",
       "</table>\n",
       "</div>"
      ],
      "text/plain": [
       "        date  orders_cummulative_B  revenue_cummulative_B\n",
       "0 2019-08-01                    17                  59758\n",
       "1 2019-08-02                    40                 221801\n",
       "2 2019-08-03                    54                 288850\n",
       "3 2019-08-04                    68                 385740\n",
       "4 2019-08-05                    89                 475648"
      ]
     },
     "execution_count": 67,
     "metadata": {},
     "output_type": "execute_result"
    }
   ],
   "source": [
    "orders_b_cummulative.head(5)"
   ]
  },
  {
   "cell_type": "markdown",
   "id": "28904d58",
   "metadata": {},
   "source": [
    "### Создадим датафрейм с заказами"
   ]
  },
  {
   "cell_type": "code",
   "execution_count": 68,
   "id": "441aca15",
   "metadata": {},
   "outputs": [],
   "source": [
    "orders_by_users_A = (orders[orders['group'] == 'A'] \\\n",
    "    .groupby('visitor_id', as_index=False) \\\n",
    "    .agg({'transaction_id': 'nunique'})) \\\n",
    "    .rename(columns={'transaction_id': 'orders'})"
   ]
  },
  {
   "cell_type": "code",
   "execution_count": 69,
   "id": "1696ee86",
   "metadata": {},
   "outputs": [],
   "source": [
    "orders_by_users_B = (orders[orders['group'] == 'B'] \\\n",
    "    .groupby('visitor_id', as_index=False) \\\n",
    "    .agg({'transaction_id': 'nunique'})) \\\n",
    "    .rename(columns={'transaction_id': 'orders'})"
   ]
  },
  {
   "cell_type": "markdown",
   "id": "1424fd67",
   "metadata": {},
   "source": [
    "### Создадим переменные с заказами по каждому пользователю для каждой из групп"
   ]
  },
  {
   "cell_type": "code",
   "execution_count": 70,
   "id": "c02f4577",
   "metadata": {},
   "outputs": [],
   "source": [
    "sample_A = pd.concat([orders_by_users_A['orders'],pd.Series(0, \n",
    "index=np.arange(visitors_a_daily['visitors_date_A'].sum() - len(orders_by_users_A['orders'])), \n",
    "name='orders')],axis=0)"
   ]
  },
  {
   "cell_type": "code",
   "execution_count": 71,
   "id": "d00f7011",
   "metadata": {},
   "outputs": [],
   "source": [
    "sample_B = pd.concat([orders_by_users_B['orders'],pd.Series(0, \n",
    "index=np.arange(visitors_b_daily['visitors_date_B'].sum() - len(orders_by_users_B['orders'])), \n",
    "name='orders')],axis=0)"
   ]
  },
  {
   "cell_type": "code",
   "execution_count": 72,
   "id": "cc16560d",
   "metadata": {},
   "outputs": [
    {
     "name": "stdout",
     "output_type": "stream",
     "text": [
      "p_value: 0.01102\n",
      "Относительный прирост среднего числа заказов: 0.160\n"
     ]
    }
   ],
   "source": [
    "results = stats.mannwhitneyu(sample_A, sample_B)[1]\n",
    "relative_growth = sample_B.mean() / sample_A.mean() - 1\n",
    "alpha = .05\n",
    "print('p_value: {0:.5f}'.format(results))\n",
    "print('Относительный прирост среднего числа заказов: {0:.3f}'.format(relative_growth))"
   ]
  },
  {
   "cell_type": "code",
   "execution_count": 73,
   "id": "a6b0e64a",
   "metadata": {},
   "outputs": [
    {
     "name": "stdout",
     "output_type": "stream",
     "text": [
      "p-значение: 0.011018084110014696\n",
      "Отвергаем нулевую гипотезу\n"
     ]
    }
   ],
   "source": [
    "print('p-значение:', results)\n",
    "\n",
    "if results < alpha:\n",
    "    print('Отвергаем нулевую гипотезу')\n",
    "else:\n",
    "    print('Не получилось отвергнуть нулевую гипотезу')"
   ]
  },
  {
   "cell_type": "markdown",
   "id": "9f4efec9",
   "metadata": {},
   "source": [
    "**Вывод**\n",
    "\n",
    "*Мы отвергаем нулевую гипотезу о том, что среднее кол-во заказов в двух группах равны. Тем самым можем утверждать что разница между группой А и В статистически значима. И разница в приросте практически 14%*"
   ]
  },
  {
   "cell_type": "markdown",
   "id": "725247d0",
   "metadata": {},
   "source": [
    "## Посчитаем статистическую значимость различий в среднем чеке заказа между группами по «сырым» данным"
   ]
  },
  {
   "cell_type": "markdown",
   "id": "05b357cd",
   "metadata": {},
   "source": [
    "**H0 (нулевая гипотеза)** - *среднее чек* <font color='green'>*группы А*</font> *ниже среднего чека* <font color='blue'>*группы В*</font>.\n",
    "\n",
    "**Н1 (альтернативная гипотеза)** - *среднее чек* <font color='green'>*группы А*</font> *выше среднего чека* <font color='blue'>*группы В*</font>."
   ]
  },
  {
   "cell_type": "code",
   "execution_count": 74,
   "id": "ba34bc9d",
   "metadata": {},
   "outputs": [
    {
     "name": "stdout",
     "output_type": "stream",
     "text": [
      "p_value: 0.829\n",
      "Относительный прирост среднего чека: 0.287\n"
     ]
    }
   ],
   "source": [
    "results_avg = stats.mannwhitneyu(orders[orders['group']=='A']['revenue'], \n",
    "                                 orders[orders['group']=='B']['revenue'])[1]\n",
    "relative_growth_avg = orders[orders['group'] == 'B']['revenue'] \\\n",
    "    .mean()/orders[orders['group']=='A']['revenue'].mean()-1\n",
    "alpha = .05\n",
    "\n",
    "print('p_value: {0:.3f}'.format(results_avg))\n",
    "print('Относительный прирост среднего чека: {0:.3f}'.format(relative_growth_avg))"
   ]
  },
  {
   "cell_type": "code",
   "execution_count": 75,
   "id": "20bd5d67",
   "metadata": {},
   "outputs": [
    {
     "name": "stdout",
     "output_type": "stream",
     "text": [
      "p-значение: 0.8294908998149533\n",
      "Не получилось отвергнуть нулевую гипотезу\n"
     ]
    }
   ],
   "source": [
    "print('p-значение:', results_avg)\n",
    "\n",
    "if results_avg < alpha:\n",
    "    print('Отвергаем нулевую гипотезу')\n",
    "else:\n",
    "    print('Не получилось отвергнуть нулевую гипотезу')"
   ]
  },
  {
   "cell_type": "markdown",
   "id": "5480146b",
   "metadata": {},
   "source": [
    "**Вывод**\n",
    "\n",
    "*Мы не отвергаем гипотезу о том,что средний чек группы А ниже среднего чека группы В. Средний чек группы А значительно ниже среднего чека группы В, а так же относительный прирост составляет 26%*"
   ]
  },
  {
   "cell_type": "markdown",
   "id": "7f3ec71b",
   "metadata": {},
   "source": [
    "## Посчитаем статистическую значимость различий в среднем количестве заказов на посетителя между группами по «очищенным» данным"
   ]
  },
  {
   "cell_type": "markdown",
   "id": "3a85f7a7",
   "metadata": {},
   "source": [
    "**H0 (нулевая гипотеза)** - *среднее количество заказов на посетителя* <font color='green'>*группы А*</font> *равна среднему количеству заказов* <font color='blue'>*группы В*</font>.\n",
    "\n",
    "**Н1 (альтернативная гипотеза)** - *среднее количество заказов на посетителя* <font color='green'>*группы А*</font> *не равна среднему количеству заказов* <font color='blue'>*группы В*</font>."
   ]
  },
  {
   "cell_type": "markdown",
   "id": "ef6967a2",
   "metadata": {},
   "source": [
    "*Создаем переменные с пограничными значениями, для отсечения данных*"
   ]
  },
  {
   "cell_type": "code",
   "execution_count": 76,
   "id": "fcc34489",
   "metadata": {},
   "outputs": [],
   "source": [
    "ab_normal_orders = 3\n",
    "ab_normal_revenue = 60000"
   ]
  },
  {
   "cell_type": "markdown",
   "id": "838a181a",
   "metadata": {},
   "source": [
    "*Очистим данные*"
   ]
  },
  {
   "cell_type": "code",
   "execution_count": 77,
   "id": "4b4bf96c",
   "metadata": {},
   "outputs": [],
   "source": [
    "users_with_many_orders = pd.concat([\n",
    "    orders_by_users_A[orders_by_users_A['orders'] >= np.percentile(ab_normal_orders, 95)]['visitor_id'],\n",
    "    orders_by_users_B[orders_by_users_B['orders'] >= np.percentile(ab_normal_revenue, 95)]['visitor_id']\n",
    "], axis=0)"
   ]
  },
  {
   "cell_type": "code",
   "execution_count": 78,
   "id": "e858a1e4",
   "metadata": {},
   "outputs": [],
   "source": [
    "abnormal_a = orders_by_users_A[orders_by_users_A['orders'] >= np.percentile(ab_normal_orders, 95)]"
   ]
  },
  {
   "cell_type": "code",
   "execution_count": 79,
   "id": "199a8a9a",
   "metadata": {},
   "outputs": [],
   "source": [
    "users_with_expensive_orders = orders[orders['revenue'] > np.percentile(ab_normal_revenue, 95)]['visitor_id']\n",
    "abnormal_users = pd.concat([users_with_many_orders, users_with_expensive_orders], axis=0) \\\n",
    "    .drop_duplicates() \\\n",
    "    .sort_values()"
   ]
  },
  {
   "cell_type": "markdown",
   "id": "8287425c",
   "metadata": {},
   "source": [
    "*Посмотрим сколько пользователей удалили*"
   ]
  },
  {
   "cell_type": "code",
   "execution_count": 80,
   "id": "91c5f265",
   "metadata": {},
   "outputs": [],
   "source": [
    "visitors_all = visitors.groupby('group').agg({'visitors':'sum'}).reset_index()"
   ]
  },
  {
   "cell_type": "code",
   "execution_count": 81,
   "id": "2c81deb4",
   "metadata": {},
   "outputs": [],
   "source": [
    "diff = round(abnormal_users.shape[0] / (visitors_all['visitors'][1] + visitors_all['visitors'][0]) * 100, 3)"
   ]
  },
  {
   "cell_type": "code",
   "execution_count": 82,
   "id": "3c1d3f2e",
   "metadata": {},
   "outputs": [
    {
     "name": "stdout",
     "output_type": "stream",
     "text": [
      "Количество удаленных пользователей: 13 пользователей, что составляет 0.035%\n"
     ]
    }
   ],
   "source": [
    "print('Количество удаленных пользователей: {} пользователей, что составляет {}%'.format(len(abnormal_users), diff))"
   ]
  },
  {
   "cell_type": "code",
   "execution_count": 83,
   "id": "ca954df8",
   "metadata": {},
   "outputs": [],
   "source": [
    "sample_a_filtered = pd.concat([\n",
    "    orders_by_users_A[np.logical_not(orders_by_users_A['visitor_id'].isin(abnormal_users))]['orders'],\n",
    "    pd.Series(0,\n",
    "             index=np.arange(visitors_a_daily['visitors_date_A'].sum() - len(orders_by_users_A['orders'])\n",
    "                            ),\n",
    "             name='orders',)\n",
    "], axis=0)"
   ]
  },
  {
   "cell_type": "code",
   "execution_count": 84,
   "id": "bcadd80c",
   "metadata": {},
   "outputs": [],
   "source": [
    "sample_b_filtered = pd.concat([\n",
    "    orders_by_users_B[np.logical_not(orders_by_users_B['visitor_id'].isin(abnormal_users))]['orders'],\n",
    "    pd.Series(0,\n",
    "             index=np.arange(visitors_b_daily['visitors_date_B'].sum() - len(orders_by_users_B['orders'])\n",
    "                            ),\n",
    "             name='orders',)\n",
    "], axis=0)"
   ]
  },
  {
   "cell_type": "code",
   "execution_count": 85,
   "id": "04d13833",
   "metadata": {},
   "outputs": [
    {
     "name": "stdout",
     "output_type": "stream",
     "text": [
      "p_value: 0.00530\n",
      "Относительный прирост среднего числа заказов: 0.204\n"
     ]
    }
   ],
   "source": [
    "results_filtered_orders = stats.mannwhitneyu(sample_a_filtered, sample_b_filtered)[1]\n",
    "relative_filtered_orders = sample_b_filtered.mean()/sample_a_filtered.mean()-1\n",
    "alpha = .05\n",
    "\n",
    "print('p_value: {0:.5f}'.format(results_filtered_orders))\n",
    "print('Относительный прирост среднего числа заказов: {0:.3f}'.format(relative_filtered_orders))"
   ]
  },
  {
   "cell_type": "code",
   "execution_count": 86,
   "id": "7da1f752",
   "metadata": {},
   "outputs": [
    {
     "name": "stdout",
     "output_type": "stream",
     "text": [
      "p-значение:0.00530\n",
      "Отвергаем нулевую гипотезу\n"
     ]
    }
   ],
   "source": [
    "print('p-значение:{0:.5f}'.format(results_filtered_orders))\n",
    "\n",
    "if results_filtered_orders < alpha:\n",
    "    print('Отвергаем нулевую гипотезу')\n",
    "else:\n",
    "    print('Не получилось отвергнуть нулевую гипотезу')"
   ]
  },
  {
   "cell_type": "markdown",
   "id": "7df953c8",
   "metadata": {},
   "source": [
    "**Вывод**\n",
    "\n",
    "*Мы снова отвергаем гипотезу. Даже после очистки даных, разница в группах статистически значима*"
   ]
  },
  {
   "cell_type": "markdown",
   "id": "bdffe328",
   "metadata": {},
   "source": [
    "## Посчитаем статистическую значимость различий в среднем чеке заказа между группами по «очищенным» данным"
   ]
  },
  {
   "cell_type": "markdown",
   "id": "6717100a",
   "metadata": {},
   "source": [
    "**H0 (нулевая гипотеза)** - *среднее чек* <font color='green'>*группы А*</font> *ниже среднего чека* <font color='blue'>*группы В*</font>.\n",
    "\n",
    "**Н1 (альтернативная гипотеза)** - *среднее чек* <font color='green'>*группы А*</font> *выше среднего чека* <font color='blue'>*группы В*</font>."
   ]
  },
  {
   "cell_type": "code",
   "execution_count": 87,
   "id": "76f2c83e",
   "metadata": {},
   "outputs": [
    {
     "name": "stdout",
     "output_type": "stream",
     "text": [
      "p_value: 0.868\n",
      "Относительный прирост среднего чека: -0.014\n"
     ]
    }
   ],
   "source": [
    "results_avg_filtered = stats.mannwhitneyu(orders\n",
    "        [np.logical_and(orders['group'] == 'A',\n",
    "         np.logical_not(orders['visitor_id'].isin(abnormal_users)),\n",
    "            )]['revenue'],\n",
    "     orders[np.logical_and(orders['group'] == 'B',\n",
    "            np.logical_not(orders['visitor_id'].isin(abnormal_users)),\n",
    "            )]['revenue'],)[1]\n",
    "relative_growth_avg_filtered = orders[\n",
    "    np.logical_and(\n",
    "        orders['group'] == 'B',\n",
    "        np.logical_not(orders['visitor_id'].isin(abnormal_users)),\n",
    "    )]['revenue'].mean() / orders[\n",
    "    np.logical_and(\n",
    "        orders['group'] == 'A',\n",
    "        np.logical_not(orders['visitor_id'].isin(abnormal_users)),\n",
    "    )]['revenue'].mean() - 1\n",
    "alpha = .05\n",
    "\n",
    "print('p_value: {0:.3f}'.format(results_avg_filtered))\n",
    "print('Относительный прирост среднего чека: {0:.3f}'.format(relative_growth_avg_filtered))"
   ]
  },
  {
   "cell_type": "code",
   "execution_count": 88,
   "id": "e21f0deb",
   "metadata": {},
   "outputs": [
    {
     "name": "stdout",
     "output_type": "stream",
     "text": [
      "p_value: 0.868\n",
      "Не получилось отвергнуть нулевую гипотезу\n"
     ]
    }
   ],
   "source": [
    "print('p_value: {0:.3f}'.format(results_avg_filtered))\n",
    "\n",
    "if results_avg_filtered < alpha:\n",
    "    print('Отвергаем нулевую гипотезу')\n",
    "else:\n",
    "    print('Не получилось отвергнуть нулевую гипотезу')"
   ]
  },
  {
   "cell_type": "markdown",
   "id": "3bb631d7",
   "metadata": {},
   "source": [
    "**Вывод**\n",
    "\n",
    "*Снова не получилось отвергнуть гипотезу по средним чекам, то есть после очистки данных средний чек группы А ниже среднего чека группы В, но при этом прирост между группами значительно уменьшился и теперь практически не отличается*"
   ]
  },
  {
   "cell_type": "markdown",
   "id": "43dfe3a5",
   "metadata": {},
   "source": [
    "# Общий вывод"
   ]
  },
  {
   "cell_type": "markdown",
   "id": "8d9db030",
   "metadata": {},
   "source": [
    "*В ходе исследования мы выявили приоритет гипотез, где 7ая гипотез заняла первое место по значимости*\n",
    "*Затем провели расчеты кумулятивных метрик по группам и построили график. Вычислили персентили и смогли выяснить границы для удаления аномальных значений. Затем провели очситку данных и провели статистический анализ гипотез. Так же обнаружили, что одни и теже пользователи попадали в обе группы исследования.*\n",
    "\n",
    "*Разницы между сырыми и очищеными данными не было. Тем самым определили, что средний чек группы А статистически значимо ниже среднего чека группы В, при этом различия в относительном приросте практически отсуствует.*\n",
    "\n",
    "*На основании этого факта можем остановить А/В тест и признать победу группы В*"
   ]
  }
 ],
 "metadata": {
  "kernelspec": {
   "display_name": "Python 3 (ipykernel)",
   "language": "python",
   "name": "python3"
  },
  "language_info": {
   "codemirror_mode": {
    "name": "ipython",
    "version": 3
   },
   "file_extension": ".py",
   "mimetype": "text/x-python",
   "name": "python",
   "nbconvert_exporter": "python",
   "pygments_lexer": "ipython3",
   "version": "3.10.6"
  },
  "toc": {
   "base_numbering": 1,
   "nav_menu": {},
   "number_sections": true,
   "sideBar": true,
   "skip_h1_title": false,
   "title_cell": "Содержание",
   "title_sidebar": "Содержание",
   "toc_cell": true,
   "toc_position": {},
   "toc_section_display": true,
   "toc_window_display": true
  }
 },
 "nbformat": 4,
 "nbformat_minor": 5
}
